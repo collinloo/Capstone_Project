{
 "cells": [
  {
   "cell_type": "code",
   "execution_count": 1,
   "metadata": {
    "ExecuteTime": {
     "end_time": "2020-12-23T20:40:16.584054Z",
     "start_time": "2020-12-23T20:40:15.303058Z"
    }
   },
   "outputs": [],
   "source": [
    "# import libraries\n",
    "import pandas as pd\n",
    "import numpy as np\n",
    "import spacy\n",
    "from spacy.matcher import Matcher\n",
    "from collections import Counter\n",
    "from wordcloud import WordCloud\n",
    "\n",
    "from sklearn.model_selection import train_test_split\n",
    "from sklearn.pipeline import Pipeline\n",
    "from sklearn.feature_extraction.text import TfidfVectorizer\n",
    "from sklearn.svm import LinearSVC\n",
    "from sklearn.metrics import confusion_matrix, classification_report\n",
    "from sklearn.metrics import roc_curve, auc, roc_auc_score\n",
    "\n",
    "import plotly.express as px\n",
    "import plotly.graph_objects as go\n",
    "from plotly.subplots import make_subplots\n",
    "import matplotlib.pyplot as plt"
   ]
  },
  {
   "cell_type": "code",
   "execution_count": 2,
   "metadata": {
    "ExecuteTime": {
     "end_time": "2020-12-23T20:40:17.407114Z",
     "start_time": "2020-12-23T20:40:17.358211Z"
    }
   },
   "outputs": [
    {
     "data": {
      "text/html": [
       "<div>\n",
       "<style scoped>\n",
       "    .dataframe tbody tr th:only-of-type {\n",
       "        vertical-align: middle;\n",
       "    }\n",
       "\n",
       "    .dataframe tbody tr th {\n",
       "        vertical-align: top;\n",
       "    }\n",
       "\n",
       "    .dataframe thead th {\n",
       "        text-align: right;\n",
       "    }\n",
       "</style>\n",
       "<table border=\"1\" class=\"dataframe\">\n",
       "  <thead>\n",
       "    <tr style=\"text-align: right;\">\n",
       "      <th></th>\n",
       "      <th>asin</th>\n",
       "      <th>overall</th>\n",
       "      <th>reviewText</th>\n",
       "    </tr>\n",
       "  </thead>\n",
       "  <tbody>\n",
       "    <tr>\n",
       "      <th>79839</th>\n",
       "      <td>B00000JRRD</td>\n",
       "      <td>5</td>\n",
       "      <td>I have had this pad for over a year now and I ...</td>\n",
       "    </tr>\n",
       "    <tr>\n",
       "      <th>79840</th>\n",
       "      <td>B00000JRRD</td>\n",
       "      <td>5</td>\n",
       "      <td>Comfortable hand and wrist pad. Easy to keep c...</td>\n",
       "    </tr>\n",
       "    <tr>\n",
       "      <th>79841</th>\n",
       "      <td>B00000JRRD</td>\n",
       "      <td>5</td>\n",
       "      <td>Belkin === quality;\\nEnough said.</td>\n",
       "    </tr>\n",
       "    <tr>\n",
       "      <th>79842</th>\n",
       "      <td>B00000JRRD</td>\n",
       "      <td>3</td>\n",
       "      <td>Good enough I suppose, but not very much wrist...</td>\n",
       "    </tr>\n",
       "    <tr>\n",
       "      <th>79843</th>\n",
       "      <td>B00000JRRD</td>\n",
       "      <td>1</td>\n",
       "      <td>The wrist pad started coming apart at the seam...</td>\n",
       "    </tr>\n",
       "  </tbody>\n",
       "</table>\n",
       "</div>"
      ],
      "text/plain": [
       "             asin  overall                                         reviewText\n",
       "79839  B00000JRRD        5  I have had this pad for over a year now and I ...\n",
       "79840  B00000JRRD        5  Comfortable hand and wrist pad. Easy to keep c...\n",
       "79841  B00000JRRD        5                  Belkin === quality;\\nEnough said.\n",
       "79842  B00000JRRD        3  Good enough I suppose, but not very much wrist...\n",
       "79843  B00000JRRD        1  The wrist pad started coming apart at the seam..."
      ]
     },
     "metadata": {},
     "output_type": "display_data"
    },
    {
     "name": "stdout",
     "output_type": "stream",
     "text": [
      "\n",
      " Number of rows: 19428\n"
     ]
    }
   ],
   "source": [
    "# load amazon review data\n",
    "df = pd.read_csv('data/off_3_asin.csv', index_col=0)\n",
    "\n",
    "# preview data\n",
    "display(df.head())\n",
    "print(f'\\n Number of rows: {len(df)}')"
   ]
  },
  {
   "cell_type": "code",
   "execution_count": 3,
   "metadata": {
    "ExecuteTime": {
     "end_time": "2020-12-23T20:40:18.214642Z",
     "start_time": "2020-12-23T20:40:18.198433Z"
    }
   },
   "outputs": [
    {
     "data": {
      "text/html": [
       "<div>\n",
       "<style scoped>\n",
       "    .dataframe tbody tr th:only-of-type {\n",
       "        vertical-align: middle;\n",
       "    }\n",
       "\n",
       "    .dataframe tbody tr th {\n",
       "        vertical-align: top;\n",
       "    }\n",
       "\n",
       "    .dataframe thead th {\n",
       "        text-align: right;\n",
       "    }\n",
       "</style>\n",
       "<table border=\"1\" class=\"dataframe\">\n",
       "  <thead>\n",
       "    <tr style=\"text-align: right;\">\n",
       "      <th></th>\n",
       "      <th>asin</th>\n",
       "      <th>overall</th>\n",
       "      <th>reviewText</th>\n",
       "      <th>label</th>\n",
       "    </tr>\n",
       "  </thead>\n",
       "  <tbody>\n",
       "    <tr>\n",
       "      <th>79839</th>\n",
       "      <td>B00000JRRD</td>\n",
       "      <td>5</td>\n",
       "      <td>I have had this pad for over a year now and I ...</td>\n",
       "      <td>1</td>\n",
       "    </tr>\n",
       "    <tr>\n",
       "      <th>79840</th>\n",
       "      <td>B00000JRRD</td>\n",
       "      <td>5</td>\n",
       "      <td>Comfortable hand and wrist pad. Easy to keep c...</td>\n",
       "      <td>1</td>\n",
       "    </tr>\n",
       "    <tr>\n",
       "      <th>79841</th>\n",
       "      <td>B00000JRRD</td>\n",
       "      <td>5</td>\n",
       "      <td>Belkin === quality;\\nEnough said.</td>\n",
       "      <td>1</td>\n",
       "    </tr>\n",
       "    <tr>\n",
       "      <th>79842</th>\n",
       "      <td>B00000JRRD</td>\n",
       "      <td>3</td>\n",
       "      <td>Good enough I suppose, but not very much wrist...</td>\n",
       "      <td>0</td>\n",
       "    </tr>\n",
       "    <tr>\n",
       "      <th>79843</th>\n",
       "      <td>B00000JRRD</td>\n",
       "      <td>1</td>\n",
       "      <td>The wrist pad started coming apart at the seam...</td>\n",
       "      <td>0</td>\n",
       "    </tr>\n",
       "  </tbody>\n",
       "</table>\n",
       "</div>"
      ],
      "text/plain": [
       "             asin  overall                                         reviewText  \\\n",
       "79839  B00000JRRD        5  I have had this pad for over a year now and I ...   \n",
       "79840  B00000JRRD        5  Comfortable hand and wrist pad. Easy to keep c...   \n",
       "79841  B00000JRRD        5                  Belkin === quality;\\nEnough said.   \n",
       "79842  B00000JRRD        3  Good enough I suppose, but not very much wrist...   \n",
       "79843  B00000JRRD        1  The wrist pad started coming apart at the seam...   \n",
       "\n",
       "       label  \n",
       "79839      1  \n",
       "79840      1  \n",
       "79841      1  \n",
       "79842      0  \n",
       "79843      0  "
      ]
     },
     "execution_count": 3,
     "metadata": {},
     "output_type": "execute_result"
    }
   ],
   "source": [
    "# create label from overall rating\n",
    "rating_dict = {1:0, 2:0, 3:0, 4:1, 5:1 }\n",
    "df['label'] = df['overall'].map(rating_dict)\n",
    "\n",
    "# preview data\n",
    "df.head()"
   ]
  },
  {
   "cell_type": "markdown",
   "metadata": {},
   "source": [
    "## Clean Data"
   ]
  },
  {
   "cell_type": "code",
   "execution_count": 4,
   "metadata": {
    "ExecuteTime": {
     "end_time": "2020-12-23T20:40:20.130601Z",
     "start_time": "2020-12-23T20:40:20.117637Z"
    }
   },
   "outputs": [
    {
     "data": {
      "text/plain": [
       "asin           0\n",
       "overall        0\n",
       "reviewText    17\n",
       "label          0\n",
       "dtype: int64"
      ]
     },
     "execution_count": 4,
     "metadata": {},
     "output_type": "execute_result"
    }
   ],
   "source": [
    "# check null values\n",
    "df.isnull().sum()"
   ]
  },
  {
   "cell_type": "code",
   "execution_count": 5,
   "metadata": {
    "ExecuteTime": {
     "end_time": "2020-12-23T20:40:20.706384Z",
     "start_time": "2020-12-23T20:40:20.685413Z"
    }
   },
   "outputs": [
    {
     "data": {
      "text/plain": [
       "asin          0\n",
       "overall       0\n",
       "reviewText    0\n",
       "label         0\n",
       "dtype: int64"
      ]
     },
     "execution_count": 5,
     "metadata": {},
     "output_type": "execute_result"
    }
   ],
   "source": [
    "# drop rows with no review texts\n",
    "df.dropna(inplace=True)\n",
    "\n",
    "# verify drop\n",
    "df.isnull().sum()"
   ]
  },
  {
   "cell_type": "code",
   "execution_count": 6,
   "metadata": {
    "ExecuteTime": {
     "end_time": "2020-12-23T20:40:21.752918Z",
     "start_time": "2020-12-23T20:40:21.719021Z"
    }
   },
   "outputs": [
    {
     "data": {
      "text/plain": [
       "[]"
      ]
     },
     "execution_count": 6,
     "metadata": {},
     "output_type": "execute_result"
    }
   ],
   "source": [
    "# check review text column that contain no texts and only spaces\n",
    "no_texts = []\n",
    "for ind, asin, rating, review, lable in df.itertuples():\n",
    "    if type(review) == str:\n",
    "        if review.isspace():\n",
    "            no_texts.append(ind)\n",
    "            \n",
    "# verify empty string in review column\n",
    "no_texts"
   ]
  },
  {
   "cell_type": "code",
   "execution_count": 7,
   "metadata": {
    "ExecuteTime": {
     "end_time": "2020-12-23T20:40:22.252984Z",
     "start_time": "2020-12-23T20:40:22.236997Z"
    }
   },
   "outputs": [
    {
     "data": {
      "text/plain": [
       "1    0.829324\n",
       "0    0.170676\n",
       "Name: label, dtype: float64"
      ]
     },
     "execution_count": 7,
     "metadata": {},
     "output_type": "execute_result"
    }
   ],
   "source": [
    "# check pos vs neg ratio\n",
    "df['label'].value_counts(normalize=True)"
   ]
  },
  {
   "cell_type": "markdown",
   "metadata": {},
   "source": [
    "## Explore Data"
   ]
  },
  {
   "cell_type": "code",
   "execution_count": 16,
   "metadata": {
    "ExecuteTime": {
     "end_time": "2020-12-23T20:42:07.670107Z",
     "start_time": "2020-12-23T20:42:04.918077Z"
    }
   },
   "outputs": [],
   "source": [
    "nlp = spacy.load('en_core_web_lg', disable=['parser', 'ner'])\n",
    "nlp.max_length = 2800000"
   ]
  },
  {
   "cell_type": "code",
   "execution_count": null,
   "metadata": {
    "ExecuteTime": {
     "end_time": "2020-12-23T15:12:46.980183Z",
     "start_time": "2020-12-23T15:12:46.965136Z"
    }
   },
   "outputs": [],
   "source": [
    "# add new stop-words\n",
    "new_sw = [' ', '\\n', '\\n\\n']\n",
    "for w in new_sw:\n",
    "    nlp.Defaults.stop_words.add(w)\n",
    "    nlp.vocab[w].is_stop = True"
   ]
  },
  {
   "cell_type": "code",
   "execution_count": null,
   "metadata": {
    "ExecuteTime": {
     "end_time": "2020-12-23T15:12:46.996156Z",
     "start_time": "2020-12-23T15:12:46.981184Z"
    }
   },
   "outputs": [],
   "source": [
    "# remove default stop-words\n",
    "rm_sw = ['no', 'not']\n",
    "for w in rm_sw:\n",
    "    nlp.Defaults.stop_words.remove(w)\n",
    "    nlp.vocab[w].is_stop = False"
   ]
  },
  {
   "cell_type": "code",
   "execution_count": null,
   "metadata": {
    "ExecuteTime": {
     "end_time": "2020-12-23T15:12:47.012111Z",
     "start_time": "2020-12-23T15:12:46.997116Z"
    }
   },
   "outputs": [],
   "source": [
    "def get_freq_words(df, label, word_no=50, adj=False):\n",
    "    '''\n",
    "    '''\n",
    "    # concat review texts as one string\n",
    "    txt = (df[df['label'] == label]['reviewText']).str.cat(sep= ' ').lower()\n",
    "    # create token from all positive review\n",
    "    doc = nlp(txt)\n",
    "    \n",
    "    if adj:\n",
    "        words = [token.text for token in doc if token.is_stop != True\n",
    "                 and token.is_punct != True and token.pos_ == 'ADJ']\n",
    "    else:\n",
    "        words = [token.text for token in doc if token.is_stop != True\n",
    "                 and token.is_punct != True]\n",
    "    \n",
    "    # calculate word frequency\n",
    "    word_freq = Counter(words)\n",
    "    common_words = word_freq.most_common(word_no)\n",
    "    return doc, common_words"
   ]
  },
  {
   "cell_type": "code",
   "execution_count": null,
   "metadata": {
    "ExecuteTime": {
     "end_time": "2020-12-23T15:12:55.946073Z",
     "start_time": "2020-12-23T15:12:47.013108Z"
    }
   },
   "outputs": [],
   "source": [
    "# top 50 used words, excluding stop-words and punctuation\n",
    "pos_doc, pos_common_words = get_freq_words(df, 1)"
   ]
  },
  {
   "cell_type": "code",
   "execution_count": null,
   "metadata": {
    "ExecuteTime": {
     "end_time": "2020-12-23T15:12:55.961477Z",
     "start_time": "2020-12-23T15:12:55.947074Z"
    }
   },
   "outputs": [],
   "source": [
    "# top 50 used words, excluding stop-words and punctuation\n",
    "print(pos_common_words)"
   ]
  },
  {
   "cell_type": "code",
   "execution_count": null,
   "metadata": {
    "ExecuteTime": {
     "end_time": "2020-12-23T15:12:59.025496Z",
     "start_time": "2020-12-23T15:12:55.962476Z"
    }
   },
   "outputs": [],
   "source": [
    "# top 50 used words, excluding stop-words and punctuation\n",
    "neg_doc, neg_common_words = get_freq_words(df, 0)"
   ]
  },
  {
   "cell_type": "code",
   "execution_count": null,
   "metadata": {
    "ExecuteTime": {
     "end_time": "2020-12-23T15:12:59.041056Z",
     "start_time": "2020-12-23T15:12:59.026497Z"
    }
   },
   "outputs": [],
   "source": [
    "# top 50 used words, excluding stop-words and punctuation\n",
    "print(neg_common_words)"
   ]
  },
  {
   "cell_type": "code",
   "execution_count": null,
   "metadata": {
    "ExecuteTime": {
     "end_time": "2020-12-23T15:12:59.057014Z",
     "start_time": "2020-12-23T15:12:59.042055Z"
    }
   },
   "outputs": [],
   "source": [
    "def plot_wcloud(lst, spt1, spt2):\n",
    "    fig = make_subplots(\n",
    "        rows=2, cols=1,\n",
    "        vertical_spacing=0.1,\n",
    "        subplot_titles=(f'Top 50 {spt1} Words',\n",
    "                        f'Top 50 {spt2} Words'))\n",
    "\n",
    "    for i, j  in enumerate(lst):\n",
    "        wc = WordCloud(background_color=\"white\")\n",
    "        # generate word cloud\n",
    "        wc.generate_from_frequencies(dict(j))\n",
    "        \n",
    "        fig.add_trace(go.Image(z=wc),row=i+1, col=1)\n",
    "        \n",
    "    for annotation in fig['layout']['annotations']: \n",
    "        annotation['font']={'size':24}\n",
    "    \n",
    "    fig.update_layout(width=550, height=700,\n",
    "                      hovermode=False, autosize=False)\n",
    "    fig.update_xaxes(showticklabels=False)\n",
    "    fig.update_yaxes(showticklabels=False)\n",
    "    fig.show()"
   ]
  },
  {
   "cell_type": "code",
   "execution_count": null,
   "metadata": {
    "ExecuteTime": {
     "end_time": "2020-12-23T15:13:00.809722Z",
     "start_time": "2020-12-23T15:12:59.058012Z"
    }
   },
   "outputs": [],
   "source": [
    "plot_wcloud([pos_common_words, neg_common_words], 'Positive', 'Negative')"
   ]
  },
  {
   "cell_type": "code",
   "execution_count": null,
   "metadata": {
    "ExecuteTime": {
     "end_time": "2020-12-23T15:13:08.767879Z",
     "start_time": "2020-12-23T15:13:00.810690Z"
    }
   },
   "outputs": [],
   "source": [
    "pos_adj_doc, pos_adj_w = get_freq_words(df, 1, adj=True)"
   ]
  },
  {
   "cell_type": "code",
   "execution_count": null,
   "metadata": {
    "ExecuteTime": {
     "end_time": "2020-12-23T15:13:08.782936Z",
     "start_time": "2020-12-23T15:13:08.768906Z"
    }
   },
   "outputs": [],
   "source": [
    "print(pos_adj_w)"
   ]
  },
  {
   "cell_type": "code",
   "execution_count": null,
   "metadata": {
    "ExecuteTime": {
     "end_time": "2020-12-23T15:13:11.625517Z",
     "start_time": "2020-12-23T15:13:08.783937Z"
    }
   },
   "outputs": [],
   "source": [
    "neg_adj_doc, neg_adj_w = get_freq_words(df, 0, adj=True)"
   ]
  },
  {
   "cell_type": "code",
   "execution_count": null,
   "metadata": {
    "ExecuteTime": {
     "end_time": "2020-12-23T15:13:11.640976Z",
     "start_time": "2020-12-23T15:13:11.626520Z"
    }
   },
   "outputs": [],
   "source": [
    "print(neg_adj_w)"
   ]
  },
  {
   "cell_type": "code",
   "execution_count": null,
   "metadata": {
    "ExecuteTime": {
     "end_time": "2020-12-23T15:13:13.260365Z",
     "start_time": "2020-12-23T15:13:11.641965Z"
    }
   },
   "outputs": [],
   "source": [
    "plot_wcloud([pos_adj_w, neg_adj_w], 'Positive Adjustive', 'Negative Adjustive')"
   ]
  },
  {
   "cell_type": "code",
   "execution_count": null,
   "metadata": {
    "ExecuteTime": {
     "end_time": "2020-12-23T15:13:13.354115Z",
     "start_time": "2020-12-23T15:13:13.262389Z"
    },
    "scrolled": false
   },
   "outputs": [],
   "source": [
    "# get words around found matches\n",
    "matcher = Matcher(nlp.vocab)\n",
    "\n",
    "# define match pattern\n",
    "pattern = [{'IS_LOWER':True}, {'IS_PUNCT': True}, {'POS': 'ADJ'}]\n",
    "\n",
    "# fine matches\n",
    "matcher.add('neg', None, pattern)\n",
    "matches = matcher(neg_doc)\n",
    "\n",
    "# get words around the found matches\n",
    "cnt = 0\n",
    "for match_id, start, end in matches:\n",
    "    if cnt < 11:\n",
    "        # get string representation\n",
    "        string_id = nlp.vocab.strings[match_id]  \n",
    "        # the matched span\n",
    "        span = neg_doc[start-5:end+5]  \n",
    "        # print the first 10\n",
    "        print(span.text)\n",
    "        cnt += 1    "
   ]
  },
  {
   "cell_type": "markdown",
   "metadata": {},
   "source": [
    "## SVC"
   ]
  },
  {
   "cell_type": "code",
   "execution_count": null,
   "metadata": {
    "ExecuteTime": {
     "end_time": "2020-12-22T21:11:57.920281Z",
     "start_time": "2020-12-22T21:11:57.909341Z"
    }
   },
   "outputs": [],
   "source": [
    "def rem_stpwrd(txt):\n",
    "    doc = nlp(txt.lower())\n",
    "    words = ''\n",
    "    for token in doc:\n",
    "        if token.is_stop != True and token.is_punct != True:\n",
    "            words += token.text + ' '\n",
    "    \n",
    "    return words"
   ]
  },
  {
   "cell_type": "code",
   "execution_count": null,
   "metadata": {
    "ExecuteTime": {
     "end_time": "2020-12-22T21:14:01.030720Z",
     "start_time": "2020-12-22T21:11:58.653178Z"
    }
   },
   "outputs": [],
   "source": [
    "df_stpwrd = df.copy()\n",
    "df_stpwrd['proc_txt'] = df_tfidf['reviewText'].map(lambda review: rem_stpwrd(review))\n",
    "df_stpwrd.head()"
   ]
  },
  {
   "cell_type": "code",
   "execution_count": null,
   "metadata": {
    "ExecuteTime": {
     "end_time": "2020-12-22T21:14:26.343613Z",
     "start_time": "2020-12-22T21:14:26.334636Z"
    }
   },
   "outputs": [],
   "source": [
    "# assign X and y data and create train and test data sets\n",
    "X = df_stpwrd['proc_txt']\n",
    "y= df_stpwrd['label']\n",
    "X_train, X_test, y_train, y_test = train_test_split(\n",
    "    X, y, test_size=0.30, random_state=36, shuffle=True)"
   ]
  },
  {
   "cell_type": "code",
   "execution_count": null,
   "metadata": {
    "ExecuteTime": {
     "end_time": "2020-12-22T21:14:27.372877Z",
     "start_time": "2020-12-22T21:14:27.364930Z"
    }
   },
   "outputs": [],
   "source": [
    "# create pipeline\n",
    "svm_pipeline = Pipeline([\n",
    "    ('tfidf', TfidfVectorizer()),\n",
    "    ('svm', LinearSVC(random_state=36))\n",
    "])"
   ]
  },
  {
   "cell_type": "code",
   "execution_count": null,
   "metadata": {
    "ExecuteTime": {
     "end_time": "2020-12-22T21:14:28.579447Z",
     "start_time": "2020-12-22T21:14:28.421840Z"
    }
   },
   "outputs": [],
   "source": [
    "# fit model\n",
    "svm_pipeline.fit(X_train, y_train)"
   ]
  },
  {
   "cell_type": "code",
   "execution_count": null,
   "metadata": {
    "ExecuteTime": {
     "end_time": "2020-12-22T21:14:30.528236Z",
     "start_time": "2020-12-22T21:14:30.460764Z"
    }
   },
   "outputs": [],
   "source": [
    "# predict \n",
    "pred = svm_pipeline.predict(X_test)"
   ]
  },
  {
   "cell_type": "code",
   "execution_count": null,
   "metadata": {
    "ExecuteTime": {
     "end_time": "2020-12-22T21:14:31.340247Z",
     "start_time": "2020-12-22T21:14:31.325074Z"
    }
   },
   "outputs": [],
   "source": [
    "print(confusion_matrix(y_test, pred, normalize='true'))"
   ]
  },
  {
   "cell_type": "code",
   "execution_count": null,
   "metadata": {
    "ExecuteTime": {
     "end_time": "2020-12-22T21:14:32.554623Z",
     "start_time": "2020-12-22T21:14:32.532655Z"
    }
   },
   "outputs": [],
   "source": [
    "print(classification_report(y_test, pred))"
   ]
  },
  {
   "cell_type": "code",
   "execution_count": null,
   "metadata": {
    "ExecuteTime": {
     "end_time": "2020-12-22T21:14:34.158444Z",
     "start_time": "2020-12-22T21:14:34.139466Z"
    }
   },
   "outputs": [],
   "source": [
    "roc_auc_score(y_test,pred)"
   ]
  },
  {
   "cell_type": "code",
   "execution_count": null,
   "metadata": {
    "ExecuteTime": {
     "end_time": "2020-12-22T18:52:08.098890Z",
     "start_time": "2020-12-22T18:52:08.088882Z"
    }
   },
   "outputs": [],
   "source": [
    "def prod_text(txt):\n",
    "    doc = nlp(txt.lower())\n",
    "    lemma_txt = ''\n",
    "    for token in doc:\n",
    "        if token.pos_ == 'PRON' or token.pos_ == 'DET':\n",
    "            lemma_txt += token.text + ' '\n",
    "        else:\n",
    "            lemma_txt += token.lemma_ + ' '\n",
    "    \n",
    "    doc = nlp(lemma_txt)\n",
    "    words = ''\n",
    "    for token in doc:\n",
    "        if token.is_stop != True and token.is_punct != True:\n",
    "            words += token.text + ' '\n",
    "    \n",
    "#     words = [token.text for token in doc if token.is_stop != True\n",
    "#              and token.is_punct != True]\n",
    "    return words"
   ]
  },
  {
   "cell_type": "code",
   "execution_count": null,
   "metadata": {
    "ExecuteTime": {
     "end_time": "2020-12-22T18:58:15.370111Z",
     "start_time": "2020-12-22T18:54:15.801088Z"
    }
   },
   "outputs": [],
   "source": [
    "df_tfidf = df.copy()\n",
    "df_tfidf['proc_txt'] = df_tfidf['reviewText'].map(lambda review: prod_text(review))\n",
    "df_tfidf.head()"
   ]
  },
  {
   "cell_type": "code",
   "execution_count": null,
   "metadata": {
    "ExecuteTime": {
     "end_time": "2020-12-22T19:00:35.858284Z",
     "start_time": "2020-12-22T19:00:35.848341Z"
    }
   },
   "outputs": [],
   "source": [
    "# assign X and y data and create train and test data sets\n",
    "X = df_tfidf['proc_txt']\n",
    "y= df_tfidf['label']\n",
    "X_train, X_test, y_train, y_test = train_test_split(\n",
    "    X, y, test_size=0.30, random_state=36, shuffle=True)"
   ]
  },
  {
   "cell_type": "code",
   "execution_count": null,
   "metadata": {
    "ExecuteTime": {
     "end_time": "2020-12-22T19:00:37.047232Z",
     "start_time": "2020-12-22T19:00:37.040250Z"
    }
   },
   "outputs": [],
   "source": [
    "# create pipeline\n",
    "svm_pipeline = Pipeline([\n",
    "    ('tfidf', TfidfVectorizer()),\n",
    "    ('svm', LinearSVC(random_state=36))\n",
    "])"
   ]
  },
  {
   "cell_type": "code",
   "execution_count": null,
   "metadata": {
    "ExecuteTime": {
     "end_time": "2020-12-22T19:00:38.647027Z",
     "start_time": "2020-12-22T19:00:38.489037Z"
    }
   },
   "outputs": [],
   "source": [
    "# fit model\n",
    "svm_pipeline.fit(X_train, y_train)"
   ]
  },
  {
   "cell_type": "code",
   "execution_count": null,
   "metadata": {
    "ExecuteTime": {
     "end_time": "2020-12-22T19:00:39.842097Z",
     "start_time": "2020-12-22T19:00:39.776763Z"
    }
   },
   "outputs": [],
   "source": [
    "# predict \n",
    "pred = svm_pipeline.predict(X_test)"
   ]
  },
  {
   "cell_type": "code",
   "execution_count": null,
   "metadata": {
    "ExecuteTime": {
     "end_time": "2020-12-22T19:00:40.829462Z",
     "start_time": "2020-12-22T19:00:40.816497Z"
    }
   },
   "outputs": [],
   "source": [
    "print(confusion_matrix(y_test, pred, normalize='true'))"
   ]
  },
  {
   "cell_type": "code",
   "execution_count": null,
   "metadata": {
    "ExecuteTime": {
     "end_time": "2020-12-22T19:00:45.337301Z",
     "start_time": "2020-12-22T19:00:45.321344Z"
    }
   },
   "outputs": [],
   "source": [
    "print(classification_report(y_test, pred))"
   ]
  },
  {
   "cell_type": "code",
   "execution_count": null,
   "metadata": {
    "ExecuteTime": {
     "end_time": "2020-12-22T19:00:53.515303Z",
     "start_time": "2020-12-22T19:00:53.505298Z"
    }
   },
   "outputs": [],
   "source": [
    "roc_auc_score(y_test,pred)"
   ]
  },
  {
   "cell_type": "markdown",
   "metadata": {},
   "source": [
    "## Random Forest"
   ]
  },
  {
   "cell_type": "code",
   "execution_count": null,
   "metadata": {
    "ExecuteTime": {
     "end_time": "2020-12-22T16:48:02.261129Z",
     "start_time": "2020-12-22T16:48:02.230208Z"
    }
   },
   "outputs": [],
   "source": [
    "from sklearn.ensemble import RandomForestClassifier\n",
    "rf_pipeline = Pipeline([\n",
    "    ('tfidf', TfidfVectorizer()),\n",
    "    ('rf', RandomForestClassifier())\n",
    "])"
   ]
  },
  {
   "cell_type": "code",
   "execution_count": null,
   "metadata": {
    "ExecuteTime": {
     "end_time": "2020-12-22T16:48:09.049233Z",
     "start_time": "2020-12-22T16:48:02.262122Z"
    }
   },
   "outputs": [],
   "source": [
    "# fit model\n",
    "rf_pipeline.fit(X_train, y_train)\n",
    "\n",
    "# predict \n",
    "pred = rf_pipeline.predict(X_test)\n",
    "\n",
    "print(confusion_matrix(y_test, pred, normalize='true'))\n",
    "\n",
    "print(classification_report(y_test, pred))\n",
    "\n",
    "print(roc_auc_score(y_test,pred))"
   ]
  },
  {
   "cell_type": "markdown",
   "metadata": {},
   "source": [
    "## NLTK VADER"
   ]
  },
  {
   "cell_type": "code",
   "execution_count": 13,
   "metadata": {
    "ExecuteTime": {
     "end_time": "2020-12-23T20:41:27.126533Z",
     "start_time": "2020-12-23T20:41:26.910046Z"
    }
   },
   "outputs": [],
   "source": [
    "import nltk"
   ]
  },
  {
   "cell_type": "code",
   "execution_count": null,
   "metadata": {
    "ExecuteTime": {
     "end_time": "2020-12-22T16:48:09.453367Z",
     "start_time": "2020-12-22T16:48:09.222473Z"
    }
   },
   "outputs": [],
   "source": [
    "nltk.download('vader_lexicon')"
   ]
  },
  {
   "cell_type": "code",
   "execution_count": null,
   "metadata": {
    "ExecuteTime": {
     "end_time": "2020-12-22T16:48:09.469191Z",
     "start_time": "2020-12-22T16:48:09.454120Z"
    }
   },
   "outputs": [],
   "source": [
    "from nltk.sentiment.vader import SentimentIntensityAnalyzer"
   ]
  },
  {
   "cell_type": "code",
   "execution_count": null,
   "metadata": {
    "ExecuteTime": {
     "end_time": "2020-12-22T16:48:09.485233Z",
     "start_time": "2020-12-22T16:48:09.470195Z"
    }
   },
   "outputs": [],
   "source": [
    "sid = SentimentIntensityAnalyzer()\n",
    "\n",
    "df_vader = df.copy()"
   ]
  },
  {
   "cell_type": "code",
   "execution_count": null,
   "metadata": {
    "ExecuteTime": {
     "end_time": "2020-12-22T16:48:13.453773Z",
     "start_time": "2020-12-22T16:48:09.485686Z"
    }
   },
   "outputs": [],
   "source": [
    "df_vader['score'] = df_vader['reviewText'].apply(lambda review: sid.polarity_scores(review))"
   ]
  },
  {
   "cell_type": "code",
   "execution_count": null,
   "metadata": {
    "ExecuteTime": {
     "end_time": "2020-12-22T16:48:13.468731Z",
     "start_time": "2020-12-22T16:48:13.454779Z"
    }
   },
   "outputs": [],
   "source": [
    "df_vader['compound'] = df_vader['score'].apply(lambda d: d['compound'])"
   ]
  },
  {
   "cell_type": "code",
   "execution_count": null,
   "metadata": {
    "ExecuteTime": {
     "end_time": "2020-12-22T16:48:13.483692Z",
     "start_time": "2020-12-22T16:48:13.469723Z"
    }
   },
   "outputs": [],
   "source": [
    "df_vader['comp_score'] = df_vader['compound'].apply(lambda score: 1 if score >= 0.7 else 0)"
   ]
  },
  {
   "cell_type": "code",
   "execution_count": null,
   "metadata": {
    "ExecuteTime": {
     "end_time": "2020-12-22T16:48:13.499647Z",
     "start_time": "2020-12-22T16:48:13.484688Z"
    }
   },
   "outputs": [],
   "source": [
    "df_vader.head()"
   ]
  },
  {
   "cell_type": "code",
   "execution_count": null,
   "metadata": {
    "ExecuteTime": {
     "end_time": "2020-12-22T16:48:13.547520Z",
     "start_time": "2020-12-22T16:48:13.499647Z"
    }
   },
   "outputs": [],
   "source": [
    "print(confusion_matrix(df_vader['label'], df_vader['comp_score'], normalize='true'))\n",
    "\n",
    "print(classification_report(df_vader['label'], df_vader['comp_score']))\n",
    "\n",
    "roc_auc_score(df_vader['label'], df_vader['comp_score'])"
   ]
  },
  {
   "cell_type": "code",
   "execution_count": null,
   "metadata": {
    "ExecuteTime": {
     "end_time": "2020-12-21T14:55:14.905237Z",
     "start_time": "2020-12-21T14:55:14.890222Z"
    }
   },
   "outputs": [],
   "source": [
    "########################################################################"
   ]
  },
  {
   "cell_type": "markdown",
   "metadata": {},
   "source": [
    "## Deep Learning"
   ]
  },
  {
   "cell_type": "code",
   "execution_count": 17,
   "metadata": {
    "ExecuteTime": {
     "end_time": "2020-12-23T20:42:17.629113Z",
     "start_time": "2020-12-23T20:42:17.614121Z"
    }
   },
   "outputs": [],
   "source": [
    "import re\n",
    "import random\n",
    "random.seed(123)"
   ]
  },
  {
   "cell_type": "code",
   "execution_count": null,
   "metadata": {
    "ExecuteTime": {
     "end_time": "2020-12-23T15:34:56.403974Z",
     "start_time": "2020-12-23T15:34:56.387981Z"
    }
   },
   "outputs": [],
   "source": [
    "# tag_pattern = re.compile(r'<[^>]+>')\n",
    "\n",
    "# def remove_tags(text):\n",
    "#     return tag_pattern.sub('', text)\n",
    "\n",
    "# def remove_tag_punc_oth(sen):\n",
    "#     # Removing html tags\n",
    "#     sentence = remove_tags(sen)\n",
    "\n",
    "#     # Remove punctuations and numbers\n",
    "#     sentence = re.sub('[^a-zA-Z]', ' ', sentence)\n",
    "\n",
    "#     # Single character removal\n",
    "#     sentence = re.sub(r\"\\s+[a-zA-Z]\\s+\", ' ', sentence)\n",
    "\n",
    "#     # Removing multiple spaces\n",
    "#     sentence = re.sub(r'\\s+', ' ', sentence)\n",
    "\n",
    "#     return sentence"
   ]
  },
  {
   "cell_type": "code",
   "execution_count": null,
   "metadata": {
    "ExecuteTime": {
     "end_time": "2020-12-23T15:34:57.435602Z",
     "start_time": "2020-12-23T15:34:57.091121Z"
    }
   },
   "outputs": [],
   "source": [
    "# # set independent variable\n",
    "# tmp = []\n",
    "# reviews = list(df['reviewText'])\n",
    "\n",
    "# # remove tag, spaces, number, punct\n",
    "# for review in reviews:\n",
    "#     tmp.append(remove_tag_punc_oth(review))\n",
    "    \n",
    "# # remove ending space    \n",
    "# X = [t[:-1] for t in tmp]\n",
    "# X[0:6]"
   ]
  },
  {
   "cell_type": "code",
   "execution_count": 34,
   "metadata": {
    "ExecuteTime": {
     "end_time": "2020-12-23T20:52:21.146276Z",
     "start_time": "2020-12-23T20:52:21.135272Z"
    }
   },
   "outputs": [],
   "source": [
    "tag_pattern = re.compile(r'<[^>]+>')\n",
    "\n",
    "def remove_tags(text):\n",
    "    return tag_pattern.sub('', text)\n",
    "\n",
    "def sep_punc(sen):\n",
    "    # Removing html tags\n",
    "    sentence = remove_tags(sen)\n",
    "    \n",
    "    sentence = ' '.join([token.text.lower() for token in nlp(sen) \n",
    "                if token.text \n",
    "                not in '\\n\\n!\"#$%&()*+,-./:;<=>?@[\\\\]^_`{|}~\\t\\n'])\n",
    "    \n",
    "    return sentence"
   ]
  },
  {
   "cell_type": "code",
   "execution_count": 73,
   "metadata": {
    "ExecuteTime": {
     "end_time": "2020-12-23T21:09:38.291173Z",
     "start_time": "2020-12-23T21:09:03.198921Z"
    }
   },
   "outputs": [],
   "source": [
    "X = []\n",
    "sentences = list(df['reviewText'])\n",
    "for sen in sentences:\n",
    "    X.append(sep_punc(sen))"
   ]
  },
  {
   "cell_type": "code",
   "execution_count": 74,
   "metadata": {
    "ExecuteTime": {
     "end_time": "2020-12-23T21:09:38.306663Z",
     "start_time": "2020-12-23T21:09:38.291702Z"
    }
   },
   "outputs": [
    {
     "data": {
      "text/plain": [
       "[\"i have had this pad for over a year now and i just could n't go without it when i was on the computer alot my hand would start to hurt but with the gel pad i no longer have any pain it is very soft and supports my wrist very well overall this is a great mouse pad with great wrist support\",\n",
       " 'comfortable hand and wrist pad easy to keep clean and very functional i would definitely buy again and recommend',\n",
       " 'belkin quality enough said']"
      ]
     },
     "execution_count": 74,
     "metadata": {},
     "output_type": "execute_result"
    }
   ],
   "source": [
    "X[0:3]"
   ]
  },
  {
   "cell_type": "code",
   "execution_count": 75,
   "metadata": {
    "ExecuteTime": {
     "end_time": "2020-12-23T21:09:56.698655Z",
     "start_time": "2020-12-23T21:09:56.694697Z"
    }
   },
   "outputs": [],
   "source": [
    "# set target\n",
    "y = np.array(df['label'])"
   ]
  },
  {
   "cell_type": "code",
   "execution_count": 76,
   "metadata": {
    "ExecuteTime": {
     "end_time": "2020-12-23T21:09:57.557466Z",
     "start_time": "2020-12-23T21:09:57.541481Z"
    }
   },
   "outputs": [],
   "source": [
    "# create train and test data set\n",
    "X_train, X_test, y_train, y_test = train_test_split(X, y, test_size=0.30,\n",
    "                                                    random_state=36,\n",
    "                                                    shuffle=True)"
   ]
  },
  {
   "cell_type": "code",
   "execution_count": null,
   "metadata": {
    "ExecuteTime": {
     "end_time": "2020-12-23T20:53:24.933306Z",
     "start_time": "2020-12-23T20:53:24.924330Z"
    }
   },
   "outputs": [],
   "source": [
    "X_train.shape, X_test.shape, y_train.shape, y_test.shape"
   ]
  },
  {
   "cell_type": "markdown",
   "metadata": {},
   "source": [
    "### Embedding Layer"
   ]
  },
  {
   "cell_type": "code",
   "execution_count": 41,
   "metadata": {
    "ExecuteTime": {
     "end_time": "2020-12-23T20:53:51.048026Z",
     "start_time": "2020-12-23T20:53:49.678463Z"
    }
   },
   "outputs": [
    {
     "name": "stderr",
     "output_type": "stream",
     "text": [
      "D:\\anaconda3\\envs\\tfgpu\\lib\\site-packages\\tensorflow\\python\\framework\\dtypes.py:516: FutureWarning: Passing (type, 1) or '1type' as a synonym of type is deprecated; in a future version of numpy, it will be understood as (type, (1,)) / '(1,)type'.\n",
      "  _np_qint8 = np.dtype([(\"qint8\", np.int8, 1)])\n",
      "D:\\anaconda3\\envs\\tfgpu\\lib\\site-packages\\tensorflow\\python\\framework\\dtypes.py:517: FutureWarning: Passing (type, 1) or '1type' as a synonym of type is deprecated; in a future version of numpy, it will be understood as (type, (1,)) / '(1,)type'.\n",
      "  _np_quint8 = np.dtype([(\"quint8\", np.uint8, 1)])\n",
      "D:\\anaconda3\\envs\\tfgpu\\lib\\site-packages\\tensorflow\\python\\framework\\dtypes.py:518: FutureWarning: Passing (type, 1) or '1type' as a synonym of type is deprecated; in a future version of numpy, it will be understood as (type, (1,)) / '(1,)type'.\n",
      "  _np_qint16 = np.dtype([(\"qint16\", np.int16, 1)])\n",
      "D:\\anaconda3\\envs\\tfgpu\\lib\\site-packages\\tensorflow\\python\\framework\\dtypes.py:519: FutureWarning: Passing (type, 1) or '1type' as a synonym of type is deprecated; in a future version of numpy, it will be understood as (type, (1,)) / '(1,)type'.\n",
      "  _np_quint16 = np.dtype([(\"quint16\", np.uint16, 1)])\n",
      "D:\\anaconda3\\envs\\tfgpu\\lib\\site-packages\\tensorflow\\python\\framework\\dtypes.py:520: FutureWarning: Passing (type, 1) or '1type' as a synonym of type is deprecated; in a future version of numpy, it will be understood as (type, (1,)) / '(1,)type'.\n",
      "  _np_qint32 = np.dtype([(\"qint32\", np.int32, 1)])\n",
      "D:\\anaconda3\\envs\\tfgpu\\lib\\site-packages\\tensorflow\\python\\framework\\dtypes.py:525: FutureWarning: Passing (type, 1) or '1type' as a synonym of type is deprecated; in a future version of numpy, it will be understood as (type, (1,)) / '(1,)type'.\n",
      "  np_resource = np.dtype([(\"resource\", np.ubyte, 1)])\n",
      "D:\\anaconda3\\envs\\tfgpu\\lib\\site-packages\\tensorboard\\compat\\tensorflow_stub\\dtypes.py:541: FutureWarning: Passing (type, 1) or '1type' as a synonym of type is deprecated; in a future version of numpy, it will be understood as (type, (1,)) / '(1,)type'.\n",
      "  _np_qint8 = np.dtype([(\"qint8\", np.int8, 1)])\n",
      "D:\\anaconda3\\envs\\tfgpu\\lib\\site-packages\\tensorboard\\compat\\tensorflow_stub\\dtypes.py:542: FutureWarning: Passing (type, 1) or '1type' as a synonym of type is deprecated; in a future version of numpy, it will be understood as (type, (1,)) / '(1,)type'.\n",
      "  _np_quint8 = np.dtype([(\"quint8\", np.uint8, 1)])\n",
      "D:\\anaconda3\\envs\\tfgpu\\lib\\site-packages\\tensorboard\\compat\\tensorflow_stub\\dtypes.py:543: FutureWarning: Passing (type, 1) or '1type' as a synonym of type is deprecated; in a future version of numpy, it will be understood as (type, (1,)) / '(1,)type'.\n",
      "  _np_qint16 = np.dtype([(\"qint16\", np.int16, 1)])\n",
      "D:\\anaconda3\\envs\\tfgpu\\lib\\site-packages\\tensorboard\\compat\\tensorflow_stub\\dtypes.py:544: FutureWarning: Passing (type, 1) or '1type' as a synonym of type is deprecated; in a future version of numpy, it will be understood as (type, (1,)) / '(1,)type'.\n",
      "  _np_quint16 = np.dtype([(\"quint16\", np.uint16, 1)])\n",
      "D:\\anaconda3\\envs\\tfgpu\\lib\\site-packages\\tensorboard\\compat\\tensorflow_stub\\dtypes.py:545: FutureWarning: Passing (type, 1) or '1type' as a synonym of type is deprecated; in a future version of numpy, it will be understood as (type, (1,)) / '(1,)type'.\n",
      "  _np_qint32 = np.dtype([(\"qint32\", np.int32, 1)])\n",
      "D:\\anaconda3\\envs\\tfgpu\\lib\\site-packages\\tensorboard\\compat\\tensorflow_stub\\dtypes.py:550: FutureWarning: Passing (type, 1) or '1type' as a synonym of type is deprecated; in a future version of numpy, it will be understood as (type, (1,)) / '(1,)type'.\n",
      "  np_resource = np.dtype([(\"resource\", np.ubyte, 1)])\n"
     ]
    }
   ],
   "source": [
    "from nltk import word_tokenize\n",
    "from gensim.models import word2vec\n",
    "from tensorflow.keras.preprocessing.sequence import pad_sequences\n",
    "from tensorflow.keras.layers import Input, Dense, LSTM, Embedding\n",
    "from tensorflow.keras.layers import Dropout, Activation, Bidirectional, GlobalMaxPool1D\n",
    "from tensorflow.keras.models import Sequential\n",
    "from tensorflow.keras import initializers, regularizers, constraints, optimizers, layers\n",
    "from tensorflow.keras.preprocessing import text, sequence\n",
    "from tensorflow.keras.layers import Flatten"
   ]
  },
  {
   "cell_type": "code",
   "execution_count": null,
   "metadata": {
    "ExecuteTime": {
     "end_time": "2020-12-23T20:08:33.357266Z",
     "start_time": "2020-12-23T20:08:33.351278Z"
    }
   },
   "outputs": [],
   "source": [
    "# ### Raw text complaints\n",
    "# complaints = df['Consumer complaint narrative'] \n",
    "\n",
    "# ### Initialize a tokenizer \n",
    "# tokenizer = Tokenizer(num_words=2000) \n",
    "\n",
    "# ### Fit it to the complaints\n",
    "# tokenizer.fit_on_texts(complaints) \n",
    "\n",
    "# ### Generate sequences\n",
    "# sequences = tokenizer.texts_to_sequences(complaints) \n",
    "# print('sequences type:', type(sequences))\n",
    "\n",
    "# ### Similar to sequences, but returns a numpy array\n",
    "# one_hot_results= tokenizer.texts_to_matrix(complaints, mode='binary') \n",
    "# print('one_hot_results type:', type(one_hot_results))\n",
    "\n",
    "# ### Useful if we wish to decode (more explanation below)\n",
    "# word_index = tokenizer.word_index \n",
    "\n",
    "# ### Tokens are the number of unique words across the corpus\n",
    "# print('Found %s unique tokens.' % len(word_index)) \n",
    "\n",
    "# ### Our coded data\n",
    "# print('Dimensions of our coded results:', np.shape(one_hot_results)) \n",
    "\n",
    "# sequences type: <class 'list'>\n",
    "# one_hot_results type: <class 'numpy.ndarray'>\n",
    "# Found 50110 unique tokens.\n",
    "# Dimensions of our coded results: (60000, 2000)\n"
   ]
  },
  {
   "cell_type": "code",
   "execution_count": null,
   "metadata": {},
   "outputs": [],
   "source": []
  },
  {
   "cell_type": "code",
   "execution_count": 77,
   "metadata": {
    "ExecuteTime": {
     "end_time": "2020-12-23T21:10:06.018901Z",
     "start_time": "2020-12-23T21:10:05.495295Z"
    }
   },
   "outputs": [
    {
     "data": {
      "text/plain": [
       "[85, 99, 91, 2871, 6, 2, 35]"
      ]
     },
     "execution_count": 77,
     "metadata": {},
     "output_type": "execute_result"
    }
   ],
   "source": [
    "#  create a word-to-index dictionary.\n",
    "'''\n",
    "fit_on_texts Updates internal vocabulary based on a list of texts. This method\n",
    "creates the vocabulary index based on word frequency. So if you give it\n",
    "something like, \"The cat sat on the mat.\" It will create a dictionary\n",
    "s.t. word_index[\"the\"] = 1; word_index[\"cat\"] = 2 it is word -> index dictionary\n",
    "so every word gets a unique integer value. 0 is reserved for padding.\n",
    "So lower integer means more frequent word (often the first few are stop words\n",
    "because they appear a lot).\n",
    "'''\n",
    "tokenizer = text.Tokenizer(num_words=20000)\n",
    "#                            filters='\\n\\n!\"#$%&()*+,-./:;<=>?@[\\\\]^_`{|}~\\t\\n')\n",
    "tokenizer.fit_on_texts(X_train)\n",
    "\n",
    "'''\n",
    "texts_to_sequences Transforms each text in texts to a sequence of integers.\n",
    "So it basically takes each word in the text and replaces it with its \n",
    "corresponding integer value from the word_index dictionary.\n",
    "Nothing more, nothing less, certainly no magic involved.\n",
    "'''\n",
    "X_train = tokenizer.texts_to_sequences(X_train)\n",
    "X_test = tokenizer.texts_to_sequences(X_test)\n",
    "\n",
    "X_train[0]"
   ]
  },
  {
   "cell_type": "code",
   "execution_count": 78,
   "metadata": {
    "ExecuteTime": {
     "end_time": "2020-12-23T21:10:08.097367Z",
     "start_time": "2020-12-23T21:10:08.015466Z"
    }
   },
   "outputs": [
    {
     "data": {
      "text/plain": [
       "array([  85,   99,   91, 2871,    6,    2,   35,    0,    0,    0,    0,\n",
       "          0,    0,    0,    0,    0,    0,    0,    0,    0,    0,    0,\n",
       "          0,    0,    0,    0,    0,    0,    0,    0,    0,    0,    0,\n",
       "          0,    0,    0,    0,    0,    0,    0,    0,    0,    0,    0,\n",
       "          0,    0,    0,    0,    0,    0,    0,    0,    0,    0,    0,\n",
       "          0,    0,    0,    0,    0,    0,    0,    0,    0,    0,    0,\n",
       "          0,    0,    0,    0,    0,    0,    0,    0,    0,    0,    0,\n",
       "          0,    0,    0,    0,    0,    0,    0,    0,    0,    0,    0,\n",
       "          0,    0,    0,    0,    0,    0,    0,    0,    0,    0,    0,\n",
       "          0])"
      ]
     },
     "execution_count": 78,
     "metadata": {},
     "output_type": "execute_result"
    }
   ],
   "source": [
    "# perform padding \n",
    "X_train = sequence.pad_sequences(X_train, maxlen=100, padding='post')\n",
    "X_test = sequence.pad_sequences(X_test, maxlen=100, padding='post')\n",
    "\n",
    "X_train[0]"
   ]
  },
  {
   "cell_type": "code",
   "execution_count": 79,
   "metadata": {
    "ExecuteTime": {
     "end_time": "2020-12-23T21:10:11.804196Z",
     "start_time": "2020-12-23T21:10:11.790235Z"
    }
   },
   "outputs": [
    {
     "name": "stdout",
     "output_type": "stream",
     "text": [
      "{'i': 1, 'the': 2, 'it': 3, 'and': 4, 'a': 5, 'to': 6, 'for': 7, 'my': 8, 'is': 9, 'this': 10, 'of': 11, 'in': 12, 'on': 13, 'with': 14, 'have': 15, 'great': 16, 'not': 17, 'very': 18, 'but': 19, 'that': 20, 'so': 21, 'as': 22, \"n't\": 23, 'was': 24, 'pad': 25, 'pencils': 26, 'are': 27, 'good': 28, 'mouse': 29, 'wrist': 30, 'colors': 31, 'you': 32, 'comfortable': 33, 'these': 34, 'cushion': 35, 'they': 36, 'one': 37, 'at': 38, \"'s\": 39, 'like': 40, 'use': 41, 'color': 42, 'pain': 43, 'back': 44, 'do': 45, 'has': 46, 'product': 47, 'would': 48, 'be': 49, 'just': 50, 'well': 51, 'more': 52, 'me': 53, 'them': 54, 'love': 55, 'nice': 56, 'work': 57, 'had': 58, 'really': 59, 'all': 60, 'when': 61, 'from': 62, 'does': 63, 'price': 64, 'bought': 65, 'quality': 66, 'gel': 67, 'time': 68, 'using': 69, 'if': 70, 'much': 71, 'chair': 72, 'coloring': 73, 'after': 74, 'or': 75, 'than': 76, 'am': 77, 'get': 78, 'up': 79, 'will': 80, 'what': 81, 'works': 82, 'sitting': 83, 'your': 84, 'too': 85, 'an': 86, 'long': 87, 'now': 88, 'sit': 89, 'support': 90, 'no': 91, \"'m\": 92, 'some': 93, 'out': 94, 'used': 95, 'can': 96, 'better': 97, 'day': 98, 'hard': 99, 'recommend': 100, 'only': 101, 'colored': 102, 'there': 103, 'been': 104, 'did': 105, 'rest': 106, 'because': 107, 'car': 108, 'also': 109, 'she': 110, 'little': 111, 'about': 112, 'made': 113, 'lot': 114, 'other': 115, 'while': 116, 'buy': 117, 'got': 118, 'were': 119, \"'ve\": 120, 'seat': 121, 'office': 122, 'which': 123, 'set': 124, 'its': 125, 'hours': 126, 'soft': 127, 'computer': 128, 'still': 129, 'helps': 130, 'perfect': 131, 'foam': 132, 'pencil': 133, 'even': 134, 'happy': 135, 'few': 136, 'purchased': 137, 'first': 138, 'any': 139, 'desk': 140, 'adult': 141, 'he': 142, 'makes': 143, 'again': 144, 'feel': 145, 'off': 146, 'could': 147, 'far': 148, 'years': 149, 'tailbone': 150, 'different': 151, 'bit': 152, 'we': 153, 'pressure': 154, 'down': 155, '2': 156, 'feels': 157, 'pillow': 158, 'two': 159, 'another': 160, 'enough': 161, 'over': 162, 'old': 163, 'new': 164, 'gift': 165, 'need': 166, 'purchase': 167, 'go': 168, 'how': 169, 'who': 170, 'same': 171, 'right': 172, 'days': 173, 'lower': 174, 'many': 175, 'her': 176, 'definitely': 177, 'books': 178, 'help': 179, 'best': 180, 'box': 181, 'hand': 182, 'think': 183, 'belkin': 184, 'without': 185, 'helped': 186, 'needed': 187, 'pretty': 188, 'looking': 189, 'firm': 190, 'loves': 191, 'seems': 192, 'variety': 193, 'expected': 194, 'since': 195, 'excellent': 196, 'difference': 197, 'way': 198, 'home': 199, 'comfort': 200, 'thing': 201, 'by': 202, 'memory': 203, 'before': 204, 'around': 205, 'having': 206, 'every': 207, 'ordered': 208, 'comfy': 209, 'keep': 210, 'highly': 211, 'give': 212, 'easy': 213, 'wish': 214, 'most': 215, 'sciatica': 216, 'job': 217, \"'re\": 218, 'smell': 219, 'item': 220, '5': 221, 'make': 222, 'high': 223, 'relief': 224, 'however': 225, 'fine': 226, 'getting': 227, 'though': 228, 'then': 229, 'sharpen': 230, 'smooth': 231, 'say': 232, 'months': 233, 'tried': 234, 'exactly': 235, 'something': 236, 'find': 237, 'quite': 238, 'last': 239, 'found': 240, 'book': 241, 'should': 242, 'issues': 243, 'longer': 244, 'actually': 245, 'thank': 246, 'going': 247, 'bad': 248, 'problems': 249, 'see': 250, 'sure': 251, 'mousepad': 252, 'worth': 253, 'lead': 254, 'year': 255, 'material': 256, 'started': 257, 'know': 258, '3': 259, 'crayola': 260, 'big': 261, 'want': 262, 'uncomfortable': 263, 'driving': 264, 'small': 265, 'wanted': 266, 'wife': 267, 'easily': 268, 'husband': 269, 'size': 270, 'break': 271, 'where': 272, 'take': 273, 'surface': 274, 'his': 275, 'thought': 276, 'flat': 277, 'money': 278, 'paper': 279, 'never': 280, 'coccyx': 281, 'shape': 282, 'selection': 283, 'vibrant': 284, 'less': 285, 'shades': 286, '50': 287, 'area': 288, 'several': 289, 'second': 290, 'anyone': 291, 'ok': 292, 'away': 293, 'week': 294, 'arrived': 295, 'almost': 296, 'ever': 297, 'look': 298, 'looks': 299, 'couple': 300, 'part': 301, '10': 302, 'being': 303, 'into': 304, 'cheap': 305, 'bottom': 306, 'comfilife': 307, 'problem': 308, 'ca': 309, 'try': 310, 'may': 311, \"'ll\": 312, 'thanks': 313, 'came': 314, 'disappointed': 315, 'their': 316, 'red': 317, 'reviews': 318, '4': 319, 'brand': 320, 'art': 321, 'place': 322, 'periods': 323, 'seem': 324, 'working': 325, 'pleased': 326, 'already': 327, 'move': 328, 'black': 329, 'received': 330, 'fast': 331, 'put': 332, 'pads': 333, \"'\": 334, 'awesome': 335, 'value': 336, 'able': 337, 'both': 338, 'others': 339, 'those': 340, \"'d\": 341, 'yet': 342, 'amazon': 343, 'light': 344, 'ago': 345, 'order': 346, 'stars': 347, 'review': 348, 'probably': 349, 'wonderful': 350, 'overall': 351, 'loved': 352, 'top': 353, 'super': 354, 'described': 355, 'bright': 356, 'buying': 357, 'our': 358, 'weeks': 359, 'said': 360, 'amazing': 361, '1': 362, 'tunnel': 363, 'cover': 364, 'deal': 365, 'lots': 366, 'end': 367, 'point': 368, 'daughter': 369, 'bone': 370, 'especially': 371, 'hurt': 372, 'myself': 373, 'come': 374, 'takes': 375, 'cushions': 376, 'blend': 377, 'sargent': 378, 'felt': 379, 'thick': 380, 'always': 381, 'relieve': 382, '8': 383, 'butt': 384, 'such': 385, 'kids': 386, 'provides': 387, 'quickly': 388, 'ones': 389, 'shipping': 390, 'liked': 391, '6': 392, 'hour': 393, 'similar': 394, 'chairs': 395, 'gave': 396, 'hip': 397, 'press': 398, 'went': 399, 'posture': 400, 'assortment': 401, 'people': 402, 'spend': 403, 'worked': 404, 'perfectly': 405, 'glad': 406, 'gets': 407, 'took': 408, 'large': 409, 'nothing': 410, 'keeps': 411, 'might': 412, 'life': 413, 'blue': 414, 'front': 415, 'due': 416, 'sciatic': 417, 'white': 418, 'height': 419, 'until': 420, 'side': 421, 'legs': 422, 'pack': 423, 'softer': 424, 'keyboard': 425, 'amount': 426, 'extremely': 427, 'friend': 428, 'goes': 429, 'trip': 430, 'expensive': 431, 'says': 432, 'tail': 433, 'decent': 434, 'recommended': 435, 'advertised': 436, 'stiff': 437, 'sore': 438, 'kind': 439, 'plastic': 440, 'maybe': 441, 'reason': 442, 'him': 443, 'carpal': 444, 'helpful': 445, 'needs': 446, 'discomfort': 447, 'beautiful': 448, 'return': 449, 'broken': 450, 'fabric': 451, 'gives': 452, 'mine': 453, 'dark': 454, 'inside': 455, 'recently': 456, 'artist': 457, 'wrists': 458, 'optical': 459, 'absolutely': 460, 'uses': 461, 'surgery': 462, 'star': 463, 'each': 464, 'package': 465, 'drive': 466, 'during': 467, 'products': 468, 'once': 469, 'minutes': 470, 'green': 471, 'fits': 472, 'making': 473, 'issue': 474, 'times': 475, 'sturdy': 476, 'nicely': 477, 'mom': 478, 'must': 479, 'position': 480, 'decided': 481, 'why': 482, 'here': 483, 'completely': 484, 'brands': 485, 'higher': 486, 'comes': 487, 'least': 488, 'larger': 489, 'fit': 490, 'smoothly': 491, 'gone': 492, 'wo': 493, 'room': 494, 'low': 495, 'person': 496, 'christmas': 497, 'expect': 498, 'under': 499, 'okay': 500, 'satisfied': 501, 'huge': 502, 'gaming': 503, 'tell': 504, 'hurting': 505, 'durable': 506, 'type': 507, 'daily': 508, 'someone': 509, 'instead': 510, 'extra': 511, 'sharpened': 512, 'hoping': 513, 'supportive': 514, 'm': 515, 'padding': 516, 'prismacolor': 517, 'rubber': 518, 'anything': 519, 'leg': 520, 'month': 521, 'yes': 522, 'guess': 523, 'waverest': 524, 'non': 525, 'spine': 526, 'design': 527, 'weight': 528, 'replace': 529, 'body': 530, 'regular': 531, 'short': 532, 'feeling': 533, 'open': 534, 'trying': 535, 'ergonomic': 536, 'wear': 537, 'often': 538, 'silver': 539, 'next': 540, 'noticed': 541, 'choose': 542, 'doing': 543, 'normal': 544, 'sharpener': 545, 'sits': 546, 'fun': 547, 'either': 548, 'strong': 549, 'name': 550, 'slightly': 551, 'rather': 552, 'orange': 553, 'apart': 554, 'giving': 555, 'between': 556, 'gold': 557, 'hands': 558, 'stays': 559, 'start': 560, 'hold': 561, 'cut': 562, 'shade': 563, 'itself': 564, 'although': 565, 'delivery': 566, 'son': 567, 'mother': 568, 'slip': 569, 'within': 570, 'wide': 571, 'range': 572, 'worse': 573, 'finally': 574, 'fact': 575, 'fairly': 576, 'given': 577, 'stay': 578, 'likes': 579, 'company': 580, 'arm': 581, 'things': 582, 'along': 583, 'real': 584, 'otherwise': 585, 'middle': 586, 'experience': 587, 'enjoy': 588, 'relieves': 589, 'painful': 590, 'mice': 591, 'soon': 592, 'service': 593, 'update': 594, 'sometimes': 595, 'comfortably': 596, 'air': 597, 'hope': 598, 'slide': 599, 'terrible': 600, 'helping': 601, 'family': 602, 'true': 603, 'sat': 604, 'nerve': 605, 'everything': 606, 'packaging': 607, 'left': 608, 'older': 609, 'past': 610, 'believe': 611, 'pay': 612, 'breaking': 613, 'wrong': 614, 'anymore': 615, 'supposed': 616, 'stress': 617, 'gotten': 618, 'read': 619, 'starting': 620, 'everyday': 621, 'truck': 622, 'expecting': 623, 'through': 624, 'center': 625, 'class': 626, 'hips': 627, 'difficult': 628, 'plus': 629, 'complaints': 630, 'supports': 631, '9': 632, 'let': 633, 'solid': 634, 'original': 635, 'sharpening': 636, 'purpose': 637, 'table': 638, 'else': 639, 'compared': 640, 'drawing': 641, 'today': 642, 'harder': 643, '12': 644, 'house': 645, 'lumbar': 646, 'easier': 647, 'seats': 648, 'laser': 649, 'case': 650, 'half': 651, 'tips': 652, 'whole': 653, 'done': 654, 'surprised': 655, 'outside': 656, 'nt': 657, 'own': 658, 'carry': 659, 'provide': 660, 'add': 661, 'store': 662, 'leave': 663, 'broke': 664, 'worn': 665, 'leads': 666, 'fell': 667, 'actual': 668, 'cost': 669, 'paid': 670, 'inexpensive': 671, 'later': 672, 'handle': 673, 'three': 674, 'replacement': 675, 'quick': 676, 'holds': 677, 'ended': 678, 'seemed': 679, 'immediately': 680, 'picture': 681, 'complaint': 682, 'stand': 683, 'smells': 684, 'constantly': 685, 'fantastic': 686, 'allows': 687, 'bigger': 688, 'sharp': 689, 'holding': 690, 'taking': 691, 'darker': 692, 'purchasing': 693, 'opened': 694, 'full': 695, 'saw': 696, 'wireless': 697, 'school': 698, 'seller': 699, 'lasted': 700, 's': 701, 'link': 702, 'match': 703, 'certainly': 704, 'orthopedic': 705, 'clean': 706, 'version': 707, 'notice': 708, 'simple': 709, 'returned': 710, 'greens': 711, 'unless': 712, 'sets': 713, 'everywhere': 714, 'space': 715, 'change': 716, 'odor': 717, 'page': 718, 'travel': 719, 'laptop': 720, 'straight': 721, 'lost': 722, 'saver': 723, 'free': 724, 'd': 725, 'held': 726, 'usually': 727, 'previous': 728, '7': 729, 'unfortunately': 730, 'saved': 731, 'smaller': 732, 'form': 733, 'basic': 734, 'fall': 735, 'cheaper': 736, 'piece': 737, 'dull': 738, 'road': 739, 'choice': 740, 'replaced': 741, 'trips': 742, 'strain': 743, 'looked': 744, 'hoped': 745, 'plenty': 746, 'customer': 747, 'injury': 748, 'blues': 749, 'layer': 750, 'alleviate': 751, 'relieved': 752, 'everyone': 753, 'prefer': 754, 'arthritis': 755, 'wider': 756, 'pregnant': 757, 'extended': 758, 'priced': 759, 'gifts': 760, 'changed': 761, 'hurts': 762, 'sound': 763, 'lighter': 764, 'crayons': 765, 'close': 766, 'poor': 767, 'heavy': 768, 'opinion': 769, 'write': 770, 'condition': 771, 'kept': 772, 'resting': 773, 'totally': 774, '15': 775, 'choices': 776, 'draw': 777, 'inches': 778, 'annoying': 779, 'cause': 780, 'prevent': 781, 'average': 782, 'waxy': 783, 'show': 784, 'waste': 785, 'horrible': 786, 'dad': 787, 'coming': 788, 'skin': 789, 'future': 790, 'shipped': 791, 'wooden': 792, 'pigment': 793, 'bag': 794, 'lbs': 795, 'tired': 796, 'recliner': 797, 'edges': 798, 'reasonable': 799, 'blending': 800, 'texture': 801, 'syndrome': 802, 'missing': 803, 'us': 804, 'across': 805, 'driver': 806, 'breaks': 807, 'vivid': 808, 'names': 809, 'favorite': 810, 'together': 811, 'tall': 812, 'children': 813, 'movement': 814, 'level': 815, 'designed': 816, 'wood': 817, 'images': 818, 'become': 819, 'slight': 820, 'brown': 821, 'filled': 822, 'multiple': 823, 'purple': 824, 'lay': 825, 'pink': 826, 'provided': 827, 'moves': 828, 'chemical': 829, 'dirty': 830, 'noise': 831, 'period': 832, 'ease': 833, 'personally': 834, 'professional': 835, 'except': 836, 'reduced': 837, 'options': 838, 'moving': 839, 'palm': 840, 'weird': 841, 'friends': 842, 'improvement': 843, 'reduce': 844, 'idea': 845, '100': 846, 'properly': 847, 'tremendously': 848, 'enjoying': 849, 'drives': 850, '20': 851, 'etc': 852, 'test': 853, 'ordering': 854, 'reviewers': 855, 'impressed': 856, 'video': 857, 'stick': 858, 'squishy': 859, 'spot': 860, 'example': 861, 'portion': 862, 'line': 863, 'prisma': 864, 'logitech': 865, 'disc': 866, 'nearly': 867, 'sliding': 868, 'experiencing': 869, 'thin': 870, 'inch': 871, 'returning': 872, 'adjust': 873, 'sent': 874, 'flight': 875, 'suggest': 876, 'four': 877, 'delivered': 878, 'edge': 879, 'serious': 880, 'five': 881, 'appears': 882, 'touch': 883, 'upon': 884, 'cloth': 885, 'pains': 886, 'effective': 887, 'continue': 888, 'present': 889, 've': 890, 'stuff': 891, 'sort': 892, 'oh': 893, 'noticeable': 894, 'granddaughter': 895, 'tend': 896, 'near': 897, 'chance': 898, 'rich': 899, 'track': 900, 'flatten': 901, 'items': 902, 'cm': 903, 'firmer': 904, 'exact': 905, 'seating': 906, 'results': 907, 'mostly': 908, 'matter': 909, 'rests': 910, 'important': 911, 'firmness': 912, 'purples': 913, 'push': 914, 'expectations': 915, 'wheelchair': 916, 'gray': 917, 'deep': 918, 'offer': 919, 'barely': 920, 'sounds': 921, 'pictures': 922, 'alot': 923, 'mentioned': 924, 'neck': 925, 'number': 926, 'putting': 927, 'suffering': 928, 'lol': 929, 'severe': 930, 'colours': 931, 'awful': 932, 'rock': 933, 'based': 934, 'tracking': 935, 'flattened': 936, 'somewhat': 937, 'built': 938, 'whatever': 939, 'ride': 940, 'beat': 941, 'pillows': 942, 'tip': 943, 'affordable': 944, 'available': 945, 'length': 946, 'pages': 947, 'plan': 948, 'usage': 949, 'trouble': 950, 'live': 951, 'sister': 952, 'early': 953, 'realized': 954, 'raised': 955, 'world': 956, 'trick': 957, 'materials': 958, 'user': 959, 'forward': 960, 'useful': 961, 'numb': 962, 'pick': 963, 'games': 964, 'stopped': 965, 'flimsy': 966, 'thinking': 967, 'caused': 968, 'knew': 969, 'imagine': 970, 'shading': 971, 'sooner': 972, 'thickness': 973, 'allow': 974, 'style': 975, 'correct': 976, 'honestly': 977, 'worst': 978, 'fatigue': 979, 'saves': 980, 'herniated': 981, 'mind': 982, 'cushioning': 983, 'greatly': 984, 'places': 985, 'grip': 986, 'care': 987, 'stop': 988, 'seen': 989, 'yellow': 990, 'entire': 991, 'reds': 992, 'doctor': 993, 'added': 994, 'surfaces': 995, 'turned': 996, 'standing': 997, 'night': 998, 'simply': 999, 'literally': 1000, 'ref': 1001, 'ie': 1002, 'save': 1003, 'model': 1004, 'considering': 1005, 'addition': 1006, 'intended': 1007, 'causes': 1008, 'realize': 1009, 'anywhere': 1010, 'rating': 1011, 'began': 1012, 'conforms': 1013, 'projects': 1014, 'covering': 1015, 'owned': 1016, 'kid': 1017, 'bother': 1018, 'falling': 1019, 'special': 1020, 'originally': 1021, 'causing': 1022, 'thicker': 1023, 'prolonged': 1024, 'bucks': 1025, 'cr': 1026, 'fan': 1027, 'standard': 1028, 'chose': 1029, 'suffer': 1030, 'disappointing': 1031, 'regret': 1032, 'spent': 1033, 'negative': 1034, 'called': 1035, 'rear': 1036, 'suppose': 1037, 'possible': 1038, 'birthday': 1039, 'particular': 1040, 'com': 1041, 'please': 1042, 'remove': 1043, 'thighs': 1044, 'behind': 1045, 'ache': 1046, 'markers': 1047, 'obviously': 1048, 'pc': 1049, 'major': 1050, 'hate': 1051, 'perhaps': 1052, 'adults': 1053, 'data': 1054, 'dp': 1055, 'utf8': 1056, 'base': 1057, 'solution': 1058, 'wash': 1059, 'serves': 1060, '30': 1061, 'relieving': 1062, 'boxes': 1063, 'law': 1064, 'fair': 1065, 'tones': 1066, 'told': 1067, 'course': 1068, 'main': 1069, 'carpel': 1070, 'investment': 1071, 'intense': 1072, 'eventually': 1073, 'floor': 1074, 'compare': 1075, 'various': 1076, 'lack': 1077, 'apply': 1078, 'count': 1079, 'means': 1080, 'cool': 1081, 'padded': 1082, 'finish': 1083, 'keeping': 1084, 'hook': 1085, 'linked': 1086, 'href': 1087, 'arp': 1088, 'rvw': 1089, 'txt': 1090, 'flattens': 1091, 'became': 1092, 'improved': 1093, 'evenly': 1094, 'vehicle': 1095, 'weigh': 1096, 'points': 1097, 'writing': 1098, 'desktop': 1099, 'reading': 1100, 'typing': 1101, 'carrying': 1102, 'description': 1103, 'basically': 1104, 'student': 1105, 'lovely': 1106, '48': 1107, 'child': 1108, 'wore': 1109, 'feet': 1110, 'bubble': 1111, 'torn': 1112, 'promised': 1113, 'build': 1114, 'cushy': 1115, 'local': 1116, 'pigmented': 1117, 'per': 1118, 'spends': 1119, 'previously': 1120, 'pros': 1121, 'post': 1122, 'offers': 1123, 'taken': 1124, 'yesterday': 1125, 'traveling': 1126, 're': 1127, 'shaped': 1128, 'construction': 1129, 'durability': 1130, 'mat': 1131, 'result': 1132, 'including': 1133, 'nbsp': 1134, 'ball': 1135, 'unable': 1136, 'beginning': 1137, 'anyway': 1138, 'opening': 1139, 'wonders': 1140, 'computers': 1141, 'included': 1142, 'angle': 1143, 'dip': 1144, 'injured': 1145, 'play': 1146, 'remember': 1147, 'deeper': 1148, 'glide': 1149, 'general': 1150, '2nd': 1151, 'seated': 1152, 'hardly': 1153, 'niece': 1154, 'bold': 1155, 'online': 1156, 'throughout': 1157, 'starter': 1158, 'types': 1159, 'lift': 1160, 'onto': 1161, 'mean': 1162, '24': 1163, '11': 1164, 'fancy': 1165, 'experienced': 1166, 'supplies': 1167, 'circulation': 1168, '99': 1169, 'cons': 1170, 'none': 1171, 'turn': 1172, 'sides': 1173, 'spending': 1174, 'personal': 1175, 'stated': 1176, 'discs': 1177, 'u': 1178, 'purposes': 1179, 'natural': 1180, 'note': 1181, 'shift': 1182, 'array': 1183, 'kinda': 1184, 'prang': 1185, 'earlier': 1186, 'useless': 1187, 'soreness': 1188, 'complain': 1189, 'bed': 1190, 'guy': 1191, 'enjoyed': 1192, 'aching': 1193, 'seriously': 1194, 'bring': 1195, 'skid': 1196, 'coverage': 1197, 'glides': 1198, 'significant': 1199, 'relaxing': 1200, 'medium': 1201, 'hot': 1202, 'brighter': 1203, 'numbness': 1204, 'bum': 1205, 'above': 1206, 'sticky': 1207, 'outstanding': 1208, 'thrilled': 1209, 'violet': 1210, 'playing': 1211, 'dining': 1212, 'microsoft': 1213, 'saturation': 1214, 'crazy': 1215, 'trackball': 1216, 'faint': 1217, 'plane': 1218, 'required': 1219, 'impossible': 1220, 'figured': 1221, 'rated': 1222, 'yourself': 1223, 'tv': 1224, 'bearable': 1225, 'prior': 1226, 'plain': 1227, 'puts': 1228, 'solved': 1229, 'effect': 1230, 'immediate': 1231, 'wave': 1232, 'prompt': 1233, 'unlike': 1234, 'bulky': 1235, 'awhile': 1236, 'odd': 1237, 'recipient': 1238, 'term': 1239, 'happier': 1240, 'usual': 1241, 'awkward': 1242, 'conform': 1243, 'requires': 1244, 'hues': 1245, 'lines': 1246, '40': 1247, 'consistent': 1248, 'turns': 1249, 'control': 1250, 'indented': 1251, 'couch': 1252, 'kitchen': 1253, 'avoid': 1254, 'fractured': 1255, 'wonderfully': 1256, 'hopefully': 1257, '13': 1258, 'twice': 1259, 'bump': 1260, 'lose': 1261, 'lifesaver': 1262, 'total': 1263, 'metallic': 1264, 'collection': 1265, 'wait': 1266, 'living': 1267, 'crayolas': 1268, 'sink': 1269, 'instantly': 1270, 'against': 1271, 'option': 1272, 'tush': 1273, 'wheel': 1274, 'transfer': 1275, 'slides': 1276, 'proper': 1277, 'rides': 1278, 'compressed': 1279, 'father': 1280, 'run': 1281, 'grade': 1282, 'hobby': 1283, 'starts': 1284, 'pens': 1285, 'grandson': 1286, 'ripped': 1287, 'variation': 1288, 'washed': 1289, 'chronic': 1290, 'normally': 1291, 'fingers': 1292, 'whenever': 1293, 'complete': 1294, 'bruised': 1295, 'miles': 1296, 'indentation': 1297, 'barrels': 1298, 'elbow': 1299, 'loose': 1300, 'truly': 1301, 'ass': 1302, 'wrest': 1303, 'asked': 1304, 'dense': 1305, 'game': 1306, 'spinal': 1307, 'areas': 1308, 'appear': 1309, 'moved': 1310, 'creating': 1311, 'ups': 1312, 'dirt': 1313, 'pastel': 1314, 'watch': 1315, 'comment': 1316, 'saying': 1317, 'receive': 1318, 'ideal': 1319, 'walk': 1320, 'reasonably': 1321, 'identical': 1322, 'beautifully': 1323, 'ask': 1324, 'depth': 1325, 'cherry': 1326, 'developed': 1327, 'instant': 1328, 'backing': 1329, 'toxic': 1330, 'smoother': 1331, 'crinkling': 1332, 'attached': 1333, 'likely': 1334, 'pale': 1335, 'wanting': 1336, 'finding': 1337, 'breakage': 1338, 'aches': 1339, 'accurate': 1340, 'round': 1341, 'certain': 1342, 'admit': 1343, 'age': 1344, 'require': 1345, 'heat': 1346, 'mousing': 1347, 'thinner': 1348, 'threw': 1349, 'reducing': 1350, 'tray': 1351, 'donut': 1352, 'warm': 1353, 'grand': 1354, 'zipper': 1355, 'prevents': 1356, 'themselves': 1357, 'pre': 1358, 'users': 1359, 'shoulder': 1360, 'covered': 1361, 'absolute': 1362, 'sensitive': 1363, 'packs': 1364, 'third': 1365, 'god': 1366, 'removable': 1367, 'placed': 1368, 'minute': 1369, 'block': 1370, 'forget': 1371, 'call': 1372, 'o': 1373, 'constant': 1374, 'lasts': 1375, 'worried': 1376, 'trash': 1377, 'innovera': 1378, 'tear': 1379, 'understand': 1380, 'garbage': 1381, 'enjoyable': 1382, 'shows': 1383, 'pregnancy': 1384, 'wow': 1385, 'distances': 1386, '80': 1387, 'replacing': 1388, 'rough': 1389, 'sorry': 1390, 'led': 1391, 'nor': 1392, 'prismacolors': 1393, 'head': 1394, 'dollars': 1395, 'layers': 1396, 'grey': 1397, 'stuck': 1398, 'mix': 1399, 'ends': 1400, 'nicer': 1401, 'beginner': 1402, 'initially': 1403, 'photo': 1404, 'greatest': 1405, 'adequate': 1406, 'leaving': 1407, 'pieces': 1408, 'pounds': 1409, 'damaged': 1410, 'throw': 1411, 'rate': 1412, 'offered': 1413, 'artists': 1414, 'blended': 1415, 'excited': 1416, 'badly': 1417, 'blacks': 1418, 'section': 1419, 'forever': 1420, 'cushioned': 1421, 'hole': 1422, 'shiny': 1423, 'motion': 1424, 'airplane': 1425, 'therapy': 1426, 'supporting': 1427, 'hit': 1428, 'riding': 1429, 'apple': 1430, 'concerned': 1431, 'incredibly': 1432, 'lasting': 1433, 'shipment': 1434, 'grandkids': 1435, 'payoff': 1436, 'sale': 1437, 'leaves': 1438, 'significantly': 1439, 'elevated': 1440, 'force': 1441, 'yellows': 1442, 'ten': 1443, 'gamer': 1444, 'magic': 1445, 'sadly': 1446, 'combination': 1447, 'tends': 1448, 'screen': 1449, 'performance': 1450, 'heavier': 1451, 'wise': 1452, 'spots': 1453, 'self': 1454, '90': 1455, 'hopes': 1456, 'wears': 1457, 'elsewhere': 1458, 'word': 1459, 'soften': 1460, 'young': 1461, 'pleasantly': 1462, 'zero': 1463, 'particularly': 1464, 'na': 1465, 'fill': 1466, 'unusable': 1467, 'college': 1468, 'reduces': 1469, 'buttocks': 1470, 'raise': 1471, 'further': 1472, 'currently': 1473, 'check': 1474, '3rd': 1475, 'ready': 1476, 'additional': 1477, 'agree': 1478, 'functional': 1479, 'artistic': 1480, 'confortable': 1481, 'alright': 1482, 'machine': 1483, 'pinks': 1484, 'planning': 1485, 'colour': 1486, 'taller': 1487, 'project': 1488, 'mousepads': 1489, 'sized': 1490, 'detailed': 1491, 'indent': 1492, 'variations': 1493, 'watching': 1494, 'listed': 1495, 'contour': 1496, 'packaged': 1497, 'crunchy': 1498, 'wearing': 1499, 'eat': 1500, 'washable': 1501, 'needing': 1502, 'single': 1503, 'metal': 1504, 'hrs': 1505, 'liking': 1506, 'bags': 1507, 'misleading': 1508, 'dust': 1509, 'relax': 1510, 'usable': 1511, 'send': 1512, 'hear': 1513, 'meant': 1514, 'therefore': 1515, 'clear': 1516, 'fellowes': 1517, 'con': 1518, 'flights': 1519, 'wishing': 1520, 'recovering': 1521, 'ability': 1522, 'typical': 1523, 'whatsoever': 1524, 'drag': 1525, 'elderly': 1526, 'tone': 1527, 'disappointment': 1528, 'sleek': 1529, 'slippery': 1530, 'depression': 1531, 'washing': 1532, 'notch': 1533, 'fix': 1534, 'six': 1535, 'dollar': 1536, 'sleep': 1537, 'related': 1538, 'brought': 1539, 'alleviates': 1540, 'drove': 1541, 'health': 1542, 'positive': 1543, 'y': 1544, 'studying': 1545, 'bonus': 1546, 'e': 1547, 'removed': 1548, 'heal': 1549, 'towards': 1550, 'current': 1551, 'craft': 1552, 'suffered': 1553, 'smelled': 1554, 'despite': 1555, 'refund': 1556, 'country': 1557, 'recent': 1558, 'cusion': 1559, 'physical': 1560, 'adds': 1561, 'decreased': 1562, 'intensity': 1563, 'surprise': 1564, 'picky': 1565, 'honest': 1566, 'crap': 1567, 'frequently': 1568, 'relatively': 1569, 'cutting': 1570, 'narrow': 1571, 'lightly': 1572, 'happened': 1573, 'lb': 1574, 'process': 1575, 'pro': 1576, 'ton': 1577, 'pull': 1578, 'promptly': 1579, 'improve': 1580, 'backside': 1581, 'appreciate': 1582, 'weekend': 1583, 'possibly': 1584, 'permanent': 1585, 'healthy': 1586, 'mesh': 1587, 'aware': 1588, 'step': 1589, 'arrival': 1590, 'foot': 1591, 'decision': 1592, 'eases': 1593, 'fully': 1594, 'complained': 1595, 'wants': 1596, 'cross': 1597, 'preference': 1598, 'w': 1599, 'desired': 1600, 'mainly': 1601, 'switched': 1602, 'bench': 1603, 'rose': 1604, 'somewhere': 1605, 'mixed': 1606, 'lately': 1607, 'waiting': 1608, 'business': 1609, '2016': 1610, 'grown': 1611, 'superior': 1612, 'rid': 1613, 'pleasant': 1614, 'friction': 1615, '18': 1616, 'prime': 1617, 'grips': 1618, 'molds': 1619, 'finished': 1620, 'coloured': 1621, 'saving': 1622, 'speak': 1623, 'photos': 1624, 'raises': 1625, 'allowed': 1626, 'happens': 1627, 'pressing': 1628, 'wherever': 1629, 'adjusted': 1630, 'duplicates': 1631, 'moment': 1632, 'sessions': 1633, 'ages': 1634, 'younger': 1635, 't': 1636, 'g': 1637, 'underside': 1638, 'girlfriend': 1639, 'leather': 1640, 'thus': 1641, 'setting': 1642, 'willing': 1643, 'search': 1644, 'crappy': 1645, 'spectrum': 1646, 'create': 1647, 'bones': 1648, 'group': 1649, 'assorted': 1650, 'separate': 1651, 'cursor': 1652, 'woman': 1653, 'ill': 1654, 'minimal': 1655, 'commute': 1656, 'softness': 1657, 'coffee': 1658, 'weak': 1659, 'remain': 1660, 'pulled': 1661, 'shopping': 1662, 'providing': 1663, 'marks': 1664, 'whether': 1665, 'mattress': 1666, 'convenient': 1667, 'strap': 1668, 'gorgeous': 1669, 'lacking': 1670, 'skeptical': 1671, 'mouses': 1672, 'input': 1673, 'https': 1674, 'below': 1675, 'handy': 1676, 'logo': 1677, 'date': 1678, 'feature': 1679, 'core': 1680, 'comments': 1681, 'double': 1682, 'hr': 1683, 'suffers': 1684, 'tremendous': 1685, 'brother': 1686, 'vacation': 1687, 'rarely': 1688, 'figure': 1689, 'miracle': 1690, 'strange': 1691, 'falls': 1692, 'container': 1693, 'blends': 1694, 'tiny': 1695, 'tolerable': 1696, 'split': 1697, 'wonder': 1698, 'maintain': 1699, 'craze': 1700, 'limited': 1701, 'allowing': 1702, 'studio': 1703, 'reviewer': 1704, 'market': 1705, 'worry': 1706, 'beginners': 1707, 'sweat': 1708, 'laying': 1709, 'sold': 1710, 'sensitivity': 1711, 'novice': 1712, 'biggest': 1713, 'manufacturer': 1714, 'alternative': 1715, 'asleep': 1716, 'healing': 1717, 'glue': 1718, 'consider': 1719, 'underneath': 1720, 'stores': 1721, 'depending': 1722, 'newer': 1723, 'walmart': 1724, 'girls': 1725, 'surprisingly': 1726, 'petite': 1727, 'painted': 1728, 'majority': 1729, '200': 1730, 'neutral': 1731, '22': 1732, 'positioning': 1733, 'fumes': 1734, 'squish': 1735, 'cure': 1736, 'discount': 1737, 'appearance': 1738, 'softens': 1739, 'spilled': 1740, 'window': 1741, 'email': 1742, 'neoprene': 1743, 'accident': 1744, 'folks': 1745, 'timely': 1746, 'forth': 1747, 'achy': 1748, 'crinkles': 1749, 'earth': 1750, 'tho': 1751, 'protect': 1752, 'generally': 1753, 'seeing': 1754, 'posted': 1755, 'funny': 1756, 'signs': 1757, 'strongly': 1758, 'factor': 1759, 'careful': 1760, 'pelvic': 1761, 'sketching': 1762, 'anti': 1763, 'pure': 1764, 'complaining': 1765, 'bargain': 1766, 'pleasure': 1767, 'supported': 1768, 'cutout': 1769, 'tape': 1770, 'sufficient': 1771, 'correctly': 1772, 'silky': 1773, 'guard': 1774, 'luck': 1775, 'instance': 1776, 'hardness': 1777, 'becomes': 1778, 'hesitant': 1779, 'joints': 1780, 'stiffer': 1781, 'nose': 1782, 'activities': 1783, 'par': 1784, 'portable': 1785, 'boost': 1786, 'rounded': 1787, 'parts': 1788, 'boy': 1789, 'reorder': 1790, 'width': 1791, 'visible': 1792, 'eliminated': 1793, 'patient': 1794, 'immensely': 1795, 'necessary': 1796, 'x': 1797, 'shot': 1798, 'medical': 1799, 'customers': 1800, 'stenosis': 1801, 'learning': 1802, 'magenta': 1803, 'industrial': 1804, 'hassle': 1805, 'known': 1806, 'students': 1807, 'suitable': 1808, 'comfi': 1809, 'upgrade': 1810, 'becoming': 1811, 'frustrating': 1812, 'intricate': 1813, 'junk': 1814, 'male': 1815, 'bus': 1816, 'tad': 1817, 'pass': 1818, 'compresses': 1819, 'paint': 1820, 'supply': 1821, 'fabulous': 1822, 'compress': 1823, 'beyond': 1824, 'minor': 1825, 'detail': 1826, 'whites': 1827, 'greater': 1828, 'outer': 1829, 'div': 1830, 'spacing': 1831, 'hidden': 1832, 'ssl': 1833, 'url': 1834, 'stroke': 1835, 'sheet': 1836, 'downside': 1837, 'slick': 1838, 'comparison': 1839, 'adjusting': 1840, 'concave': 1841, '0': 1842, 'dealing': 1843, 'evening': 1844, 'bleachers': 1845, 'tan': 1846, 'summer': 1847, 'co': 1848, 'performs': 1849, 'chemicals': 1850, 'extreme': 1851, 'amazed': 1852, 'keyboards': 1853, 'church': 1854, 'eye': 1855, 'crayon': 1856, 'slowly': 1857, 'tough': 1858, 'loving': 1859, 'contours': 1860, 'relaxation': 1861, 'dry': 1862, 'surfing': 1863, 'pigmentation': 1864, '95': 1865, 'trust': 1866, 'asking': 1867, 'adding': 1868, 'frame': 1869, 'drawings': 1870, 'hospital': 1871, 'cracked': 1872, 'wax': 1873, 'irritating': 1874, 'bothered': 1875, 'cyst': 1876, 'sense': 1877, 'neither': 1878, 'till': 1879, 'artwork': 1880, 'closed': 1881, 'batteries': 1882, 'joint': 1883, 'prices': 1884, 'cancer': 1885, 'stinks': 1886, 'spring': 1887, 'forearm': 1888, 'pop': 1889, 'n': 1890, 'shifts': 1891, 'tons': 1892, 'discovered': 1893, 'changes': 1894, 'reliable': 1895, 'words': 1896, 'complains': 1897, 'cloud': 1898, 'flare': 1899, 'blk': 1900, 'premium': 1901, 'stood': 1902, 'distance': 1903, 'sewing': 1904, 'impressive': 1905, 'meet': 1906, 'homework': 1907, 'opposed': 1908, 'arms': 1909, 'waited': 1910, 'bulging': 1911, 'cheeks': 1912, 'grandmother': 1913, 'row': 1914, 'placing': 1915, 'stretches': 1916, 'covers': 1917, 'positioned': 1918, 'shown': 1919, 'heard': 1920, 'fallen': 1921, 'square': 1922, 'charm': 1923, 'manner': 1924, 'marked': 1925, 'contain': 1926, 'afterwards': 1927, 'regularly': 1928, 'armrest': 1929, 'happen': 1930, 'minus': 1931, 'depressed': 1932, 'versions': 1933, 'pricey': 1934, 'mile': 1935, 'colorful': 1936, 'water': 1937, 'benefit': 1938, 'terribly': 1939, 'throwing': 1940, 'tendonitis': 1941, 'nylon': 1942, 'hated': 1943, 'muscle': 1944, 'brick': 1945, 'tears': 1946, 'killing': 1947, 'mention': 1948, 'stretch': 1949, 'bill': 1950, 'knees': 1951, 'wrap': 1952, 'afraid': 1953, 'reach': 1954, 'ground': 1955, 'nephew': 1956, 'doubt': 1957, 'baby': 1958, 'garage': 1959, 'constructed': 1960, 'passed': 1961, 'favor': 1962, 'restaurants': 1963, 'wound': 1964, 'crinkly': 1965, 'nope': 1966, 'directly': 1967, 'internet': 1968, 'insert': 1969, 'man': 1970, 'edit': 1971, 'web': 1972, 'faster': 1973, 'noted': 1974, 'min': 1975, 'shorter': 1976, 'states': 1977, 'solve': 1978, 'definition': 1979, 'question': 1980, 'serve': 1981, 'forms': 1982, 'models': 1983, 'apparently': 1984, 'searching': 1985, 'continued': 1986, 'lazy': 1987, 'cheaply': 1988, 'affect': 1989, 'heaven': 1990, 'begin': 1991, 'lays': 1992, 'shine': 1993, 'paying': 1994, 'aylio': 1995, 'perform': 1996, 'disease': 1997, 'l5': 1998, '25': 1999, 'b': 2000, 'rigid': 2001, 'upper': 2002, 'textured': 2003, 'state': 2004, 'grateful': 2005, 'kinds': 2006, 'tingling': 2007, 'unbearable': 2008, 'varieties': 2009, 'effort': 2010, 'flow': 2011, 'tight': 2012, 'balance': 2013, 'haha': 2014, 'filling': 2015, '00': 2016, 'frustrated': 2017, 'barrel': 2018, 'muted': 2019, 'plush': 2020, 'incredible': 2021, 'sinks': 2022, 'dog': 2023, 'hubby': 2024, 'drastically': 2025, 'adjustment': 2026, 'crinkle': 2027, 'anyways': 2028, 'pictured': 2029, 'burnt': 2030, 'duplicate': 2031, 'semi': 2032, 'details': 2033, 'served': 2034, 'brilliant': 2035, 'pancake': 2036, 'corner': 2037, 'improves': 2038, 'purchases': 2039, 'beware': 2040, 'zip': 2041, 'scratchy': 2042, 'appreciated': 2043, 'lock': 2044, 'dinner': 2045, 'fat': 2046, 'noticeably': 2047, 'budget': 2048, 'march': 2049, 'changing': 2050, 'contrast': 2051, 'interested': 2052, 'function': 2053, 'tracks': 2054, 'resulting': 2055, 'somehow': 2056, 'tension': 2057, 'stronger': 2058, 'bare': 2059, 'compact': 2060, 'lean': 2061, 'symptoms': 2062, 'straighter': 2063, 'entirely': 2064, 'passenger': 2065, 'focus': 2066, 'effortlessly': 2067, 'piriformis': 2068, 'chiropractor': 2069, 'hesitate': 2070, 'budding': 2071, 'eased': 2072, 'staying': 2073, 'achieve': 2074, 'cleaning': 2075, 'silly': 2076, 'regarding': 2077, 'alleviated': 2078, 'miserable': 2079, 'folding': 2080, 'density': 2081, 'besides': 2082, 'arrive': 2083, 'scrolling': 2084, 'tin': 2085, 'caved': 2086, 'invest': 2087, 'waist': 2088, 'amazingly': 2089, 'seconds': 2090, 'sending': 2091, 'poorly': 2092, 'granddaughters': 2093, 'hell': 2094, '1st': 2095, 'wrote': 2096, 'functions': 2097, 'warms': 2098, 'meetings': 2099, 'recomend': 2100, 'definite': 2101, 'desks': 2102, 'story': 2103, 'dpi': 2104, 'alike': 2105, 'extensive': 2106, 'showed': 2107, 'scattered': 2108, 'basis': 2109, 'produce': 2110, 'noisy': 2111, 'alleviating': 2112, 'degenerative': 2113, 'knee': 2114, 'shame': 2115, 'register': 2116, 'suggestion': 2117, 'pops': 2118, 'late': 2119, 'ergonomics': 2120, 'vertical': 2121, 'brings': 2122, 'labeled': 2123, 'runs': 2124, 'grandchildren': 2125, 'si': 2126, 'surgeries': 2127, 'seams': 2128, 'pointer': 2129, 'damage': 2130, 'contact': 2131, 'elevates': 2132, 'degree': 2133, 'noises': 2134, 'hollow': 2135, 'recovery': 2136, 'navy': 2137, 'unit': 2138, 'research': 2139, 'selections': 2140, 'satisfactory': 2141, 'penny': 2142, 'diagnosed': 2143, 'created': 2144, 'collapsed': 2145, 'sad': 2146, 'keeper': 2147, 'features': 2148, 'darken': 2149, 'printed': 2150, 'stiffness': 2151, 'tendency': 2152, 'preferred': 2153, 'smashed': 2154, 'associated': 2155, 'dropped': 2156, 'fixed': 2157, 'sharpens': 2158, 'primarily': 2159, 'anticipated': 2160, 'cleaned': 2161, 'cars': 2162, 'sample': 2163, 'phone': 2164, 'morning': 2165, 'wristpad': 2166, 'smelly': 2167, 'casual': 2168, 'thigh': 2169, 'joke': 2170, 'squished': 2171, '7251': 2172, 'dream': 2173, 'disabled': 2174, 'prisms': 2175, 'advise': 2176, 'consistency': 2177, 'reflective': 2178, 'alone': 2179, 'surely': 2180, 'warning': 2181, 'cold': 2182, 'regardless': 2183, 'stadium': 2184, 'sooooo': 2185, 'packing': 2186, 'effects': 2187, 'upgraded': 2188, 'truth': 2189, 'z': 2190, 'grandma': 2191, 'collapse': 2192, 'crack': 2193, 'door': 2194, 'skip': 2195, 'blender': 2196, 'beneath': 2197, 'permanently': 2198, 'comparable': 2199, 'guys': 2200, 'mushy': 2201, 'pelvis': 2202, '60': 2203, 'burning': 2204, 'bleed': 2205, 'wet': 2206, 'opportunity': 2207, 'click': 2208, 'talking': 2209, 'manufacturing': 2210, 'mail': 2211, 'initial': 2212, 'speed': 2213, 'matching': 2214, 'ridiculous': 2215, 'decide': 2216, 'rip': 2217, 'jell': 2218, 'sacrum': 2219, 'transport': 2220, 'slipped': 2221, 'opted': 2222, 'yeah': 2223, 'events': 2224, 'defect': 2225, 'application': 2226, 'worker': 2227, 'direct': 2228, 'forces': 2229, 'finds': 2230, 'overly': 2231, 'stuffed': 2232, 'device': 2233, 'running': 2234, 'rolled': 2235, 'practical': 2236, 'searched': 2237, 'fusion': 2238, 'compression': 2239, 'decade': 2240, 'lessened': 2241, 'member': 2242, 'molded': 2243, 'traction': 2244, 'sideways': 2245, 'layering': 2246, 'backs': 2247, 'showing': 2248, 'longevity': 2249, 'improving': 2250, 'ahead': 2251, 'towel': 2252, 'slid': 2253, 'reviewing': 2254, 'receiving': 2255, 'disappeared': 2256, 'oval': 2257, 'describe': 2258, 'alignment': 2259, 'suggested': 2260, 'preventing': 2261, 'gamers': 2262, 'posterior': 2263, 'firmly': 2264, 'concern': 2265, 'heck': 2266, 'lobby': 2267, 'sharpeners': 2268, 'spaces': 2269, 'nerves': 2270, 'heart': 2271, 'win': 2272, 'sticks': 2273, 'list': 2274, 'ship': 2275, 'drop': 2276, 'sags': 2277, 'sports': 2278, 'situation': 2279, 'researched': 2280, 'retired': 2281, 'nurse': 2282, '16': 2283, '17': 2284, 'backwards': 2285, 'turning': 2286, 'met': 2287, 'pinched': 2288, 'offering': 2289, 'positions': 2290, 'fps': 2291, 'fracture': 2292, 'mess': 2293, 'thru': 2294, 'ty': 2295, 'cramps': 2296, 'bucket': 2297, 'goodness': 2298, 'loses': 2299, 'station': 2300, 's1': 2301, 'frequent': 2302, 'deformed': 2303, 'pressed': 2304, 'distracting': 2305, 'seam': 2306, 'cheapo': 2307, 'study': 2308, 'cat': 2309, 'wired': 2310, 'hence': 2311, 'pastels': 2312, 'costs': 2313, 'presents': 2314, 'include': 2315, 'smelling': 2316, 'community': 2317, 'reasons': 2318, 'ad': 2319, 'deflated': 2320, '46': 2321, 'commented': 2322, 'lifts': 2323, '14': 2324, 'giant': 2325, 'varying': 2326, 'suit': 2327, 'learn': 2328, 'sucks': 2329, 'indeed': 2330, 'cuts': 2331, 'stain': 2332, 'claims': 2333, 'splitting': 2334, 'thumbs': 2335, 'girl': 2336, 'wondering': 2337, 'release': 2338, 'lie': 2339, 'staples': 2340, 'vastly': 2341, 'returns': 2342, 'lightweight': 2343, 'classic': 2344, 'damp': 2345, 'buyer': 2346, 'shapes': 2347, 'adjusts': 2348, 'wrapper': 2349, 'hopeful': 2350, 'faber': 2351, 'batch': 2352, 'afford': 2353, 'siatica': 2354, 'continues': 2355, 'sergeant': 2356, 'acceptable': 2357, 'yay': 2358, 'teen': 2359, 'cra': 2360, 'peach': 2361, 'accurately': 2362, 'gentle': 2363, 'considered': 2364, 'sunday': 2365, 'closely': 2366, 'sub': 2367, 'suck': 2368, 'china': 2369, 'rainbow': 2370, 'applied': 2371, 'address': 2372, 'monday': 2373, 'mini': 2374, 'fault': 2375, 'guessing': 2376, 'questions': 2377, 'ex': 2378, 'ways': 2379, 'feedback': 2380, 'stock': 2381, 'countless': 2382, 'protection': 2383, 'acting': 2384, 'reported': 2385, 'excruciating': 2386, \"don't\": 2387, 'knows': 2388, 'dent': 2389, 'solves': 2390, 'warehouse': 2391, 'thinks': 2392, 'obvious': 2393, 'terrific': 2394, 'justice': 2395, 'designer': 2396, 'windows': 2397, 'environment': 2398, 'messy': 2399, 'typically': 2400, 'delighted': 2401, 'begun': 2402, 'accessory': 2403, 'disappear': 2404, 'upset': 2405, 'contacted': 2406, 'refunded': 2407, '160': 2408, 'answer': 2409, 'fitting': 2410, 'enjoys': 2411, 'saturated': 2412, 'fellows': 2413, 'substantial': 2414, 'injuries': 2415, 'tries': 2416, 'investing': 2417, 'aunt': 2418, 'meets': 2419, 'occasionally': 2420, 'dimple': 2421, 'remains': 2422, 'knowing': 2423, 'anybody': 2424, '120': 2425, 'bars': 2426, 'hamstrings': 2427, 'headache': 2428, 'degrees': 2429, 'creative': 2430, 'blessing': 2431, 'gifted': 2432, 'tool': 2433, 'named': 2434, 'target': 2435, 'childhood': 2436, 'crafts': 2437, 'vibrance': 2438, 'tendons': 2439, 'performed': 2440, 'arthritic': 2441, 'peeling': 2442, 'godsend': 2443, 'workers': 2444, 'sunken': 2445, 'lessen': 2446, 'gripe': 2447, 'synthetic': 2448, 'indention': 2449, 'fold': 2450, 'ice': 2451, 'cute': 2452, 'mild': 2453, 'ergonomically': 2454, 'carefully': 2455, 'inferior': 2456, 'doubles': 2457, 'unglued': 2458, 'switching': 2459, 'overpriced': 2460, 'picked': 2461, 'stains': 2462, 'slips': 2463, 'bunch': 2464, 'lover': 2465, 'adhere': 2466, 'steal': 2467, 'depot': 2468, 'confident': 2469, 'region': 2470, 'combo': 2471, 'losing': 2472, '500': 2473, 'jumping': 2474, 'seven': 2475, 'repetitive': 2476, 'gap': 2477, 'accommodate': 2478, 'scent': 2479, 'pushed': 2480, 'heel': 2481, 'omg': 2482, 'creates': 2483, 'interesting': 2484, 'formed': 2485, 'maximum': 2486, 'lets': 2487, 'oddly': 2488, 'brace': 2489, 'superb': 2490, 'hers': 2491, 'updated': 2492, 'husbands': 2493, 'reduction': 2494, 'bundle': 2495, 'imo': 2496, 'instructions': 2497, 'tested': 2498, 'softened': 2499, 'prop': 2500, 'c': 2501, 'pliable': 2502, 'antique': 2503, 'loud': 2504, 'indicated': 2505, 'repeated': 2506, 'strength': 2507, 'vibrancy': 2508, 'discounted': 2509, 'conclusion': 2510, 'mandala': 2511, 'retain': 2512, 'selling': 2513, 'b010tlsfa6': 2514, 'hamstring': 2515, 'sargents': 2516, 'millimeter': 2517, 'sacral': 2518, 'yr': 2519, 'conformed': 2520, 'convention': 2521, 'exceeded': 2522, 'shop': 2523, 'clearly': 2524, 'divot': 2525, 'orders': 2526, 'geometric': 2527, 'wipe': 2528, 'monitor': 2529, 'curved': 2530, 'software': 2531, 'booster': 2532, 'colorer': 2533, 'shell': 2534, 'nonslip': 2535, 'additionally': 2536, 'compromise': 2537, 'uber': 2538, 'repeat': 2539, 'patterns': 2540, 'defective': 2541, 'camper': 2542, 'airline': 2543, 'relive': 2544, 'bubbles': 2545, 'skinny': 2546, 'pulling': 2547, 'glass': 2548, 'mid': 2549, 'fianc': 2550, 'stocking': 2551, 'royal': 2552, 'employees': 2553, 'session': 2554, 'dialysis': 2555, 'de': 2556, 'approximately': 2557, 'drawer': 2558, 'necessity': 2559, 'dramatically': 2560, 'precise': 2561, 'generic': 2562, 'slightest': 2563, 'trade': 2564, 'popular': 2565, 'missed': 2566, 'wrapped': 2567, 'diaper': 2568, 'pointed': 2569, 'jumped': 2570, 'ample': 2571, 'taste': 2572, 'contoured': 2573, 'substantially': 2574, 'message': 2575, 'conditions': 2576, 'bent': 2577, 'stored': 2578, 'follow': 2579, 'plans': 2580, 'bubbled': 2581, 'precision': 2582, 'mold': 2583, 'hello': 2584, 'drawback': 2585, 'unacceptable': 2586, 'worthless': 2587, 'gon': 2588, '2017': 2589, 'offices': 2590, 'increased': 2591, 'specifically': 2592, 'mark': 2593, 'challenging': 2594, 'weather': 2595, 'board': 2596, 'paired': 2597, 'relaxed': 2598, 'cushiony': 2599, 'testing': 2600, 'scratch': 2601, 'smart': 2602, 'browns': 2603, 'realistic': 2604, 'setup': 2605, '37': 2606, '19': 2607, 'sealed': 2608, 'spare': 2609, 'id': 2610, 'mp4': 2611, 'png': 2612, 'slate': 2613, 'img': 2614, 'blendable': 2615, 'terms': 2616, 'fresh': 2617, 'vs': 2618, 'polyester': 2619, 'slow': 2620, 'developing': 2621, 'direction': 2622, 'combined': 2623, 'fourth': 2624, 'corners': 2625, 'sell': 2626, 'power': 2627, 'piano': 2628, 'protects': 2629, 'report': 2630, 'meaning': 2631, 'buttock': 2632, 'sided': 2633, 'thx': 2634, 'international': 2635, 'shifting': 2636, 'stool': 2637, 'razer': 2638, 'compares': 2639, 'factory': 2640, 'handed': 2641, 'crumbling': 2642, 'disney': 2643, 'unhappy': 2644, 'functionality': 2645, 'boyfriend': 2646, 'sleeping': 2647, 'walking': 2648, 'struggling': 2649, 'account': 2650, '45': 2651, 'fails': 2652, 'containing': 2653, '84': 2654, 'female': 2655, 'avoiding': 2656, 'faded': 2657, 'decades': 2658, 'colouring': 2659, 'recover': 2660, 'l': 2661, '4th': 2662, 'imagined': 2663, 'shall': 2664, 'occasional': 2665, 'grace': 2666, 'editing': 2667, 'public': 2668, 'retail': 2669, 'computing': 2670, 'solidly': 2671, 'written': 2672, 'fond': 2673, 'fade': 2674, 'duty': 2675, 'leaking': 2676, 'shabby': 2677, 'angel': 2678, 'print': 2679, 'hits': 2680, 'arts': 2681, 'richer': 2682, 'forgot': 2683, 'counter': 2684, 'printer': 2685, 'cardboard': 2686, 'locally': 2687, 'closet': 2688, 'dissipates': 2689, 'january': 2690, 'doubled': 2691, \"i'm\": 2692, 'attracts': 2693, 'fortunately': 2694, 'velour': 2695, 'rolling': 2696, 'styrofoam': 2697, 'crackling': 2698, 'advertising': 2699, 'october': 2700, 'muscles': 2701, 'highlights': 2702, 'saturday': 2703, 'common': 2704, 'stained': 2705, 'ugly': 2706, 'reflection': 2707, 'silicon': 2708, 'stable': 2709, 'considerably': 2710, 'lady': 2711, 'retains': 2712, 'impression': 2713, 'tightly': 2714, 'honda': 2715, 'wall': 2716, 'ruined': 2717, 'distinguishable': 2718, 'picking': 2719, 'warmer': 2720, 'settings': 2721, 'mins': 2722, 'comic': 2723, 'chemo': 2724, 'enhanced': 2725, 'mac': 2726, 'die': 2727, 'lil': 2728, 'aqua': 2729, 'manual': 2730, 'visit': 2731, 'cts': 2732, 'grab': 2733, 'nasty': 2734, 'friendly': 2735, 'squeeze': 2736, 'substance': 2737, 'gross': 2738, 'sick': 2739, 'carries': 2740, 'jeep': 2741, 'drivers': 2742, 'vast': 2743, 'cases': 2744, 'ate': 2745, 'extensively': 2746, 'bound': 2747, 'clay': 2748, 'coworkers': 2749, 'learned': 2750, 'satisfaction': 2751, 'ra': 2752, 'daughters': 2753, 'matches': 2754, '300': 2755, 'differently': 2756, 'f8e263': 2757, 'toward': 2758, 'location': 2759, 'browsing': 2760, 'exchange': 2761, 'meh': 2762, 'caution': 2763, 'effectively': 2764, 'backaches': 2765, 'confused': 2766, 'continuing': 2767, 'adequately': 2768, 'attest': 2769, 'hey': 2770, 'stayed': 2771, 'cousin': 2772, 'proving': 2773, 'breaker': 2774, 'elevation': 2775, 'spread': 2776, 'luckily': 2777, 'casing': 2778, 'lemon': 2779, 'request': 2780, 'furniture': 2781, 'frayed': 2782, 'wasted': 2783, 'scoliosis': 2784, 'primary': 2785, 'information': 2786, 'tempted': 2787, 'pushes': 2788, 'encounter': 2789, 'applying': 2790, 'bummed': 2791, 'practice': 2792, 'grippy': 2793, 'virtually': 2794, 'hair': 2795, 'roller': 2796, 'weighs': 2797, 'writer': 2798, 'bothering': 2799, 'dents': 2800, 'conjunction': 2801, 'hi': 2802, 'importantly': 2803, \"5'4\": 2804, 'bony': 2805, 'suddenly': 2806, 'peel': 2807, 'elevate': 2808, 'seek': 2809, 'face': 2810, 'mothers': 2811, 'adjustments': 2812, 'gell': 2813, 'rested': 2814, 'hundred': 2815, 'readjust': 2816, 'image': 2817, 'lowered': 2818, 'chart': 2819, 'medication': 2820, 'ergo': 2821, 'kit': 2822, 'cramping': 2823, 'deflate': 2824, '000': 2825, 'view': 2826, 'rocking': 2827, 'contains': 2828, 'regrets': 2829, 'pocket': 2830, 'graphic': 2831, 'sign': 2832, 'media': 2833, 'profile': 2834, '150': 2835, 'dozen': 2836, 'scholar': 2837, 'writs': 2838, 'stupid': 2839, 'f8e262': 2840, 'btw': 2841, 'reality': 2842, 'members': 2843, 'walker': 2844, 'proven': 2845, 'hump': 2846, 'lucky': 2847, 'lightning': 2848, 'eliminating': 2849, 'produced': 2850, 'meditation': 2851, 'listen': 2852, 'crumble': 2853, 'strained': 2854, 'transfers': 2855, 'attractive': 2856, 'interior': 2857, 'finger': 2858, 'cent': 2859, 'facing': 2860, 'blood': 2861, 'soo': 2862, 'travels': 2863, 'output': 2864, 'lowest': 2865, 'marco': 2866, 'raffine': 2867, 'subtle': 2868, '140': 2869, 'considerable': 2870, 'cush': 2871, 'posting': 2872, 'inner': 2873, 'responsive': 2874, 'lavender': 2875, 'increase': 2876, 'pointy': 2877, 'xmas': 2878, 'nonetheless': 2879, 'differs': 2880, 'chinese': 2881, 'bounces': 2882, 'folder': 2883, 'crunching': 2884, 'separating': 2885, 'thanx': 2886, 'spongy': 2887, 'programmer': 2888, 'torture': 2889, 'sizes': 2890, 'boss': 2891, 'tiring': 2892, 'illness': 2893, 'caught': 2894, 'curled': 2895, 'stopping': 2896, 'slipping': 2897, 'shoulders': 2898, 'quantity': 2899, 'closer': 2900, 'flesh': 2901, 'hardest': 2902, 'sedentary': 2903, 'monitors': 2904, 'ran': 2905, 'familiar': 2906, 'soaked': 2907, 'lumber': 2908, 'drafting': 2909, 'springs': 2910, 'fighting': 2911, 'ft': 2912, 'sunk': 2913, 'tire': 2914, 'slippage': 2915, 'def': 2916, 'attention': 2917, '96': 2918, 'exciting': 2919, 'busy': 2920, '75': 2921, 'unbiased': 2922, 'locations': 2923, 'supper': 2924, 'allot': 2925, 'spray': 2926, 'swatches': 2927, 'birth': 2928, 'suspect': 2929, 'hanging': 2930, 'workout': 2931, 'manage': 2932, 'comforting': 2933, 'opposite': 2934, 'vendor': 2935, 'tempurpedic': 2936, 'lame': 2937, '2015': 2938, 'separated': 2939, 'minimum': 2940, 'watercolor': 2941, 'creamy': 2942, 'news': 2943, 'ruin': 2944, 'reposition': 2945, 'booty': 2946, 'park': 2947, 'tech': 2948, 'apparent': 2949, 'nature': 2950, 'unusual': 2951, 'instruments': 2952, 'legitimate': 2953, 'occurs': 2954, 'vapors': 2955, 'emitted': 2956, 'sunlight': 2957, 'electronics': 2958, 'storing': 2959, 'amounts': 2960, 'convinced': 2961, 'varied': 2962, 'deceiving': 2963, 'eating': 2964, 'meal': 2965, 'flexible': 2966, 'nobody': 2967, 'meds': 2968, 'uneven': 2969, 'lunch': 2970, 'response': 2971, 'aligned': 2972, 'costly': 2973, 'advised': 2974, 'naturally': 2975, 'resistance': 2976, 'anxiety': 2977, 'garden': 2978, 'sofa': 2979, 'painting': 2980, 'cores': 2981, 'quicker': 2982, 'sagging': 2983, 'notes': 2984, 'discreet': 2985, 'pushing': 2986, 'mislabeled': 2987, 'freely': 2988, 'lifting': 2989, 'gently': 2990, 'duration': 2991, 'claim': 2992, 'false': 2993, 'somebody': 2994, 'vote': 2995, 'confidence': 2996, 'december': 2997, '49': 2998, '33': 2999, 'sucked': 3000, 'lives': 3001, 'neon': 3002, 'via': 3003, 'replaces': 3004, 'halfway': 3005, 'applies': 3006, 'participation': 3007, 'debating': 3008, 'temporary': 3009, 'dots': 3010, 'matte': 3011, 'hang': 3012, 'operating': 3013, 'knocked': 3014, 'essential': 3015, 'experiences': 3016, 'loads': 3017, 'advantage': 3018, 'smear': 3019, 'junky': 3020, 'manufacturers': 3021, '2011': 3022, 'impact': 3023, 'stretching': 3024, 'seatcushion': 3025, 'confined': 3026, 'necessarily': 3027, 'presented': 3028, 'cash': 3029, 'operation': 3030, 'cuz': 3031, 'yrs': 3032, 'tomorrow': 3033, 'speedy': 3034, 'thoroughly': 3035, 'buck': 3036, 'dramatic': 3037, 'economical': 3038, 'proved': 3039, 'workstation': 3040, 'spouse': 3041, 'website': 3042, 'warranty': 3043, 'beads': 3044, 'brittle': 3045, 'aside': 3046, 'eliminates': 3047, 'flap': 3048, 'sewn': 3049, 'recommendation': 3050, 'anker': 3051, 'slim': 3052, 'bend': 3053, 'pen': 3054, 'l4': 3055, 'tore': 3056, 'scratches': 3057, 'unzip': 3058, 'shoes': 3059, 'excessively': 3060, 'texas': 3061, 'ruptured': 3062, 'll': 3063, 'afternoon': 3064, 'visibility': 3065, 'ceiling': 3066, 'siatic': 3067, 'recieved': 3068, 'trimester': 3069, 'scheme': 3070, 'lingers': 3071, 'telling': 3072, 'distinct': 3073, 'bounce': 3074, 'needless': 3075, 'concerns': 3076, 'retained': 3077, 'assisted': 3078, 'cents': 3079, 'town': 3080, 'farther': 3081, 'holes': 3082, 'reviewed': 3083, 'remedy': 3084, 'mx': 3085, 'electronic': 3086, 'letting': 3087, 'glued': 3088, 'borrowed': 3089, 'exterior': 3090, 'ford': 3091, 'disabilities': 3092, 'approx': 3093, 'fibromyalgia': 3094, 'temperature': 3095, 'sees': 3096, 'steering': 3097, 'storage': 3098, 'cradle': 3099, 'differences': 3100, 'classes': 3101, 'ms': 3102, 'ratings': 3103, 'severely': 3104, 'horribly': 3105, 'food': 3106, 'buyers': 3107, 'integrity': 3108, 'bulk': 3109, 'energy': 3110, 'acts': 3111, 'cheep': 3112, 'reference': 3113, 'wished': 3114, 'disk': 3115, 'sweet': 3116, 'pair': 3117, 'access': 3118, 'looses': 3119, 'broad': 3120, 'relative': 3121, 'backache': 3122, 'emails': 3123, 'curve': 3124, 'flatter': 3125, 'laid': 3126, 'alternatives': 3127, 'realizing': 3128, 'justify': 3129, 'multi': 3130, 'grainy': 3131, 'tolerate': 3132, 'settled': 3133, 'bough': 3134, 'smile': 3135, 'represented': 3136, 'labels': 3137, 'electric': 3138, 'bless': 3139, 'appeared': 3140, 'sooo': 3141, 'excelente': 3142, 'lesson': 3143, 'sinking': 3144, 'action': 3145, 'noticing': 3146, 'individual': 3147, 'intend': 3148, 'jewelry': 3149, 'cradles': 3150, 'mandalas': 3151, 'vol': 3152, 'rubbed': 3153, '1000': 3154, 'welcome': 3155, 'navigate': 3156, 'transaction': 3157, 'aggravated': 3158, 'combine': 3159, 'lying': 3160, 'success': 3161, 'sheets': 3162, 'irritated': 3163, 'woke': 3164, 'k': 3165, 'difficulty': 3166, 'straps': 3167, 'roof': 3168, 'squishes': 3169, 'stressed': 3170, 'latest': 3171, 'comparing': 3172, 'leaning': 3173, 'relives': 3174, 'stole': 3175, 'shared': 3176, 'productivity': 3177, 'indistinguishable': 3178, 'tax': 3179, 'therapeutic': 3180, 'comfilite': 3181, 'bar': 3182, 'clicking': 3183, 'negatives': 3184, 'funky': 3185, 'versatile': 3186, 'share': 3187, 'patients': 3188, 'roll': 3189, 'filler': 3190, 'lifted': 3191, 'replacements': 3192, 'continuous': 3193, 'boys': 3194, 'dinosaurs': 3195, 'property': 3196, 'extension': 3197, '2012': 3198, 'coworker': 3199, 'risk': 3200, 'stairs': 3201, '22480': 3202, 'identify': 3203, 'excelent': 3204, 'allergies': 3205, 'screaming': 3206, 'google': 3207, 'levels': 3208, 'lousy': 3209, 'tells': 3210, \"5'10\": 3211, 'palette': 3212, 'touching': 3213, 'backup': 3214, 'companies': 3215, 'papers': 3216, 'darn': 3217, 'sons': 3218, 'eacute': 3219, 'stuffers': 3220, 'treat': 3221, 'haul': 3222, 'anytime': 3223, 'emits': 3224, 'theft': 3225, 'consumer': 3226, 'fray': 3227, 'nursing': 3228, 'rgb': 3229, 'operator': 3230, 'partner': 3231, 'indents': 3232, 'grandpa': 3233, 'swear': 3234, 'bearing': 3235, 'deserve': 3236, 'oil': 3237, 'sheer': 3238, 'casually': 3239, 'accordingly': 3240, 'stability': 3241, 'concrete': 3242, 'immense': 3243, 'bridge': 3244, 'expectation': 3245, 'olds': 3246, 'geek': 3247, 'roseart': 3248, 'la': 3249, 'excellant': 3250, 'cramp': 3251, 'designs': 3252, 'landscape': 3253, 'standards': 3254, 'nervous': 3255, 'intolerable': 3256, 'consistently': 3257, 'mobility': 3258, 'talk': 3259, 'protective': 3260, '1774266': 3261, 'stamped': 3262, 'circle': 3263, '35': 3264, 'receipt': 3265, 'favorites': 3266, 'tag': 3267, 'swelling': 3268, 'keyboarding': 3269, 'workspace': 3270, 'mistake': 3271, 'packed': 3272, 'victim': 3273, 'fool': 3274, 'sew': 3275, 'crunched': 3276, 'glove': 3277, 'visits': 3278, 'eight': 3279, 'accustomed': 3280, 'chosen': 3281, 'gemstone': 3282, 'folded': 3283, 'miss': 3284, 'adjustable': 3285, 'derriere': 3286, 'respond': 3287, 'battery': 3288, 'seeking': 3289, 'universe': 3290, 'quit': 3291, 'derwent': 3292, 'wheeler': 3293, 'nicest': 3294, 'knock': 3295, 'bouncy': 3296, 'pincils': 3297, 'quarter': 3298, 'pilonidal': 3299, 'resistant': 3300, 'strictly': 3301, 'tractor': 3302, 'competitive': 3303, 'bringing': 3304, 'overpowering': 3305, 'scroll': 3306, 'cellophane': 3307, 'fluke': 3308, 'stench': 3309, 'balled': 3310, 'jelly': 3311, '6th': 3312, 'attempt': 3313, 'resolve': 3314, 'therapist': 3315, 'flaring': 3316, '180lbs': 3317, 'harry': 3318, 'potter': 3319, 'occur': 3320, 'newness': 3321, 'floating': 3322, 'priority': 3323, 'messages': 3324, 'responding': 3325, 'tablet': 3326, 'overweight': 3327, 'residue': 3328, 'bubbling': 3329, 'involved': 3330, \"5'5\": 3331, 'overnight': 3332, 'europe': 3333, 'remarked': 3334, 'a1': 3335, 'extraordinarily': 3336, 'thankful': 3337, 'women': 3338, 'brief': 3339, 'moments': 3340, 'equal': 3341, 'artsy': 3342, 'judge': 3343, 'event': 3344, 'realization': 3345, 'suits': 3346, 'steps': 3347, 'upstairs': 3348, 'autocad': 3349, '175': 3350, 'dissipated': 3351, 'dunno': 3352, 'caves': 3353, 'differ': 3354, 'rearrange': 3355, 'beneficial': 3356, 'deeply': 3357, 'flash': 3358, 'habit': 3359, 'varity': 3360, 'travelling': 3361, 'scrap': 3362, 'dead': 3363, 'screw': 3364, 'explain': 3365, 'million': 3366, 'sometime': 3367, 'usa': 3368, 'info': 3369, 'according': 3370, 'butterfly': 3371, 'grew': 3372, 'coloration': 3373, 'pleasing': 3374, 'hooked': 3375, 'shadowing': 3376, 'materiel': 3377, 'died': 3378, 'fifteen': 3379, 'compressing': 3380, 'protecting': 3381, \"didn't\": 3382, 'freshly': 3383, 'raw': 3384, 'lime': 3385, 'tushy': 3386, 'flawlessly': 3387, 'naga': 3388, 'glance': 3389, 'weekly': 3390, 'plays': 3391, 'albeit': 3392, 'clients': 3393, 'lived': 3394, 'eyes': 3395, 'bedroom': 3396, 'stink': 3397, 'comflife': 3398, 'verity': 3399, 'broader': 3400, 'nursery': 3401, 'centered': 3402, 'periodically': 3403, 'sack': 3404, 'expose': 3405, 'ensure': 3406, 'curious': 3407, 'taped': 3408, 'crumbled': 3409, 'unsatisfactory': 3410, 'temporarily': 3411, 'counting': 3412, 'enables': 3413, 'ha': 3414, 'pit': 3415, 'mouth': 3416, 'completed': 3417, 'mailed': 3418, 'toss': 3419, 'screens': 3420, 'aweful': 3421, 'poke': 3422, 'suspended': 3423, 'smudge': 3424, 'donate': 3425, '2005': 3426, 'geared': 3427, 'hemorrhoids': 3428, 'wishes': 3429, 'defeats': 3430, 'parents': 3431, 'imac': 3432, 'aging': 3433, 'bolder': 3434, 'obnoxious': 3435, 'convince': 3436, 'barley': 3437, 'prize': 3438, 'digital': 3439, '250': 3440, 'responds': 3441, 'extend': 3442, 'macbook': 3443, '2007': 3444, 'wavey': 3445, 'davey': 3446, 'button': 3447, 'undamaged': 3448, 'immeasurably': 3449, 'bear': 3450, 'resulted': 3451, 'rave': 3452, 'nights': 3453, 'cordless': 3454, 'motorhome': 3455, 'praise': 3456, 'shortly': 3457, 'aired': 3458, 'sanity': 3459, \"5'9\": 3460, 'annoyed': 3461, 'conforming': 3462, 'grandsons': 3463, 'pun': 3464, 'sections': 3465, 'dislike': 3466, 'suv': 3467, 'bronze': 3468, 'static': 3469, 'nagging': 3470, 'powerful': 3471, 'graphite': 3472, 'assume': 3473, 'rubbery': 3474, 'settle': 3475, 'flying': 3476, 'compensate': 3477, 'ranges': 3478, 'questionable': 3479, 'maintained': 3480, 'doorstep': 3481, 'credit': 3482, 'following': 3483, 'blick': 3484, 'furthermore': 3485, 'exercises': 3486, 'michael': 3487, 'act': 3488, 'invested': 3489, 'dryer': 3490, 'discoloration': 3491, 'anyplace': 3492, 'abuse': 3493, 'ya': 3494, 'teacher': 3495, 'maneuver': 3496, 'v': 3497, 'newspaper': 3498, 'footprint': 3499, 'indicate': 3500, 'borders': 3501, 'groove': 3502, 'requested': 3503, 'generation': 3504, 'holidays': 3505, 'hesitation': 3506, 'military': 3507, 'planes': 3508, 'f8e262cslv': 3509, 'final': 3510, 'tuesday': 3511, \"'nuff\": 3512, 'rush': 3513, 'noticable': 3514, 'twelve': 3515, 'ladies': 3516, 'gear': 3517, 'surrounded': 3518, 'checked': 3519, 'holder': 3520, 'clouds': 3521, 'flaws': 3522, 'avoided': 3523, 'jump': 3524, 'cushier': 3525, 'fb': 3526, 'removing': 3527, 'fake': 3528, 'satin': 3529, 'field': 3530, 'framed': 3531, 'pose': 3532, 'st': 3533, 'whose': 3534, 'lightening': 3535, 'companion': 3536, '85': 3537, 'stationary': 3538, 'ridges': 3539, 'contributed': 3540, 'twisting': 3541, 'velvety': 3542, 'thanking': 3543, 'intellimouse': 3544, 'transition': 3545, 'deform': 3546, 'alittle': 3547, 'widest': 3548, 'shelf': 3549, 'wedge': 3550, 'cup': 3551, 'nurses': 3552, 'germs': 3553, 'directions': 3554, 'ordinary': 3555, 'tact': 3556, 'tempur': 3557, 'pedic': 3558, 'headaches': 3559, 'nine': 3560, 'colorado': 3561, 'ver': 3562, 'suggestions': 3563, 'anchor': 3564, 'scratching': 3565, 'aggravate': 3566, 'dealt': 3567, 'airing': 3568, 'continuously': 3569, 'eraser': 3570, 'matters': 3571, 'freehand': 3572, 'ap': 3573, 'advertized': 3574, 'messed': 3575, 'mm': 3576, 'bead': 3577, '65': 3578, 'potential': 3579, 'rectangle': 3580, 'squashed': 3581, 'downfall': 3582, 'peace': 3583, 'enjoyment': 3584, 'changer': 3585, 'vertebrae': 3586, 'join': 3587, 'accompany': 3588, 'commend': 3589, 'tingle': 3590, 'inclined': 3591, 'donated': 3592, 'depend': 3593, 'prismacolour': 3594, 'aspect': 3595, 'toddlers': 3596, 'opt': 3597, 'exceptional': 3598, 'fashion': 3599, 'versatility': 3600, 'restful': 3601, 'evaluate': 3602, 'fluffy': 3603, 'supposedly': 3604, 'spill': 3605, 'complicated': 3606, 'accuracy': 3607, 'dipped': 3608, 'teach': 3609, 'bye': 3610, 'l1': 3611, 'code': 3612, 'breeze': 3613, 'thanksgiving': 3614, 'followed': 3615, 'tender': 3616, 'bruising': 3617, 'rotated': 3618, 'borrowing': 3619, 'placement': 3620, 'friday': 3621, 'collapses': 3622, 'classroom': 3623, 'quilt': 3624, 'arch': 3625, 'span': 3626, 'hue': 3627, 'lowers': 3628, 'listened': 3629, 'forced': 3630, 'http': 3631, 'gp': 3632, 'moisture': 3633, 'proof': 3634, 'confirmed': 3635, 'building': 3636, 'bouts': 3637, 'anticipate': 3638, 'prodect': 3639, 'prevented': 3640, 'holiday': 3641, 'bible': 3642, 'porch': 3643, 'stops': 3644, 'lined': 3645, 'beanie': 3646, 'quieter': 3647, 'b00000jrrd': 3648, 'promote': 3649, 'unbelievable': 3650, 'adore': 3651, '27': 3652, 'roads': 3653, 'movements': 3654, 'rubberized': 3655, 'classy': 3656, 'visiting': 3657, 'smh': 3658, 'backpack': 3659, \"6'2\": 3660, 'stitching': 3661, 'streaky': 3662, 'disintegrated': 3663, 'boot': 3664, 'breathing': 3665, 'matched': 3666, 'inflated': 3667, 'fuzzy': 3668, 'soooooo': 3669, 'narrower': 3670, 'downward': 3671, '36': 3672, 'traditional': 3673, 'deserves': 3674, 'lint': 3675, 'dusty': 3676, 'applications': 3677, 'human': 3678, 'downhill': 3679, 'rips': 3680, 'encourage': 3681, 'florida': 3682, 'schedule': 3683, 'admittedly': 3684, 'sigh': 3685, 'fight': 3686, 'odors': 3687, 'weekday': 3688, 'explains': 3689, 'squishing': 3690, 'alas': 3691, 'prefect': 3692, 'craftmanship': 3693, 'dell': 3694, 'rowing': 3695, 'sketches': 3696, 'healed': 3697, 'exception': 3698, 'articles': 3699, 'dime': 3700, 'massage': 3701, 'practically': 3702, 'toy': 3703, 'tendon': 3704, 'steelseries': 3705, 'staedler': 3706, 'hates': 3707, 'crafting': 3708, 'display': 3709, 'surprising': 3710, 'california': 3711, 'bursitis': 3712, 'painless': 3713, 'pigments': 3714, 'rows': 3715, 'boney': 3716, '5th': 3717, 'fatigued': 3718, 'key': 3719, 'oranges': 3720, 'partially': 3721, 'bored': 3722, 'wrapping': 3723, 'treatment': 3724, 'comfitlife': 3725, 'chalk': 3726, 'spoil': 3727, 'facility': 3728, 'fluffiness': 3729, 'belkins': 3730, 'inflatable': 3731, 'presharpened': 3732, 'produces': 3733, 'tastes': 3734, 'dangerous': 3735, 'liquid': 3736, 'recuperating': 3737, 'ankle': 3738, 'answered': 3739, 'thrones': 3740, 'receptionist': 3741, 'maize': 3742, 'raising': 3743, 'requiring': 3744, 'disclosure': 3745, 'trend': 3746, 'unnatural': 3747, 'popped': 3748, 'begins': 3749, 'conscious': 3750, 'suited': 3751, 'washes': 3752, 'accidentally': 3753, 'soap': 3754, 'representative': 3755, 'slouching': 3756, 'zippered': 3757, '21': 3758, 'destroyed': 3759, 'owning': 3760, 'develop': 3761, 'tenderness': 3762, 'vary': 3763, 'attack': 3764, 'grant': 3765, 'cumbersome': 3766, 'upcoming': 3767, 'inaccurate': 3768, 'itching': 3769, 'components': 3770, 'advent': 3771, 'minimize': 3772, 'wings': 3773, 'wristrest': 3774, 'f': 3775, 'salt': 3776, 'continual': 3777, 'theirs': 3778, 'ultimately': 3779, 'unused': 3780, 'lighten': 3781, 'load': 3782, 'crushed': 3783, 'attach': 3784, 'moderately': 3785, 'remarkable': 3786, 'visited': 3787, 'drain': 3788, 'inserts': 3789, 'cheapest': 3790, 'caring': 3791, \"6'4\": 3792, 'distributed': 3793, 'versus': 3794, 'irritation': 3795, 'choosing': 3796, 'reminds': 3797, 'drawn': 3798, 'advice': 3799, 'developer': 3800, 'excessive': 3801, 'definately': 3802, 'disks': 3803, 'cement': 3804, 'film': 3805, 'basketball': 3806, 'hung': 3807, 'pinkie': 3808, 'console': 3809, '125': 3810, 'exercise': 3811, 'promising': 3812, 'himself': 3813, 'grest': 3814, 'guarantee': 3815, 'curl': 3816, 'patchy': 3817, 'upside': 3818, 'solutions': 3819, 'hitting': 3820, 'leisurely': 3821, '2001': 3822, \"5'2\": 3823, 'fluid': 3824, '50ct': 3825, 'premier': 3826, 'remembered': 3827, 'tools': 3828, 'manipulate': 3829, 'clothes': 3830, 'diminished': 3831, 'continually': 3832, 'fingertips': 3833, 'depends': 3834, 'doctors': 3835, 'tires': 3836, 'aid': 3837, 'sites': 3838, 'roses': 3839, 'kidding': 3840, 'addendum': 3841, 'inducing': 3842, 'ocean': 3843, 'fiber': 3844, 'shed': 3845, 'stands': 3846, 'visually': 3847, \"5'8\": 3848, 'problematic': 3849, 'iron': 3850, 'prettay': 3851, 'reflect': 3852, 'reccomended': 3853, 'kicks': 3854, '115': 3855, 'treatments': 3856, 'managed': 3857, 'beef': 3858, 'tilted': 3859, 'drawbacks': 3860, 'avid': 3861, 'specific': 3862, 'hint': 3863, 'tilt': 3864, 'crunch': 3865, 'pants': 3866, 'swimming': 3867, 'fading': 3868, 'inward': 3869, 'sanford': 3870, 'dud': 3871, 'addicted': 3872, 'includes': 3873, 'dingy': 3874, 'anticipating': 3875, 'struggled': 3876, 'vehicles': 3877, 'existing': 3878, '3d': 3879, 'measure': 3880, 'thats': 3881, 'unpleasant': 3882, 'compatibility': 3883, 'football': 3884, 'shocked': 3885, 'fitted': 3886, 'retailer': 3887, 'im': 3888, 'longs': 3889, 'motions': 3890, 'charts': 3891, 'hotel': 3892, 'premiers': 3893, 'addiction': 3894, 'realy': 3895, 'recommendations': 3896, 'kensington': 3897, 'switch': 3898, 'ignore': 3899, 'shifted': 3900, 'incorrectly': 3901, 'deducted': 3902, 'richness': 3903, 'fussy': 3904, 'prescribed': 3905, 'melting': 3906, 'g600': 3907, 'variance': 3908, 'court': 3909, 'messing': 3910, 'former': 3911, 'oak': 3912, 'arc': 3913, 'lasers': 3914, 'useable': 3915, 'accepted': 3916, 'ot': 3917, 'downstairs': 3918, 'lazer': 3919, 'collections': 3920, 'midrange': 3921, 'ombre': 3922, 'ratio': 3923, 'potato': 3924, 'lyra': 3925, 'cards': 3926, 'trunk': 3927, 'flows': 3928, 'assist': 3929, 'hiding': 3930, 'oils': 3931, 'trailer': 3932, 'quckly': 3933, 'quiet': 3934, 'compatible': 3935, 'ohuhu': 3936, 'supah': 3937, 'dope': 3938, 'motorcycle': 3939, '200lbs': 3940, 'cooler': 3941, '91': 3942, 'bulkier': 3943, '2000': 3944, 'tha': 3945, 'optimal': 3946, 'releaved': 3947, 'scented': 3948, '165': 3949, 'pared': 3950, 'fantasia': 3951, 'versa': 3952, 'castell': 3953, 'eco': 3954, 'comifilife': 3955, 'kick': 3956, 'disorganized': 3957, '8hr': 3958, 'k12': 3959, 'silicone': 3960, 'bean': 3961, 'stack': 3962, 'drags': 3963, 'promises': 3964, 'supplementing': 3965, 'dresses': 3966, 'overboard': 3967, 'concept': 3968, 'marking': 3969, 'text': 3970, 'contained': 3971, 'wednesday': 3972, 'ramp': 3973, 'uour': 3974, 'flowing': 3975, 'bendable': 3976, 'journaling': 3977, 'bibles': 3978, 'compressible': 3979, 'poking': 3980, 'heavily': 3981, 'pampered': 3982, 'wobbly': 3983, 'whack': 3984, 'cozy': 3985, 'cyber': 3986, 'osteoporosis': 3987, 'modern': 3988, 'marvelous': 3989, 'masterpiece': 3990, 'smushed': 3991, 'unboxing': 3992, 'damned': 3993, 'un': 3994, 'whilst': 3995, 'grove': 3996, 'unsuccessfully': 3997, 'mr': 3998, 'chased': 3999, 'feline': 4000, 'snag': 4001, 'reaction': 4002, 'drops': 4003, 'craftsmanship': 4004, 'duplicating': 4005, 'indefinitely': 4006, 'tossed': 4007, 'cutaway': 4008, 'responded': 4009, 'existed': 4010, 'inadequate': 4011, 'spills': 4012, 'erratically': 4013, 'stretcher': 4014, 'appropriately': 4015, 'rage': 4016, 'astonished': 4017, 'readjusting': 4018, 'compfy': 4019, 'cooling': 4020, 'buys': 4021, '10yo': 4022, 'closest': 4023, 'heavenly': 4024, 'executive': 4025, 'doodling': 4026, 'aaa': 4027, 'dealer': 4028, 'leaks': 4029, 'nail': 4030, 'deceptive': 4031, 'affinity': 4032, 'correspond': 4033, 'colord': 4034, 'dabble': 4035, 'elbows': 4036, 'beside': 4037, 'rental': 4038, 'schooler': 4039, 'rhyme': 4040, 'discoloring': 4041, 'everlasting': 4042, 'airtight': 4043, 'trapped': 4044, 'linger': 4045, 'deter': 4046, 'mitigates': 4047, 'mitigation': 4048, 'expedited': 4049, 'exposing': 4050, 'rains': 4051, 'deteriorate': 4052, 'burlap': 4053, 'gratification': 4054, 'inexpensively': 4055, 'bonding': 4056, 'pinching': 4057, 'sculptor': 4058, 'yoga': 4059, 'mats': 4060, 'equally': 4061, 'skips': 4062, '3500': 4063, 'devil': 4064, 'smears': 4065, 'boat': 4066, 'manyh': 4067, 'unbeatable': 4068, 'paperwork': 4069, 'horse': 4070, 'saddle': 4071, 'bottoming': 4072, 'cry': 4073, 'fir': 4074, 'reminded': 4075, 'hearing': 4076, 'babies': 4077, 'sells': 4078, 'accompanying': 4079, 'separately': 4080, 'configuration': 4081, 'dimension': 4082, 'bummer': 4083, 'deference': 4084, 'divet': 4085, 'oozing': 4086, 'jury': 4087, 'starred': 4088, 'dried': 4089, 'cleans': 4090, 'kiddish': 4091, 'tints': 4092, 'comforable': 4093, 'reccomend': 4094, 'bluetooth': 4095, 'acquired': 4096, 'physiology': 4097, 'employer': 4098, 'handful': 4099, 'july': 4100, 'navigating': 4101, 'intention': 4102, 'bumps': 4103, 'requirement': 4104, '170': 4105, \"6'7\": 4106, 'resilience': 4107, 'boldly': 4108, 'cheapened': 4109, 'blatantly': 4110, 'speaking': 4111, 'sole': 4112, 'contrary': 4113, 'punch': 4114, 'unavoidable': 4115, 'tradeoff': 4116, 'gosh': 4117, 'prepared': 4118, 'dish': 4119, 'net': 4120, 'map': 4121, 'bending': 4122, 'moms': 4123, 'pealed': 4124, 'beginnig': 4125, 'cushon': 4126, 'ar': 4127, 'sittings': 4128, '55': 4129, 'enhance': 4130, 'mermaid': 4131, 'mad': 4132, 'consequently': 4133, 'clings': 4134, 'painth': 4135, 'weith': 4136, 'cousins': 4137, 'delight': 4138, 'gladly': 4139, 'wasting': 4140, 'smash': 4141, 'deals': 4142, 'sores': 4143, 'automatically': 4144, 'recommending': 4145, 'download': 4146, 'exert': 4147, 'homeless': 4148, 'graduation': 4149, 'ceremony': 4150, 'movies': 4151, 'chiropractors': 4152, 'ou': 4153, 'avail': 4154, 'guilt': 4155, 'rotted': 4156, 'favourite': 4157, 'brooked': 4158, 'cord': 4159, 'plug': 4160, 'numerous': 4161, 'carpool': 4162, 'estate': 4163, 'winner': 4164, 'ur': 4165, 'adapts': 4166, 'endure': 4167, 'dont': 4168, 'sarah': 4169, 'wurm': 4170, 'rossi': 4171, 'pf': 4172, 'cadultt': 4173, 'oloring': 4174, 'debate': 4175, 'won': 4176, 'snowboarding': 4177, 'november': 4178, 'appropriate': 4179, 'struggle': 4180, 'aimed': 4181, 'puzzle': 4182, 'dinning': 4183, 'catches': 4184, 'waxt': 4185, 'comparatively': 4186, 'fifth': 4187, 'hee': 4188, 'pricing': 4189, 'worsening': 4190, 'van': 4191, '600': 4192, 'seal': 4193, 'intact': 4194, 'dismal': 4195, 'harsh': 4196, 'flip': 4197, 'goldilocks': 4198, 'eliminate': 4199, 'absent': 4200, 'production': 4201, 'dover': 4202, 'bout': 4203, 'fear': 4204, 'partly': 4205, 'qualms': 4206, 'receives': 4207, '3m': 4208, 'tm': 4209, 'antimicrobial': 4210, 'amateur': 4211, 'schmancy': 4212, 'illustrations': 4213, 'brighten': 4214, 'copy': 4215, 'ledge': 4216, 'retouch': 4217, 'caricature': 4218, '93': 4219, 'pet': 4220, 'installed': 4221, 'berol': 4222, 'fraction': 4223, 'boosting': 4224, '29': 4225, 'micro': 4226, 'responsiveness': 4227, 'crinkled': 4228, 'dented': 4229, 'glided': 4230, 'whom': 4231, '150lbs': 4232, 'calluses': 4233, 'plate': 4234, 'inflammation': 4235, 'thankfully': 4236, 'surprises': 4237, 'sharpner': 4238, 'stupor': 4239, 'played': 4240, 'hurtting': 4241, 'vital': 4242, '2010': 4243, 'nephews': 4244, 'swivel': 4245, '800': 4246, 'textures': 4247, 'stylus': 4248, 'clumsy': 4249, 'mangled': 4250, 'occasion': 4251, 'bravo': 4252, 'qhick': 4253, 'pungent': 4254, 'coast': 4255, 'civic': 4256, 'easing': 4257, 'checking': 4258, \"i'v\": 4259, 'fraying': 4260, 'ached': 4261, 'configured': 4262, 'intermittent': 4263, 'highest': 4264, 'oct': 4265, 'affected': 4266, 'pt': 4267, 'weekends': 4268, 'separation': 4269, '2013': 4270, 'laughing': 4271, 'imprint': 4272, 'marathon': 4273, 'bike': 4274, 'rectangular': 4275, 'taper': 4276, 'scoot': 4277, 'secret': 4278, 'everybody': 4279, 'random': 4280, 'usimg': 4281, 'wildly': 4282, 'weighing': 4283, 'representation': 4284, 'castells': 4285, 'swirls': 4286, 'site': 4287, 'silvery': 4288, 'custom': 4289, 'receiver': 4290, 'erratic': 4291, 'tecknet': 4292, 'slows': 4293, 'battle': 4294, 'videos': 4295, 'harm': 4296, 'dislocated': 4297, 'freak': 4298, 'bc': 4299, 'aggravates': 4300, 'failed': 4301, 'penciled': 4302, 'teaching': 4303, 'sitted': 4304, 'readily': 4305, 'discomforts': 4306, 'regain': 4307, 'reached': 4308, 'asset': 4309, 'contemplating': 4310, 'tushie': 4311, 'grownup': 4312, 'increases': 4313, 'visibly': 4314, 'jealous': 4315, 'rely': 4316, 'posts': 4317, 'strips': 4318, 'hong': 4319, 'kong': 4320, 'ordinal': 4321, 'agony': 4322, 'flew': 4323, 'wisconsin': 4324, 'sever': 4325, 'bamboo': 4326, 'submitted': 4327, 'decor': 4328, 'mas': 4329, 'conscience': 4330, 'snapped': 4331, 'combat': 4332, 'centering': 4333, 'shaper': 4334, 'relived': 4335, 'manufactured': 4336, 'architect': 4337, 'reaching': 4338, 'legit': 4339, 'chilly': 4340, 'boring': 4341, 'unsupportive': 4342, 'ove': 4343, 'forgiving': 4344, 'blister': 4345, 'ditched': 4346, 'content': 4347, 'weary': 4348, 'picnic': 4349, 'streaks': 4350, 'imparting': 4351, 'title': 4352, 'intensify': 4353, 'mistakes': 4354, 'profession': 4355, 'truely': 4356, \"5'1\": 4357, 'fashioned': 4358, 'consideration': 4359, 'looooove': 4360, 'cares': 4361, 'drink': 4362, 'squishiness': 4363, 'enabling': 4364, 'lupus': 4365, 'poorest': 4366, 'irritate': 4367, 'flared': 4368, 'louder': 4369, 'gooey': 4370, 'rival': 4371, 'combinations': 4372, 'absorb': 4373, 'crumbs': 4374, 'b00004z5ra': 4375, 'revived': 4376, 'granted': 4377, 'cart': 4378, 'staff': 4379, 'restricting': 4380, 'desperate': 4381, 'highway': 4382, 'steroid': 4383, 'injections': 4384, 'labelled': 4385, 'gyp': 4386, 'mush': 4387, 'pointless': 4388, 'metallics': 4389, 'upright': 4390, 'auto': 4391, 'depress': 4392, 'feed': 4393, 'reliably': 4394, 'coordinated': 4395, 'peggable': 4396, 'certified': 4397, 'preschoolers': 4398, 'leading': 4399, 'laminectomy': 4400, '83': 4401, 'googled': 4402, 'woud': 4403, 'catching': 4404, 'anne': 4405, 'f150': 4406, 'releive': 4407, 'rendition': 4408, 'possessive': 4409, 'unfold': 4410, 'smidge': 4411, 'extent': 4412, 'stimulated': 4413, 'brain': 4414, 'confusing': 4415, 'coupon': 4416, '79': 4417, 'safe': 4418, 'rays': 4419, 'whim': 4420, 'musty': 4421, 'locate': 4422, 'april': 4423, 'breakfast': 4424, 'signal': 4425, 'teaches': 4426, 'exceptionally': 4427, '68': 4428, 'encased': 4429, 'ses': 4430, 'ummm': 4431, 'seemingly': 4432, 'nude': 4433, 'experimenting': 4434, 'critique': 4435, 'mandella': 4436, 'unresponsive': 4437, 'flattening': 4438, 'kaleidoscope': 4439, 'dragged': 4440, 'projecys': 4441, 'vigorous': 4442, 'teenaher': 4443, 'scribbling': 4444, 'dementia': 4445, '1942268254': 4446, 'director': 4447, 'dexterity': 4448, 'daunting': 4449, 'effected': 4450, 'rise': 4451, 'inflamed': 4452, 'rebound': 4453, 'stabilize': 4454, 'empty': 4455, 'staedtler': 4456, 'unyielding': 4457, 'balloon': 4458, 'fail': 4459, 'warn': 4460, 'awsome': 4461, 'pcs': 4462, 'artistry': 4463, 'fustrating': 4464, 'shops': 4465, 'insanity': 4466, 'passable': 4467, 'outrage': 4468, 'sargeants': 4469, 'stubby': 4470, 'corrected': 4471, 'trusty': 4472, 'outline': 4473, 'cheapies': 4474, 'doddle': 4475, 'rollerball': 4476, 'reports': 4477, 'advanced': 4478, 'shrink': 4479, 'spectacular': 4480, 'symptom': 4481, 'fills': 4482, 'pediatric': 4483, 'existent': 4484, 'cracking': 4485, 'durations': 4486, 'osteoarthritis': 4487, 'backward': 4488, 'savor': 4489, 'difficulties': 4490, 'fused': 4491, 'sacroiliac': 4492, 'born': 4493, 'lump': 4494, 'efforts': 4495, 'cubital': 4496, 'disagree': 4497, 'valuable': 4498, 'operates': 4499, 'talented': 4500, 'bumper': 4501, 'fort': 4502, 'flowed': 4503, 'smudges': 4504, 'regained': 4505, '89': 4506, '3000': 4507, 'repurchase': 4508, 'robust': 4509, '185': 4510, 'mattresses': 4511, 'couches': 4512, 'grouped': 4513, 'asap': 4514, 'grayish': 4515, 'defiantly': 4516, 'scoring': 4517, 'repashi': 4518, 'killer': 4519, 'wal': 4520, 'mart': 4521, 'simpler': 4522, 'ehh': 4523, 'happening': 4524, 'bottoms': 4525, 'bessssssst': 4526, 'coach': 4527, 'clinic': 4528, 'unique': 4529, 'blocking': 4530, 'protected': 4531, 'git': 4532, 'm570': 4533, 'manufacture': 4534, 'entirety': 4535, 'em': 4536, 'comanro': 4537, 'ev': 4538, '1800': 4539, '2500': 4540, 'graphics': 4541, 'thumb': 4542, 'sun': 4543, 'nevertheless': 4544, 'dig': 4545, 'sketchbook': 4546, 'princess': 4547, 'dragons': 4548, 'monsters': 4549, 'escapes': 4550, 'alligator': 4551, 'girly': 4552, 'paints': 4553, 'private': 4554, 'stash': 4555, 'boxed': 4556, 'pewter': 4557, 'relation': 4558, 'incorrect': 4559, 'labeling': 4560, 'samples': 4561, 'yells': 4562, 'efficient': 4563, 'fellow': 4564, 'highlight': 4565, 'transit': 4566, 'rocked': 4567, 'skyrocketed': 4568, 'differentiate': 4569, 'understandable': 4570, '270': 4571, 'seventeen': 4572, 'tended': 4573, 'drab': 4574, 'attracted': 4575, 'brightness': 4576, 'lifelike': 4577, 'appreciates': 4578, 'ranging': 4579, 'ablt': 4580, 'september': 4581, 'b002gyffp8': 4582, 'www': 4583, 'ryp': 4584, 'prd': 4585, 'ttl': 4586, 'sol': 4587, 'stumbled': 4588, 'presumably': 4589, \"doesn't\": 4590, 'august': 4591, 'death': 4592, 'imaginable': 4593, 'expertise': 4594, 'oppressive': 4595, 'cable': 4596, 'secure': 4597, 'newly': 4598, 'crouch': 4599, 'intermittently': 4600, 'eachother': 4601, 'tinted': 4602, 'traffic': 4603, 'rn': 4604, 'season': 4605, 'hardwood': 4606, 'mices': 4607, 'forearms': 4608, 'chew': 4609, 'periformis': 4610, 'smelt': 4611, 'rub': 4612, 'b00134d3ba': 4613, 'infinitely': 4614, 'butter': 4615, 'ancient': 4616, 'supplier': 4617, 'intermingle': 4618, 'disgusting': 4619, 'decidedly': 4620, 'inflate': 4621, 'es': 4622, 'youngest': 4623, 'enrolled': 4624, 'rubicon': 4625, 'trail': 4626, 'cyer': 4627, \"rec'd\": 4628, 'mildew': 4629, 'conditioning': 4630, 'flaw': 4631, 'june': 4632, 'assignments': 4633, 'bends': 4634, 'degeneration': 4635, 'enabled': 4636, 'andmakes': 4637, 'system': 4638, 'blanket': 4639, 'dash': 4640, 'twistable': 4641, 'insten': 4642, 'ebay': 4643, 'fl': 4644, 'describing': 4645, 'comforts': 4646, 'mildly': 4647, 'reattach': 4648, 'angry': 4649, 'equivalent': 4650, 'harmful': 4651, 'lung': 4652, 'daycare': 4653, 'bordem': 4654, 'fulfilling': 4655, 'activity': 4656, 'valid': 4657, 'offensive': 4658, 'exist': 4659, 'refer': 4660, 'coushin': 4661, 'enemy': 4662, 'taught': 4663, 'm505': 4664, 'm510': 4665, 'thereby': 4666, 'forked': 4667, '2006': 4668, 'relaxes': 4669, 'corsair': 4670, 'm65': 4671, 'backlit': 4672, '12000': 4673, 'losses': 4674, 'toyota': 4675, 'odour': 4676, 'qck': 4677, 'submit': 4678, 'unnecessary': 4679, 'scribble': 4680, 'balls': 4681, 'speaks': 4682, 'leak': 4683, '76': 4684, 'encouraged': 4685, 'enduring': 4686, 'limits': 4687, 'distinguish': 4688, 'endeavors': 4689, 'neighbors': 4690, 'alaska': 4691, 'believer': 4692, 'grands': 4693, 'thrown': 4694, 'bedridden': 4695, 'asia': 4696, 'factories': 4697, 'limit': 4698, 'sprained': 4699, 'disturbing': 4700, 'yelled': 4701, 'protector': 4702, 'plop': 4703, 'fans': 4704, 'experimentation': 4705, 'transmit': 4706, 'cray': 4707, 'selected': 4708, 'treated': 4709, 'hitch': 4710, 'dips': 4711, 'divider': 4712, 'sorted': 4713, 'largest': 4714, 'multitude': 4715, 'rhymes': 4716, 'entertaining': 4717, 'staring': 4718, 'skew': 4719, 'crayolsa': 4720, 'physically': 4721, 'attribute': 4722, 'connected': 4723, 'kneeling': 4724, 'enter': 4725, 'owns': 4726, 'tarlov': 4727, 'cysts': 4728, 'heats': 4729, 'indication': 4730, 'trashed': 4731, 'gripping': 4732, 'spoiled': 4733, 'buttery': 4734, 'oily': 4735, 'el': 4736, 'gliding': 4737, 'excellence': 4738, 'releives': 4739, 'competitor': 4740, 'bicycle': 4741, 'maker': 4742, 'connosieur': 4743, 'greenish': 4744, 'unuseable': 4745, 'disappoiting': 4746, 'cured': 4747, 'laundry': 4748, 'occurring': 4749, 'variaty': 4750, 'colory': 4751, 'assure': 4752, 'cervical': 4753, 'oriented': 4754, 'makeup': 4755, 'among': 4756, 'decently': 4757, 'xtreme': 4758, 'quiltity': 4759, 'thrice': 4760, 'preparation': 4761, 'throat': 4762, 'obsessed': 4763, 'sharperner': 4764, 'department': 4765, 'startlingly': 4766, 'limp': 4767, 'corpel': 4768, 'roommate': 4769, 'vinyl': 4770, 'lip': 4771, 'beautifull': 4772, 'donuts': 4773, 'tipped': 4774, 'endurance': 4775, 'comfilifes': 4776, 'researching': 4777, 'grain': 4778, 'express': 4779, 'pretentious': 4780, 'conventional': 4781, 'sharping': 4782, 'transformed': 4783, 'sis': 4784, 'mornings': 4785, 'effecting': 4786, 'swears': 4787, 'colourful': 4788, 'leaded': 4789, 'describes': 4790, 'nib': 4791, 'haywire': 4792, 'rubbing': 4793, 'blank': 4794, 'chunk': 4795, 'earned': 4796, 'entertained': 4797, 'reordered': 4798, 'standup': 4799, 'category': 4800, 'cotton': 4801, 'subtlety': 4802, 'producing': 4803, 'lounger': 4804, 'receipient': 4805, 'bird': 4806, 'pencits': 4807, 'kingston': 4808, 'mount': 4809, 'engineer': 4810, 'woks': 4811, 'rv': 4812, 'crumpled': 4813, 'jet': 4814, 'plant': 4815, 'terminal': 4816, 'island': 4817, 'dear': 4818, 'sunshine': 4819, 'unevenly': 4820, 'diameter': 4821, 'b004f9qbge': 4822, 'phenomenal': 4823, 'lists': 4824, '285': 4825, 'unusually': 4826, 'maxi': 4827, 'abysmal': 4828, 'curvature': 4829, 'facilitate': 4830, \"l'm\": 4831, 'designated': 4832, 'debated': 4833, 'hinder': 4834, 'label': 4835, 'dr': 4836, 'exam': 4837, 'rooms': 4838, 'affecting': 4839, 'cab': 4840, 'pa': 4841, 'leadl': 4842, 'effectiveness': 4843, 'compelled': 4844, 'michaels': 4845, 'midday': 4846, 'distributes': 4847, 'confirm': 4848, 'ticket': 4849, 'demands': 4850, 'percent': 4851, 'breathable': 4852, 'knockoff': 4853, 'suffice': 4854, 'entry': 4855, 'prismas': 4856, 'flipping': 4857, 'glaze': 4858, 'sucky': 4859, 'dificult': 4860, 'erase': 4861, 'donot': 4862, 'editor': 4863, 'innards': 4864, 'hairy': 4865, 'altogether': 4866, 'deformation': 4867, 'landed': 4868, 'chalked': 4869, 'shoe': 4870, 'asthma': 4871, 'asthmatic': 4872, 'appendage': 4873, 'spite': 4874, 'ring': 4875, 'genuine': 4876, 'secured': 4877, 'heals': 4878, 'freedom': 4879, 'embroidered': 4880, 'valentine': 4881, 'porous': 4882, 'nonskid': 4883, '51450': 4884, 'downright': 4885, 'stating': 4886, 'ceo': 4887, 'hollowed': 4888, 'centre': 4889, '70': 4890, 'cherries': 4891, 'poofs': 4892, 'handling': 4893, 'whereas': 4894, 'forklift': 4895, 'blunt': 4896, 'confessed': 4897, 'bay': 4898, 'spacious': 4899, 'rookie': 4900, 'smashes': 4901, 'flexibility': 4902, 'ongoing': 4903, 'hide': 4904, 'fad': 4905, 'doable': 4906, 'sounding': 4907, 'sponge': 4908, 'glossy': 4909, 'shooting': 4910, 'pouch': 4911, 'trusted': 4912, 'align': 4913, 'desperation': 4914, 'inquire': 4915, 'looong': 4916, 'spur': 4917, 'r': 4918, 'ing': 4919, 'lifetime': 4920, 'stone': 4921, 'sag': 4922, 'handstands': 4923, 'hemorrhoid': 4924, 'nostalgia': 4925, 'rewarding': 4926, 'soothing': 4927, 'undone': 4928, 'tossing': 4929, 'ours': 4930, 'programming': 4931, 'gf': 4932, 'reverse': 4933, 'backseat': 4934, 'curves': 4935, 'judging': 4936, 'stuffer': 4937, 'orchid': 4938, 'melon': 4939, 'tomato': 4940, 'shove': 4941, 'sweating': 4942, 'sweaty': 4943, 'palms': 4944, 'largely': 4945, 'brightly': 4946, 'crystals': 4947, 'backdrop': 4948, 'deflates': 4949, 'attempting': 4950, 'yell': 4951, 'counterparts': 4952, \"ol'\": 4953, 'plump': 4954, 'tampon': 4955, 'sherbet': 4956, 'survived': 4957, 'ruins': 4958, 'flowers': 4959, '05': 4960, 'recurrence': 4961, 'routine': 4962, 'rates': 4963, 'nyc': 4964, 'mazda': 4965, 'crucial': 4966, 'salmon': 4967, 'method': 4968, 'safari': 4969, 'lopsided': 4970, 'callous': 4971, 'enormous': 4972, 'squirming': 4973, 'intensive': 4974, 'maintains': 4975, 'secondly': 4976, 'indentations': 4977, 'aesthetic': 4978, 'wrinkle': 4979, 'expert': 4980, 'assists': 4981, 'walgreens': 4982, 'mt': 4983, 'microfiber': 4984, 'lends': 4985, 'lessens': 4986, 'pot': 4987, 'popularity': 4988, 'creamier': 4989, 'drier': 4990, 'nerd': 4991, 'caregiver': 4992, 'soiled': 4993, 'dock': 4994, 'resorted': 4995, 'notebook': 4996, 'sorta': 4997, 'gal': 4998, 'vibrations': 4999, 'ultimate': 5000, 'bust': 5001, 'bands': 5002, 'earthtones': 5003, 'akin': 5004, 'cassell': 5005, 'corroded': 5006, 'gym': 5007, 'assumed': 5008, 'promotes': 5009, 'hawaii': 5010, 'crafty': 5011, 'resolved': 5012, 'card': 5013, 'ourselves': 5014, 'evil': 5015, 'wifes': 5016, 'snacks': 5017, 'nquality': 5018, '97': 5019, 'simplicity': 5020, 'rocker': 5021, 'remaining': 5022, 'shappen': 5023, 'recived': 5024, 'prompted': 5025, 'egg': 5026, 'benefits': 5027, 'zips': 5028, 'appealing': 5029, 'snatched': 5030, 'aaaa': 5031, 'wicker': 5032, 'wks': 5033, 'nieces': 5034, 'whit': 5035, 'subside': 5036, 'winter': 5037, 'attended': 5038, 'fortune': 5039, 'loathe': 5040, 'stepson': 5041, 'unfilled': 5042, \"5'6\": 5043, 'eager': 5044, 'staple': 5045, 'blown': 5046, 'accompanied': 5047, 'uncomfortably': 5048, 'hundreds': 5049, 'colorific': 5050, 'structured': 5051, 'scale': 5052, 'forgetting': 5053, 'tilting': 5054, 'beanbag': 5055, 'sketch': 5056, 'napkin': 5057, 'transporting': 5058, 'ridiculously': 5059, 'numbing': 5060, '13yr': 5061, 'sims': 5062, 'alternate': 5063, 'technology': 5064, 'worthwhile': 5065, 'beats': 5066, 'tracked': 5067, 'restricts': 5068, 'workday': 5069, 'remarkably': 5070, 'examples': 5071, 'creations': 5072, 'brunette': 5073, 'cleared': 5074, 'esp': 5075, 'opens': 5076, 'prove': 5077, 'mum': 5078, 'damn': 5079, 'fragile': 5080, 'sellers': 5081, 'magically': 5082, 'impede': 5083, 'kelly': 5084, 'grass': 5085, 'refocusing': 5086, 'record': 5087, 'thoughtful': 5088, 'keen': 5089, 'cellaphane': 5090, 'critical': 5091, 'sounded': 5092, 'diffrerent': 5093, 'stomach': 5094, 'blows': 5095, 'areally': 5096, 'transparent': 5097, 'mobile': 5098, 'fiance': 5099, 'marker': 5100, 'shipper': 5101, 'lawnmower': 5102, 'bumpy': 5103, 'lumpy': 5104, 'development': 5105, 'platform': 5106, 'fibro': 5107, 'circumstances': 5108, 'fo': 5109, 'sensor': 5110, 'shallow': 5111, 'annoyance': 5112, 'radiating': 5113, '180': 5114, 'lash': 5115, 'itll': 5116, 'wink': 5117, 'parent': 5118, 'squishier': 5119, 'starkly': 5120, 'differing': 5121, 'pencills': 5122, 'restaurant': 5123, 'ending': 5124, '23': 5125, 'sorely': 5126, 'scenario': 5127, 'oversized': 5128, 'comlife': 5129, 'cocyx': 5130, 'sincerely': 5131, 'chip': 5132, 'recieving': 5133, 'pickup': 5134, 'decrease': 5135, 'bruise': 5136, 'rustling': 5137, 'scrunching': 5138, '44': 5139, 'gouging': 5140, '106': 5141, 'billed': 5142, 'satisfying': 5143, 'inktense': 5144, 'fastness': 5145, 'puzzles': 5146, 'chewed': 5147, 'massive': 5148, 'verithins': 5149, 'pic': 5150, 'leisure': 5151, 'sundays': 5152, 'nowhere': 5153, 'weirdly': 5154, 'nuisance': 5155, 'dimensions': 5156, 'perfer': 5157, 'ir': 5158, 'scenes': 5159, 'foamy': 5160, 'tearing': 5161, 'catch': 5162, 'sensation': 5163, 'frankly': 5164, 'occupied': 5165, 'accord': 5166, 'situations': 5167, 'theives': 5168, 'eaxily': 5169, 'nonexistent': 5170, 'mrs': 5171, 'angles': 5172, 'employee': 5173, 'ugh': 5174, 'radiates': 5175, 'appointment': 5176, 'released': 5177, 'sweeter': 5178, 'fanatic': 5179, 'pastime': 5180, 'evaluation': 5181, 'temperatures': 5182, 'unwind': 5183, 'reveal': 5184, 'masculine': 5185, 'usedful': 5186, 'stitches': 5187, 'tied': 5188, 'dimples': 5189, 'stalk': 5190, 'outperforming': 5191, 'descent': 5192, 'mates': 5193, 'evident': 5194, 'distribution': 5195, 'needle': 5196, 'haystack': 5197, 'mmo': 5198, 'vegas': 5199, 'repeatedly': 5200, 'rember': 5201, 'outrageous': 5202, 'defintly': 5203, 'twenty': 5204, 'ships': 5205, 'arena': 5206, 'fanny': 5207, 'refilling': 5208, 'enthusiasts': 5209, 'background': 5210, 'aq': 5211, 'longest': 5212, 'carried': 5213, 'splurging': 5214, 'caving': 5215, 'functionally': 5216, 'reaches': 5217, 'debris': 5218, 'television': 5219, 'couture': 5220, 'bellos': 5221, 'encantaron': 5222, 'unwelcomed': 5223, 'organized': 5224, 'accessible': 5225, 'strickland': 5226, 'replied': 5227, 'jut': 5228, 'bedsore': 5229, 'baggy': 5230, 'carzart': 5231, 'noxious': 5232, 'investments': 5233, 'allergic': 5234, 'ellipse': 5235, 'fatiqued': 5236, 'seperate': 5237, 'pivoting': 5238, 'ish': 5239, 'dynex': 5240, 'dx': 5241, 'wmse': 5242, 'controlled': 5243, 'satisfyed': 5244, 'dehydrated': 5245, 'lettuce': 5246, 'mahjong': 5247, 'stalled': 5248, 'sliced': 5249, 'bread': 5250, 'recommendt': 5251, '511': 5252, 'disclaimer': 5253, 'occasions': 5254, 'caucasian': 5255, 'actualnred': 5256, 'checkout': 5257, 'visitors': 5258, 'plushtouch': 5259, 'upc': 5260, '043859638802': 5261, 'pissed': 5262, 'subfolders': 5263, 'inbox': 5264, 'restart': 5265, 'invites': 5266, 'inform': 5267, 'lend': 5268, 'mousr': 5269, 'patii': 5270, 'ummmmmmm': 5271, 'generous': 5272, 'climates': 5273, 'spoke': 5274, 'dps': 5275, 'heights': 5276, 'corrpal': 5277, 'enthusiast': 5278, 'absurdly': 5279, 'workmanship': 5280, 'thaws': 5281, 'christine': 5282, 'nissan': 5283, 'orthopaedic': 5284, 'stolen': 5285, 'pins': 5286, 'needles': 5287, 'psoriatic': 5288, 'triangular': 5289, 'derriers': 5290, 'widerspread': 5291, 'pooch': 5292, 'curios': 5293, '5hrs': 5294, 'noisiest': 5295, 'recovers': 5296, 'thereafter': 5297, 'minivan': 5298, 'odyssey': 5299, 'garish': 5300, 'rsi': 5301, 'snugly': 5302, 'aspects': 5303, 'pring': 5304, 'bells': 5305, 'whistles': 5306, 'stretched': 5307, 'lick': 5308, 'mf': 5309, '10min': 5310, '3hr': 5311, 'unexpected': 5312, 'pleasurable': 5313, 'sooooooooooo': 5314, 'understanding': 5315, 'satified': 5316, '900': 5317, '1980': 5318, 'firs': 5319, 'averaged': 5320, 'airport': 5321, 'mapping': 5322, 'fascinated': 5323, 'copper': 5324, 'creator': 5325, '250lbs': 5326, 'liner': 5327, 'wayyy': 5328, 'dying': 5329, 'thirst': 5330, '110': 5331, '71': 5332, 'distracted': 5333, 'crayols': 5334, 'nics': 5335, 'fitsb': 5336, 'worlds': 5337, 'ymmv': 5338, 'r1i2ye8oz99z5h': 5339, 'c1qlslen1': 5340, 'a1snxujadks': 5341, 'embed': 5342, 'soaps': 5343, 'doubted': 5344, 'cells': 5345, 'sluffing': 5346, 'recognized': 5347, 'qualifying': 5348, 'stave': 5349, 'voraciously': 5350, 'hungry': 5351, 'eww': 5352, 'fly': 5353, 'midpoint': 5354, 'buildup': 5355, 'crawl': 5356, 'meantime': 5357, 'shampooing': 5358, 'shortened': 5359, 'expectancy': 5360, 'suppliers': 5361, 'stamping': 5362, 'imho': 5363, 'simplest': 5364, 'standpoint': 5365, 'flattering': 5366, 'thingy': 5367, 'verse': 5368, 'cubby': 5369, 'desirable': 5370, 'm705': 5371, 'longtime': 5372, 'dispatcher': 5373, 'crush': 5374, 'reflects': 5375, 'probs': 5376, 'jan': 5377, 'bonded': 5378, 'fixable': 5379, 'bond': 5380, 'refasten': 5381, 'renders': 5382, 'piri': 5383, 'located': 5384, 'rori': 5385, 'wristmpad': 5386, 'cords': 5387, 'carpeting': 5388, 'dared': 5389, '7mos': 5390, 'ironed': 5391, 'merry': 5392, 'movment': 5393, 'observation': 5394, 'melts': 5395, 'mehh': 5396, 'niiiice': 5397, 'substancial': 5398, 'ammount': 5399, 'chipped': 5400, 'copywriter': 5401, 'locked': 5402, 'cased': 5403, 'concerts': 5404, 'stiffen': 5405, 'tumor': 5406, 'fave': 5407, 'glute': 5408, 'squeaks': 5409, 'multimedia': 5410, 'jamierski': 5411, 'bitten': 5412, 'bug': 5413, 'blindly': 5414, 'colorists': 5415, 'bathroom': 5416, 'regards': 5417, 'fred': 5418, 'dando': 5419, 'jul': 5420, 'fulfills': 5421, 'extremley': 5422, 'mindful': 5423, 'rubs': 5424, 'pinch': 5425, 'ceramacist': 5426, 'insists': 5427, 'swap': 5428, 'abs': 5429, 'mrechant': 5430, 'hahaha': 5431, 'sculpt': 5432, 'chunkiness': 5433, 'reticent': 5434, 'benches': 5435, 'metak': 5436, 'picnics': 5437, 'apon': 5438, 'frailed': 5439, 'tacky': 5440, 'feat': 5441, 'misnamed': 5442, 'akward': 5443, 'vanpool': 5444, 'rollerblades': 5445, 'leaned': 5446, 'mousers': 5447, 'physiatrist': 5448, 'tripping': 5449, 'perspective': 5450, 'unconfortable': 5451, 'covr': 5452, 'smoothi': 5453, 'r82xp9n5nav9h': 5454, 'b16riyabp2s': 5455, '81qfzax7krs': 5456, 'dimpled': 5457, 'carnival': 5458, 'prizes': 5459, 'cia': 5460, 'insane': 5461, 'deprivation': 5462, 'waterboarding': 5463, 'inhalation': 5464, 'exhalation': 5465, 'dreams': 5466, 'hallway': 5467, 'clad': 5468, 'stares': 5469, 'nachos': 5470, 'thorazine': 5471, 'eligible': 5472, 'attempts': 5473, 'ear': 5474, 'qc': 5475, 'brim': 5476, 'ballcap': 5477, 'subway': 5478, 'lemarchand': 5479, 'lament': 5480, 'branded': 5481, 'official': 5482, 'cenobites': 5483, 'asthmatics': 5484, 'goopy': 5485, 'amazonbasics': 5486, 'colring': 5487, 'rollerblade': 5488, 'christian': 5489, 'recollection': 5490, 'ailing': 5491, 'border': 5492, 'profusely': 5493, 'thousands': 5494, 'clicks': 5495, 'dreadful': 5496, 'stolden': 5497, 'appearly': 5498, 'repaired': 5499, 'comfortabe': 5500, 'rcvd': 5501, 'walls': 5502, 'outdoors': 5503, 'scotch': 5504, 'browse': 5505, 'adverse': 5506, 'accommodating': 5507, 'owner': 5508, 'decorate': 5509, 'journals': 5510, 'diagrams': 5511, 'organizer': 5512, '10x': 5513, 'rant': 5514, 'announce': 5515, 'affliction': 5516, 'ought': 5517, 'swiping': 5518, 'xl': 5519, 'ppillow': 5520, 'depresses': 5521, 'envelope': 5522, 'slope': 5523, 'rebel': 5524, 'buses': 5525, 'translucent': 5526, 'billion': 5527, 'attain': 5528, 'girlgriend': 5529, 'coxxyx': 5530, 'wil': 5531, 'thrift': 5532, 'equipped': 5533, 'laptops': 5534, 'desktops': 5535, '3ghz': 5536, 'exclusively': 5537, 'testament': 5538, 'dispute': 5539, 'contention': 5540, 'categorically': 5541, 'worldwide': 5542, 'readers': 5543, 'walks': 5544, 'shocks': 5545, 'saddens': 5546, 'contend': 5547, 'wholeheartedly': 5548, 'award': 5549, 'toiling': 5550, 'fantastc': 5551, 'attributes': 5552, 'candid': 5553, 'faithful': 5554, '2009': 5555, 'unforgiving': 5556, 'coxxydenia': 5557, 'nsfw': 5558, 'soooooooo': 5559, 'aluminum': 5560, '218': 5561, 'rat': 5562, 'ensures': 5563, 'firmed': 5564, 'react': 5565, 'briefly': 5566, 'dickens': 5567, 'sterner': 5568, 'springback': 5569, 'beutiful': 5570, 'confotable': 5571, 'nut': 5572, 'drug': 5573, 'facebook': 5574, 'shadow': 5575, 'digging': 5576, '160lbs': 5577, '288': 5578, 'cosmetic': 5579, 'lent': 5580, 'tryout': 5581, 'disguise': 5582, '10yrs': 5583, 'unobtrusive': 5584, 'trough': 5585, 'workable': 5586, 'ao': 5587, 'numbered': 5588, 'guru': 5589, 'challenges': 5590, 'latex': 5591, 'inherited': 5592, 'sought': 5593, 'controls': 5594, 'lights': 5595, 'steampunk': 5596, 'shares': 5597, 'crunches': 5598, 'mommy': 5599, 'stumble': 5600, 'specify': 5601, 'ehlers': 5602, 'danlos': 5603, 'susceptible': 5604, 'sublaxating': 5605, 'slowing': 5606, 'scratchyness': 5607, 'wer': 5608, 'proportion': 5609, 'wrinkly': 5610, 'bled': 5611, 'queen': 5612, 'invalid': 5613, 'independently': 5614, 'vibrand': 5615, 'presentable': 5616, 'victor': 5617, 'finals': 5618, 'injuring': 5619, 'chime': 5620, 'happily': 5621, 'hype': 5622, 'successfully': 5623, 'avoids': 5624, 'discrimination': 5625, 'gelpads': 5626, 'mortar': 5627, 'unpacked': 5628, 'gettin': 5629, 'turqouise': 5630, 'illustrator': 5631, 'smoothely': 5632, 'radiant': 5633, 'ooops': 5634, 'tee': 5635, 'horizontally': 5636, 'creases': 5637, 'futon': 5638, 'jobs': 5639, 'stair': 5640, 'shockingly': 5641, 'actially': 5642, 'gamimg': 5643, 'conputer': 5644, 'chaira': 5645, 'nigjt': 5646, 'h': 5647, 'ez': 5648, 'helpsmore': 5649, 'chaird': 5650, 'improvent': 5651, 'chushioned': 5652, 'flexors': 5653, 'obes': 5654, 'po7nts': 5655, 'gels': 5656, 'reddish': 5657, 'coating': 5658, 'whoopee': 5659, 'huring': 5660, 'syndrone': 5661, 'structure': 5662, 'archive': 5663, 'theaters': 5664, 'tine': 5665, 'wristpads': 5666, 'b000wu4h5c': 5667, 'remembering': 5668, 'exaggeration': 5669, 'recurring': 5670, 'shrinking': 5671, 'randomly': 5672, 'tighter': 5673, 'weaken': 5674, 'spillage': 5675, 'discouraging': 5676, 'satifsied': 5677, 'minimizes': 5678, 'slap': 5679, 'geriatric': 5680, 'owners': 5681, 'mic': 5682, 'reveals': 5683, 'sprung': 5684, 'vertically': 5685, 'challenged': 5686, 'unwieldy': 5687, '39': 5688, 'fire': 5689, 'fuel': 5690, 'observed': 5691, 'permicolor': 5692, 'dang': 5693, 'worming': 5694, 'solvent': 5695, 'kill': 5696, 'drunken': 5697, 'anguish': 5698, 'swollen': 5699, 'surfed': 5700, 'gun': 5701, 'sheen': 5702, 'beaconing': 5703, 'guiding': 5704, 'eagerly': 5705, 'contemplation': 5706, 'enveloped': 5707, 'soul': 5708, 'untill': 5709, 'deplane': 5710, 'juggle': 5711, 'airports': 5712, 'flown': 5713, 'asi': 5714, 'explicitly': 5715, 'dragging': 5716, 'mx1100': 5717, '03': 5718, 'pilling': 5719, 'plushness': 5720, 'rotating': 5721, 'wheelchairs': 5722, 'florals': 5723, 'feminine': 5724, 'marginal': 5725, '1200': 5726, '1600dpi': 5727, 'buttons': 5728, 'obtain': 5729, 'evolved': 5730, 'wire': 5731, 'reddest': 5732, 'thunderstorm': 5733, 'withought': 5734, 'enticing': 5735, 'supplement': 5736, 'cats': 5737, 'meow': 5738, 'squared': 5739, 'edged': 5740, 'deliberately': 5741, 'uselessly': 5742, 'justifiable': 5743, '87': 5744, 'champ': 5745, 'starnge': 5746, 'desperately': 5747, 'crv': 5748, 'grief': 5749, 'pastic': 5750, 'pipe': 5751, 'carpet': 5752, 'docking': 5753, 'thaks': 5754, 'ol': 5755, 'pals': 5756, 'guitar': 5757, 'midcontinent': 5758, 'trauma': 5759, 'carpeted': 5760, 'diastistis': 5761, 'pubis': 5762, 'pubic': 5763, 'modified': 5764, 'tailor': 5765, 'omfortable': 5766, 'talebone': 5767, 'aggravating': 5768, 'infra': 5769, 'arrives': 5770, 'constance': 5771, 'horror': 5772, 'sworn': 5773, 'endangered': 5774, 'species': 5775, 'paralyzed': 5776, 'scheduled': 5777, 'recumbent': 5778, 'constraining': 5779, 'determined': 5780, 'twin': 5781, 'laziness': 5782, 'lacks': 5783, 'enchanted': 5784, 'forest': 5785, 'raser': 5786, 'thinnest': 5787, '280': 5788, '38': 5789, 'guacamole': 5790, 'b00006bb7z': 5791, 'washer': 5792, 'bases': 5793, 'propping': 5794, 'sharper': 5795, 'bluntly': 5796, 'descriptive': 5797, 'carpenter': 5798, 'labor': 5799, 'manager': 5800, 'scoured': 5801, 'irritable': 5802, 'thousand': 5803, '1998': 5804, 'unifying': 5805, 'pricepoint': 5806, 'contents': 5807, 'bet': 5808, 'edited': 5809, 'forgotten': 5810, 'fart': 5811, 'ruining': 5812, 'sneakers': 5813, 'sneaker': 5814, 'slower': 5815, 'touched': 5816, 'pounded': 5817, 'horrendous': 5818, 'deteriorated': 5819, 'essentially': 5820, 'crimped': 5821, 'mahogany': 5822, 'rehab': 5823, 'md': 5824, 'approval': 5825, 'elleviate': 5826, 'withing': 5827, 'cried': 5828, 'excise': 5829, 'offending': 5830, 'carple': 5831, 'vibrate': 5832, 'lazyboy': 5833, 'escape': 5834, '416': 5835, 'exams': 5836, 'aligns': 5837, 'hurtin': 5838, 'procedure': 5839, 'discarded': 5840, 'squeakers': 5841, 'wiped': 5842, 'cutoff': 5843, 'dislikes': 5844, 'notification': 5845, 'exceeds': 5846, 'cocyxx': 5847, 'fractures': 5848, 'loftier': 5849, 'joyed': 5850, 'city': 5851, 'fortunate': 5852, 'mislead': 5853, 'scared': 5854, 'compliance': 5855, 'summary': 5856, 'delaminating': 5857, 'sitbone': 5858, 'horseshoe': 5859, 'wedges': 5860, 'fingernails': 5861, 'tags': 5862, 'clips': 5863, 'yours': 5864, 'whew': 5865, 'coupled': 5866, 'crisis': 5867, 'waaaaaay': 5868, 'spares': 5869, 'forbid': 5870, 'someday': 5871, 'kittens': 5872, 'dork': 5873, 'superstores': 5874, 'ths': 5875, 'dainty': 5876, 'styro': 5877, 'sheeting': 5878, 'blush': 5879, 'comi': 5880, 'serbice': 5881, 'eith': 5882, 'vety': 5883, 'fluidity': 5884, 'wreaking': 5885, 'havoc': 5886, 'prolong': 5887, 'jimmy': 5888, 'immortal': 5889, 'farmhouse': 5890, 'tabe': 5891, 'financial': 5892, 'analyst': 5893, 'updates': 5894, 'beaten': 5895, 'baking': 5896, 'soda': 5897, 'courses': 5898, 'animator': 5899, 'growing': 5900, 'biased': 5901, 'disposable': 5902, 'opacity': 5903, 'differentiated': 5904, 'identification': 5905, 'startled': 5906, '105lbs': 5907, 'stead': 5908, 'cautious': 5909, 'hysterectomy': 5910, 'somfortable': 5911, 'curse': 5912, 'loooooong': 5913, 'espcially': 5914, 'workaround': 5915, 'outs': 5916, 'molding': 5917, 'parental': 5918, 'embarrassing': 5919, 'ortho': 5920, 'hears': 5921, 'marbles': 5922, 'ensuring': 5923, 'sufficiently': 5924, 'goal': 5925, 'behalf': 5926, 'comilife': 5927, 'attentive': 5928, 'fishing': 5929, 'tailgate': 5930, 'bun': 5931, 'revert': 5932, 'afforable': 5933, 'coke': 5934, 'atleast': 5935, 'soport': 5936, 'postoperative': 5937, 'rd': 5938, 'ddd': 5939, 'giveaway': 5940, 'freer': 5941, 'involves': 5942, 'spanning': 5943, 'mo': 5944, 'crackle': 5945, 'anal': 5946, 'recycleland': 5947, 'puter': 5948, 'erfect': 5949, 'specs': 5950, 'concentrate': 5951, 'popping': 5952, 'counterpart': 5953, 'callus': 5954, 'sync': 5955, 'iphone': 5956, 'motorized': 5957, 'whoever': 5958, 'phenomena': 5959, 'soooo': 5960, 'resonable': 5961, 'apps': 5962, 'shooters': 5963, 'commuter': 5964, 'bulge': 5965, 'jarr': 5966, 'adsorbe': 5967, 'coccyxdynia': 5968, 'acupuncture': 5969, 'shots': 5970, 'thrills': 5971, 'occupational': 5972, 'um': 5973, 'phones': 5974, '8hrs': 5975, 'mentioning': 5976, 'definitively': 5977, 'hightly': 5978, 'reccommended': 5979, 'accents': 5980, 'alread': 5981, 'drie': 5982, 'taky': 5983, 'props': 5984, 'rideshare': 5985, 'contribute': 5986, 'accentuated': 5987, '1000x': 5988, 'fitness': 5989, 'tracker': 5990, 'g700s': 5991, 'arising': 5992, 'promoted': 5993, 'gw': 5994, 'unravel': 5995, 'valley': 5996, 'valleying': 5997, 'weightloss': 5998, 'parenthetically': 5999, 'repeater': 6000, 'empirical': 6001, '10hour': 6002, 'buster': 6003, 'undergoing': 6004, 'gadget': 6005, 'roaming': 6006, 'decreases': 6007, 'persian': 6008, 'rug': 6009, 'snags': 6010, 'master': 6011, 'overwhelms': 6012, 'princesses': 6013, 'disintegrates': 6014, 'pisses': 6015, 'history': 6016, 'dries': 6017, 'warming': 6018, 'unstable': 6019, '650': 6020, 'wincing': 6021, 'dance': 6022, 'bladder': 6023, 'signaled': 6024, 'sculpting': 6025, 'fidgeted': 6026, 'unfolding': 6027, 'yard': 6028, 'accidently': 6029, 'maximizing': 6030, 'minimizing': 6031, 'deer': 6032, 'sitbones': 6033, 'scooter': 6034, 'mouce': 6035, 'david': 6036, 'straightforward': 6037, 'cheek': 6038, 'amazement': 6039, 'wiping': 6040, 'interruption': 6041, 'lagoon': 6042, 'timing': 6043, 'orchestra': 6044, 'performances': 6045, 'wishful': 6046, 'musical': 6047, 'gluteals': 6048, 'broadcasting': 6049, 'stations': 6050, 'amplifier': 6051, 'antenna': 6052, 'assistant': 6053, 'aesthetically': 6054, 'specified': 6055, 'sniping': 6056, 'bf3': 6057, 'asstounding': 6058, 'eureka': 6059, 'awww': 6060, 'refrenced': 6061, 'compacted': 6062, 'herself': 6063, '132': 6064, 'gifting': 6065, 'ihad': 6066, 'amputee': 6067, 'reflected': 6068, 'updating': 6069, 'debri': 6070, 'ink': 6071, 'distress': 6072, 'obligated': 6073, 'cuff': 6074, 'dress': 6075, 'shirts': 6076, 'louisiana': 6077, '950': 6078, 'pics': 6079, 'infact': 6080, 'ward': 6081, 'choppy': 6082, 'jave': 6083, 'calls': 6084, 'releif': 6085, 'washington': 6086, 'dc': 6087, 'toronto': 6088, 'infrared': 6089, 'coding': 6090, 'goood': 6091, 'assessment': 6092, 'b0043t7fxe': 6093, 'roam': 6094, 'pvp': 6095, 'searing': 6096, 'regains': 6097, 'professionally': 6098, 'regretted': 6099, 'believing': 6100, 'similarities': 6101, 'reconsider': 6102, 'voila': 6103, 'bugger': 6104, 'springy': 6105, 'builds': 6106, 'electricity': 6107, 'websites': 6108, 'elastic': 6109, 'onward': 6110, 'improvements': 6111, 'recieve': 6112, 'jumpy': 6113, 'pin': 6114, '260lbs': 6115, 'staining': 6116, 'defined': 6117, 'ffine': 6118, \"they're\": 6119, 'layered': 6120, 'tractball': 6121, 'occurance': 6122, 'whiles': 6123, 'singapore': 6124, 'malaysia': 6125, 'lacked': 6126, 'inductive': 6127, 'pool': 6128, 'priusc': 6129, 'upholstery': 6130, 'pray': 6131, 'blessings': 6132, 'patricia': 6133, 'jackson': 6134, 'unrelated': 6135, 'anesthesia': 6136, 'inquires': 6137, 'solicit': 6138, 'geez': 6139, 'overwhelm': 6140, 'acute': 6141, 'abundance': 6142, 'brushing': 6143, 'series': 6144, 'vert': 6145, 'permits': 6146, 'settles': 6147, 'reccemend': 6148, 'useing': 6149, 'atart': 6150, 'videogaming': 6151, 'glutes': 6152, 'fixups': 6153, 'rice': 6154, 'sock': 6155, 'slot': 6156, 'thay': 6157, 'wether': 6158, 'depicted': 6159, 'paraplegic': 6160, 'dove': 6161, 'silk': 6162, 'fuzz': 6163, 'scraped': 6164, 'independent': 6165, 'wist': 6166, 'squishyness': 6167, '50lbs': 6168, 'freelance': 6169, 'gee': 6170, 'othwerwise': 6171, 'subsided': 6172, 'runner': 6173, 'deformity': 6174, 'matting': 6175, 'rugs': 6176, 'cvering': 6177, 'workchair': 6178, 'seveere': 6179, 'merely': 6180, 'brights': 6181, 'giggle': 6182, 'induces': 6183, 'ct': 6184, 'concaves': 6185, 'outdoor': 6186, 'stages': 6187, 'consequences': 6188, '4000': 6189, 'duo': 6190, 'clunky': 6191, 'minesweeper': 6192, 'drunk': 6193, \"it'll\": 6194, 'unmatched': 6195, 'crick': 6196, 'blu': 6197, '112': 6198, 'verging': 6199, 'toxins': 6200, 'breadth': 6201, 'rendering': 6202, 'misery': 6203, 'cramming': 6204, 'jacket': 6205, 'sweater': 6206, 'planned': 6207, 'introduced': 6208, 'lengthy': 6209, 'puffy': 6210, 'audio': 6211, '15th': 6212, 'listing': 6213, 'misguided': 6214, 'convenience': 6215, 'advantages': 6216, 'postitives': 6217, 'buildable': 6218, 'prone': 6219, 'toned': 6220, 'justified': 6221, 'amy': 6222, 'disclocated': 6223, 'scicatica': 6224, 'congenital': 6225, 'sastified': 6226, 'iinflatable': 6227, 'arse': 6228, 'vv': 6229, 'lags': 6230, 'heartedly': 6231, 'measures': 6232, 'husky': 6233, 'venture': 6234, 'largish': 6235, 'females': 6236, 'males': 6237, 'sizing': 6238, 'informed': 6239, 'vitals': 6240, 'architectural': 6241, 'slant': 6242, 'helpss': 6243, 'ouse': 6244, 'indenting': 6245, 'defense': 6246, 'blaming': 6247, 'accessories': 6248, 'descriptions': 6249, 'everytime': 6250, 'degradation': 6251, 'corded': 6252, 'coushion': 6253, 'collect': 6254, 'particles': 6255, 'south': 6256, 'b00wlk9594': 6257, 'cocksic': 6258, 'harley': 6259, 'impressions': 6260, 'deff': 6261, '2200': 6262, 'ladder': 6263, 'exacerbates': 6264, 'lingering': 6265, 'coccyc': 6266, 'lengths': 6267, 'unsure': 6268, 'piraformis': 6269, 'moose': 6270, 'donating': 6271, 'reap': 6272, 'journal': 6273, \"6'\": 6274, '215': 6275, 'robustness': 6276, 'vanity': 6277, 'tragic': 6278, 'sufferers': 6279, \"6'6\": 6280, '340': 6281, 'misrepresenting': 6282, 'housing': 6283, 'charateristics': 6284, 'trackpad': 6285, 'fuller': 6286, '3ins': 6287, 'overhang': 6288, 'grow': 6289, 'handles': 6290, '162': 6291, 'aged': 6292, 'bland': 6293, 'steady': 6294, 'b00v5axptw': 6295, 'kiester': 6296, 'persistent': 6297, 'beklin': 6298, 'sans': 6299, 'bleep': 6300, 'frozen': 6301, 'wild': 6302, 'thrid': 6303, 'mental': 6304, 'diet': 6305, 'pepsi': 6306, 'handsome': 6307, 'gravity': 6308, 'workshop': 6309, 'dagnabbit': 6310, 'noassatol': 6311, 'minority': 6312, 'manages': 6313, 'etched': 6314, 'wiggle': 6315, '205lbs': 6316, 'relaxobak': 6317, '26': 6318, 'impress': 6319, 'imposter': 6320, 'accountant': 6321, 'tabletop': 6322, 'collecting': 6323, 'belong': 6324, 'pak': 6325, 'dogz': 6326, 'stunning': 6327, 'workws': 6328, 'suite': 6329, 'safely': 6330, 'rigidity': 6331, 'keeling': 6332, 'fanned': 6333, 'execellent': 6334, 'iliopsoas': 6335, 'exit': 6336, 'browsed': 6337, 'hobbyist': 6338, 'bmw': 6339, 'photoshopping': 6340, 'fragging': 6341, 'minecrafting': 6342, 'peanut': 6343, 'sheeple': 6344, 'knocking': 6345, 'masterpieces': 6346, 'fifty': 6347, 'destroying': 6348, '52': 6349, 'dominant': 6350, '32': 6351, 'traveler': 6352, 'recommends': 6353, 'bugs': 6354, 'finance': 6355, 'girlfriends': 6356, 'cockatoo': 6357, 'chomping': 6358, 'usb': 6359, 'ports': 6360, 'xd': 6361, 'weverest': 6362, 'sphincterotomy': 6363, 'wsad': 6364, 'puzzled': 6365, 'glowing': 6366, 'bloom': 6367, 'gud': 6368, 'addictive': 6369, 'northern': 6370, 'legendary': 6371, 'hebron': 6372, 'ky': 6373, 'west': 6374, 'seldom': 6375, 'atmospheric': 6376, 'imprints': 6377, 'thoughts': 6378, 'frustrate': 6379, 'bolster': 6380, 'therfore': 6381, 'yea': 6382, 'dumping': 6383, 'va': 6384, 'trendy': 6385, 'wowpen': 6386, 'median': 6387, 'm002': 6388, 'nano': 6389, 'colorbookd': 6390, 'toes': 6391, 'se': 6392, 'pew': 6393, 'flex': 6394, 'modeled': 6395, 'curb': 6396, 'tissue': 6397, 'foes': 6398, 'teal': 6399, 'tiffany': 6400, 'cabin': 6401, 'veriety': 6402, 'retreating': 6403, 'sagged': 6404, 'arguably': 6405, 'mysterious': 6406, 'lessening': 6407, 'prospect': 6408, 'schlepp': 6409, 'distract': 6410, 'adhesive': 6411, '30min': 6412, '1hr': 6413, 'honesty': 6414, 'styrofooooam': 6415, 'litte': 6416, 'survivor': 6417, '65lbs': 6418, 'tese': 6419, 'casuals': 6420, 'electromagnetic': 6421, 'waves': 6422, 'tens': 6423, 'blackboard': 6424, 'powder': 6425, 'coins': 6426, 'millions': 6427, 'bacterias': 6428, 'poorer': 6429, 'ida': 6430, 'coulter': 6431, 'recenter': 6432, 'burst': 6433, 'bank': 6434, 'portrayed': 6435, 'maintenance': 6436, 'trim': 6437, 'probem': 6438, 'childbirth': 6439, 'spreadsheet': 6440, 'documents': 6441, 'manyblues': 6442, 'operations': 6443, 'ps': 6444, 'compliant': 6445, 'snatch': 6446, 'inventing': 6447, 'cystic': 6448, 'gelly': 6449, 'unlocking': 6450, '20hrs': 6451, 'nary': 6452, 'b01d63uu52': 6453, 'iirc': 6454, 'discolored': 6455, 'admitting': 6456, 'recommendable': 6457, 'somes': 6458, 'exacto': 6459, 'knife': 6460, 'bottomof': 6461, 'poppin': 6462, 'sponged': 6463, 'sticking': 6464, 'admins': 6465, 'trimming': 6466, 'cleaner': 6467, 'hesitating': 6468, 'pantone': 6469, 'shoddy': 6470, 'qualifies': 6471, 'smallish': 6472, 'rail': 6473, 'train': 6474, 'doughnuts': 6475, 'leaked': 6476, 'quilting': 6477, 'retreat': 6478, 'educational': 6479, 'natured': 6480, 'ribbing': 6481, 'performing': 6482, 'admirably': 6483, 'flexiblity': 6484, 'undue': 6485, 'removes': 6486, 'specially': 6487, 'shiney': 6488, 'yup': 6489, 'meeses': 6490, 'hp': 6491, 'wirless': 6492, 'carpotunnel': 6493, 'whacking': 6494, 'yeh': 6495, 'ppl': 6496, 'economy': 6497, 'resisted': 6498, 'til': 6499, 'famly': 6500, 'wavegel': 6501, 'prized': 6502, 'sprang': 6503, 'contorted': 6504, 'postieur': 6505, 'kidns': 6506, 'unwilling': 6507, 'camry': 6508, 'tale': 6509, 'goode': 6510, 'separates': 6511, 'neglected': 6512, 'nay': 6513, 'embraced': 6514, 'opulent': 6515, 'spirit': 6516, '199lbs': 6517, \"can't\": 6518, \"won't\": 6519, 'glitchy': 6520, 'shrek': 6521, 'ahha': 6522, 'bluetrack': 6523, 'parallel': 6524, 'possibility': 6525, 'grabbing': 6526, 'nonproductive': 6527, 'mfr': 6528, 'flair': 6529, 'perch': 6530, 'nab': 6531, 'frail': 6532, 'rare': 6533, 'cushes': 6534, 'poofy': 6535, 'subken': 6536, 'bevel': 6537, 'interferes': 6538, 'wold': 6539, 'ithe': 6540, 'fri': 6541, 'obese': 6542, 'p': 6543, 'thes': 6544, 'altho': 6545, 'siting': 6546, 'coordinating': 6547, '5days': 6548, 'ourchase': 6549, 'purposely': 6550, 'tooo': 6551, 'aesthetics': 6552, 'budged': 6553, 'behavior': 6554, 'modification': 6555, 'fewer': 6556, 'swatch': 6557, 'swatched': 6558, 'cardstock': 6559, 'toothy': 6560, 'colorless': 6561, 'learners': 6562, 'quervain': 6563, 'quote': 6564, 'weell': 6565, 'headline': 6566, 'welded': 6567, 'faulty': 6568, 'postage': 6569, 'drats': 6570, 'chances': 6571, 'secs': 6572, 'absorbing': 6573, 'orthodpedic': 6574, 'stinky': 6575, 'outcome': 6576, 'network': 6577, 'accomodate': 6578, 'conformation': 6579, 'foe': 6580, 'pleather': 6581, '168': 6582, 'golden': 6583, 'biscuit': 6584, 'lounge': 6585, 'sue': 6586, 'divide': 6587, 'spelling': 6588, 'tinge': 6589, 'usability': 6590, 'explore': 6591, 'operable': 6592, 'stylish': 6593, 'ageing': 6594, 'flashy': 6595, 'severed': 6596, 'myl3': 6597, 'fusions': 6598, 'cages': 6599, 'fuming': 6600, 'summarize': 6601, 'increasingly': 6602, 'gas': 6603, 'abandoned': 6604, 'dabbling': 6605, 'alarmed': 6606, 'lesser': 6607, 'moods': 6608, 'betweens': 6609, 'neutrals': 6610, 'mass': 6611, 'handheld': 6612, 'conical': 6613, 'artier': 6614, 'temperament': 6615, 'chromatic': 6616, 'harmony': 6617, 'mercur': 6618, 'erasers': 6619, 'becasue': 6620, 'seamlessly': 6621, 'sudden': 6622, 'breathe': 6623, 'coxxcy': 6624, 'overatime': 6625, 'housebound': 6626, 'mines': 6627, 'temp': 6628, 'vw': 6629, 'sh': 6630, 'slideout': 6631, 'painfree': 6632, 'ooooh': 6633, 'overdoing': 6634, 'wondergel': 6635, 'soothed': 6636, 'technically': 6637, 'favorably': 6638, 'exuding': 6639, 'poison': 6640, 'requirements': 6641, 'mist': 6642, 'semester': 6643, 'meaty': 6644, 'expenses': 6645, 'goggled': 6646, 'attaches': 6647, 'suggetsed': 6648, 'problrm': 6649, 'hollows': 6650, 'destroy': 6651, 'handsprings': 6652, 'usefulness': 6653, '235': 6654, 'retire': 6655, 'soldier': 6656, 'clears': 6657, '123': 6658, \"5'3\": 6659, 'lingered': 6660, 'sleeves': 6661, 'atrocious': 6662, 'tldr': 6663, 'outweigh': 6664, 'marketed': 6665, 'nowadays': 6666, 'situated': 6667, 'airlines': 6668, 'dose': 6669, 'characteristic': 6670, 'strategically': 6671, 'aerodynamic': 6672, 'optimally': 6673, 'whatsover': 6674, 'sept': 6675, 'shy': 6676, 'barbara': 6677, 'nolan': 6678, 'fluff': 6679, 'deteriorating': 6680, 'notified': 6681, 'issued': 6682, 'fetish': 6683, 'studing': 6684, 'coccydynia': 6685, 'shirt': 6686, 'shrivels': 6687, 'immensley': 6688, 'avery': 6689, 'employ': 6690, 'b000x7mlw0': 6691, 'unglue': 6692, 'dick': 6693, 'repositioning': 6694, '41': 6695, 'partaking': 6696, 'wake': 6697, 'breath': 6698, 'feb': 6699, 'immobile': 6700, 'abdominal': 6701, 'incision': 6702, 'unpleasure': 6703, 'landfill': 6704, 'party': 6705, 'spotted': 6706, 'surfer': 6707, 'jeans': 6708, 'steel': 6709, 'wool': 6710, 'senior': 6711, 'citizen': 6712, 'modelling': 6713, 'cortisone': 6714, 'certainty': 6715, 'contributing': 6716, 'midnight': 6717, '300lbs': 6718, 'uploaded': 6719, '12year': 6720, 'pruce': 6721, 'creased': 6722, 'musky': 6723, 'oder': 6724, 'unopened': 6725, 'emergency': 6726, 'booooyah': 6727, 'paler': 6728, 'blob': 6729, 'batter': 6730, 'dissolve': 6731, 'flour': 6732, 'brownie': 6733, 'radiculopathy': 6734, 'identified': 6735, 'insuring': 6736, 'adaptability': 6737, 'tote': 6738, 'library': 6739, 'schools': 6740, 'twofold': 6741, 'res': 6742, 'scanning': 6743, 'strokes': 6744, 'realms': 6745, 'tinting': 6746, 'worsened': 6747, 'broadsheet': 6748, 'pk': 6749, 'grays': 6750, 'warmth': 6751, 'morph': 6752, 'slave': 6753, 'seperated': 6754, 'pile': 6755, 'anitamc777': 6756, 'hotmail': 6757, 'havnt': 6758, 'palmer': 6759, 'hyperhydrosis': 6760, 'recommendo': 6761, 'peroids': 6762, 'itskinda': 6763, 'assorment': 6764, 'grooved': 6765, 'positives': 6766, 'gps': 6767, '1gray': 6768, 'perks': 6769, 'collapsing': 6770, 'tunneling': 6771, 'felling': 6772, 'rump': 6773, 'roughly': 6774, 'mash': 6775, 'naked': 6776, 'bath': 6777, 'underweight': 6778, 'breakdown': 6779, 'ect': 6780, 'todays': 6781, 'lucked': 6782, 'ideas': 6783, '190': 6784, 'spikes': 6785, 'unsupported': 6786, 'respectable': 6787, 'mixture': 6788, 'blog': 6789, 'subpar': 6790, 'batches': 6791, 'nemo': 6792, 'guilds': 6793, 'bitch': 6794, 'moan': 6795, 'aroma': 6796, 'dow': 6797, 'memories': 6798, 'teasing': 6799, 'contacting': 6800, 'fr': 6801, 'glitter': 6802, 'marketing': 6803, 'nauseating': 6804, 'andthis': 6805, 'fanciest': 6806, 'flimsier': 6807, 'photography': 6808, 'stupidity': 6809, 'rochelle': 6810, 'fume': 6811, 'hood': 6812, 'crafter': 6813, 'librarian': 6814, 'drs': 6815, 'neurologist': 6816, 'reaponds': 6817, 'foscus': 6818, 'homeworks': 6819, 'wooded': 6820, 'falsely': 6821, 'advertise': 6822, 'disgustingly': 6823, 'pamper': 6824, 'flabby': 6825, 'ii': 6826, 'excepted': 6827, 'oppose': 6828, 'repeats': 6829, 'ooh': 6830, 'shorties': 6831, 'grippies': 6832, 'resharpen': 6833, 'units': 6834, 'nauseous': 6835, 'stabbing': 6836, 'dough': 6837, 'twisted': 6838, 'fathers': 6839, 'transferred': 6840, 'dissipate': 6841, 'exposed': 6842, 'maternity': 6843, 'misaligned': 6844, 'locking': 6845, 'swell': 6846, 'conspicuous': 6847, 'redragon': 6848, 'perdition': 6849, 'detectable': 6850, 'hardand': 6851, 'ant': 6852, 'unsteady': 6853, 'creaking': 6854, 'perfection': 6855, 'actuality': 6856, 'understated': 6857, 'congratulations': 6858, 'bills': 6859, 'reeks': 6860, 'arived': 6861, 'rushed': 6862, 'excelently': 6863, 'fizes': 6864, 'shallower': 6865, 'korea': 6866, 'rct': 6867, 'carleen': 6868, 'requests': 6869, 'petty': 6870, 'gelatinous': 6871, 'unfavorable': 6872, 'checklist': 6873, 'scrapbook': 6874, 'task': 6875, 'tapers': 6876, 'pregnate': 6877, 'complications': 6878, 'shootout': 6879, 'injected': 6880, 'simulate': 6881, 'aggravation': 6882, 'sway': 6883, 'chicago': 6884, 'winters': 6885, 'indoors': 6886, 'salvation': 6887, 'tap': 6888, 'numbed': 6889, 'trial': 6890, 'concluding': 6891, 'topper': 6892, 'produit': 6893, 'conforme': 6894, 'et': 6895, 'trs': 6896, 'bonne': 6897, 'qualit': 6898, 'coated': 6899, 'plywood': 6900, 'commercially': 6901, 'santa': 6902, 'cigar': 6903, 'sift': 6904, 'overwhelming': 6905, 'joked': 6906, 'rds': 6907, 'ziraki': 6908, 'rounder': 6909, 'ripping': 6910, 'waaay': 6911, 'beginnings': 6912, 'carpaltunnel': 6913, 'operated': 6914, 'lolliz': 6915, 'blessed': 6916, 'dar': 6917, 'eyelash': 6918, 'lifestyle': 6919, 'redistributes': 6920, 'hyper': 6921, 'lordosis': 6922, 'co9ntant': 6923, 'barrage': 6924, 'beet': 6925, 'beings': 6926, 'corrects': 6927, 'hooray': 6928, 'secondary': 6929, 'stitched': 6930, 'reoccurring': 6931, '30yrs': 6932, \"5'11\": 6933, 'nonstop': 6934, 'wk': 6935, 'mri': 6936, 'sculpted': 6937, 'pronounced': 6938, 'invention': 6939, 'kg': 6940, 'tapered': 6941, 'pensioners': 6942, 'judges': 6943, 'antiquated': 6944, 'assembled': 6945, 'excuse': 6946, 'steve': 6947, 'ligament': 6948, 'shorts': 6949, 'backbone': 6950, 'mushroom': 6951, 'mushrooms': 6952, 'ownage': 6953, 'lingo': 6954, 'caveat': 6955, 'emptor': 6956, 'ahppy': 6957, 'artsiest': 6958, 'arround': 6959, 'lumps': 6960, 'beaded': 6961, 'rite': 6962, 'overseas': 6963, '34': 6964, 'combines': 6965, 'begrudge': 6966, 'qualities': 6967, 'chips': 6968, 'veins': 6969, 'overcome': 6970, 'figuratively': 6971, 'itch': 6972, 'crater': 6973, 'refuses': 6974, 'pinches': 6975, 'rods': 6976, 'inflexible': 6977, '2000s': 6978, 'cheated': 6979, 'truthful': 6980, 'merit': 6981, 'noting': 6982, 'someplace': 6983, 'displacement': 6984, 'freshen': 6985, 'luxury': 6986, 'sneak': 6987, 'suffocating': 6988, 'propped': 6989, 'varried': 6990, 'offspring': 6991, 'nabbed': 6992, 'flailing': 6993, 'inwardly': 6994, 'tonight': 6995, 'alert': 6996, 'reengineer': 6997, 'crackles': 6998, 'piddly': 6999, 'engineers': 7000, 'cad': 7001, 'assistance': 7002, 'sleak': 7003, 'crappier': 7004, 'assed': 7005, 'ghetto': 7006, 'mcdonald': 7007, 'efective': 7008, 'violets': 7009, 'prefered': 7010, '205': 7011, 'mushes': 7012, 'recycle': 7013, 'medications': 7014, 'bestseller': 7015, 'religiously': 7016, 'crafted': 7017, 'dentist': 7018, 'treating': 7019, 'operatory': 7020, 'dental': 7021, 'bullet': 7022, 'hermanmiller': 7023, 'uninspiring': 7024, 'punchy': 7025, 'enhances': 7026, 'pukey': 7027, 'chill': 7028, \"i'be\": 7029, 'comportalble': 7030, 'deluxe': 7031, 'recomended': 7032, 'anatomy': 7033, 'genuineness': 7034, 'roadtrip': 7035, '63': 7036, 'tense': 7037, 'workaholic': 7038, 'faith': 7039, 'woorks': 7040, 'lopsidedness': 7041, 'los': 7042, 'angeles': 7043, 'published': 7044, 'don': 7045, 'navigation': 7046, 'pealing': 7047, 'comforted': 7048, 'ipad': 7049, 'wearability': 7050, 'vouge': 7051, 'struggles': 7052, 'withstood': 7053, 'brush': 7054, 'airbag': 7055, 'abbey': 7056, 'vasectomy': 7057, 'lapad': 7058, 'slump': 7059, 'orevious': 7060, 'l5s1': 7061, 'neurosurgeons': 7062, 'ion': 7063, 'nutshell': 7064, 'sante': 7065, 'diantoni': 7066, 'footstool': 7067, 'motorcoaches': 7068, 'advertises': 7069, 'scrunch': 7070, 'distraction': 7071, 'judged': 7072, 'relate': 7073, 'productive': 7074, 'resurfaced': 7075, 'camping': 7076, 'bounced': 7077, 'numeric': 7078, 'reminder': 7079, 'unwanted': 7080, 'flexicity': 7081, 'adopt': 7082, 'flareup': 7083, 'makeshift': 7084, 'bundled': 7085, 'sporty': 7086, 'accommodations': 7087, 'foresee': 7088, 'threads': 7089, 'trapezoidal': 7090, 'brilliance': 7091, 'bashing': 7092, 'trivial': 7093, 'obscure': 7094, 'breathes': 7095, 'absorbs': 7096, 'dangling': 7097, 'calling': 7098, 'affords': 7099, 'smushes': 7100, 'regional': 7101, 'jets': 7102, 'overflowed': 7103, 'stimpy': 7104, 'band': 7105, 'monthly': 7106, 'visitor': 7107, 'porn': 7108, 'junkie': 7109, 'photoshop': 7110, 'shortcuts': 7111, 'firefox': 7112, 'chipping': 7113, 'drudgery': 7114, 'inputs': 7115, 'faulting': 7116, 'stage': 7117, 'freaked': 7118, 'lowerback': 7119, 'verry': 7120, 'solvee': 7121, 'angrier': 7122, 'likei': 7123, 'throb': 7124, '01': 7125, 'focusing': 7126, 'concentrated': 7127, 'clever': 7128, 'convex': 7129, 'upward': 7130, 'capable': 7131, 'permit': 7132, 'protruding': 7133, 'restricted': 7134, 'acquisition': 7135, 'onset': 7136, 'veterinary': 7137, 'fatige': 7138, 'dawn': 7139, 'driveway': 7140, 'strains': 7141, 'sporting': 7142, 'wated': 7143, 'practicality': 7144, 'san': 7145, 'francisco': 7146, 'national': 7147, 'parks': 7148, 'logged': 7149, 'detours': 7150, 'desert': 7151, 'repay': 7152, 'reluctant': 7153, 'crammed': 7154, 'downsides': 7155, 'heightens': 7156, 'disregard': 7157, 'yielding': 7158, 'dissuade': 7159, 'softest': 7160, 'engineering': 7161, 'softening': 7162, 'rist': 7163, '409': 7164, 'roots': 7165, 'sufferer': 7166, 'attempted': 7167, 'doughnut': 7168, 'entails': 7169, 'biking': 7170, 'elevating': 7171, 'sight': 7172, 'aduly': 7173, 'hmmmmm': 7174, 'elavated': 7175, '58': 7176, 'med': 7177, 'backpain': 7178, 'geeks': 7179, 'bleeding': 7180, 'couples': 7181, 'assuming': 7182, 'branding': 7183, 'icy': 7184, 'oregon': 7185, 'secretary': 7186, 'susan': 7187, 'alan': 7188, 'toilet': 7189, 'pedestal': 7190, 'followup': 7191, 'fluffier': 7192, 'curser': 7193, 'savior': 7194, 'lake': 7195, 'incomplete': 7196, 'fyi': 7197, 'magnitudes': 7198, \"5'\": 7199, '210': 7200, 'hangs': 7201, 'stutters': 7202, 'v200': 7203, '931380': 7204, '0403': 7205, 'defects': 7206, 'stickier': 7207, 'wresting': 7208, 'intermediate': 7209, '240': 7210, 'perceived': 7211, 'averaging': 7212, 'impressively': 7213, 'hygienic': 7214, 'scars': 7215, 'accidental': 7216, 'creasing': 7217, 'scratched': 7218, 'solitaire': 7219, 'presenting': 7220, 'neuropathy': 7221, 'flawless': 7222, 'hulk': 7223, 'genius': 7224, 'elimanted': 7225, 'secrete': 7226, 'wright': 7227, '411': 7228, 'winning': 7229, 'rural': 7230, 'frostheaves': 7231, '185lbs': 7232, 'compfortable': 7233, 'purse': 7234, 'doodle': 7235, 'nag': 7236, 'hugs': 7237, 'fabricated': 7238, 'proclaims': 7239, 'bach': 7240, 'ironic': 7241, 'sully': 7242, 'quibble': 7243, 'coal': 7244, 'illistrating': 7245, 'sketcher': 7246, 'revolutionary': 7247, 'samr': 7248, 'inconvenient': 7249, 'grandfather': 7250, 'efficiency': 7251, 'supplied': 7252, 'ratty': 7253, 'crowded': 7254, 'narrowest': 7255, 'teenager': 7256, 'employed': 7257, 'hefty': 7258, 'outlines': 7259, 'stably': 7260, 'moouse': 7261, 'weapon': 7262, 'skills': 7263, 'outward': 7264, 'claimed': 7265, 'skirt': 7266, 'friggin': 7267, 'scurry': 7268, 'cousion': 7269, 'sown': 7270, 'reckon': 7271, 'distractingly': 7272, 'aremoving': 7273, 'stale': 7274, 'drive5': 7275, 'tooooo': 7276, 'dat': 7277, '135lbs': 7278, 'gymnastics': 7279, 'yikes': 7280, 'meanwhile': 7281, 'foolish': 7282, 'reputable': 7283, 'horrid': 7284, 'astounding': 7285, 'cough': 7286, 'checks': 7287, 'mismatched': 7288, 'olive': 7289, '135': 7290, 'feared': 7291, 'reassured': 7292, 'bride': 7293, 'brothers': 7294, 'softball': 7295, 'charged': 7296, 'overpower': 7297, 'gasoline': 7298, 'aitting': 7299, 'radius': 7300, 'fashionista': 7301, 'fashionable': 7302, 'doll': 7303, 'clothing': 7304, 'diverse': 7305, 'creativity': 7306, 'righ': 7307, 'soles': 7308, 'preserver': 7309, 'teton': 7310, 'comfortlite': 7311, 'inflating': 7312, '47': 7313, 'mineral': 7314, 'spirits': 7315, 'kilter': 7316, 'talller': 7317, 'reclining': 7318, 'balanced': 7319, 'shreds': 7320, 'smooths': 7321, 'loosing': 7322, 'reversed': 7323, 'triple': 7324, 'clit': 7325, 'rapid': 7326, 'restroom': 7327, 'loudly': 7328, 'tilts': 7329, 'smartly': 7330, 'forebump': 7331, 'crease': 7332, 'vice': 7333, 'transitions': 7334, 'cone': 7335, 'facepalm': 7336, 'comfontable': 7337, 'managing': 7338, 'imitation': 7339, 'proves': 7340, '31': 7341, 'softflex': 7342, 'gloves': 7343, 'painlessly': 7344, 'sickening': 7345, 'awkwardness': 7346, 'ack': 7347, 'underwent': 7348, '3wks': 7349, 'differentiation': 7350, 'wanders': 7351, 'zinc': 7352, 'comfortablely': 7353, 'admirable': 7354, 'settling': 7355, 'resuming': 7356, 'orientation': 7357, 'confort': 7358, 'gret': 7359, 'b0002h1k0k': 7360, 'synonymous': 7361, 'excelled': 7362, 'commenters': 7363, 'commenter': 7364, 'compensated': 7365, 'negate': 7366, 'muck': 7367, 'robe': 7368, 'recipients': 7369, 'horizon': 7370, 'pole': 7371, 'chuck': 7372, 'optional': 7373, 'plugin': 7374, 'ventilated': 7375, 'statement': 7376, 'oahu': 7377, 'mystical': 7378, 'dolphins': 7379, 'institute': 7380, 'pricier': 7381, 'similiar': 7382, 'prepare': 7383, '45min': 7384, 'commutes': 7385, 'gelish': 7386, 'headed': 7387, 'goodwill': 7388, 'peeve': 7389, 'humble': 7390, 'inhumane': 7391, 'cheese': 7392, 'littel': 7393, 'bedrest': 7394, 'defenitely': 7395, '5star': 7396, 'longish': 7397, 'syndroms': 7398, 'realigns': 7399, 'overarching': 7400, 'isvan': 7401, 'crew': 7402, 'heartbeat': 7403, 'scatia': 7404, 'peers': 7405, 'broadway': 7406, '126': 7407, 'transatlantic': 7408, 'disappoint': 7409, 'coped': 7410, 'scooting': 7411, 'socks': 7412, 'casue': 7413, 'excruciatingly': 7414, 'lycra': 7415, 'trap': 7416, 'carties': 7417, 'imply': 7418, 'competitors': 7419, 'rothermund': 7420, 'loosen': 7421, 'dubious': 7422, 'helper': 7423, 'instances': 7424, 'duplicated': 7425, 'fuchsia': 7426, 'omission': 7427, 'erofa': 7428, 'exicted': 7429, 'bow': 7430, 'soundls': 7431, 'crinkiling': 7432, 'microban': 7433, 'publish': 7434, 'parking': 7435, 'dosent': 7436, 'defintely': 7437, 'undoubtedly': 7438, 'tops': 7439, 'approves': 7440, 'napping': 7441, 'sleeps': 7442, 'approved': 7443, 'fairness': 7444, 'pac': 7445, 'dogs': 7446, 'doggy': 7447, 'bio': 7448, 'tendinitis': 7449, 'immaculate': 7450, 'burned': 7451, 'refills': 7452, 'adn': 7453, 'cretainly': 7454, 'entering': 7455, 'moderate': 7456, 'music': 7457, 'album': 7458, 'america': 7459, 'extras': 7460, 'transcriptionist': 7461, 'properties': 7462, 'defeating': 7463, 'unknown': 7464, 'origin': 7465, 'turquoise': 7466, 'veretbrea': 7467, 'ligth': 7468, 'inflamation': 7469, 'varies': 7470, 'weatherly': 7471, 'dec': 7472, 'paso': 7473, 'tx': 7474, '2100': 7475, 'biggerepad': 7476, 'preconceptions': 7477, 'exceptions': 7478, 'unfriendly': 7479, 'mate': 7480, 'spritzing': 7481, 'pointing': 7482, 'icu': 7483, '65years': 7484, 'tnis': 7485, 'microcenter': 7486, 'transportable': 7487, 'bomb': 7488, 'management': 7489, 'forcing': 7490, 'east': 7491, 'advertiesed': 7492, 'stepping': 7493, 'gradations': 7494, 'archaic': 7495, 'beam': 7496, 'sales': 7497, 'inventory': 7498, 'asks': 7499, 'enought': 7500, 'aggreviate': 7501, 'pleasureable': 7502, 'unconformable': 7503, 'modeling': 7504, 'ut': 7505, 'puffed': 7506, 'refinery': 7507, 'basement': 7508, 'concaved': 7509, 'shaq': 7510, 'habits': 7511, 'surgical': 7512, 'prodecure': 7513, 'ss': 7514, 'yep': 7515, 'dedicate': 7516, 'costco': 7517, 'somethng': 7518, 'shills': 7519, 'baloney': 7520, 'mdt': 7521, 'impecable': 7522, 'controlling': 7523, 'fuss': 7524, 'revolutionized': 7525, 'typping': 7526, 'pathologies': 7527, 'intrinsic': 7528, 'easly': 7529, 'darkness': 7530, 'suggests': 7531, 'rolls': 7532, 'error': 7533, 'comically': 7534, 'comical': 7535, '4050': 7536, 'crumple': 7537, 'saids': 7538, 'intrigued': 7539, 'readjusted': 7540, 'yo': 7541, 'drg': 7542, 'stimulator': 7543, 'implanted': 7544, 'endoscopic': 7545, 'spreading': 7546, 'stoke': 7547, 'insulation': 7548, 'rotate': 7549, 'neighbor': 7550, 'unfamiliar': 7551, 'unfortuante': 7552, 'decorative': 7553, 'hardware': 7554, 'treadmill': 7555, 'scraping': 7556, 'inverted': 7557, 'bracket': 7558, 'lest': 7559, 'slept': 7560, 'lenghth': 7561, 'pudding': 7562, 'stepmom': 7563, 'cobra': 7564, 'clutch': 7565, 'suspected': 7566, 'estimated': 7567, 'pitch': 7568, 'demand': 7569, 'hinted': 7570, 'peice': 7571, 'brushed': 7572, 'headliner': 7573, 'machinery': 7574, 'careers': 7575, 'regions': 7576, 'engrained': 7577, 'robin': 7578, 'rheumatoid': 7579, 'criticism': 7580, 'fib': 7581, 'bday': 7582, '2002': 7583, 'conformable': 7584, 'sturdily': 7585, 'delaminate': 7586, 'captured': 7587, 'herman': 7588, 'miller': 7589, 'source': 7590, 'index': 7591, 'dissapointed': 7592, 'services': 7593, 'bat': 7594, 'temporally': 7595, 'waxed': 7596, 'sharpies': 7597, 'nearby': 7598, 'photographer': 7599, 'slit': 7600, 'paste': 7601, '8mo': 7602, 'stabilized': 7603, 'coughed': 7604, 'potable': 7605, 'yields': 7606, 'distinction': 7607, 'wastes': 7608, 'nausea': 7609, 'grimy': 7610, 'bareable': 7611, 'ontime': 7612, 'letter': 7613, 'suppor': 7614, 'jittering': 7615, 'stared': 7616, 'albuquerque': 7617, 'ive': 7618, 'looove': 7619, 'crusty': 7620, 'woker': 7621, 'gradually': 7622, 'slowlt': 7623, 'weave': 7624, 'preset': 7625, 'stressful': 7626, 'patio': 7627, 'unpadded': 7628, 'faces': 7629, 'slender': 7630, '155': 7631, 'duct': 7632, 'solely': 7633, 'inflaming': 7634, '130lbs': 7635, 'tel': 7636, 'stylist': 7637, 'isnt': 7638, 'feelings': 7639, 'overpowers': 7640, 'squirrel': 7641, 'missus': 7642, 'memorize': 7643, 'radiation': 7644, 'envisioned': 7645, 'coupe': 7646, 'scrunches': 7647, 'strapping': 7648, 'pained': 7649, 'trashcan': 7650, 'cubicle': 7651, 'owe': 7652, 'customize': 7653, 'sweatpants': 7654, 'realizes': 7655, 'surprized': 7656, 'penciles': 7657, 'bitter': 7658, 'hardened': 7659, 'grudge': 7660, 'bowels': 7661, 'banish': 7662, 'demonic': 7663, 'whence': 7664, 'pox': 7665, 'counterfeit': 7666, 'fights': 7667, 'belt': 7668, 'dangle': 7669, 'training': 7670, '69': 7671, 'meals': 7672, 'throe': 7673, 'leaf': 7674, 'clearance': 7675, 'obscenely': 7676, 'gigantic': 7677, 'fledged': 7678, 'potentially': 7679, 'gluteus': 7680, 'woes': 7681, 'cleanly': 7682, 'inspire': 7683, 'prayer': 7684, 'mediation': 7685, 'spotty': 7686, 'triggered': 7687, 'videogames': 7688, 'buts': 7689, 'negated': 7690, 'doit': 7691, 'greats': 7692, 'granite': 7693, 'component': 7694, 'upgrading': 7695, 'waking': 7696, 'utter': 7697, 'welcomed': 7698, 'pam': 7699, 'cheapening': 7700, 'retrospect': 7701, 'inspite': 7702, 'sweeping': 7703, 'constatanly': 7704, 'perplexed': 7705, 'cutter': 7706, 'culprit': 7707, 'geniuses': 7708, 'deaf': 7709, 'population': 7710, 'warned': 7711, 'luxurious': 7712, 'program': 7713, 'dirtier': 7714, \"5'7\": 7715, 'dangles': 7716, 'resticted': 7717, 'bears': 7718, 'bolstering': 7719, 'comfortale': 7720, 'llift': 7721, 'sour': 7722, 'expend': 7723, 'corretly': 7724, 'e450': 7725, 'chassis': 7726, 'nails': 7727, 'unorthodox': 7728, 'barstool': 7729, 'sweetie': 7730, 'resorting': 7731, 'fannies': 7732, 'carseat': 7733, 'surpasses': 7734, 'stealing': 7735, 'gooooood': 7736, 'expanse': 7737, 'uncomforable': 7738, 'lackluster': 7739, 'packet': 7740, 'chromebook': 7741, 'london': 7742, \"would't\": 7743, '5s': 7744, 'powered': 7745, 'notably': 7746, 'burnishing': 7747, 'burnish': 7748, 'serice': 7749, 'softener': 7750, 'teared': 7751, 'hybrid': 7752, 'ahhhhh': 7753, 'firstly': 7754, 'supermarket': 7755, 'desire': 7756, 'planted': 7757, 'pricetag': 7758, 'february': 7759, 'removal': 7760, 'logivity': 7761, 'misunderstood': 7762, 'bittoms': 7763, 'classrooms': 7764, 'practicing': 7765, 'cello': 7766, 'pallet': 7767, 'mower': 7768, 'offs': 7769, 'ibought': 7770, 'yeara': 7771, 'coat': 7772, 'hauling': 7773, 'freight': 7774, 'dfw': 7775, 'individually': 7776, 't9': 7777, 'coz': 7778, 'organizing': 7779, 'ischial': 7780, 'tuberosities': 7781, 'sitz': 7782, 'scrunched': 7783, 'shapener': 7784, 'passion': 7785, '22yrs': 7786, 'epson': 7787, 'wont': 7788, 'comforatble': 7789, '7months': 7790, 'twins': 7791, 'opposit': 7792, 'vtired': 7793, 'hipbones': 7794, 'horribilis': 7795, 'laminate': 7796, 'detergent': 7797, 'mirabilis': 7798, 'dispel': 7799, 'overuse': 7800, 'diffference': 7801, 'fac': 7802, 'leveled': 7803, 'thirteen': 7804, 'discontinued': 7805, 'tradtional': 7806, 'relieft': 7807, 'preventable': 7808, 'superseded': 7809, 'swapped': 7810, 'achieved': 7811, 'moretimes': 7812, 'ban': 7813, 'olo': 7814, 'taipan': 7815, 'dota2': 7816, 'csgo': 7817, 'improvised': 7818, '101': 7819, 'indications': 7820, 'harvested': 7821, 'misses': 7822, 'protrudes': 7823, 'perect': 7824, 'fleet': 7825, 'untrue': 7826, 'territory': 7827, 'stitch': 7828, 'rong': 7829, 'goid': 7830, 'aayinf': 7831, 'enable': 7832, 'warmed': 7833, 'restores': 7834, 'buoyancy': 7835, 'bingo': 7836, \"6'9\": 7837, 'reat': 7838, 'flutists': 7839, 'promise': 7840, 'angled': 7841, 'magical': 7842, 'solving': 7843, 'polished': 7844, 'exhibit': 7845, 'tuned': 7846, 'tolerance': 7847, 'cesare': 7848, 'soso': 7849, 'concentrates': 7850, 'uncle': 7851, 'r119xajsdq39qu': 7852, '816x3ctpups': 7853, '81sncra7': 7854, '2s': 7855, 'serveral': 7856, 'grocery': 7857, 'rib': 7858, 'isolated': 7859, 'confi': 7860, 'commuting': 7861, 'fancier': 7862, '265': 7863, 'restrictions': 7864, 'velcro': 7865, 'tie': 7866, 'boasted': 7867, 'peanuts': 7868, 'rustled': 7869, 'doubts': 7870, 'bikes': 7871, 'mounted': 7872, 'rack': 7873, 'counts': 7874, 'promotion': 7875, 'affiliated': 7876, 'distributor': 7877, 'envy': 7878, 'infirm': 7879, 'stephen': 7880, 'holt': 7881, 'practiced': 7882, 'maine': 7883, 'pennsylvania': 7884, 'lord': 7885, 'warns': 7886, 'battlefield': 7887, 'onn': 7888, 'thou': 7889, 'alil': 7890, 'dandy': 7891, 'flake': 7892, 'excess': 7893, '6f1': 7894, 'strangely': 7895, 'annoyances': 7896, 'trashing': 7897, 'faintly': 7898, 'roundtrip': 7899, 'bilateral': 7900, '11th': 7901, 'reliving': 7902, 'stools': 7903, 'smoosh': 7904, 'mew': 7905, 'predicated': 7906, 'belken': 7907, 'wth': 7908, 'refuse': 7909, 'trackman': 7910, 'tennessee': 7911, 'preaching': 7912, 'john': 7913, 'texted': 7914, 'focused': 7915, 'coincidence': 7916, '360': 7917, 'l3': 7918, 'synovial': 7919, 'preferring': 7920, 'anyhow': 7921, 'furred': 7922, 'velvet': 7923, 'unzips': 7924, 'brake': 7925, 'wind': 7926, 'braking': 7927, 'spasm': 7928, 'lated': 7929, 'consume': 7930, 'scissors': 7931, 'shearing': 7932, 'comfee': 7933, 'scooped': 7934, 'placemat': 7935, 'coaster': 7936, 'reinflating': 7937, '2x6': 7938, 'cave': 7939, 'furiously': 7940, 'social': 7941, 'gigabyte': 7942, 'dual': 7943, 'lens': 7944, 'replacment': 7945, 'payday': 7946, 'inoperable': 7947, 'thatif': 7948, 'stout': 7949, 'foster': 7950, 'puppy': 7951, 'ahold': 7952, 'gathering': 7953, 'picnching': 7954, 'picks': 7955, 'jumps': 7956, 'wast': 7957, 'adheres': 7958, 'ahhhh': 7959, 'entertain': 7960, 'dinette': 7961, 'raggedy': 7962, 'rn58qj6lyqdsu': 7963, 'c1x5yccadfs': 7964, '11htncs0z0s': 7965, 'sustained': 7966, '316': 7967, 'uncovered': 7968, 'cussion': 7969, 'marvelously': 7970, 'thorough': 7971, 'similarly': 7972, 'hemmroids': 7973, 'b0009pd314': 7974, 'aui': 7975, 'detailpage': 7976, 'o00': 7977, 's00': 7978, 'psc': 7979, 'shanghai': 7980, 'slouches': 7981, 'peels': 7982, 'amatuer': 7983, 'draftsman': 7984, 'explanatory': 7985, 'charge': 7986, 'inspired': 7987, 'perfit': 7988, 'advertizing': 7989, 'antislide': 7990, 'cohort': 7991, 'distinctive': 7992, 'wretched': 7993, 'file': 7994, 'verdict': 7995, 'concede': 7996, 'contributes': 7997, 'runescape': 7998, 'sacro': 7999, 'softly': 8000, 'lo': 8001, 'carding': 8002, 'blow': 8003, 'torch': 8004, 'explosives': 8005, 'slicing': 8006, 'ultra': 8007, 'videogamers': 8008, 'suspecting': 8009, 'fedex': 8010, 'drapes': 8011, 'ridge': 8012, 'ordinarily': 8013, 'bought8': 8014, 'comformtable': 8015, 'arithritis': 8016, 'irregular': 8017, 'ruinous': 8018, 'pixel': 8019, 'drifting': 8020, 'patch': 8021, 'shopped': 8022, 'noiseless': 8023, 'supporter': 8024, '3weeks': 8025, 'moor': 8026, 'perpetually': 8027, 'dinners': 8028, 'deformable': 8029, 'substitute': 8030, 'connects': 8031, 'gripper': 8032, 'alieve': 8033, 'loaned': 8034, 'sooooooooo': 8035, 'buns': 8036, 'sneaky': 8037, 'cube': 8038, 'swipe': 8039, 'blast': 8040, 'finer': 8041, 'rav4': 8042, 'caps': 8043, 'viewing': 8044, 'moue': 8045, 'revolution': 8046, 'increible': 8047, 'estimates': 8048, 'unmolested': 8049, 'photograph': 8050, 'presentation': 8051, 'articulated': 8052, 'industry': 8053, 'contemporaries': 8054, 'acted': 8055, 'squeaked': 8056, 'reclined': 8057, 'satiny': 8058, 'belts': 8059, 'qood': 8060, 'geart': 8061, 'peal': 8062, 'gd': 8063, 'drastic': 8064, 'max': 8065, 'resat': 8066, 'crumpling': 8067, '400mi': 8068, 'rebounds': 8069, 'angels': 8070, 'althoug': 8071, 'realease': 8072, 'athletic': 8073, 'killed': 8074, 'tables': 8075, 'x10': 8076, 'oversee': 8077, 'pity': 8078, 'irritates': 8079, 'granma': 8080, 'excision': 8081, 'twitchy': 8082, 'b0086uk7iq': 8083, 'scaly': 8084, 'lop': 8085, 'handedly': 8086, 'nonsense': 8087, 'disabling': 8088, 'physician': 8089, 'relaxant': 8090, 'vertebras': 8091, 'radial': 8092, 'brakes': 8093, 'proportions': 8094, 'hubs': 8095, 'plussed': 8096, 'offgas': 8097, 'comfofe': 8098, 'commiting': 8099, 'iam': 8100, 'haveing': 8101, 'practally': 8102, 'las': 8103, 'infront': 8104, 'arthiric': 8105, 'thinkness': 8106, 'pillowease': 8107, 'surpassed': 8108, 'competition': 8109, 'limitation': 8110, 'powdery': 8111, 'render': 8112, '6000': 8113, 'advising': 8114, '9shipping': 8115, 'unimpressed': 8116, 'heeded': 8117, 'lmf': 8118, 'secod': 8119, 'diffrence': 8120, 'immediatly': 8121, 'workes': 8122, 'ghost': 8123, 'chase': 8124, 'originating': 8125, 'forming': 8126, 'rises': 8127, 'depressions': 8128, 'distribute': 8129, 'objects': 8130, 'luggage': 8131, 'spondylolisthesis': 8132, 'wary': 8133, 'crusing': 8134, 'realive': 8135, 'recomed': 8136, 'meat': 8137, 'baseball': 8138, 'homerun': 8139, 'bathing': 8140, 'massaged': 8141, 'exceed': 8142, 'criteria': 8143, 'colorss': 8144, 'cardio': 8145, 'crumbles': 8146, 'wierd': 8147, 'compliants': 8148, 'float': 8149, 'nearest': 8150, 'disconnects': 8151, 'accumulate': 8152, 'skipping': 8153, 'gegular': 8154, 'avertized': 8155, 'bothersome': 8156, 'mw': 8157, 'wanna': 8158, 'ahhh': 8159, 'martial': 8160, '295': 8161, 'daddy': 8162, 'priceless': 8163, 'arise': 8164, 'insides': 8165, 'epic': 8166, 'gameplay': 8167, 'goats': 8168, 'downplays': 8169, 'raving': 8170, 'remedies': 8171, 'bang': 8172, 'league': 8173, 'legends': 8174, 'risen': 8175, 'broze': 8176, 'fasten': 8177, 'th': 8178, 'swim': 8179, 'dripped': 8180, 'blotted': 8181, 'greatness': 8182, 'ouce': 8183, 'dwane': 8184, 'trees': 8185, 'inconsistent': 8186, 'ingredients': 8187, 'founded': 8188, 'arizona': 8189, '170lbs': 8190, 'torchlight': 8191, 'causal': 8192, 'forays': 8193, 'corel': 8194, 'programs': 8195, 'stripes': 8196, 'adventure': 8197, 'basics': 8198, 'facet': 8199, 'intervals': 8200, 'annoys': 8201, 'chugging': 8202, 'nto': 8203, 'deferred': 8204, 'manageable': 8205, 'becos': 8206, '30mins': 8207, 'den': 8208, 'wipes': 8209, 'thrombosis': 8210, 'mx5000': 8211, 'naysayers': 8212, 'eez': 8213, 'wrestle': 8214, 'driven': 8215, 'pony': 8216, 'agonizing': 8217, 'comf': 8218, 'preventive': 8219, 'nough': 8220, 'rotates': 8221, 'costlier': 8222, 'katie': 8223, 'cue': 8224, 'wilbour': 8225, 'pinworms': 8226, 'cos': 8227, 'discard': 8228, 'savannah': 8229, 'seattle': 8230, 'insignia': 8231, 'leans': 8232, 'qulity': 8233, 'internally': 8234, 'blisterpacks': 8235, 'easliy': 8236, 'possitive': 8237, 'sooth': 8238, 'pts': 8239, 'increasing': 8240, 'memorial': 8241, 'kayak': 8242, 'coccygeal': 8243, 'flairs': 8244, 'sinus': 8245, 'belikin': 8246, 'sailing': 8247, 'shiiping': 8248, 'drench': 8249, 'febreeze': 8250, 'recycled': 8251, 'carcinogens': 8252, 'nitpick': 8253, 'dozens': 8254, 'flaking': 8255, 'clingy': 8256, 'rendered': 8257, 'hemmed': 8258, 'radioactive': 8259, 'vat': 8260, 'sludge': 8261, 'mitigate': 8262, 'planet': 8263, 'lateral': 8264, 'reflecting': 8265, 'frustration': 8266, 'referred': 8267, 'goldie': 8268, 'lox': 8269, 'pennies': 8270, 'bottomed': 8271, 'gonna': 8272, 'believed': 8273, 'policy': 8274, 'happiness': 8275, 'relocated': 8276, 'gamble': 8277, 'scrub': 8278, 'boned': 8279, 'fewmonths': 8280, 'foul': 8281, 'kinks': 8282, 'zombie': 8283, 'beverages': 8284, 'warped': 8285, 'develoved': 8286, 'chaffed': 8287, 'pleasent': 8288, 'converter': 8289, 'folds': 8290, 'extensions': 8291, 'accept': 8292, 'ouch': 8293, 'dye': 8294, 'degenerate': 8295, 'renewal': 8296, 'suprized': 8297, 'vividness': 8298, 'joys': 8299, 'denial': 8300, 'irl': 8301, 'gamasol': 8302, 'badness': 8303, 'launched': 8304, 'brightest': 8305, 'branched': 8306, 'mediums': 8307, 'markets': 8308, 'indestructible': 8309, 'colorist': 8310, 'gained': 8311, 'sedan': 8312, 'every1': 8313, 'corpul': 8314, 'drivel': 8315, 'fence': 8316, 'clthes': 8317, 'portability': 8318, 'ridden': 8319, 'hestitate': 8320, 'shattered': 8321, 'practices': 8322, 'farmer': 8323, 'rejects': 8324, 'heating': 8325, 'hovered': 8326, 'amzn': 8327, 'b00cdinutk': 8328, 'rubble': 8329, 'frugally': 8330, 'witch': 8331, 'biger': 8332, 'foams': 8333, 'stumbles': 8334, 'failure': 8335, 'object': 8336, 'boosted': 8337, 'american': 8338, 'eclipse': 8339, 'deighted': 8340, 'internship': 8341, \"y'\": 8342, 'active': 8343, 'corolla': 8344, 'hunch': 8345, 'patience': 8346, 'r3vnypcjkur8bw': 8347, 'b1sseivp': 8348, 'os': 8349, '915sb4pmjns': 8350, 'household': 8351, 'butts': 8352, 'gripes': 8353, 'gramma': 8354, 'latter': 8355, 'communicative': 8356, 'crossed': 8357, 'awkwardly': 8358, 'sling': 8359, 'carrier': 8360, 'lyft': 8361, 'indoor': 8362, 'exiting': 8363, 'unfortunate': 8364, 'referring': 8365, 'theoretically': 8366, 'snuggles': 8367, '2004': 8368, 'mirrors': 8369, 'brushes': 8370, 'pothole': 8371, 'england': 8372, 'courteously': 8373, 'shinny': 8374, 'arrow': 8375, 'nuts': 8376, 'benefited': 8377, 'exacerbated': 8378, 'slickness': 8379, 'gman': 8380, 'catnapper': 8381, 'crate': 8382, 'favorable': 8383, 'explorer': 8384, 'deliver': 8385, 'relocating': 8386, 'okey': 8387, 'eh': 8388, 'constipated': 8389, 'eats': 8390, 'irs': 8391, 'sceptical': 8392, 'loaf': 8393, 'depiction': 8394, 'indicates': 8395, 'trigger': 8396, 'hahahah': 8397, 'gem': 8398, 'nap': 8399, 'uselessness': 8400, 'holy': 8401, 'smokes': 8402, 'moist': 8403, 'slumping': 8404, 'workdays': 8405, '2hrs': 8406, 'auditing': 8407, '5yo': 8408, 'hurs': 8409, 'highlighting': 8410, 'lik': 8411, \"your're\": 8412, 'addressing': 8413, 'lease': 8414, 'ergonomicly': 8415, 'bur': 8416, 'castel': 8417, 'sey': 8418, 'grate': 8419, 'bolsters': 8420, 'offset': 8421, 'displacing': 8422, 'unpleasantness': 8423, 'surf': 8424, 'backed': 8425, 'warfare': 8426, 'emit': 8427, 'enhancement': 8428, 'exiled': 8429, 'outgasses': 8430, 'benign': 8431, 'betting': 8432, 'pump': 8433, 'tube': 8434, 'ziplok': 8435, 'respiratory': 8436, '134': 8437, 'memorizing': 8438, 'remembers': 8439, 'christened': 8440, 'preferable': 8441, 'boo': 8442, 'linking': 8443, 'ptoduct': 8444, 'communication': 8445, 'pm': 8446, 'ulnar': 8447, 'channel': 8448, 'beanbags': 8449, 'dyscem': 8450, 'techology': 8451, 'unplug': 8452, 'meditate': 8453, 'themes': 8454, 'housed': 8455, 'accomplishes': 8456, 'shipppng': 8457, '20mins': 8458, 'gripped': 8459, 'duable': 8460, 'freaking': 8461, 'deity': 8462, 'fibroid': 8463, 'chaise': 8464, 'restore': 8465, 'bane': 8466, 'existence': 8467, '2pkg': 8468, 'willie': 8469, 'mae': 8470, 'degraffenried': 8471, 'murder': 8472, 'harped': 8473, 'bosom': 8474, 'cursed': 8475, 'edward': 8476, 'scissorhands': 8477, 'basket': 8478, 'attending': 8479, 'ceatica': 8480, 'cintiq': 8481, 'wondered': 8482, 'ouwch': 8483, 'intake': 8484, 'ta': 8485, 'poster': 8486, 'seater': 8487, 'ignored': 8488, 'smoothing': 8489, 'chiropractic': 8490, 'mood': 8491, 'markedly': 8492, 'movie': 8493, 'grumpy': 8494, 'men': 8495, 'b4': 8496, 'brainer': 8497, 'leary': 8498, 'treestand': 8499, 'hunting': 8500, 'camo': 8501, 'hunters': 8502, '260': 8503, 'mailing': 8504, 'shining': 8505, 'thickest': 8506, 'impacts': 8507, 'convence': 8508, 'tempered': 8509, 'reservation': 8510, 'pardon': 8511, 'moldy': 8512, 'suprised': 8513, 'verizon': 8514, 'barcodes': 8515, 'golf': 8516, 'brilliantly': 8517, 'poker': 8518, 'tasks': 8519, 'novelty': 8520, 'responsible': 8521, 'smallest': 8522, 'orangeish': 8523, '78': 8524, 'wi': 8525, 'workplace': 8526, 'cushilon': 8527, 'peeled': 8528, 'floppy': 8529, 'slops': 8530, 'decreasing': 8531, 'trialling': 8532, 'elementary': 8533, 'loss': 8534, 'ragged': 8535, '210lbs': 8536, 'highier': 8537, 'wante': 8538, 'dto': 8539, 'ungraded': 8540, 'slipperiness': 8541, 'levers': 8542, 'happiest': 8543, 'smoothness': 8544, 'paperback': 8545, 'dictionary': 8546, 'sil': 8547, 'generates': 8548, 'machines': 8549, 'bd': 8550, 'steadily': 8551, \"gel'y\": 8552, 'unhealthy': 8553, 'subject': 8554, 'lining': 8555, 'easiness': 8556, 'iconcepts': 8557, 'circular': 8558, 'mundane': 8559, 'matted': 8560, 'azz': 8561, 'presence': 8562, 'gadd': 8563, 'reporter': 8564, 'extending': 8565, 'steno': 8566, 'blame': 8567, 'idk': 8568, '5yrs': 8569, 'misplaced': 8570, 'whichever': 8571, 'writ': 8572, '88': 8573, 'equals': 8574, 'beans': 8575, 'jazzercise': 8576, 'leggings': 8577, '80s': 8578, 'pan': 8579, 'greasy': 8580, 'veryyy': 8581, 'supinate': 8582, 'pinky': 8583, 'passing': 8584, 'pudendal': 8585, 'neuralgia': 8586, 'tests': 8587, 'negatively': 8588, 'flexing': 8589}\n"
     ]
    }
   ],
   "source": [
    "print(tokenizer.word_index)"
   ]
  },
  {
   "cell_type": "code",
   "execution_count": 80,
   "metadata": {
    "ExecuteTime": {
     "end_time": "2020-12-23T21:10:14.142269Z",
     "start_time": "2020-12-23T21:10:14.135291Z"
    }
   },
   "outputs": [
    {
     "name": "stdout",
     "output_type": "stream",
     "text": [
      "OrderedDict([('too', 779), ('hard', 669), ('no', 741), ('cush', 4), ('to', 7703), ('the', 14185), ('cushion', 1837), ('for', 6858), ('a', 9614), ('mouse', 2248), ('pad', 2355), ('this', 5540), ('thing', 281), ('is', 5583), ('awesome', 155), ('great', 3006), ('my', 6696), ('wrist', 2152), ('and', 10085), ('hand', 321), ('both', 150), ('are', 2345), ('feeling', 77), ('good', 2302), ('after', 898), ('using', 964), ('instead', 82), ('of', 5157), ('fatiqued', 1), ('beautiful', 99), ('set', 493), ('quality', 1028), ('pencils', 2346), ('these', 1929), ('much', 930), ('nicer', 16), ('than', 868), ('crayola', 204), ('such', 121), ('variety', 288), ('colors', 2125), ('they', 1828), ('work', 1164), ('adult', 414), ('coloring', 904), ('books', 330), ('i', 14735), ('ordered', 259), ('dad', 42), ('since', 287), ('he', 406), ('has', 1420), ('back', 1434), ('problem', 173), ('now', 757), ('seems', 294), ('happy', 446), ('with', 3024), ('it', 10835), ('if', 933), ('does', 1074), (\"n't\", 2427), ('give', 257), ('him', 100), ('any', 433), (\"'m\", 740), ('so', 2484), ('getting', 243), ('another', 363), ('one', 1764), ('myself', 126), ('because', 591), ('have', 3009), ('problems', 215), ('as', 2466), ('well', 1258), ('little', 554), ('more', 1241), ('firm', 296), ('expected', 288), ('will', 836), ('take', 195), ('used', 712), ('am', 856), ('not', 2858), ('fan', 26), ('gel', 1012), ('portion', 36), ('feels', 367), ('like', 1643), ('balled', 3), ('up', 845), ('plastic', 101), ('bags', 14), ('rather', 72), ('exactly', 229), ('what', 832), ('read', 61), ('about', 553), ('thanks', 171), ('comfortable', 2031), ('rest', 603), ('its', 492), ('ok', 185), ('guess', 79), ('but', 2856), ('others', 150), ('stated', 21), ('make', 247), ('crinkle', 8), ('sound', 45), ('can', 709), ('already', 160), ('see', 215), ('that', 2769), ('grip', 28), ('part', 180), ('starting', 61), ('seperate', 1), ('probably', 143), ('use', 1632), ('anyways', 8), ('better', 709), ('nothing', 111), ('cheap', 177), ('was', 2404), ('do', 1422), ('feel', 401), ('messing', 2), ('return', 99), ('would', 1381), ('advise', 7), ('ordering', 37), ('something', 228), ('else', 58), ('pleased', 162), ('you', 2050), ('pivoting', 1), ('your', 795), ('control', 19), ('move', 160), ('elbow', 18), ('or', 890), ('arm', 68), (\"'s\", 1706), ('indented', 19), ('on', 3050), ('former', 2), ('group', 12), ('fantastic', 53), ('recommended', 102), ('love', 1188), ('those', 150), ('who', 342), ('spend', 114), ('many', 337), ('hours', 482), ('at', 1719), ('computer', 473), ('worth', 211), ('upgrade', 10), ('from', 1082), ('standard', 26), ('very', 2857), ('support', 746), ('arrived', 183), ('time', 987), ('pictured', 8), ('works', 815), ('sits', 74), ('high', 247), ('in', 3592), ('car', 589), ('tall', 40), ('wo', 86), ('nice', 1178), ('pack', 105), ('50', 186), ('assorted', 12), ('however', 244), ('there', 646), ('choose', 76), ('misleading', 14), ('package', 94), ('claims', 6), ('red', 169), ('color', 1550), ('burnt', 8), ('orange', 72), ('ish', 1), ('dark', 98), ('green', 92), ('blue', 108), ('light', 146), (\"'re\", 253), ('into', 178), ('darker', 52), ('then', 240), ('want', 203), ('lighter', 45), ('money', 189), ('got', 528), ('few', 443), ('months', 231), ('ago', 146), ('splitting', 6), ('top', 139), ('felt', 123), ('started', 205), ('coming', 42), ('off', 401), ('2', 369), ('weeks', 135), ('buying', 137), ('came', 170), ('all', 1134), ('loose', 18), ('boxes', 25), ('had', 1160), ('come', 125), ('open', 77), ('an', 760), ('hour', 119), ('trying', 77), ('separate', 12), ('two', 364), ('out', 716), ('were', 520), ('duplicate', 8), ('fast', 157), ('shipping', 120), ('product', 1401), ('okay', 85), ('beginner', 16), ('children', 40), ('price', 1052), ('difference', 285), ('item', 250), ('thumbs', 6), ('going', 218), ('order', 145), ('around', 265), ('seats', 57), ('super', 139), ('perfect', 454), ('kids', 121), ('pillow', 365), ('provides', 121), ('excellent', 287), ('relief', 247), ('coccyx', 188), ('area', 186), ('satisfied', 85), ('mom', 90), ('law', 25), ('our', 136), ('oak', 2), ('dining', 20), ('room', 86), ('chairs', 117), ('find', 228), ('advertised', 102), ('really', 1152), ('allows', 53), ('smooth', 235), ('movement', 40), ('microsoft', 20), ('surface', 195), ('arc', 2), ('dynex', 1), ('dx', 1), ('wmse', 1), ('which', 503), ('laser', 57), ('mice', 66), ('effective', 34), ('tracking', 31), ('lasers', 2), ('cursor', 12), ('controlled', 1), ('soft', 477), ('still', 467), ('supportive', 81), ('thick', 123), ('jelly', 3), ('consistency', 7), ('definitely', 331), ('purchasing', 52), ('girl', 6), ('loved', 141), ('them', 1228), ('seat', 519), ('drive', 94), ('without', 315), ('becoming', 10), ('uncomfortable', 203), ('sitting', 807), ('during', 93), ('long', 760), ('thank', 219), ('flattened', 31), ('less', 187), ('useable', 2), ('when', 1133), ('pain', 1459), ('initially', 16), ('smell', 253), ('odor', 50), ('days', 338), ('be', 1370), ('quite', 225), ('fair', 25), ('mousepad', 214), ('6th', 3), ('attempt', 3), ('posting', 4), ('review', 144), ('point', 129), ('think', 321), ('anything', 80), ('post', 23), ('accepted', 2), ('holds', 54), ('dust', 14), ('easy', 257), ('clean', 51), ('sit', 753), ('sadly', 15), ('case', 57), ('did', 617), ('resolve', 3), ('cause', 43), ('must', 90), ('made', 553), ('looks', 181), ('last', 225), ('comfy', 259), ('size', 196), ('sturdy', 91), ('low', 86), ('truly', 18), ('far', 397), ('purchase', 346), ('we', 375), ('professional', 38), ('packaging', 63), ('me', 1229), ('wondering', 6), ('soon', 66), ('opened', 52), ('ot', 2), ('satisfyed', 1), ('purchased', 440), ('book', 224), ('combination', 15), ('remember', 22), ('relax', 14), ('release', 6), ('inner', 4), ('artist', 97), ('liked', 120), ('first', 436), ('downstairs', 2), ('totally', 44), ('makes', 406), ('semi', 8), ('office', 510), ('chair', 926), ('usable', 14), ('day', 673), ('needed', 313), ('wish', 256), ('softer', 105), ('imagine', 29), ('trade', 5), ('squish', 11), ('almost', 182), ('every', 260), ('except', 38), ('compared', 58), ('responsive', 4), ('lazer', 2), ('most', 255), ('colored', 650), ('add', 56), ('collections', 2), ('several', 186), ('seem', 163), ('lavender', 4), ('tones', 25), ('hold', 71), ('sharpening', 59), ('lead', 211), ('difficult', 60), ('get', 848), ('deep', 32), ('saturation', 20), ('frustrating', 10), ('increase', 4), ('pressure', 370), ('deeper', 22), ('tends', 15), ('break', 196), ('other', 545), ('offer', 32), ('midrange', 2), ('shading', 29), ('ombre', 2), ('buy', 532), ('again', 403), ('same', 342), ('photo', 16), ('previous', 49), ('version', 51), ('stiff', 102), ('foam', 454), ('bought', 1041), ('go', 346), ('optical', 96), ('ca', 173), ('even', 448), ('way', 285), ('reflective', 7), ('disappointed', 170), ('belkin', 321), ('should', 222), ('send', 14), ('actual', 55), ('model', 27), ('replace', 78), ('person', 86), ('desk', 422), ('8', 122), ('especially', 128), ('considering', 27), ('value', 153), ('ratio', 2), ('popular', 5), ('brand', 166), ('name', 73), ('right', 342), ('delivery', 70), ('barely', 32), ('missed', 5), ('waited', 9), ('try', 173), ('bad', 217), ('potato', 2), ('wrapped', 5), ('diaper', 5), ('hear', 14), ('press', 116), ('looking', 302), ('somewhat', 31), ('ergonomic', 77), ('dehydrated', 1), ('lettuce', 1), ('lyra', 2), ('just', 1260), ('some', 729), ('breaking', 62), ('cost', 55), ('lot', 546), ('say', 234), ('fine', 244), ('need', 353), ('gift', 354), ('comfilife', 175), ('helped', 314), ('bulging', 9), ('discs', 21), ('deal', 130), ('position', 90), ('continue', 34), ('doing', 76), ('things', 68), ('cards', 2), ('mahjong', 1), ('by', 272), ('therapist', 3), ('help', 330), ('broken', 99), ('ass', 18), ('addition', 27), ('fact', 69), ('reviewers', 37), ('pointed', 5), ('wrest', 18), ('material', 206), ('lie', 6), ('flat', 190), ('meant', 14), ('stalled', 1), ('jumped', 5), ('screen', 15), ('15', 44), ('memory', 271), ('staples', 6), ('worked', 113), ('perfectly', 113), ('sharpen', 240), ('pointy', 4), ('intricate', 10), ('details', 8), ('tried', 230), ('xmas', 4), ('present', 34), ('why', 89), ('greatest', 16), ('sliced', 1), ('bread', 1), ('reduced', 38), ('arthritis', 46), ('therefore', 14), ('notice', 51), (\"'ve\", 520), ('been', 643), ('plus', 60), ('know', 205), ('goes', 103), ('clear', 14), ('paper', 189), ('went', 115), ('road', 48), ('trip', 103), ('served', 8), ('purpose', 59), ('performance', 15), ('cure', 11), ('old', 357), ('sore', 102), ('intended', 27), ('helps', 464), ('prevent', 43), ('carpal', 100), ('tunnel', 132), ('flaring', 3), ('recommendt', 1), ('his', 194), ('m', 81), ('511', 1), ('180lbs', 3), ('bit', 378), ('narrow', 13), ('cheeks', 9), ('disclaimer', 1), ('ve', 34), ('told', 25), ('occasions', 1), ('junk', 10), ('trunk', 2), ('average', 43), ('caucasian', 1), ('male', 10), ('body', 78), ('type', 83), ('pretty', 310), ('overall', 142), ('only', 656), ('actualnred', 1), ('stuff', 34), ('sounds', 32), ('u', 21), ('wife', 199), ('she', 559), ('loves', 296), ('daughter', 129), ('drawing', 58), ('bright', 138), ('flows', 2), ('along', 68), ('lots', 130), ('options', 38), ('lightly', 13), ('fairly', 69), ('easily', 199), ('evenly', 24), ('wanted', 201), ('maybe', 101), ('heavier', 15), (\"'d\", 149), ('nonetheless', 4), ('driving', 202), ('page', 50), ('differs', 4), ('vastly', 6), ('pencil', 451), ('purposes', 21), ('small', 202), ('woman', 12), ('larger', 87), ('happened', 13), ('thinner', 17), ('discount', 11), ('store', 56), ('while', 538), ('checkout', 1), ('line', 36), ('working', 163), ('brilliant', 8), ('hoped', 47), ('wise', 15), ('adequate', 16), ('harry', 3), ('potter', 3), ('chose', 26), ('suffer', 26), ('syndrome', 41), ('black', 159), ('assist', 2), ('hiding', 2), ('spots', 15), ('may', 172), ('occur', 3), ('natural', 21), ('skin', 42), ('oils', 2), ('waverest', 79), ('offers', 23), ('appearance', 11), ('visitors', 1), ('home', 283), ('husband', 197), ('travel', 50), ('trailer', 2), ('enough', 363), ('taken', 23), ('over', 360), ('sciatica', 254), ('lower', 338), ('issues', 222), ('couch', 19), ('table', 59), ('crazy', 20), ('ended', 54), ('thin', 35), ('trackball', 20), ('ample', 5), ('self', 15), ('pancake', 8), ('gave', 117), ('90', 15), ('lb', 13), ('grandmother', 9), ('glad', 113), ('reason', 101), ('alone', 7), ('amazing', 133), ('job', 254), ('comfort', 283), ('found', 225), ('sooner', 29), ('kitchen', 19), ('here', 89), ('quckly', 2), ('periods', 164), ('vehicle', 24), ('weigh', 24), ('7', 49), ('completely', 89), ('leaving', 16), ('disappointing', 26), ('nicely', 91), ('taste', 5), ('contoured', 5), ('put', 157), ('threw', 17), ('away', 185), ('fellowes', 14), ('plushtouch', 1), ('upc', 1), ('043859638802', 1), ('received', 158), ('yesterday', 23), ('hopes', 15), ('reducing', 17), ('chinese', 4), ('air', 65), ('filled', 39), ('firmer', 33), ('quickly', 121), ('corner', 8), ('returns', 6), ('hope', 65), ('newness', 3), ('wears', 15), ('softens', 11), ('substantially', 5), ('helpful', 100), ('box', 323), ('spilled', 11), ('their', 170), ('floating', 3), ('points', 24), ('priority', 3), ('ill', 12), ('writing', 24), ('asked', 18), ('before', 268), ('always', 123), ('apart', 72), ('pads', 157), ('care', 28), ('simple', 51), ('multiple', 39), ('exact', 33), ('pissed', 1), ('purple', 39), ('fits', 92), ('glide', 22), ('keep', 259), ('quiet', 2), ('regret', 26), ('window', 11), ('row', 9), ('front', 108), ('half', 57), ('relieve', 123), ('leg', 80), ('bounces', 4), ('full', 52), ('thickness', 29), ('causes', 27), ('moving', 38), ('email', 11), ('messages', 3), ('subfolders', 1), ('inbox', 1), ('placing', 9), ('message', 5), ('wrong', 62), ('folder', 4), ('stop', 28), ('second', 186), ('restart', 1), ('process', 13), ('also', 575), ('responding', 3), ('neoprene', 11), ('compatible', 2), ('invites', 1), ('desktop', 24), ('stretches', 9), ('tablet', 3), ('laptop', 50), ('improves', 8), ('everyday', 61), ('experience', 67), ('having', 263), ('end', 130), ('palm', 38), ('big', 204), ('allow', 29), ('plenty', 47), ('described', 139), ('conditions', 5), ('longer', 221), ('slide', 65), ('due', 108), ('shape', 188), ('terrible', 65), ('recommend', 664), ('anyone', 186), ('lightweight', 6), ('sciatic', 108), ('wider', 46), ('overweight', 3), ('minimal', 12), ('usage', 30), ('sort', 34), ('weird', 38), ('crunching', 4), ('products', 93), (\"'ll\", 172), ('elsewhere', 15), ('future', 42), ('purchases', 8), ('inform', 1), ('oh', 34), ('lend', 1), ('surely', 7), ('mousr', 1), ('patii', 1), ('pro', 13), ('con', 14), ('seating', 33), ('truck', 61), ('noticeable', 34), ('unfortunately', 49), ('tips', 57), ('seemed', 54), ('left', 63), ('waxy', 43), ('residue', 3), ('paid', 55), ('5', 249), ('year', 210), ('ohuhu', 2), ('ton', 13), ('takes', 124), ('tailbone', 391), ('spent', 26), ('extra', 82), ('3', 205), ('bubbling', 3), ('fabric', 99), ('separating', 4), ('avoid', 19), ('decided', 90), ('expensive', 103), ('covers', 9), ('though', 243), ('missing', 41), ('classic', 6), ('pull', 13), ('keyboard', 104), ('tray', 17), ('supah', 2), ('dope', 2), ('inexpensive', 55), ('reading', 24), ('whole', 57), ('complaints', 60), ('trouble', 30), ('typing', 24), ('positioned', 9), ('making', 92), ('straight', 50), ('bent', 5), ('sure', 215), ('ummmmmmm', 1), ('shown', 9), ('shipped', 42), ('promptly', 13), ('thanx', 4), ('bus', 10), ('heard', 9), ('ones', 121), ('improve', 13), ('stored', 5), ('bottom', 177), ('choice', 48), ('involved', 3), ('motorcycle', 2), ('accident', 11), ('fractured', 19), ('couple', 181), ('different', 385), ('donut', 17), ('style', 29), ('cushions', 124), ('negative', 26), ('tad', 10), (\"5'5\", 3), ('200lbs', 2), ('generous', 1), ('backside', 13), ('inch', 35), ('4', 168), ('1', 133), ('could', 398), ('word', 15), ('warning', 7), ('live', 30), ('cooler', 2), ('climates', 1), ('leave', 56), ('overnight', 3), ('once', 93), ('gets', 112), ('cold', 7), ('warm', 17), ('soften', 15), ('wooden', 42), ('returning', 35), ('helping', 65), ('flights', 14), ('month', 80), ('europe', 3), ('us', 41), ('needs', 100), ('91', 2), ('young', 15), ('sister', 30), ('fallen', 9), ('spoke', 1), ('her', 336), ('today', 58), ('remarked', 3), ('giving', 72), ('appreciate', 13), ('follow', 5), ('says', 103), ('done', 57), ('commute', 12), ('replaced', 48), ('bulkier', 2), ('pass', 10), ('fit', 87), ('compresses', 10), ('ever', 182), ('damp', 6), ('pieces', 16), ('grand', 17), ('pregnant', 46), ('plans', 5), ('later', 55), ('selection', 188), ('extended', 46), ('square', 9), ('bubbled', 5), ('2000', 2), ('precision', 5), ('dps', 1), ('wonderfully', 19), ('blend', 124), ('broke', 56), ('yet', 148), ('regardless', 7), ('how', 344), ('spongy', 4), ('older', 63), ('tha', 2), ('buyer', 6), ('beware', 8), ('pleasantly', 15), ('surprised', 57), ('adjust', 35), ('heights', 1), ('optimal', 2), ('level', 40), ('10', 179), ('dense', 18), ('softness', 12), ('cover', 131), ('built', 31), ('handle', 55), ('side', 106), ('carrying', 24), ('stadium', 7), ('traveling', 23), ('corrpal', 1), ('releaved', 2), ('tail', 103), ('bone', 129), ('look', 182), ('never', 189), ('down', 370), ('son', 70), ('saw', 52), ('new', 357), ('a1', 3), ('impressed', 37), ('extraordinarily', 3), ('charm', 9), ('able', 152), ('inside', 98), ('weekend', 13), ('zipper', 17), ('zip', 8), ('mold', 5), ('years', 395), ('coffee', 12), ('scented', 2), ('trips', 48), ('thankful', 3), ('expecting', 61), ('description', 24), ('pictures', 32), ('seen', 28), ('zero', 15), ('165', 2), ('pounds', 16), ('note', 21), ('customer', 47), ('service', 66), ('saved', 49), ('shift', 21), ('anymore', 62), ('programmer', 4), ('video', 37), ('game', 18), ('enthusiast', 1), ('through', 61), ('torture', 4), ('absurdly', 1), ('outside', 57), ('paint', 10), ('wishing', 14), ('workmanship', 1), ('alot', 32), ('wonderful', 143), ('pared', 2), ('thaws', 1), ('yellow', 28), ('shades', 187), ('wear', 77), ('fantasia', 2), ('best', 324), ('returned', 51), ('brands', 88), ('issue', 92), ('designed', 40), ('shapes', 6), ('sizes', 4), ('adjusts', 6), ('cut', 71), ('correct', 29), ('boss', 4), ('array', 21), ('hello', 5), ('prevents', 17), ('injury', 47), ('sooooo', 7), ('christine', 1), ('actually', 221), ('update', 66), ('granddaughter', 34), ('christmas', 86), ('nissan', 1), ('versa', 2), ('orthopaedic', 1), ('mother', 70), ('stolen', 1), ('posture', 115), ('tiring', 4), ('gaming', 84), ('general', 22), ('wrapper', 6), ('greens', 51), ('blues', 47), ('similar', 118), ('pins', 1), ('needles', 1), ('legs', 106), ('hopeful', 6), ('psoriatic', 1), ('2nd', 22), ('often', 77), ('regular', 78), ('enjoy', 67), ('fun', 74), ('themselves', 17), ('scratchy', 8), ('lay', 39), ('crayons', 45), ('choices', 44), ('pigment', 42), ('expect', 86), ('faber', 6), ('castell', 2), ('triangular', 1), ('eco', 2), ('realize', 27), ('possibly', 13), ('batch', 6), ('weak', 12), ('amount', 104), ('afford', 6), ('mentioned', 32), ('shade', 71), ('friends', 38), ('recovering', 14), ('surgery', 95), ('illness', 4), ('course', 25), ('sent', 35), ('sharpener', 75), ('given', 69), ('folks', 11), ('appreciated', 8), ('drawback', 5), ('particularly', 15), ('women', 3), ('derriers', 1), ('tend', 34), ('widerspread', 1), ('non', 79), ('slip', 70), ('packing', 7), ('caught', 4), ('pooch', 1), ('curled', 4), ('comifilife', 2), ('timely', 11), ('manner', 9), ('hopefully', 19), ('stay', 69), ('hurt', 128), ('stopping', 4), ('slipping', 4), ('kinda', 21), ('curios', 1), ('lock', 8), ('close', 45), ('nt', 57), ('worn', 56), ('center', 61), ('wireless', 52), ('unless', 51), ('kick', 2), ('butt', 122), ('real', 68), ('effects', 7), ('assortment', 115), ('ability', 14), ('huge', 85), ('immediately', 54), ('padding', 81), ('honestly', 29), ('anywhere', 27), ('near', 34), ('whatever', 31), ('damaged', 16), ('disorganized', 2), ('unacceptable', 5), ('faint', 20), ('forth', 11), ('13', 19), ('plane', 20), ('ride', 31), ('seated', 22), ('entire', 28), ('flight', 35), ('took', 112), ('8hr', 2), ('family', 65), ('5hrs', 1), ('hardly', 22), ('siatica', 6), ('dinner', 8), ('three', 55), ('star', 95), ('rating', 27), ('continues', 6), ('sometimes', 66), ('brief', 3), ('moments', 3), ('achy', 11), ('typical', 14), ('k12', 2), ('school', 52), ('supply', 10), ('extremely', 104), ('neck', 32), ('shoulders', 4), ('thought', 194), ('beat', 31), ('crinkles', 11), ('silicone', 2), ('bean', 2), ('bag', 42), ('worthless', 5), ('smaller', 49), ('people', 115), ('fat', 8), ('wrists', 97), ('noisiest', 1), ('earth', 11), ('gon', 5), ('na', 15), ('throw', 16), ('silver', 77), ('tho', 11), ('noticeably', 8), ('smoothly', 87), ('whatsoever', 14), ('within', 70), ('minutes', 93), ('suggest', 35), ('supports', 60), ('spine', 79), ('quantity', 4), ('spinal', 18), ('required', 20), ('pillows', 31), ('remain', 12), ('recovers', 1), ('budget', 8), ('upgraded', 7), ('art', 166), ('march', 8), ('2017', 5), ('changing', 8), ('poor', 45), ('prang', 21), ('sergeant', 6), ('drag', 14), ('wide', 70), ('re', 23), ('stack', 2), ('tell', 84), ('pulled', 12), ('drags', 2), ('layer', 47), ('either', 74), ('earlier', 21), ('said', 135), ('truth', 7), ('equal', 3), ('absolutely', 96), ('fabulous', 10), ('highly', 259), ('promises', 2), ('areas', 18), ('artsy', 3), ('niece', 22), ('next', 77), ('own', 57), ('thereafter', 1), ('judge', 3), ('acceptable', 6), ('fill', 15), ('sets', 51), ('supplementing', 2), ('yay', 6), ('harder', 58), ('appear', 18), ('vibrant', 188), ('likes', 69), ('design', 79), ('dresses', 2), ('closer', 4), ('everywhere', 51), ('minivan', 1), ('odyssey', 1), ('pre', 17), ('teen', 6), ('draw', 44), ('uses', 96), ('garish', 1), ('event', 3), ('elderly', 14), ('overboard', 2), ('concept', 2), ('began', 27), ('form', 49), ('permanent', 13), ('twice', 19), ('week', 184), ('offices', 5), ('relieves', 67), ('strain', 48), ('rsi', 1), ('otherwise', 68), ('healthy', 13), ('users', 17), ('shaped', 23), ('snugly', 1), ('increased', 5), ('slightly', 73), ('aspects', 1), ('12', 58), ('marking', 2), ('text', 2), ('specifically', 5), ('mark', 5), ('contrast', 8), ('between', 72), ('challenging', 5), ('impossible', 20), ('white', 108), ('useless', 21), ('being', 179), ('each', 95), ('sargent', 124), ('prismacolor', 81), ('cra', 6), ('z', 7), ('results', 33), ('prisma', 36), ('marked', 9), ('range', 70), ('pink', 39), ('peach', 6), ('flesh', 4), ('tone', 14), ('contain', 9), ('reds', 28), ('number', 32), ('bold', 22), ('contained', 2), ('hardest', 4), ('four', 35), ('early', 30), ('rate', 16), ('accurately', 6), ('gentle', 6), ('soreness', 21), ('afterwards', 9), ('lost', 50), ('pring', 1), ('sedentary', 4), ('mesh', 13), ('bells', 1), ('whistles', 1), ('shoulder', 17), ('daily', 83), ('moved', 18), ('monitors', 4), ('stretched', 1), ('regularly', 9), ('shopping', 12), ('online', 22), ('ran', 4), ('across', 41), ('considered', 6), ('figured', 20), ('sunday', 6), ('wednesday', 2), ('gives', 99), ('realized', 30), ('hurting', 84), ('realization', 3), ('familiar', 4), ('grandma', 7), ('interested', 8), ('picture', 54), ('closely', 6), ('collapse', 7), ('providing', 12), ('creating', 18), ('unusable', 15), ('higher', 88), ('crack', 7), ('tip', 31), ('suits', 3), ('ups', 18), ('delivered', 35), ('under', 86), ('construction', 23), ('house', 58), ('called', 26), ('rear', 26), ('door', 7), ('main', 25), ('steps', 3), ('ramp', 2), ('place', 165), ('covered', 17), ('protect', 11), ('weather', 5), ('soaked', 4), ('carry', 57), ('lumber', 4), ('upstairs', 3), ('heavy', 45), ('complain', 21), ('amazon', 147), ('sub', 6), ('driver', 41), ('keeps', 111), ('aware', 13), ('show', 43), ('bump', 19), ('height', 107), ('dirt', 18), ('suck', 6), ('worst', 29), ('waste', 43), ('autocad', 3), ('throughout', 22), ('raised', 30), ('armrest', 9), ('improvement', 38), ('fatigue', 29), ('happen', 9), ('drafting', 4), ('painful', 67), ('generally', 11), ('absolute', 17), ('world', 30), ('affordable', 31), ('step', 13), ('offered', 16), ('mostly', 33), ('pastel', 18), ('skip', 7), ('marks', 12), ('artists', 16), ('uour', 2), ('basic', 49), ('starter', 22), ('blended', 16), ('gold', 72), ('blender', 7), ('seeing', 11), ('posted', 11), ('disappointment', 14), ('decent', 103), ('stick', 37), ('life', 109), ('saver', 50), ('funny', 11), ('arrival', 13), ('basically', 24), ('board', 5), ('lick', 1), ('beneath', 7), ('weight', 79), ('175', 3), ('lbs', 42), ('carpel', 25), ('whether', 12), ('sensitive', 17), ('dissipated', 3), ('watch', 18), ('fall', 49), ('minus', 9), ('compress', 10), ('mf', 1), ('mattress', 12), ('bed', 21), ('trick', 30), ('paired', 5), ('lumbar', 58), ('function', 8), ('tracks', 8), ('convenient', 12), ('10min', 1), ('3hr', 1), ('6', 120), ('foot', 13), ('matter', 33), ('unexpected', 1), ('beyond', 10), ('excited', 16), ('rated', 20), ('provided', 39), ('pleasurable', 1), ('flowing', 2), ('strong', 74), ('alleviate', 47), ('investment', 25), ('sleek', 14), ('sooooooooooo', 1), ('chance', 34), ('springs', 4), ('bendable', 2), ('packs', 17), ('journaling', 2), ('bibles', 2), ('replacement', 55), ('supposed', 62), ('understanding', 1), ('compressible', 2), ('materials', 30), ('permanently', 7), ('depressed', 9), ('lose', 19), ('true', 65), ('rests', 33), ('versions', 9), ('dunno', 3), ('cheaper', 49), ('china', 6), ('college', 15), ('student', 24), ('pricey', 9), ('fighting', 4), ('everything', 64), ('free', 50), ('relaxed', 5), ('tired', 42), ('recently', 98), ('resulting', 8), ('decision', 13), ('cushiony', 5), ('strap', 12), ('gorgeous', 12), ('lovely', 24), ('opinion', 45), ('testing', 5), ('scratch', 5), ('smart', 5), ('caves', 3), ('relieved', 47), ('satified', 1), ('bigger', 53), ('complaint', 54), ('slippery', 14), ('900', 1), ('mile', 9), ('lifesaver', 19), ('poking', 2), ('edge', 35), ('minor', 10), ('detail', 10), ('squishy', 37), ('differ', 3), ('user', 30), ('third', 17), ('1980', 1), ('firs', 1), ('looked', 48), ('depression', 14), ('middle', 68), ('heavily', 2), ('comment', 18), ('durability', 23), ('signs', 11), ('comparable', 7), ('guys', 7), ('badly', 16), ('conforms', 27), ('eases', 13), ('god', 17), ('friend', 104), ('mine', 99), ('averaged', 1), ('ft', 4), ('guy', 21), ('mat', 23), ('priced', 46), ('rearrange', 3), ('moves', 39), ('yourself', 20), ('fully', 13), ('beneficial', 3), ('airport', 1), ('sat', 65), ('worse', 70), ('hands', 72), ('complained', 13), ('suppose', 26), ('deeply', 3), ('sunk', 4), ('seller', 52), ('colorful', 9), ('rainbow', 6), ('lacking', 12), ('browns', 5), ('realistic', 5), ('48', 24), ('blacks', 16), ('whites', 10), ('stars', 145), ('total', 19), ('skeptical', 12), ('forward', 30), ('reduces', 15), ('pampered', 2), ('possible', 26), ('setup', 5), ('rubber', 81), ('tire', 4), ('slippage', 4), ('greater', 10), ('important', 33), ('mapping', 1), ('def', 4), ('rich', 34), ('applied', 6), ('birthday', 26), ('fascinated', 1), ('metallic', 19), ('copper', 1), ('address', 6), ('useful', 30), ('serious', 35), ('creator', 1), ('collection', 19), ('child', 24), ('wants', 13), ('past', 63), ('lasted', 52), ('saying', 18), ('37', 5), ('250lbs', 1), ('outer', 10), ('liner', 1), ('removable', 17), ('putting', 32), ('might', 111), ('result', 23), ('mushy', 7), ('wobbly', 2), ('attention', 4), ('placed', 17), ('pelvis', 7), ('whack', 2), ('wayyy', 1), ('strongly', 11), ('cozy', 2), ('cyber', 2), ('monday', 6), ('flash', 3), ('19', 5), ('96', 4), ('exciting', 4), ('60', 7), ('tv', 20), ('busy', 4), ('until', 107), ('dying', 1), ('thirst', 1), ('water', 9), ('nerve', 65), ('horrible', 43), ('110', 1), ('osteoporosis', 2), ('71', 1), ('minute', 17), ('believe', 63), ('cross', 13), ('habit', 3), ('numb', 30), ('wait', 19), ('distracted', 1), ('pay', 63), ('75', 4), ('benefit', 9), ('receive', 18), (\"'\", 157), ('unbiased', 4), ('someone', 83), ('available', 31), ('locations', 4), ('logitech', 36), ('mouses', 12), ('particular', 26), ('terribly', 9), ('supper', 4), ('bearable', 20), ('recliner', 42), ('varity', 3), ('somehow', 8), ('travelling', 3), ('length', 31), ('tension', 8), ('crayols', 1), ('firmness', 33), ('allot', 4), ('five', 35), ('nics', 1), ('living', 19), ('reduce', 38), ('modern', 2), ('types', 22), ('saves', 29), ('yes', 80), ('fitsb', 1), ('including', 23), ('stand', 54), ('crayolas', 19), ('wood', 40), ('enjoyed', 21), ('burning', 7), ('projects', 27), ('marvelous', 2), ('bleed', 7), ('wet', 7), ('spray', 4), ('sealed', 5), ('masterpiece', 2), ('spare', 5), ('covering', 27), ('worlds', 1), ('smushed', 2), ('ideal', 18), ('factor', 11), ('breaks', 41), ('walk', 18), ('pick', 30), ('ymmv', 1), ('opportunity', 7), ('gifts', 46), ('div', 10), ('id', 5), ('block', 17), ('r1i2ye8oz99z5h', 1), ('class', 61), ('section', 16), ('spacing', 10), ('mini', 6), ('input', 12), ('hidden', 10), ('https', 12), ('images', 40), ('ssl', 10), ('com', 26), ('c1qlslen1', 1), ('s', 52), ('mp4', 5), ('url', 10), ('a1snxujadks', 1), ('png', 5), ('slate', 5), ('img', 5), ('nbsp', 23), ('quick', 55), ('unboxing', 2), ('click', 7), ('link', 52), ('below', 12), ('preference', 13), ('blendable', 5), ('stroke', 10), ('swatches', 4), ('scrap', 3), ('sheet', 10), ('idea', 38), ('terms', 5), ('easier', 58), ('write', 45), ('d', 50), ('owned', 27), ('smells', 54), ('talking', 7), ('fresh', 5), ('manufacturing', 7), ('chemical', 39), ('dirty', 39), ('stays', 72), ('embed', 1), ('itself', 71), ('washing', 14), ('damned', 2), ('sink', 19), ('soaps', 1), ('comes', 88), ('stronger', 8), ('doubted', 1), ('dead', 3), ('cells', 1), ('sluffing', 1), ('instantly', 19), ('recognized', 1), ('screw', 3), ('mail', 7), ('kid', 27), ('throwing', 9), ('piece', 49), ('dull', 49), ('un', 2), ('sharp', 53), ('explain', 3), ('w', 13), ('forever', 16), ('qualifying', 1), ('stave', 1), ('aching', 21), ('whilst', 2), ('intense', 25), ('forget', 17), ('handy', 12), ('tendonitis', 9), ('grove', 2), ('comfortably', 66), ('suffering', 32), ('unsuccessfully', 2), ('million', 3), ('times', 92), ('vs', 5), ('100', 38), ('fault', 6), ('birth', 4), ('downside', 10), ('lift', 22), ('onto', 22), ('match', 52), ('noise', 39), ('sometime', 3), ('changed', 46), ('slick', 10), ('comparison', 10), ('nylon', 9), ('mr', 2), ('chased', 2), ('voraciously', 1), ('hungry', 1), ('feline', 2), ('snag', 2), ('against', 19), ('bare', 8), ('initial', 7), ('reaction', 2), ('eww', 1), ('polyester', 5), ('adjusting', 10), ('speed', 7), ('notch', 14), ('suspect', 4), ('seriously', 21), ('fly', 1), ('desired', 13), ('midpoint', 1), ('prior', 20), ('buildup', 1), ('bring', 21), ('slow', 5), ('crawl', 1), ('eventually', 25), ('meantime', 1), ('shampooing', 1), ('bother', 27), ('hanging', 4), ('shortened', 1), ('expectancy', 1), ('appears', 35), ('suppliers', 1), ('logo', 12), ('stamping', 1), ('imho', 1), ('fix', 14), ('guessing', 6), ('simplest', 1), ('option', 19), ('date', 12), ('reasonably', 18), ('compact', 8), ('standpoint', 1), ('drops', 2), ('workout', 4), ('plain', 20), ('lean', 8), ('gone', 87), ('craftsmanship', 2), ('identical', 18), ('duplicating', 2), ('call', 17), ('large', 112), ('falling', 27), ('cushioned', 16), ('holding', 53), ('usa', 3), ('please', 26), ('remove', 26), ('info', 3), ('buttocks', 15), ('thighs', 26), ('matching', 7), ('indefinitely', 2), ('manage', 4), ('least', 88), ('raise', 15), ('wore', 24), ('where', 196), ('comforting', 4), ('flattering', 1), ('thingy', 1), ('pages', 31), ('verse', 1), ('concave', 10), ('feature', 12), ('six', 14), ('inches', 44), ('cubby', 1), ('hole', 16), ('developing', 5), ('symptoms', 8), ('tossed', 2), ('short', 78), ('according', 3), ('doctor', 28), ('opposite', 4), ('desirable', 1), ('m705', 1), ('ridiculous', 7), ('butterfly', 3), ('grew', 3), ('leads', 56), ('coloration', 3), ('hated', 9), ('careful', 11), ('direction', 5), ('condition', 45), ('pleasing', 3), ('tush', 19), ('constantly', 54), ('mainly', 13), ('pelvic', 11), ('floor', 25), ('muscle', 9), ('combined', 5), ('cutaway', 2), ('decide', 7), ('o', 17), ('company', 69), ('spot', 37), ('further', 15), ('straighter', 8), ('vendor', 4), ('responded', 2), ('questions', 6), ('hooked', 3), ('fourth', 5), ('entirely', 8), ('corners', 5), ('brick', 9), ('track', 34), ('properly', 38), ('rip', 7), ('longtime', 1), ('ex', 6), ('switched', 13), ('dollar', 14), ('sell', 5), ('existed', 2), ('certainly', 52), ('sleep', 14), ('provide', 57), ('space', 51), ('added', 28), ('behind', 26), ('wheel', 19), ('power', 5), ('feet', 24), ('passenger', 8), ('ways', 6), ('become', 40), ('hip', 117), ('tears', 9), ('currently', 15), ('focus', 8), ('dispatcher', 1), ('stress', 62), ('killing', 9), ('check', 15), ('reviews', 169), ('mention', 9), ('although', 71), ('piano', 5), ('bench', 13), ('slight', 40), ('inadequate', 2), ('core', 12), ('shadowing', 3), ('sketching', 11), ('vivid', 41), ('beautifully', 18), ('transfer', 19), ('feedback', 6), ('comments', 12), ('touch', 35), ('materiel', 3), ('slides', 19), ('anti', 11), ('jell', 7), ('tempurpedic', 4), ('ask', 18), ('rose', 13), ('compare', 25), ('stock', 6), ('sacrum', 7), ('died', 3), ('fifteen', 3), ('constant', 17), ('countless', 6), ('spills', 2), ('effortlessly', 8), ('protects', 5), ('crush', 1), ('skid', 21), ('protection', 6), ('proper', 19), ('related', 14), ('shiny', 16), ('reflects', 1), ('erratically', 2), ('lame', 4), ('lasts', 17), ('compressing', 3), ('probs', 1), ('jan', 1), ('2015', 4), ('3rd', 15), ('acting', 6), ('mean', 22), ('report', 5), ('bubble', 24), ('meaning', 5), ('bonded', 1), ('separated', 4), ('motion', 16), ('reported', 6), ('fixable', 1), ('bond', 1), ('rides', 19), ('refasten', 1), ('renders', 1), ('0', 10), ('minimum', 4), ('ache', 26), ('buttock', 5), ('piri', 1), ('stretcher', 2), ('stretch', 9), ('piriformis', 8), ('located', 1), ('excruciating', 6), ('dealing', 10), ('rori', 1), ('watercolor', 4), ('double', 12), ('sided', 5), ('24', 22), ('durable', 84), ('appropriately', 2), ('coverage', 21), ('creamy', 4), ('compressed', 19), ('disc', 36), ('surfaces', 28), ('somewhere', 13), ('protecting', 3), ('transport', 7), ('thx', 5), ('evening', 10), ('news', 4), ('slipped', 7), ('international', 5), ('opted', 7), ('puts', 20), ('rage', 2), (\"don't\", 6), ('depth', 18), ('astonished', 2), ('knows', 6), ('11', 22), ('hr', 12), ('wristmpad', 1), ('bill', 9), ('chiropractor', 8), ('plan', 31), ('cords', 1), ('knees', 9), ('carpeting', 1), ('dared', 1), ('worried', 17), ('ruin', 4), (\"didn't\", 3), ('kept', 45), ('yeah', 7), ('mixed', 13), ('fell', 56), ('herniated', 29), ('kind', 102), ('upon', 35), ('readjusting', 2), ('shifting', 5), ('reposition', 4), ('markers', 26), ('ball', 23), ('games', 30), ('bleachers', 10), ('hesitate', 8), ('trash', 17), ('compfy', 2), ('7mos', 1), ('freshly', 3), ('ironed', 1), ('merry', 1), ('tremendously', 38), ('events', 7), ('dent', 6), ('solved', 20), ('raw', 3), ('various', 25), ('discomfort', 100), ('movment', 1), ('cherry', 18), ('tan', 10), ('lime', 3), ('names', 41), ('sharpened', 82), ('cooling', 2), ('tushy', 3), ('stool', 5), ('observation', 1), ('buys', 2), ('solves', 6), ('favorite', 41), ('wrap', 9), ('fancy', 22), ('budding', 8), ('special', 27), ('9', 60), ('melts', 1), ('afraid', 9), ('flatten', 34), ('reach', 9), ('ground', 9), ('lol', 32), ('10yo', 2), ('nephew', 9), ('mehh', 1), ('niiiice', 1), ('flawlessly', 3), ('razer', 5), ('naga', 3), ('effect', 20), ('doubt', 9), ('everyone', 47), ('substancial', 1), ('ammount', 1), ('glance', 3), ('torn', 24), ('chipped', 1), ('warehouse', 6), ('noticed', 77), ('glides', 21), ('immediate', 20), ('copywriter', 1), ('brought', 14), ('booty', 4), ('locked', 1), ('cased', 1), ('developed', 18), ('closest', 2), ('thinks', 6), ('summer', 10), ('weekly', 3), ('park', 4), ('plays', 3), ('concerts', 1), ('items', 34), ('compares', 5), ('heavenly', 2), ('executive', 2), ('lately', 13), ('promised', 24), ('albeit', 3), ('doodling', 2), ('aaa', 2), ('dealer', 2), ('obvious', 6), ('lack', 25), ('leaks', 2), ('stiffen', 1), ('innovera', 17), ('ready', 15), ('nail', 2), ('tech', 4), ('clients', 3), ('normal', 76), ('wave', 20), ('apparent', 4), ('factory', 5), ('defect', 7), ('eased', 8), ('waiting', 13), ('father', 19), ('suffers', 12), ('tumor', 1), ('obviously', 26), ('fave', 1), ('tear', 17), ('additional', 15), ('pc', 26), ('application', 7), ('staying', 8), ('stopped', 30), ('terrific', 6), ('major', 26), ('glute', 1), ('understand', 17), ('unable', 23), ('build', 24), ('nature', 4), ('unusual', 4), ('nearly', 36), ('instruments', 4), ('deceptive', 2), ('affinity', 2), ('justice', 6), ('brown', 40), ('achieve', 8), ('tremendous', 12), ('hips', 61), ('pure', 11), ('garbage', 17), ('correspond', 2), ('example', 37), ('squeaks', 1), ('run', 19), ('cleaning', 8), ('multimedia', 1), ('designer', 6), ('business', 13), ('alleviates', 14), ('severe', 32), ('lived', 3), ('jamierski', 1), ('colord', 2), ('bitten', 1), ('bug', 1), ('dabble', 2), ('experienced', 22), ('brother', 12), ('blindly', 1), ('handed', 5), ('grade', 19), ('beginning', 23), ('colorists', 1), ('hate', 26), ('turned', 28), ('enjoyable', 17), ('hobby', 19), ('baby', 9), ('elbows', 2), ('beside', 2), ('eyes', 3), ('bathroom', 1), ('bedroom', 3), ('stink', 3), ('regards', 1), ('fred', 1), ('dando', 1), ('shows', 17), ('jul', 1), ('2016', 13), ('drove', 14), ('vacation', 12), ('airplane', 16), ('rental', 2), ('comflife', 3), ('enjoying', 38), ('fulfills', 1), ('prompt', 20), ('schooler', 2), ('verity', 3), ('broader', 3), ('crumbling', 5), ('silly', 8), ('disney', 5), ('nursery', 3), ('rhyme', 2), ('unhappy', 5), ('grown', 13), ('superior', 13), ('discoloring', 2), ('extremley', 1), ('everlasting', 2), ('mindful', 1), ('centered', 3), ('co', 10), ('worker', 7), ('agree', 15), ('performs', 10), ('functionality', 5), ('complaining', 11), ('legitimate', 4), ('airtight', 2), ('occurs', 4), ('trapped', 2), ('linger', 2), ('health', 14), ('vapors', 4), ('emitted', 4), ('mind', 29), ('let', 60), ('deter', 2), ('mitigates', 2), ('mitigation', 2), ('expedited', 2), ('exposing', 2), ('direct', 7), ('sunlight', 4), ('rarely', 12), ('rains', 2), ('garage', 9), ('deteriorate', 2), ('chemicals', 10), ('windows', 6), ('periodically', 3), ('electronics', 4), ('regarding', 8), ('burlap', 2), ('sack', 3), ('instant', 18), ('gratification', 2), ('expose', 3), ('storing', 4), ('inexpensively', 2), ('figure', 12), ('ensure', 3), ('bonding', 2), ('backing', 18), ('positive', 14), ('rid', 13), ('bargain', 11), ('functional', 15), ('rubs', 1), ('pleasant', 13), ('environment', 6), ('toxic', 18), ('pinching', 2), ('drives', 38), ('starts', 19), ('pinch', 1), ('extreme', 10), ('miracle', 12), ('boyfriend', 5), ('ceramacist', 1), ('sculptor', 2), ('together', 41), ('amounts', 4), ('yoga', 2), ('mats', 2), ('sleeping', 5), ('significant', 21), ('convinced', 4), ('insists', 1), ('curious', 3), ('equally', 2), ('pleasure', 11), ('friction', 13), ('strange', 12), ('skips', 2), ('taped', 3), ('standing', 28), ('walking', 5), ('swap', 1), ('pregnancy', 17), ('forces', 7), ('abs', 1), ('falls', 12), ('varied', 4), ('period', 39), ('amazed', 10), ('3500', 2), ('therapy', 16), ('messy', 6), ('pens', 19), ('devil', 2), ('container', 12), ('constructed', 9), ('flimsy', 30), ('hurts', 46), ('supported', 11), ('prefer', 47), ('unlike', 20), ('crumbled', 3), ('smears', 2), ('mrechant', 1), ('18', 13), ('y', 14), ('hahaha', 1), ('alleviated', 8), ('typically', 6), ('boat', 2), ('studying', 14), ('relaxing', 21), ('unsatisfactory', 3), ('passed', 9), ('artistic', 15), ('finds', 7), ('smoother', 18), ('apply', 25), ('favor', 9), ('deceiving', 4), ('temporarily', 3), ('miserable', 8), ('counting', 3), ('night', 28), ('wow', 17), ('keyboards', 10), ('sculpt', 1), ('chunkiness', 1), ('resting', 45), ('reticent', 1), ('church', 10), ('benches', 1), ('metak', 1), ('folding', 8), ('picnics', 1), ('start', 72), ('apon', 1), ('confortable', 15), ('manyh', 2), ('eye', 10), ('supporting', 16), ('edges', 42), ('frailed', 1), ('crayon', 10), ('unbeatable', 2), ('cushy', 24), ('eating', 4), ('meal', 4), ('paperwork', 2), ('supplies', 22), ('enables', 3), ('tacky', 1), ('horse', 2), ('saddle', 2), ('cutout', 11), ('blends', 12), ('restaurants', 9), ('feat', 1), ('misnamed', 1), ('taking', 53), ('ease', 39), ('bottoming', 2), ('overly', 7), ('akward', 1), ('flexible', 4), ('vanpool', 1), ('rollerblades', 1), ('leaned', 1), ('tiny', 12), ('hit', 16), ('nobody', 4), ('anyway', 23), ('density', 8), ('delighted', 6), ('solid', 60), ('mousers', 1), ('bulky', 20), ('original', 60), ('bonus', 14), ('alright', 15), ('ha', 3), ('e', 14), ('struggling', 5), ('physiatrist', 1), ('tolerable', 12), ('meds', 4), ('cry', 2), ('tripping', 1), ('distances', 17), ('perhaps', 26), ('account', 5), ('perspective', 1), ('unconfortable', 1), ('wound', 9), ('besides', 8), ('covr', 1), ('split', 12), ('smoothi', 1), ('fir', 2), ('r82xp9n5nav9h', 1), ('b16riyabp2s', 1), ('81qfzax7krs', 1), ('uneven', 4), ('dimpled', 1), ('annoying', 44), ('crinkly', 9), ('thinking', 30), ('reminded', 2), ('carnival', 1), ('prizes', 1), ('stuffed', 7), ('45', 5), ('cia', 1), ('device', 7), ('slowly', 10), ('insane', 1), ('deprivation', 1), ('waterboarding', 1), ('inhalation', 1), ('exhalation', 1), ('begun', 6), ('hearing', 2), ('dreams', 1), ('running', 7), ('hallway', 1), ('clad', 1), ('babies', 2), ('pit', 3), ('rolled', 7), ('stares', 1), ('nachos', 1), ('mouth', 3), ('wonder', 12), ('sells', 2), ('thorazine', 1), ('eligible', 1), ('prime', 13), ('simply', 28), ('fails', 5), ('attempts', 1), ('nope', 9), ('ear', 1), ('qc', 1), ('held', 50), ('removed', 14), ('brim', 1), ('ballcap', 1), ('completed', 3), ('lunch', 4), ('machine', 15), ('80', 17), ('20', 38), ('subway', 1), ('accompanying', 2), ('mailed', 3), ('separately', 2), ('arrive', 8), ('opening', 23), ('toss', 3), ('directly', 9), ('lemarchand', 1), ('lament', 1), ('configuration', 2), ('branded', 1), ('tape', 11), ('containing', 5), ('official', 1), ('accessory', 6), ('cenobites', 1), ('dimension', 2), ('grandson', 19), ('bummer', 2), ('replacing', 17), ('sufficient', 11), ('screens', 3), ('aweful', 3), ('disappear', 6), ('wonders', 23), ('orthopedic', 52), ('upset', 6), ('ripped', 19), ('contacted', 6), ('refunded', 6), ('deference', 2), ('tough', 10), ('poke', 3), ('originally', 27), ('asthmatics', 1), ('loving', 10), ('goopy', 1), ('internet', 9), ('scrolling', 8), ('divet', 2), ('crinkling', 18), ('response', 4), ('oozing', 2), ('insert', 9), ('160', 6), ('contours', 10), ('medium', 21), ('suspended', 3), ('causing', 27), ('literally', 28), ('smudge', 3), ('tin', 8), ('practical', 7), ('caved', 8), ('amazonbasics', 1), ('searched', 7), ('hot', 21), ('answer', 6), ('84', 5), ('fusion', 7), ('correctly', 11), ('aligned', 4), ('female', 5), ('jury', 2), ('colring', 1), ('rollerblade', 1), ('riding', 16), ('heal', 14), ('awhile', 20), ('invest', 8), ('starred', 2), ('purples', 33), ('pinks', 15), ('variation', 19), ('avoiding', 5), ('costly', 4), ('silky', 11), ('donate', 3), ('waist', 8), ('advised', 4), ('christian', 1), ('caused', 30), ('compression', 7), ('2005', 3), ('decade', 7), ('naturally', 4), ('faded', 5), ('cushioning', 29), ('lessened', 7), ('recollection', 1), ('washed', 19), ('dried', 2), ('cleans', 2), ('grips', 13), ('ailing', 1), ('border', 1), ('attached', 18), ('resistance', 4), ('profusely', 1), ('thousands', 1), ('clicks', 1), ('amazingly', 8), ('planning', 15), ('dreadful', 1), ('anxiety', 4), ('fitting', 6), ('kiddish', 2), ('maintain', 12), ('likely', 18), ('member', 7), ('computers', 23), ('enjoys', 6), ('garden', 4), ('geared', 3), ('towards', 14), ('adults', 26), ('relaxation', 10), ('stolden', 1), ('appearly', 1), ('repaired', 1), ('sofa', 4), ('reasonable', 42), ('hemorrhoids', 3), ('circulation', 22), ('comfortabe', 1), ('odd', 20), ('seconds', 8), ('molds', 13), ('greatly', 29), ('saturated', 6), ('decades', 5), ('current', 14), ('craze', 12), ('tints', 2), ('wishes', 3), ('pale', 18), ('rcvd', 1), ('craft', 14), ('painting', 4), ('walls', 1), ('outdoors', 1), ('cores', 4), ('comforable', 2), ('reccomend', 2), ('fellows', 6), ('quicker', 4), ('scotch', 1), ('guard', 11), ('man', 9), ('defeats', 3), ('parents', 3), ('apple', 16), ('bluetooth', 2), ('imac', 3), ('edit', 9), ('browse', 1), ('web', 9), ('adverse', 1), ('acquired', 2), ('thicker', 27), ('accommodating', 1), ('substantial', 6), ('molded', 7), ('places', 29), ('owner', 1), ('injuries', 6), ('colouring', 5), ('finished', 13), ('coloured', 13), ('wanting', 18), ('aging', 3), ('sagging', 4), ('decorate', 1), ('journals', 1), ('diagrams', 1), ('physiology', 2), ('notes', 4), ('concerned', 16), ('organizer', 1), ('traction', 7), ('employer', 2), ('10x', 1), ('rant', 1), ('bolder', 3), ('recover', 5), ('discreet', 4), ('announce', 1), ('affliction', 1), ('included', 23), ('cloth', 35), ('ought', 1), ('rough', 17), ('obnoxious', 3), ('swiping', 1), ('sideways', 7), ('count', 25), ('blending', 42), ('gotten', 62), ('sending', 8), ('brighter', 21), ('hoping', 82), ('push', 33), ('recipient', 20), ('l', 5), ('xl', 1), ('ppillow', 1), ('depresses', 1), ('tries', 6), ('convince', 3), ('pushing', 4), ('envelope', 1), ('colour', 15), ('layering', 7), ('handful', 2), ('colours', 32), ('investing', 6), ('july', 2), ('4th', 5), ('slope', 1), ('backs', 7), ('poorly', 8), ('means', 25), ('finding', 18), ('aunt', 6), ('imagined', 5), ('shall', 5), ('etc', 38), ('barley', 3), ('mislabeled', 4), ('faster', 9), ('awful', 32), ('occasional', 5), ('numbness', 21), ('navigating', 2), ('prize', 3), ('rebel', 1), ('buses', 1), ('meets', 6), ('intention', 2), ('freely', 4), ('lifting', 4), ('occasionally', 6), ('bumps', 2), ('granddaughters', 8), ('noted', 9), ('showing', 7), ('translucent', 1), ('billion', 1), ('saving', 13), ('grace', 5), ('attain', 1), ('digital', 3), ('requirement', 2), ('gently', 4), ('suffered', 14), ('170', 2), ('girlgriend', 1), ('dimple', 6), (\"6'7\", 2), ('250', 3), ('sorry', 17), ('coxxyx', 1), ('wil', 1), ('breakage', 18), ('responds', 3), ('taller', 15), ('limited', 12), ('luck', 11), ('allowing', 12), ('extend', 3), ('min', 9), ('shorter', 9), ('duration', 4), ('local', 24), ('thrift', 1), ('hell', 8), ('speak', 13), ('equipped', 1), ('studio', 12), ('laptops', 1), ('desktops', 1), ('macbook', 3), ('3ghz', 1), ('exclusively', 1), ('editing', 5), ('photos', 13), ('testament', 1), ('longevity', 7), ('resilience', 2), ('boldly', 2), ('states', 9), ('cheapened', 2), ('blatantly', 2), ('speaking', 2), ('reviewer', 12), ('dispute', 1), ('claim', 4), ('contention', 1), ('improving', 7), ('2007', 3), ('1st', 8), ('categorically', 1), ('false', 4), ('public', 5), ('market', 12), ('worldwide', 1), ('readers', 1), ('walks', 1), ('shocks', 1), ('saddens', 1), ('contend', 1), ('somebody', 4), ('wrote', 8), ('remains', 6), ('sole', 2), ('retail', 5), ('wholeheartedly', 1), ('wavey', 3), ('davey', 3), ('vote', 4), ('confidence', 4), ('award', 1), ('knowing', 6), ('incredibly', 16), ('anybody', 6), ('toiling', 1), ('computing', 5), ('fantastc', 1), ('contrary', 2), ('lasting', 16), ('term', 20), ('worry', 12), ('solidly', 5), ('attributes', 1), ('written', 5), ('candid', 1), ('faithful', 1), ('ahead', 7), ('punch', 2), ('button', 3), ('december', 4), ('2009', 1), ('prolonged', 27), ('undamaged', 3), ('49', 4), ('33', 4), ('dry', 10), ('fond', 5), ('120', 6), ('happier', 20), ('unforgiving', 1), ('aches', 18), ('immeasurably', 3), ('unavoidable', 2), ('raises', 13), ('tradeoff', 2), ('gosh', 2), ('coxxydenia', 1), ('led', 17), ('prepared', 2), ('bear', 3), ('bars', 6), ('resulted', 3), ('finally', 70), ('dish', 2), ('towel', 7), ('nsfw', 1), ('soooooooo', 1), ('aluminum', 1), ('218', 1), ('sucked', 4), ('allowed', 13), ('rave', 3), ('hamstrings', 6), ('net', 2), ('smelled', 14), ('rat', 1), ('beginners', 12), ('fade', 5), ('nights', 3), ('ensures', 1), ('lives', 4), ('shipment', 16), ('neon', 4), ('map', 2), ('firmed', 1), ('react', 1), ('bending', 2), ('cordless', 3), ('motorhome', 3), ('praise', 3), ('moms', 2), ('pealed', 2), ('cool', 25), ('duty', 5), ('briefly', 1), ('via', 4), ('shortly', 3), ('test', 38), ('beginnig', 2), ('sweat', 12), ('grandkids', 16), ('pigmented', 24), ('dickens', 1), ('leaking', 5), ('sterner', 1), ('shabby', 5), ('solve', 9), ('aired', 3), ('headache', 6), ('padded', 25), ('laying', 12), ('functions', 8), ('cushon', 2), ('springback', 1), ('definition', 9), ('instance', 11), ('change', 51), ('ar', 2), ('question', 9), ('sittings', 2), ('55', 2), ('degrees', 6), ('warms', 8), ('sanity', 3), ('beutiful', 1), ('enhance', 2), ('confotable', 1), ('nut', 1), ('drug', 1), ('mermaid', 2), ('usual', 20), ('facebook', 1), ('surfing', 10), ('mad', 2), ('happens', 13), ('shadow', 1), ('replaces', 4), ('pressing', 13), (\"5'9\", 3), ('consequently', 2), ('digging', 1), ('halfway', 4), ('160lbs', 1), ('clings', 2), ('chronic', 19), ('painth', 2), ('weith', 2), ('annoyed', 3), ('288', 1), ('per', 24), ('cousins', 2), ('delight', 2), ('creative', 6), ('cosmetic', 1), ('lent', 1), ('tryout', 1), ('payoff', 16), ('pigmentation', 10), ('blessing', 6), ('angel', 5), ('disguise', 1), ('serve', 9), ('10yrs', 1), ('99', 22), ('conforming', 3), ('gladly', 2), ('forms', 9), ('wasting', 2), ('smash', 2), ('unobtrusive', 1), ('angle', 23), ('slid', 7), ('deals', 2), ('sores', 2), ('spends', 24), ('automatically', 2), ('95', 10), ('recommending', 2), ('grandsons', 3), ('normally', 19), ('download', 2), ('print', 5), ('exert', 2), ('applies', 4), ('project', 15), ('participation', 4), ('debating', 4), ('gifted', 6), ('homeless', 2), ('dip', 23), ('trough', 1), ('workable', 1), ('hits', 5), ('graduation', 2), ('ceremony', 2), ('bum', 21), ('usually', 50), ('temporary', 4), ('dots', 4), ('pun', 3), ('sliding', 36), ('wherever', 13), ('meetings', 8), ('movies', 2), ('models', 9), ('tool', 6), ('chiropractors', 2), ('ao', 1), ('named', 6), ('numbered', 1), ('ou', 2), ('matte', 4), ('sections', 3), ('avail', 2), ('target', 6), ('childhood', 6), ('guilt', 2), ('hardness', 11), ('nor', 17), ('guru', 1), ('arts', 5), ('crafts', 6), ('apparently', 9), ('hang', 4), ('richer', 5), ('challenges', 1), ('operating', 4), ('knocked', 4), ('awkward', 20), ('forgot', 5), ('dislike', 3), ('latex', 1), ('rotted', 2), ('favourite', 2), ('reviewing', 7), ('searching', 9), ('vibrance', 6), ('inherited', 1), ('sought', 1), ('brooked', 2), ('recomend', 8), ('previously', 24), ('tendons', 6), ('definite', 8), ('desks', 8), ('essential', 4), ('suv', 3), ('experiences', 4), ('accurate', 18), ('controls', 1), ('lights', 1), ('cord', 2), ('plug', 2), ('above', 21), ('bronze', 3), ('steampunk', 1), ('becomes', 11), ('loads', 4), ('adjusted', 13), ('sold', 12), ('shares', 1), ('trust', 10), ('numerous', 2), ('asking', 10), ('mousepads', 15), ('crunches', 1), ('carpool', 2), ('mommy', 1), ('story', 8), ('pains', 35), ('hesitant', 11), ('receiving', 7), ('disappeared', 7), ('performed', 6), ('sensitivity', 12), ('estate', 2), ('winner', 2), ('sale', 16), ('stumble', 1), ('specify', 1), ('sized', 15), ('ehlers', 1), ('danlos', 1), ('leaves', 16), ('susceptible', 1), ('arthritic', 6), ('sublaxating', 1), ('joints', 11), ('pros', 24), ('cons', 22), ('slowing', 1), ('counter', 5), ('static', 3), ('scratchyness', 1), ('nagging', 3), ('wer', 1), ('ur', 2), ('stiffer', 11), ('proportion', 1), ('wrinkly', 1), ('adapts', 2), ('bled', 1), ('advantage', 4), ('fingers', 19), ('queen', 1), ('powerful', 3), ('despite', 14), ('printer', 5), ('invalid', 1), ('independently', 1), ('continued', 9), ('endure', 2), ('dont', 2), ('smear', 4), ('sarah', 2), ('wurm', 2), ('rossi', 2), ('pf', 2), ('cadultt', 2), ('oloring', 2), ('cardboard', 5), ('vibrand', 1), ('novice', 12), ('duplicates', 13), ('presentable', 1), ('locally', 5), ('prismacolors', 17), ('victor', 1), ('debate', 2), ('oval', 7), ('won', 2), ('adding', 10), ('finals', 1), ('injuring', 1), ('snowboarding', 2), ('junky', 4), ('chime', 1), ('happily', 1), ('nose', 11), ('manufacturers', 4), ('november', 2), ('2011', 4), ('sticky', 21), ('peeling', 6), ('hype', 1), ('appropriate', 2), ('describe', 7), ('struggle', 2), ('lazy', 9), ('activities', 11), ('aimed', 2), ('successfully', 1), ('avoids', 1), ('discrimination', 1), ('frame', 10), ('closet', 5), ('finish', 25), ('puzzle', 2), ('detailed', 15), ('drawings', 10), ('graphite', 3), ('alignment', 7), ('hospital', 10), ('godsend', 6), ('conform', 20), ('dinning', 2), ('workers', 6), ('gelpads', 1), ('sunken', 6), ('cheaply', 9), ('catches', 2), ('dpi', 8), ('biggest', 12), ('assume', 3), ('lessen', 6), ('suggested', 7), ('manufacturer', 12), ('mortar', 1), ('gripe', 6), ('affect', 9), ('personally', 39), ('synthetic', 6), ('rubbery', 3), ('unpacked', 1), ('dissipates', 5), ('cracked', 10), ('gettin', 1), ('turqouise', 1), ('impact', 4), ('experiencing', 36), ('par', 11), ('illustrator', 1), ('smoothely', 1), ('radiant', 1), ('waxt', 2), ('wax', 10), ('comparatively', 2), ('indention', 6), ('fifth', 2), ('rock', 32), ('ooops', 1), ('tee', 1), ('hee', 2), ('pricing', 2), ('moment', 13), ('keeping', 25), ('preventing', 7), ('indent', 15), ('horizontally', 1), ('settle', 3), ('requires', 20), ('portable', 11), ('none', 22), ('hues', 20), ('heaven', 9), ('creases', 1), ('flying', 3), ('fold', 6), ('sessions', 13), ('futon', 1), ('boost', 11), ('compensate', 3), ('jobs', 1), ('worsening', 2), ('stretching', 4), ('van', 2), ('seatcushion', 4), ('600', 2), ('ice', 6), ('january', 5), ('confined', 4), ('irritating', 10), ('seal', 2), ('ages', 13), ('doubled', 5), ('cute', 6), ('intact', 2), ('bucks', 27), ('dismal', 2), ('stair', 1), ('shockingly', 1), ('actially', 1), ('ranges', 3), ('mild', 6), ('harsh', 2), ('gamimg', 1), ('gamers', 7), ('conputer', 1), ('chaira', 1), ('nigjt', 1), ('h', 1), ('ez', 1), ('questionable', 3), ('helpsmore', 1), ('chaird', 1), ('improvent', 1), ('chushioned', 1), ('flip', 2), ('goldilocks', 2), ('ergonomically', 6), ('posterior', 7), ('flexors', 1), ('eliminate', 2), ('necessarily', 4), ('obes', 1), ('po7nts', 1), ('begin', 9), ('gels', 1), ('firmly', 7), ('reddish', 1), ('alike', 8), ('carefully', 6), ('coating', 1), ('inferior', 6), ('presented', 4), ('expectations', 33), ('cash', 4), ('refund', 14), ('doubles', 6), ('absent', 2), ('unglued', 6), ('switching', 6), ('country', 14), ('production', 2), ('operation', 4), ('whoopee', 1), ('cuz', 4), ('huring', 1), (\"i'm\", 5), ('yrs', 4), ('syndrone', 1), ('extensive', 8), ('maintained', 3), ('overpriced', 6), ('dover', 2), ('picked', 6), ('tomorrow', 4), ('showed', 8), ('doorstep', 3), ('attracts', 5), ('stains', 6), ('wheelchair', 33), ('slips', 6), ('credit', 3), ('speedy', 4), ('thoroughly', 4), ('structure', 1), ('following', 3), ('alternative', 12), ('blick', 3), ('bout', 2), ('texture', 42), ('rounded', 11), ('fear', 2), ('archive', 1), ('significantly', 16), ('asleep', 12), ('healing', 12), ('lays', 9), ('fortunately', 5), ('theaters', 1), ('scattered', 8), ('partly', 2), ('buck', 4), ('qualms', 2), ('furthermore', 3), ('basis', 8), ('receives', 2), ('tine', 1), ('bunch', 6), ('exercises', 3), ('wristpads', 1), ('data', 26), ('hook', 25), ('linked', 25), ('href', 25), ('3m', 2), ('tm', 2), ('antimicrobial', 2), ('dp', 26), ('b000wu4h5c', 1), ('ref', 28), ('cm', 34), ('cr', 27), ('arp', 25), ('rvw', 25), ('txt', 25), ('ie', 28), ('utf8', 26), ('variations', 15), ('michael', 3), ('amateur', 2), ('lover', 6), ('schmancy', 2), ('illustrations', 2), ('dramatic', 4), ('brighten', 2), ('economical', 4), ('bothered', 10), ('produce', 8), ('shine', 9), ('copy', 2), ('remembering', 1), ('noisy', 8), ('ledge', 2), ('act', 3), ('proved', 4), ('lines', 20), ('exaggeration', 1), ('recurring', 1), ('cyst', 10), ('invested', 3), ('dryer', 3), ('discoloration', 3), ('shrinking', 1), ('adhere', 6), ('retouch', 2), ('caricature', 2), ('randomly', 1), ('injured', 23), ('alleviating', 8), ('steal', 6), ('base', 26), ('head', 17), ('tighter', 1), ('anyplace', 3), ('recent', 14), ('glue', 12), ('weaken', 1), ('concern', 7), ('spillage', 1), ('discouraging', 1), ('abuse', 3), ('depot', 6), ('93', 2), ('heck', 7), ('ya', 3), ('degenerative', 8), ('satifsied', 1), ('minimizes', 1), ('teacher', 3), ('slap', 1), ('elevated', 16), ('maneuver', 3), ('pet', 2), ('installed', 2), ('geriatric', 1), ('owners', 1), ('younger', 13), ('watching', 15), ('t', 13), ('v', 3), ('velour', 5), ('whenever', 19), ('rolling', 5), ('workstation', 4), ('outstanding', 21), ('listed', 15), ('styrofoam', 5), ('mic', 1), ('sense', 10), ('spouse', 4), ('reveals', 1), ('confident', 6), ('knee', 8), ('crackling', 5), ('newspaper', 3), ('solution', 26), ('footprint', 3), ('indicate', 3), ('shame', 8), ('advertising', 5), ('berol', 2), ('fraction', 2), ('sprung', 1), ('contour', 15), ('neither', 10), ('region', 6), ('boosting', 2), ('vertically', 1), ('challenged', 1), ('combo', 6), ('29', 2), ('dollars', 17), ('register', 8), ('website', 4), ('warranty', 4), ('till', 10), ('cusion', 14), ('losing', 6), ('unwieldy', 1), ('beads', 4), ('micro', 2), ('paying', 9), ('39', 1), ('responsiveness', 2), ('borders', 3), ('turn', 22), ('crinkled', 2), ('dented', 2), ('brittle', 4), ('lobby', 7), ('glided', 2), ('groove', 3), ('october', 5), ('fire', 1), ('fuel', 1), ('aside', 4), ('observed', 1), ('whom', 2), ('based', 32), ('requested', 3), ('500', 6), ('flattens', 25), ('150lbs', 2), ('calluses', 2), ('generation', 3), ('artwork', 10), ('permicolor', 1), ('eliminates', 4), ('suggestion', 8), ('dang', 1), ('worming', 1), ('plate', 2), ('sharpeners', 7), ('spaces', 7), ('inflammation', 2), ('nerves', 7), ('holidays', 3), ('muscles', 5), ('thankfully', 2), ('surprises', 2), ('hesitation', 3), ('military', 3), ('jumping', 6), ('planes', 3), ('layers', 17), ('solvent', 1), ('highlights', 5), ('packaged', 15), ('flap', 4), ('closed', 10), ('sharpner', 2), ('pops', 8), ('kill', 1), ('drunken', 1), ('stupor', 2), ('physical', 14), ('anguish', 1), ('swollen', 1), ('surfed', 1), ('gun', 1), ('late', 8), ('f8e262cslv', 3), ('sheen', 1), ('beaconing', 1), ('guiding', 1), ('eagerly', 1), ('save', 28), ('final', 3), ('contemplation', 1), ('tuesday', 3), ('seven', 6), ('saturday', 5), ('played', 2), ('enveloped', 1), ('soul', 1), ('heart', 7), ('win', 7), ('hurtting', 2), ('untill', 1), (\"'nuff\", 3), ('aylio', 9), ('rush', 3), ('deplane', 1), ('40', 20), ('sewn', 4), ('recommendation', 4), ('juggle', 1), ('airports', 1), ('flown', 1), ('perform', 9), ('noticable', 3), ('common', 5), ('twelve', 3), ('asi', 1), ('repetitive', 6), ('consider', 12), ('ergonomics', 8), ('vital', 2), ('explicitly', 1), ('dragging', 1), ('mx1100', 1), ('03', 1), ('2010', 2), ('pilling', 1), ('plushness', 1), ('wash', 26), ('stained', 5), ('underneath', 12), ('rotating', 1), ('gap', 6), ('parts', 11), ('wheelchairs', 1), ('florals', 1), ('ladies', 3), ('feminine', 1), ('ugly', 5), ('grey', 17), ('reflection', 5), ('adds', 14), ('nephews', 2), ('play', 23), ('gear', 3), ('marginal', 1), ('swivel', 2), ('surrounded', 3), ('anker', 4), ('g', 13), ('vertical', 8), ('800', 2), ('1200', 1), ('1600dpi', 1), ('buttons', 1), ('slim', 4), ('bend', 4), ('textures', 2), ('checked', 3), ('brings', 8), ('underside', 13), ('silicon', 5), ('holder', 3), ('girlfriend', 13), ('obtain', 1), ('stylus', 2), ('pen', 4), ('clumsy', 2), ('stable', 5), ('evolved', 1), ('wire', 1), ('disease', 9), ('l4', 4), ('l5', 9), ('considerably', 5), ('labeled', 8), ('reddest', 1), ('tore', 4), ('thunderstorm', 1), ('clouds', 3), ('withought', 1), ('enticing', 1), ('supplement', 1), ('cats', 1), ('meow', 1), ('leather', 13), ('mangled', 2), ('lady', 5), ('retains', 5), ('occasion', 2), ('thrilled', 21), ('runs', 8), ('squared', 1), ('scratches', 4), ('unzip', 4), ('edged', 1), ('flaws', 3), ('deliberately', 1), ('avoided', 3), ('shoes', 4), ('excessively', 4), ('uselessly', 1), ('impression', 5), ('justifiable', 1), ('87', 1), ('bravo', 2), ('sticks', 7), ('grandchildren', 8), ('qhick', 2), ('batteries', 10), ('texas', 4), ('champ', 1), ('si', 8), ('joint', 10), ('starnge', 1), ('pungent', 2), ('ruptured', 4), ('surgeries', 8), ('seams', 8), ('ll', 4), ('afternoon', 4), ('list', 7), ('tightly', 5), ('knew', 30), ('desperately', 1), ('pointer', 8), ('jump', 3), ('coast', 2), ('thus', 13), ('visibility', 4), ('honda', 5), ('civic', 2), ('ceiling', 4), ('crv', 1), ('setting', 13), ('cushier', 3), ('prices', 10), ('easing', 2), ('siatic', 4), ('recieved', 4), ('grief', 1), ('pastic', 1), ('damage', 8), ('pipe', 1), ('wall', 5), ('ruined', 5), ('carpet', 1), ('checking', 2), ('fb', 3), ('docking', 1), ('distinguishable', 5), ('thaks', 1), (\"i'v\", 2), ('fraying', 2), ('ached', 2), ('ol', 1), ('pals', 1), ('removing', 3), ('fake', 3), ('guitar', 1), ('satin', 3), ('field', 3), ('picking', 5), ('framed', 3), ('configured', 2), ('accommodate', 6), ('intermittent', 2), ('highest', 2), ('ship', 7), ('midcontinent', 1), ('oct', 2), ('affected', 2), ('pt', 2), ('trauma', 1), ('weekends', 2), ('scent', 6), ('warmer', 5), ('contact', 8), ('settings', 5), ('carpeted', 1), ('mins', 5), ('boy', 11), ('diastistis', 1), ('pubis', 1), ('pubic', 1), ('separation', 2), ('modified', 1), ('tailor', 1), ('pose', 3), ('trimester', 4), ('2013', 2), ('reorder', 11), ('st', 3), ('omfortable', 1), ('whose', 3), ('talebone', 1), ('aggravating', 1), ('lightening', 3), ('pushed', 6), ('companion', 3), ('85', 3), ('cancer', 10), ('comic', 5), ('chemo', 5), ('laughing', 2), ('enhanced', 5), ('scheme', 4), ('stinks', 10), ('imprint', 2), ('heel', 6), ('infra', 1), ('mac', 5), ('stores', 12), ('25', 9), ('arrives', 1), ('constance', 1), ('spring', 10), ('omg', 6), ('marathon', 2), ('serves', 26), ('horror', 1), ('sworn', 1), ('endangered', 1), ('species', 1), ('force', 16), ('creates', 6), ('drop', 7), ('paralyzed', 1), ('interesting', 6), ('lingers', 4), ('scheduled', 1), ('telling', 4), ('recumbent', 1), ('stationary', 3), ('bike', 2), ('rectangular', 2), ('constraining', 1), ('complete', 19), ('formed', 6), ('sags', 7), ('distinct', 4), ('ridges', 3), ('maximum', 6), ('determined', 1), ('taper', 2), ('elevates', 8), ('forearm', 10), ('contributed', 3), ('sports', 7), ('twisting', 3), ('twin', 1), ('scoot', 2), ('laziness', 1), ('degree', 8), ('lacks', 1), ('bounce', 4), ('sides', 22), ('velvety', 3), ('thanking', 3), ('secret', 2), ('enchanted', 1), ('forest', 1), ('needless', 4), ('everybody', 2), ('intellimouse', 3), ('die', 5), ('raser', 1), ('random', 2), ('transition', 3), ('crunchy', 15), ('noises', 8), ('b', 9), ('usimg', 2), ('deform', 3), ('thinnest', 1), ('situation', 7), ('wildly', 2), ('weighing', 2), ('280', 1), ('38', 1), ('concerns', 4), ('guacamole', 1), ('retained', 4), ('b00006bb7z', 1), ('pop', 10), ('washer', 1), ('lil', 5), ('assisted', 4), ('bases', 1), ('representation', 2), ('propping', 1), ('castells', 2), ('violet', 21), ('yellows', 16), ('aqua', 5), ('swirls', 2), ('sharper', 1), ('alittle', 3), ('n', 10), ('bluntly', 1), ('descriptive', 1), ('cents', 4), ('carpenter', 1), ('manual', 5), ('labor', 1), ('manager', 1), ('spending', 22), ('became', 25), ('researched', 7), ('scoured', 1), ('town', 4), ('visit', 5), ('farther', 4), ('site', 2), ('irritable', 1), ('holes', 4), ('ten', 16), ('thousand', 1), ('silvery', 2), ('1998', 1), ('wearing', 15), ('custom', 2), ('unifying', 1), ('receiver', 2), ('erratic', 2), ('rigid', 9), ('tecknet', 2), ('pricepoint', 1), ('depending', 12), ('slows', 2), ('contents', 1), ('cts', 5), ('battle', 2), ('bet', 1), ('edited', 1), ('videos', 2), ('forgotten', 1), ('grab', 5), ('fart', 1), ('nasty', 5), ('ruining', 1), ('width', 11), ('widest', 3), ('shelf', 3), ('harm', 2), ('friendly', 5), ('sneakers', 1), ('sneaker', 1), ('lets', 6), ('reviewed', 4), ('newer', 12), ('gray', 33), ('visible', 11), ('gamer', 16), ('slower', 1), ('touched', 1), ('pounded', 1), ('horrendous', 1), ('dislocated', 2), ('remedy', 4), ('deteriorated', 1), ('essentially', 1), ('hollow', 8), ('squeeze', 5), ('crimped', 1), ('oddly', 6), ('freak', 2), ('mx', 4), ('decreased', 14), ('mahogany', 1), ('electronic', 4), ('eat', 15), ('letting', 4), ('wedge', 3), ('cup', 3), ('upper', 9), ('eliminated', 11), ('bc', 2), ('rehab', 1), ('md', 1), ('approval', 1), ('retired', 7), ('nurse', 7), ('patient', 11), ('elleviate', 1), ('withing', 1), ('cried', 1), ('nurses', 3), ('walmart', 12), ('substance', 5), ('excise', 1), ('offending', 1), ('glued', 4), ('aggravates', 2), ('brace', 6), ('borrowed', 4), ('exterior', 4), ('carple', 1), ('failed', 2), ('intensity', 14), ('consistent', 20), ('penciled', 2), ('teaching', 2), ('surprise', 14), ('superb', 6), ('vibrate', 1), ('lazyboy', 1), ('ford', 4), ('escape', 1), ('416', 1), ('round', 18), ('exams', 1), ('sitted', 2), ('readily', 2), ('aligns', 1), ('discomforts', 2), ('16', 7), ('17', 7), ('30', 26), ('hurtin', 1), ('certain', 18), ('regain', 2), ('reached', 2), ('asset', 2), ('procedure', 1), ('discarded', 1), ('squeakers', 1), ('wiped', 1), ('germs', 3), ('contemplating', 2), ('relieving', 26), ('recovery', 8), ('backwards', 7), ('directions', 3), ('turning', 7), ('tushie', 2), ('girls', 12), ('grownup', 2), ('disabilities', 4), ('cutoff', 1), ('increases', 2), ('ordinary', 3), ('tact', 3), ('visibly', 2), ('jealous', 2), ('hers', 6), ('dislikes', 1), ('gross', 5), ('notification', 1), ('rely', 2), ('posts', 2), ('updated', 6), ('exceeds', 1), ('strips', 2), ('surprisingly', 12), ('hong', 2), ('kong', 2), ('tempur', 3), ('pedic', 3), ('shifts', 10), ('cocyxx', 1), ('fractures', 1), ('ordinal', 2), ('agony', 2), ('met', 7), ('headaches', 3), ('sick', 5), ('approx', 4), ('nine', 3), ('fibromyalgia', 4), ('flew', 2), ('wisconsin', 2), ('colorado', 3), ('immensely', 11), ('pinched', 7), ('picky', 14), ('sever', 2), ('carries', 5), ('bamboo', 2), ('textured', 9), ('necessary', 11), ('loftier', 1), ('bruised', 19), ('ver', 3), ('joyed', 1), ('city', 1), ('husbands', 6), ('fortunate', 1), ('personal', 22), ('honest', 14), ('submitted', 2), ('mislead', 1), ('tons', 10), ('navy', 8), ('suggestions', 3), ('jeep', 5), ('drivers', 5), ('decor', 2), ('scared', 1), ('admit', 18), ('anchor', 3), ('compliance', 1), ('summary', 1), ('x', 11), ('mas', 2), ('age', 18), ('delaminating', 1), ('reduction', 6), ('sitbone', 1), ('horseshoe', 1), ('wedges', 1), ('fingernails', 1), ('tags', 1), ('scratching', 3), ('clips', 1), ('conscience', 2), ('yours', 1), ('snapped', 2), ('vast', 5), ('whew', 1), ('shot', 11), ('combat', 2), ('miles', 19), ('temperature', 4), ('centering', 2), ('coupled', 1), ('sees', 4), ('cases', 5), ('bundle', 6), ('ate', 5), ('shaper', 2), ('crap', 14), ('relived', 2), ('crisis', 1), ('waaaaaay', 1), ('imo', 6), ('spares', 1), ('forbid', 1), ('someday', 1), ('manufactured', 2), ('extensively', 5), ('discovered', 10), ('architect', 2), ('reaching', 2), ('legit', 2), ('kittens', 1), ('dork', 1), ('aggravate', 3), ('chilly', 2), ('superstores', 1), ('boring', 2), ('steering', 4), ('unsupportive', 2), ('storage', 4), ('ove', 2), ('ths', 1), ('indentation', 19), ('cradle', 4), ('dainty', 1), ('styro', 1), ('sheeting', 1), ('forgiving', 2), ('blister', 2), ('blush', 1), ('comi', 1), ('serbice', 1), ('dealt', 3), ('eith', 1), ('vety', 1), ('fluidity', 1), ('medical', 11), ('turns', 20), ('wreaking', 1), ('havoc', 1), ('ditched', 2), ('instructions', 6), ('bound', 5), ('prolong', 1), ('clay', 5), ('content', 2), ('unit', 8), ('jimmy', 1), ('immortal', 1), ('differences', 4), ('tested', 6), ('weary', 2), ('farmhouse', 1), ('picnic', 2), ('tabe', 1), ('classes', 4), ('streaks', 2), ('imparting', 2), ('title', 2), ('financial', 1), ('analyst', 1), ('coworkers', 5), ('research', 8), ('willing', 13), ('changes', 10), ('updates', 1), ('beaten', 1), ('ms', 4), ('intensify', 2), ('airing', 3), ('continuously', 3), ('baking', 1), ('soda', 1), ('eraser', 3), ('mistakes', 2), ('courses', 1), ('offering', 7), ('profession', 2), ('animator', 1), ('growing', 1), ('biased', 1), ('disposable', 1), ('opacity', 1), ('differentiated', 1), ('identification', 1), ('search', 13), ('ratings', 4), ('startled', 1), ('softened', 6), ('truely', 2), (\"5'1\", 2), ('105lbs', 1), ('petite', 12), ('stead', 1), ('matters', 3), ('reliable', 10), ('prop', 6), ('cautious', 1), ('hysterectomy', 1), ('somfortable', 1), ('curse', 1), ('words', 10), ('loooooong', 1), ('espcially', 1), ('learned', 5), ('workaround', 1), ('fashioned', 2), ('outs', 1), ('molding', 1), ('consideration', 2), ('freehand', 3), ('parental', 1), ('embarrassing', 1), ('ortho', 1), ('hears', 1), ('looooove', 2), ('c', 6), ('ap', 3), ('marbles', 1), ('ensuring', 1), ('sufficiently', 1), ('pliable', 6), ('cares', 2), ('customers', 11), ('state', 9), ('satisfaction', 5), ('goal', 1), ('behalf', 1), ('severely', 4), ('comilife', 1), ('advertized', 3), ('antique', 6), ('attentive', 1), ('fishing', 1), ('tailgate', 1), ('bun', 1), ('loud', 6), ('revert', 1), ('messed', 3), ('afforable', 1), ('horribly', 4), ('drink', 2), ('coke', 1), ('food', 4), ('mm', 3), ('squishiness', 2), ('atleast', 1), ('selections', 8), ('indicated', 6), ('crappy', 13), ('repeated', 6), ('enabling', 2), ('strength', 6), ('soport', 1), ('magic', 16), ('complains', 10), ('postoperative', 1), ('ra', 5), ('rd', 1), ('lupus', 2), ('ddd', 1), ('positions', 7), ('frequently', 14), ('daughters', 5), ('bead', 3), ('vibrancy', 6), ('discounted', 6), ('65', 3), ('giveaway', 1), ('potential', 3), ('buyers', 4), ('conclusion', 6), ('poorest', 2), ('mandala', 6), ('retain', 6), ('integrity', 4), ('satisfactory', 8), ('bulk', 4), ('rectangle', 3), ('irritate', 2), ('flared', 2), ('freer', 1), ('matches', 5), ('involves', 1), ('squashed', 3), ('spanning', 1), ('energy', 4), ('washable', 15), ('cloud', 10), ('acts', 4), ('fps', 7), ('flare', 10), ('mo', 1), ('crackle', 1), ('louder', 2), ('gooey', 2), ('rival', 2), ('cheep', 4), ('300', 5), ('differently', 5), ('anal', 1), ('downfall', 3), ('recycleland', 1), ('puter', 1), ('combinations', 2), ('erfect', 1), ('absorb', 2), ('specs', 1), ('crumbs', 2), ('grateful', 9), ('needing', 15), ('concentrate', 1), ('kinds', 9), ('popping', 1), ('counterpart', 1), ('f8e263', 5), ('blk', 10), ('b00004z5ra', 2), ('penny', 8), ('reference', 4), ('callus', 1), ('toward', 5), ('peace', 3), ('enjoyment', 3), ('revived', 2), ('sync', 1), ('iphone', 1), ('wished', 4), ('changer', 3), ('diagnosed', 8), ('vertebrae', 3), ('fracture', 7), ('granted', 2), ('motorized', 1), ('cart', 2), ('join', 3), ('accompany', 3), ('staff', 2), ('whoever', 1), ('created', 8), ('selling', 6), ('require', 18), ('phenomena', 1), ('location', 5), ('commend', 3), ('soooo', 1), ('playing', 21), ('resonable', 1), ('browsing', 5), ('apps', 1), ('restricting', 2), ('shooters', 1), ('stuck', 17), ('commuter', 1), ('disk', 4), ('bulge', 1), ('sweet', 4), ('desperate', 2), ('highway', 2), ('jarr', 1), ('adsorbe', 1), ('pair', 4), ('access', 4), ('coccyxdynia', 1), ('acupuncture', 1), ('steroid', 2), ('shots', 1), ('injections', 2), ('thrills', 1), ('stenosis', 11), ('exchange', 5), ('tingling', 9), ('occupational', 1), ('um', 1), ('phones', 1), ('labelled', 2), ('gyp', 2), ('mess', 7), ('b010tlsfa6', 6), ('collapsed', 8), ('meh', 5), ('looses', 4), ('mush', 2), ('pointless', 2), ('broad', 4), ('hamstring', 6), ('metallics', 2), ('relative', 4), ('unbearable', 9), ('caution', 5), ('learning', 11), ('upright', 2), ('8hrs', 1), ('mentioning', 1), ('mix', 17), ('definitively', 1), ('auto', 2), ('backache', 4), ('tingle', 3), ('sad', 8), ('barrels', 19), ('painted', 12), ('hightly', 1), ('reccommended', 1), ('accents', 1), ('alread', 1), ('drie', 1), ('taky', 1), ('sargents', 6), ('spectrum', 13), ('varieties', 9), ('props', 1), ('rideshare', 1), ('inclined', 3), ('effectively', 5), ('emails', 4), ('contribute', 1), ('accentuated', 1), ('curve', 4), ('flatter', 4), ('laid', 4), ('1000x', 1), ('fitness', 1), ('tracker', 1), ('g700s', 1), ('arising', 1), ('promoted', 1), ('donated', 3), ('gw', 1), ('depress', 2), ('unravel', 1), ('valley', 1), ('valleying', 1), ('alternatives', 4), ('realizing', 4), ('depend', 3), ('prismacolour', 3), ('backaches', 5), ('feed', 2), ('keeper', 8), ('weightloss', 1), ('aspect', 3), ('reliably', 2), ('parenthetically', 1), ('repeater', 1), ('empirical', 1), ('10hour', 1), ('buster', 1), ('features', 8), ('coordinated', 2), ('millimeter', 6), ('peggable', 2), ('thru', 7), ('certified', 2), ('justify', 4), ('preschoolers', 2), ('toddlers', 3), ('single', 15), ('opt', 3), ('metal', 15), ('effort', 9), ('leading', 2), ('undergoing', 1), ('multi', 4), ('laminectomy', 2), ('sacral', 6), ('gadget', 1), ('83', 2), ('confused', 5), ('roaming', 1), ('magenta', 11), ('googled', 2), ('grainy', 4), ('ty', 7), ('woud', 2), ('exceptional', 3), ('relatively', 14), ('heat', 18), ('yr', 6), ('fashion', 3), ('catching', 2), ('darken', 8), ('continuing', 5), ('versatility', 3), ('premium', 10), ('cramps', 7), ('majority', 12), ('adequately', 5), ('decreases', 1), ('anne', 2), ('restful', 3), ('bucket', 7), ('f150', 2), ('tolerate', 4), ('evaluate', 3), ('persian', 1), ('rug', 1), ('fluffy', 3), ('snags', 1), ('master', 1), ('supposedly', 3), ('industrial', 11), ('overwhelms', 1), ('princesses', 1), ('attest', 5), ('disintegrates', 1), ('pisses', 1), ('settled', 4), ('releive', 2), ('rendition', 2), ('bough', 4), ('possessive', 2), ('history', 1), ('dries', 1), ('warming', 1), ('unstable', 1), ('650', 1), ('goodness', 7), ('flow', 9), ('unfold', 2), ('wincing', 1), ('dance', 1), ('bladder', 1), ('signaled', 1), ('sculpting', 1), ('fidgeted', 1), ('hey', 5), ('stood', 10), ('unfolding', 1), ('conformed', 6), ('smidge', 2), ('stayed', 5), ('yard', 1), ('spill', 3), ('smile', 4), ('complicated', 3), ('accidently', 1), ('maximizing', 1), ('minimizing', 1), ('hassle', 11), ('represented', 4), ('loses', 7), ('accuracy', 3), ('deer', 1), ('improved', 25), ('extent', 2), ('dipped', 3), ('cousin', 5), ('proving', 5), ('stimulated', 2), ('brain', 2), ('printed', 8), ('teach', 3), ('sitbones', 1), ('confusing', 2), ('labels', 4), ('coupon', 2), ('79', 2), ('electric', 4), ('scooter', 1), ('mouce', 1), ('safe', 2), ('bless', 4), ('bye', 3), ('david', 1), ('straightforward', 1), ('rays', 2), ('cheek', 1), ('convention', 6), ('amazement', 1), ('whim', 2), ('breaker', 5), ('appeared', 4), ('elevation', 5), ('musty', 2), ('wiping', 1), ('interruption', 1), ('lagoon', 1), ('sooo', 4), ('known', 11), ('locate', 2), ('april', 2), ('timing', 1), ('excelente', 4), ('orchestra', 1), ('performances', 1), ('breakfast', 2), ('wishful', 1), ('musical', 1), ('exceeded', 6), ('gluteals', 1), ('shop', 6), ('broadcasting', 1), ('stations', 1), ('station', 7), ('signal', 2), ('amplifier', 1), ('antenna', 1), ('l1', 3), ('s1', 7), ('teaches', 2), ('frequent', 7), ('spread', 5), ('students', 11), ('lesson', 4), ('code', 3), ('assistant', 1), ('exceptionally', 2), ('sinking', 4), ('68', 2), ('encased', 2), ('deformed', 7), ('aesthetically', 1), ('ses', 2), ('ummm', 2), ('seemingly', 2), ('specified', 1), ('breeze', 3), ('action', 4), ('sniping', 1), ('bf3', 1), ('asstounding', 1), ('noticing', 4), ('clearly', 6), ('thanksgiving', 3), ('eureka', 1), ('awww', 1), ('pressed', 7), ('luckily', 5), ('refrenced', 1), ('followed', 3), ('casing', 5), ('nude', 2), ('lemon', 5), ('create', 13), ('experimenting', 2), ('critique', 2), ('divot', 6), ('compacted', 1), ('tender', 3), ('bruising', 3), ('rotated', 3), ('mandella', 2), ('borrowing', 3), ('herself', 1), ('request', 5), ('orders', 6), ('furniture', 5), ('individual', 4), ('frayed', 5), ('ends', 17), ('placement', 3), ('wasted', 5), ('132', 1), ('intend', 4), ('gifting', 1), ('scoliosis', 5), ('ihad', 1), ('jewelry', 4), ('unresponsive', 2), ('cutting', 14), ('amputee', 1), ('flattening', 2), ('friday', 3), ('cradles', 4), ('mandalas', 4), ('kaleidoscope', 2), ('dragged', 2), ('primary', 5), ('collapses', 3), ('distracting', 7), ('classroom', 3), ('projecys', 2), ('vigorous', 2), ('teenaher', 2), ('scribbling', 2), ('reflected', 1), ('stiffness', 8), ('updating', 1), ('information', 5), ('dementia', 2), ('geometric', 6), ('vol', 4), ('1942268254', 2), ('director', 2), ('quilt', 3), ('tight', 9), ('dexterity', 2), ('daunting', 2), ('wipe', 6), ('debri', 1), ('ink', 1), ('distress', 1), ('obligated', 1), ('rubbed', 4), ('cuff', 1), ('dress', 1), ('shirts', 1), ('arch', 3), ('1000', 4), ('balance', 9), ('louisiana', 1), ('950', 1), ('span', 3), ('effected', 2), ('hue', 3), ('pics', 1), ('infact', 1), ('ward', 1), ('welcome', 4), ('choppy', 1), ('rise', 2), ('jave', 1), ('calls', 1), ('lowers', 3), ('listened', 3), ('releif', 1), ('washington', 1), ('dc', 1), ('toronto', 1), ('infrared', 1), ('forced', 3), ('navigate', 4), ('monitor', 6), ('coding', 1), ('goood', 1), ('assessment', 1), ('curved', 6), ('software', 6), ('tempted', 5), ('inflamed', 2), ('transaction', 4), ('rebound', 2), ('http', 3), ('gp', 3), ('b0043t7fxe', 1), ('roam', 1), ('pvp', 1), ('searing', 1), ('stabilize', 2), ('aggravated', 4), ('booster', 6), ('combine', 4), ('regains', 1), ('moisture', 3), ('proof', 3), ('seam', 7), ('professionally', 1), ('colorer', 6), ('empty', 2), ('shell', 6), ('nonslip', 6), ('pushes', 5), ('encounter', 5), ('staedtler', 2), ('regretted', 1), ('believing', 1), ('similarities', 1), ('additionally', 6), ('unyielding', 2), ('balloon', 2), ('applying', 5), ('lying', 4), ('fail', 2), ('warn', 2), ('reconsider', 1), ('voila', 1), ('haha', 9), ('bugger', 1), ('compromise', 6), ('awsome', 2), ('confirmed', 3), ('tendency', 8), ('cheapo', 7), ('springy', 1), ('builds', 1), ('electricity', 1), ('pcs', 2), ('building', 3), ('websites', 1), ('artistry', 2), ('filling', 9), ('fustrating', 2), ('elastic', 1), ('onward', 1), ('improvements', 1), ('bouts', 3), ('shops', 2), ('00', 9), ('insanity', 2), ('passable', 2), ('outrage', 2), ('sargeants', 2), ('stubby', 2), ('corrected', 2), ('trusty', 2), ('outline', 2), ('success', 4), ('anticipate', 3), ('uber', 6), ('cheapies', 2), ('doddle', 2), ('recieve', 1), ('jumpy', 1), ('pin', 1), ('rollerball', 2), ('260lbs', 1), ('prodect', 3), ('staining', 1), ('reports', 2), ('advanced', 2), ('defined', 1), ('shrink', 2), ('ffine', 1), ('sheets', 4), ('repeat', 6), (\"they're\", 1), ('irritated', 4), ('layered', 1), ('tractball', 1), ('prevented', 3), ('occurance', 1), ('whiles', 1), ('singapore', 1), ('malaysia', 1), ('holiday', 3), ('bummed', 5), ('lacked', 1), ('inductive', 1), ('bible', 3), ('study', 7), ('spectacular', 2), ('porch', 3), ('pool', 1), ('priusc', 1), ('upholstery', 1), ('stops', 3), ('suitable', 11), ('pray', 1), ('blessings', 1), ('patricia', 1), ('jackson', 1), ('symptom', 2), ('lined', 3), ('unrelated', 1), ('woke', 4), ('anesthesia', 1), ('inquires', 1), ('solicit', 1), ('geez', 1), ('overwhelm', 1), ('k', 4), ('preferred', 8), ('difficulty', 4), ('straps', 4), ('acute', 1), ('fills', 2), ('beanie', 3), ('abundance', 1), ('brushing', 1), ('roof', 4), ('series', 1), ('vert', 1), ('permits', 1), ('settles', 1), ('squishes', 4), ('stressed', 4), ('reccemend', 1), ('useing', 1), ('atart', 1), ('pediatric', 2), ('quieter', 3), ('videogaming', 1), ('latest', 4), ('glutes', 1), ('existent', 2), ('b00000jrrd', 3), ('promote', 3), ('practice', 5), ('fixups', 1), ('rice', 1), ('sock', 1), ('cracking', 2), ('comparing', 4), ('durations', 2), ('osteoarthritis', 2), ('slot', 1), ('unbelievable', 3), ('adore', 3), ('leaning', 4), ('backward', 2), ('grippy', 5), ('thay', 1), ('wether', 1), ('frustrated', 9), ('depicted', 1), ('virtually', 5), ('savor', 2), ('27', 3), ('paraplegic', 1), ('difficulties', 2), ('dove', 1), ('fused', 2), ('silk', 1), ('relives', 4), ('stole', 4), ('fuzz', 1), ('cat', 7), ('hair', 5), ('scraped', 1), ('independent', 1), ('wist', 1), ('sacroiliac', 2), ('born', 2), ('wired', 7), ('roller', 5), ('squishyness', 1), ('weighs', 5), ('50lbs', 1), ('lump', 2), ('efforts', 2), ('cubital', 2), ('roads', 3), ('disagree', 2), ('valuable', 2), ('smashed', 8), ('shared', 4), ('freelance', 1), ('writer', 5), ('hence', 7), ('gee', 1), ('othwerwise', 1), ('operates', 2), ('talented', 2), ('subsided', 1), ('runner', 1), ('bothering', 5), ('productivity', 4), ('deformity', 1), ('movements', 3), ('rubberized', 3), ('matting', 1), ('rugs', 1), ('cvering', 1), ('workchair', 1), ('seveere', 1), ('merely', 1), ('indistinguishable', 4), ('pastels', 7), ('brights', 1), ('associated', 8), ('dents', 5), ('giggle', 1), ('bumper', 2), ('hrs', 15), ('induces', 1), ('classy', 3), ('ct', 1), ('tax', 4), ('fort', 2), ('dropped', 8), ('concaves', 1), ('costs', 7), ('visiting', 3), ('patterns', 6), ('outdoor', 1), ('conjunction', 5), ('therapeutic', 4), ('stages', 1), ('hi', 5), ('presents', 7), ('flowed', 2), ('importantly', 5), ('consequences', 1), ('smudges', 2), ('comfilite', 4), ('regained', 2), ('89', 2), ('4000', 1), ('3000', 2), ('smh', 3), ('include', 7), ('duo', 1), ('clunky', 1), ('repurchase', 2), ('mousing', 18), ('minesweeper', 1), ('backpack', 3), ('drunk', 1), (\"it'll\", 1), ('unmatched', 1), ('crick', 1), ('robust', 2), ('blu', 1), (\"5'4\", 5), ('112', 1), (\"6'2\", 3), ('185', 2), ('bony', 5), ('mattresses', 2), ('couches', 2), ('bar', 4), ('verging', 1), ('grouped', 2), ('smelling', 7), ('toxins', 1), ('breadth', 1), ('asap', 2), ('suddenly', 5), ('rendering', 1), ('grayish', 2), ('stitching', 3), ('clicking', 4), ('misery', 1), ('cramming', 1), ('jacket', 1), ('sweater', 1), ('planned', 1), ('introduced', 1), ('defiantly', 2), ('lengthy', 1), ('streaky', 3), ('fixed', 8), ('disintegrated', 3), ('puffy', 1), ('defective', 6), ('audio', 1), ('scoring', 2), ('repashi', 2), ('15th', 1), ('boot', 3), ('killer', 2), ('listing', 1), ('misguided', 1), ('convenience', 1), ('breathing', 3), ('wal', 2), ('mart', 2), ('advantages', 1), ('negatives', 4), ('postitives', 1), ('buildable', 1), ('sharpens', 8), ('prone', 1), ('toned', 1), ('barrel', 9), ('justified', 1), ('amy', 1), ('simpler', 2), ('disclocated', 1), ('scicatica', 1), ('funky', 4), ('ehh', 2), ('matched', 3), ('camper', 6), ('peel', 5), ('congenital', 1), ('happening', 2), ('primarily', 8), ('sastified', 1), ('versatile', 4), ('bottoms', 2), ('elevate', 5), ('seek', 5), ('share', 4), ('iinflatable', 1), ('inflated', 3), ('arse', 1), ('distance', 10), ('bessssssst', 2), ('vv', 1), ('fuzzy', 3), ('lags', 1), ('soooooo', 3), ('face', 5), ('heartedly', 1), ('coach', 2), ('airline', 6), ('measures', 1), ('narrower', 3), ('husky', 1), ('venture', 1), ('largish', 1), ('females', 1), ('males', 1), ('sizing', 1), ('informed', 1), ('mothers', 5), ('clinic', 2), ('vitals', 1), ('patients', 4), ('anticipated', 8), ('adjustments', 5), ('architectural', 1), ('unique', 2), ('slant', 1), ('downward', 3), ('helpss', 1), ('ouse', 1), ('blocking', 2), ('cleaned', 8), ('indenting', 1), ('protected', 2), ('git', 2), ('muted', 9), ('m570', 2), ('defense', 1), ('manufacture', 2), ('roll', 4), ('blaming', 1), ('accessories', 1), ('descriptions', 1), ('cars', 8), ('everytime', 1), ('entirety', 2), ('200', 12), ('36', 3), ('degradation', 1), ('corded', 1), ('filler', 4), ('gell', 5), ('traditional', 3), ('coushion', 1), ('deserves', 3), ('collect', 1), ('lint', 3), ('dusty', 3), ('particles', 1), ('applications', 3), ('em', 2), ('south', 1), ('lifted', 4), ('comanro', 2), ('ev', 2), ('human', 3), ('1800', 2), ('2500', 2), ('b00wlk9594', 1), ('downhill', 3), ('rips', 3), ('encourage', 3), ('cocksic', 1), ('harley', 1), ('impressions', 1), ('deff', 1), ('graphics', 2), ('thumb', 2), ('rested', 5), ('2200', 1), ('florida', 3), ('schedule', 3), ('sun', 2), ('nevertheless', 2), ('dig', 2), ('ladder', 1), ('replacements', 4), ('admittedly', 3), ('exacerbates', 1), ('lingering', 1), ('continuous', 4), ('sigh', 3), ('fight', 3), ('coccyc', 1), ('odors', 3), ('lengths', 1), ('unsure', 1), ('sketchbook', 2), ('sample', 8), ('weekday', 3), ('boys', 4), ('princess', 2), ('dinosaurs', 4), ('dragons', 2), ('monsters', 2), ('escapes', 2), ('alligator', 2), ('girly', 2), ('community', 7), ('property', 4), ('paints', 2), ('private', 2), ('stash', 2), ('sewing', 10), ('reasons', 7), ('boxed', 2), ('ad', 7), ('phone', 8), ('extension', 4), ('pewter', 2), ('relation', 2), ('explains', 3), ('incorrect', 2), ('labeling', 2), ('samples', 2), ('yells', 2), ('piraformis', 1), ('moose', 1), ('donating', 1), ('reap', 1), ('journal', 1), ('deflated', 7), ('efficient', 2), (\"6'\", 1), ('215', 1), ('2012', 4), ('hundred', 5), ('robustness', 1), ('squishing', 3), ('alas', 3), ('vanity', 1), ('tragic', 1), ('fellow', 2), ('sufferers', 1), ('prefect', 3), (\"6'6\", 1), ('340', 1), ('misrepresenting', 1), ('impressive', 10), ('morning', 8), ('highlight', 2), ('housing', 1), ('transit', 2), ('rocked', 2), ('skyrocketed', 2), ('craftmanship', 3), ('charateristics', 1), ('dell', 3), ('trackpad', 1), ('bones', 13), ('rowing', 3), ('differentiate', 2), ('wristpad', 8), ('readjust', 5), ('understandable', 2), ('fuller', 1), ('3ins', 1), ('overhang', 1), ('270', 2), ('grow', 1), ('handles', 1), ('162', 1), ('seventeen', 2), ('sketches', 3), ('aged', 1), ('coworker', 4), ('risk', 4), ('tended', 2), ('drab', 2), ('meet', 10), ('attracted', 2), ('brightness', 2), ('lifelike', 2), ('appreciates', 2), ('ranging', 2), ('ablt', 2), ('bland', 1), ('september', 2), ('stairs', 4), ('steady', 1), ('22480', 4), ('b002gyffp8', 2), ('www', 2), ('b00v5axptw', 1), ('ryp', 2), ('prd', 2), ('ttl', 2), ('sol', 2), ('46', 7), ('relive', 6), ('kiester', 1), ('persistent', 1), ('stumbled', 2), ('healed', 3), ('identify', 4), ('beklin', 1), ('image', 5), ('sans', 1), ('bleep', 1), ('bubbles', 6), ('presumably', 2), (\"doesn't\", 2), ('excelent', 4), ('commented', 7), ('allergies', 4), ('frozen', 1), ('screaming', 4), ('lowered', 5), ('wild', 1), ('thrid', 1), ('mental', 1), ('august', 2), ('diet', 1), ('pepsi', 1), ('death', 2), ('exception', 3), ('google', 4), ('articles', 3), ('imaginable', 2), ('levels', 4), ('expertise', 2), ('dime', 3), ('oppressive', 2), ('cable', 2), ('secure', 2), ('lifts', 7), ('newly', 2), ('skinny', 6), ('handsome', 1), ('gravity', 1), ('massage', 3), ('workshop', 1), ('dagnabbit', 1), ('noassatol', 1), ('14', 7), ('crouch', 2), ('intermittently', 2), ('minority', 1), ('manages', 1), ('giant', 7), ('etched', 1), ('pulling', 6), ('wiggle', 1), ('205lbs', 1), ('relaxobak', 1), ('eachother', 2), ('varying', 7), ('tinted', 2), ('traffic', 2), ('lousy', 4), ('chart', 5), ('tells', 4), ('medication', 5), ('rn', 2), ('ergo', 5), ('26', 1), (\"5'10\", 4), ('impress', 1), ('smelly', 8), ('imposter', 1), ('accountant', 1), ('season', 2), ('palette', 4), ('casual', 8), ('tabletop', 1), ('hardwood', 2), ('practically', 3), ('collecting', 1), ('kit', 5), ('glass', 6), ('homework', 10), ('mices', 2), ('opposed', 10), ('belong', 1), ('touching', 4), ('forearms', 2), ('pak', 1), ('backup', 4), ('dogz', 1), ('chew', 2), ('toy', 3), ('stunning', 1), ('workws', 1), ('periformis', 2), ('suite', 1), ('safely', 1), ('neutral', 12), ('rigidity', 1), ('keeling', 1), ('smelt', 2), ('suit', 7), ('fanned', 1), ('execellent', 1), ('iliopsoas', 1), ('tendon', 3), ('exit', 1), ('browsed', 1), ('rub', 2), ('b00134d3ba', 2), ('infinitely', 2), ('hobbyist', 1), ('bmw', 1), ('steelseries', 3), ('photoshopping', 1), ('fragging', 1), ('minecrafting', 1), ('peanut', 1), ('butter', 2), ('ancient', 2), ('22', 12), ('sheeple', 1), ('supplier', 2), ('knocking', 1), ('masterpieces', 1), ('fifty', 1), ('companies', 4), ('plush', 9), ('staedler', 3), ('intermingle', 2), ('disgusting', 2), ('destroying', 1), ('52', 1), ('papers', 4), ('cramping', 5), ('hates', 3), ('dominant', 1), ('crafting', 3), ('32', 1), ('traveler', 1), ('recommends', 1), ('deflate', 5), ('decidedly', 2), ('mid', 6), ('thigh', 8), ('bugs', 1), ('finance', 1), ('display', 3), ('girlfriends', 1), ('cockatoo', 1), ('chomping', 1), ('surprising', 3), ('usb', 1), ('ports', 1), ('inflate', 2), ('xd', 1), ('weverest', 1), ('sphincterotomy', 1), ('wsad', 1), ('puzzled', 1), ('glowing', 1), ('bloom', 1), ('darn', 4), ('gud', 1), ('sons', 4), ('fianc', 6), ('eacute', 4), ('es', 2), ('youngest', 2), ('enrolled', 2), ('addictive', 1), ('000', 5), ('northern', 1), ('california', 3), ('legendary', 1), ('rubicon', 2), ('trail', 2), ('cyer', 2), (\"rec'd\", 2), ('hebron', 1), ('ky', 1), ('mildew', 2), ('west', 1), ('seldom', 1), ('atmospheric', 1), ('conditioning', 2), ('flaw', 2), ('imprints', 1), ('thoughts', 1), ('june', 2), ('frustrate', 1), ('assignments', 2), ('bolster', 1), ('bursitis', 3), ('stocking', 6), ('stuffers', 4), ('bends', 2), ('therfore', 1), ('degeneration', 2), ('incredible', 9), ('painless', 3), ('enabled', 2), ('andmakes', 2), ('yea', 1), ('pigments', 3), ('view', 5), ('rows', 3), ('dumping', 1), ('boney', 3), ('va', 1), ('system', 2), ('trendy', 1), ('joke', 8), ('treat', 4), ('royal', 6), ('5th', 3), ('wowpen', 1), ('median', 1), ('m002', 1), ('nano', 1), ('fatigued', 3), ('colorbookd', 1), ('toes', 1), ('se', 1), ('pew', 1), ('flex', 1), ('liking', 15), ('modeled', 1), ('blanket', 2), ('curb', 1), ('sinks', 9), ('rocking', 5), ('key', 3), ('dash', 2), ('tissue', 1), ('foes', 1), ('oranges', 3), ('teal', 1), ('tiffany', 1), ('twistable', 2), ('insten', 2), ('ebay', 2), ('fl', 2), ('haul', 4), ('cabin', 1), ('veriety', 1), ('describing', 2), ('retreating', 1), ('sagged', 1), ('arguably', 1), ('mysterious', 1), ('lessening', 1), ('prospect', 1), ('schlepp', 1), ('partially', 3), ('distract', 1), ('comforts', 2), ('bored', 3), ('mildly', 2), ('adhesive', 1), ('reattach', 2), ('comfi', 11), ('30min', 1), ('1hr', 1), ('honesty', 1), ('angry', 2), ('styrofooooam', 1), ('litte', 1), ('wrapping', 3), ('squished', 8), ('equivalent', 2), ('survivor', 1), ('65lbs', 1), ('treatment', 3), ('anytime', 4), ('comfitlife', 3), ('tese', 1), ('casuals', 1), ('harmful', 2), ('emits', 4), ('electromagnetic', 1), ('waves', 1), ('tens', 1), ('blackboard', 1), ('chalk', 3), ('powder', 1), ('lung', 2), ('coins', 1), ('contains', 5), ('millions', 1), ('bacterias', 1), ('daycare', 2), ('poorer', 1), ('bordem', 2), ('ida', 1), ('coulter', 1), ('recenter', 1), ('fulfilling', 2), ('activity', 2), ('burst', 1), ('employees', 6), ('bank', 1), ('spoil', 3), ('theft', 4), ('valid', 2), ('consumer', 4), ('offensive', 2), ('exist', 2), ('portrayed', 1), ('maintenance', 1), ('trim', 1), ('fray', 4), ('probem', 1), ('refer', 2), ('coushin', 2), ('childbirth', 1), ('nursing', 4), ('spreadsheet', 1), ('documents', 1), ('enemy', 2), ('taught', 2), ('manyblues', 1), ('facility', 3), ('m505', 2), ('m510', 2), ('operations', 1), ('ps', 1), ('thereby', 2), ('compliant', 1), ('snatch', 1), ('forked', 2), ('inventing', 1), ('cystic', 1), ('2006', 2), ('gelly', 1), ('relaxes', 2), ('unlocking', 1), ('20hrs', 1), ('nary', 1), ('corsair', 2), ('m65', 2), ('rgb', 4), ('backlit', 2), ('12000', 2), ('b01d63uu52', 1), ('iirc', 1), ('discolored', 1), ('admitting', 1), ('regrets', 5), ('losses', 2), ('fluffiness', 3), ('toyota', 2), ('recommendable', 1), ('belkins', 3), ('somes', 1), ('exacto', 1), ('knife', 1), ('bottomof', 1), ('poppin', 1), ('pocket', 5), ('sponged', 1), ('sticking', 1), ('admins', 1), ('learn', 7), ('odour', 2), ('trimming', 1), ('cleaner', 1), ('hesitating', 1), ('pantone', 1), ('qck', 2), ('submit', 2), ('shoddy', 1), ('qualifies', 1), ('smallish', 1), ('unnecessary', 2), ('scribble', 2), ('graphic', 5), ('rail', 1), ('train', 1), ('operator', 4), ('inflatable', 3), ('doughnuts', 1), ('partner', 4), ('balls', 2), ('speaks', 2), ('leaked', 1), ('leak', 2), ('sign', 5), ('quilting', 1), ('retreat', 1), ('76', 2), ('encouraged', 2), ('media', 5), ('indents', 4), ('educational', 1), ('enduring', 2), ('natured', 1), ('ribbing', 1), ('session', 6), ('performing', 1), ('admirably', 1), ('limits', 2), ('flexiblity', 1), ('presharpened', 3), ('distinguish', 2), ('produces', 3), ('endeavors', 2), ('neighbors', 2), ('undue', 1), ('removes', 1), ('alaska', 2), ('tastes', 3), ('believer', 2), ('specially', 1), ('grands', 2), ('grandpa', 4), ('shiney', 1), ('yup', 1), ('meeses', 1), ('thrown', 2), ('hp', 1), ('wirless', 1), ('profile', 5), ('carpotunnel', 1), ('whacking', 1), ('yeh', 1), ('ppl', 1), ('bedridden', 2), ('asia', 2), ('economy', 1), ('resisted', 1), ('til', 1), ('famly', 1), ('wavegel', 1), ('factories', 2), ('prized', 1), ('sprang', 1), ('limit', 2), ('150', 5), ('contorted', 1), ('postieur', 1), ('dangerous', 3), ('sprained', 2), ('kidns', 1), ('liquid', 3), ('unwilling', 1), ('disturbing', 2), ('yelled', 2), ('positioning', 12), ('protector', 2), ('plop', 2), ('fans', 2), ('experimentation', 2), ('camry', 1), ('dozen', 5), ('transmit', 2), ('cray', 2), ('selected', 2), ('scholar', 5), ('swear', 4), ('7251', 8), ('treated', 2), ('hitch', 2), ('tale', 1), ('goode', 1), ('dips', 2), ('recuperating', 3), ('ankle', 3), ('bearing', 4), ('divider', 2), ('sorted', 2), ('largest', 2), ('multitude', 2), ('rhymes', 2), ('entertaining', 2), ('staring', 2), ('answered', 3), ('writs', 5), ('deserve', 4), ('oil', 4), ('skew', 2), ('sheer', 4), ('casually', 4), ('crayolsa', 2), ('separates', 1), ('thrones', 3), ('neglected', 1), ('nay', 1), ('embraced', 1), ('opulent', 1), ('physically', 2), ('accordingly', 4), ('spirit', 1), ('receptionist', 3), ('199lbs', 1), ('maize', 3), (\"can't\", 1), (\"won't\", 1), ('raising', 3), ('glitchy', 1), ('shrek', 1), ('ahha', 1), ('stupid', 5), ('bluetrack', 1), ('stability', 4), ('f8e262', 5), ('attribute', 2), ('requiring', 3), ('parallel', 1), ('possibility', 1), ('grabbing', 1), ('nonproductive', 1), ('disclosure', 3), ('connected', 2), ('mfr', 1), ('concrete', 4), ('kneeling', 2), ('trend', 3), ('enter', 2), ('flair', 1), ('perch', 1), ('dialysis', 6), ('owns', 2), ('nab', 1), ('frail', 1), ('rare', 1), ('tarlov', 2), ('immense', 4), ('cysts', 2), ('cushes', 1), ('heats', 2), ('unnatural', 3), ('indication', 2), ('sucks', 7), ('trashed', 2), ('btw', 5), ('popped', 3), ('poofy', 1), ('begins', 3), ('subken', 1), ('bevel', 1), ('interferes', 1), ('wold', 1), ('ithe', 1), ('fri', 1), ('obese', 1), ('p', 1), ('gripping', 2), ('spoiled', 2), ('thes', 1), ('altho', 1), ('siting', 1), ('coordinating', 1), ('5days', 1), ('ourchase', 1), ('purposely', 1), ('tooo', 1), ('conscious', 3), ('aesthetics', 1), ('budged', 1), ('behavior', 1), ('modification', 1), ('fewer', 1), ('swatch', 1), ('reality', 5), ('swatched', 1), ('cardstock', 1), ('toothy', 1), ('colorless', 1), ('suited', 3), ('learners', 1), ('buttery', 2), ('washes', 3), ('accidentally', 3), ('oily', 2), ('soap', 3), ('de', 6), ('quervain', 1), ('members', 5), ('quote', 1), ('el', 2), ('weell', 1), ('gliding', 2), ('excellence', 2), ('headline', 1), ('welded', 1), ('faulty', 1), ('postage', 1), ('drats', 1), ('chances', 1), ('representative', 3), ('bridge', 4), ('secs', 1), ('absorbing', 1), ('orthodpedic', 1), ('stinky', 1), ('fumes', 12), ('outcome', 1), ('network', 1), ('accomodate', 1), ('conformation', 1), ('walker', 5), ('releives', 2), ('foe', 1), ('pleather', 1), ('competitor', 2), ('168', 1), ('expectation', 4), ('slouching', 3), ('bicycle', 2), ('golden', 1), ('biscuit', 1), ('dog', 9), ('lounge', 1), ('zippered', 3), ('sue', 1), ('maker', 2), ('divide', 1), ('21', 3), ('connosieur', 2), ('spelling', 1), ('greenish', 2), ('tinge', 1), ('usability', 1), ('explore', 1), ('operable', 1), ('stylish', 1), ('ageing', 1), ('flashy', 1), ('unuseable', 2), ('disappoiting', 2), ('approximately', 6), ('severed', 1), ('myl3', 1), ('fusions', 1), ('cages', 1), ('cured', 2), ('fuming', 1), ('laundry', 2), ('summarize', 1), ('increasingly', 1), ('olds', 4), ('gas', 1), ('geek', 4), ('occurring', 2), ('abandoned', 1), ('destroyed', 3), ('variaty', 2), ('colory', 2), ('owning', 3), ('dabbling', 1), ('develop', 3), ('tenderness', 3), ('assure', 2), ('alarmed', 1), ('lesser', 1), ('cervical', 2), ('moods', 1), ('betweens', 1), ('neutrals', 1), ('oriented', 2), ('roseart', 4), ('makeup', 2), ('mass', 1), ('handheld', 1), ('conical', 1), ('artier', 1), ('temperament', 1), ('chromatic', 1), ('harmony', 1), ('among', 2), ('vary', 3), ('mercur', 1), ('erasers', 1), ('becasue', 1), ('seamlessly', 1), ('sudden', 1), ('attack', 3), ('breathe', 1), ('coxxcy', 1), ('grant', 3), ('overatime', 1), ('decently', 2), ('housebound', 1), ('xtreme', 2), ('mines', 1), ('temp', 1), ('quiltity', 2), ('vw', 1), ('sh', 1), ('slideout', 1), ('painfree', 1), ('ooooh', 1), ('la', 4), ('overdoing', 1), ('wondergel', 1), ('soothed', 1), ('cumbersome', 3), ('technically', 1), ('proven', 5), ('thrice', 2), ('preparation', 2), ('upcoming', 3), ('inaccurate', 3), ('favorably', 1), ('throat', 2), ('itching', 3), ('exuding', 1), ('poison', 1), ('obsessed', 2), ('requirements', 1), ('mist', 1), ('sharperner', 2), ('department', 2), ('semester', 1), ('hump', 5), ('startlingly', 2), ('meaty', 1), ('components', 3), ('expenses', 1), ('goggled', 1), ('lucky', 5), ('lightning', 5), ('advent', 3), ('limp', 2), ('attaches', 1), ('corpel', 2), ('suggetsed', 1), ('problrm', 1), ('minimize', 3), ('roommate', 2), ('hollows', 1), ('destroy', 1), ('handsprings', 1), ('usefulness', 1), ('235', 1), ('indeed', 7), ('vinyl', 2), ('lip', 2), ('retire', 1), ('soldier', 1), ('clears', 1), ('123', 1), (\"5'3\", 1), ('wings', 3), ('beautifull', 2), ('donuts', 2), ('excellant', 4), ('tipped', 2), ('lingered', 1), ('sleeves', 1), ('atrocious', 1), ('tldr', 1), ('outweigh', 1), ('marketed', 1), ('nowadays', 1), ('situated', 1), ('endurance', 2), ('eliminating', 5), ('comfilifes', 2), ('airlines', 1), ('dose', 1), ('wristrest', 3), ('researching', 2), ('characteristic', 1), ('cramp', 4), ('strategically', 1), ('aerodynamic', 1), ('optimally', 1), ('f', 3), ('grain', 2), ('salt', 3), ('express', 2), ('pretentious', 2), ('whatsover', 1), ('sept', 1), ('shy', 1), ('barbara', 1), ('nolan', 1), ('conventional', 2), ('fluff', 1), ('deteriorating', 1), ('continual', 3), ('notified', 1), ('issued', 1), ('cuts', 7), ('fetish', 1), ('studing', 1), ('sharping', 2), ('coccydynia', 1), ('shirt', 1), ('shrivels', 1), ('theirs', 3), ('transformed', 2), ('immensley', 1), ('avery', 1), ('arms', 10), ('ultimately', 3), ('drawer', 6), ('unused', 3), ('designs', 4), ('employ', 1), ('b000x7mlw0', 1), ('unglue', 1), ('dick', 1), ('repositioning', 1), ('41', 1), ('partaking', 1), ('sis', 2), ('lighten', 3), ('load', 3), ('wake', 1), ('breath', 1), ('mornings', 2), ('feb', 1), ('immobile', 1), ('abdominal', 1), ('incision', 1), ('unpleasure', 1), ('landfill', 1), ('effecting', 2), ('party', 1), ('swears', 2), ('colourful', 2), ('leaded', 2), ('describes', 2), ('nib', 2), ('spotted', 1), ('surfer', 1), ('haywire', 2), ('rubbing', 2), ('jeans', 1), ('steel', 1), ('wool', 1), ('senior', 1), ('citizen', 1), ('modelling', 1), ('cortisone', 1), ('certainty', 1), ('contributing', 1), ('hubby', 9), ('midnight', 1), ('300lbs', 1), ('uploaded', 1), ('12year', 1), ('pruce', 1), ('creased', 1), ('crushed', 3), ('musky', 1), ('oder', 1), ('unopened', 1), ('emergency', 1), ('booooyah', 1), ('blank', 2), ('attach', 3), ('paler', 1), ('blob', 1), ('batter', 1), ('dissolve', 1), ('chunk', 2), ('flour', 1), ('brownie', 1), ('earned', 2), ('entertained', 2), ('produced', 5), ('moderately', 3), ('radiculopathy', 1), ('identified', 1), ('insuring', 1), ('adaptability', 1), ('tote', 1), ('library', 1), ('schools', 1), ('meditation', 5), ('necessity', 6), ('landscape', 4), ('reordered', 2), ('remarkable', 3), ('standup', 2), ('visited', 3), ('category', 2), ('twofold', 1), ('res', 1), ('scanning', 1), ('cotton', 2), ('strokes', 1), ('realms', 1), ('tinting', 1), ('worsened', 1), ('subtlety', 2), ('producing', 2), ('broadsheet', 1), ('pk', 1), ('grays', 1), ('standards', 4), ('nervous', 4), ('warmth', 1), ('morph', 1), ('slave', 1), ('seperated', 1), ('pile', 1), ('lounger', 2), ('receipient', 2), ('drain', 3), ('anitamc777', 1), ('hotmail', 1), ('havnt', 1), ('palmer', 1), ('hyperhydrosis', 1), ('bird', 2), ('inserts', 3), ('pencits', 2), ('recommendo', 1), ('peroids', 1), ('itskinda', 1), ('assorment', 1), ('grooved', 1), ('positives', 1), ('kingston', 2), ('gps', 1), ('mount', 2), ('1gray', 1), ('perks', 1), ('collapsing', 1), ('listen', 5), ('engineer', 2), ('tunneling', 1), ('felling', 1), ('rump', 1), ('drastically', 9), ('intolerable', 4), ('roughly', 1), ('stain', 7), ('mash', 1), ('naked', 1), ('bath', 1), ('cheapest', 3), ('consistently', 4), ('caring', 3), ('underweight', 1), ('mobility', 4), ('breakdown', 1), ('ect', 1), ('todays', 1), ('lucked', 1), ('ideas', 1), ('190', 1), ('crumble', 5), ('woks', 2), ('rv', 2), ('crumpled', 2), (\"6'4\", 3), ('talk', 4), ('protective', 4), ('spikes', 1), ('unsupported', 1), ('respectable', 1), ('mixture', 1), ('blog', 1), ('subpar', 1), ('batches', 1), ('jet', 2), ('nemo', 1), ('guilds', 1), ('bitch', 1), ('moan', 1), ('aroma', 1), ('dow', 1), ('plant', 2), ('terminal', 2), ('island', 2), ('dear', 2), ('sunshine', 2), ('memories', 1), ('teasing', 1), ('contacting', 1), ('unevenly', 2), ('distributed', 3), ('versus', 3), ('diameter', 2), ('1774266', 4), ('b004f9qbge', 2), ('phenomenal', 2), ('lists', 2), ('fr', 1), ('irritation', 3), ('glitter', 1), ('stamped', 4), ('choosing', 3), ('marketing', 1), ('285', 2), ('unusually', 2), ('maxi', 2), ('nauseating', 1), ('andthis', 1), ('fanciest', 1), ('flimsier', 1), ('abysmal', 2), ('curvature', 2), ('facilitate', 2), ('photography', 1), ('stupidity', 1), ('rochelle', 1), (\"l'm\", 2), ('fume', 1), ('hood', 1), ('reminds', 3), ('drawn', 3), ('designated', 2), ('crafter', 1), ('debated', 2), ('hinder', 2), ('librarian', 1), ('circle', 4), ('label', 2), ('advice', 3), ('dr', 2), ('drs', 1), ('neurologist', 1), ('exam', 2), ('rooms', 2), ('reaponds', 1), ('affecting', 2), ('35', 4), ('receipt', 4), ('foscus', 1), ('homeworks', 1), ('wooded', 1), ('cab', 2), ('developer', 3), ('falsely', 1), ('advertise', 1), ('pa', 2), ('leadl', 2), ('disgustingly', 1), ('pamper', 1), ('flabby', 1), ('ii', 1), ('effectiveness', 2), ('excepted', 1), ('oppose', 1), ('compelled', 2), ('repeats', 1), ('ooh', 1), ('shorties', 1), ('excessive', 3), ('grippies', 1), ('resharpen', 1), ('strained', 5), ('michaels', 2), ('favorites', 4), ('units', 1), ('nauseous', 1), ('midday', 2), ('stabbing', 1), ('distributes', 2), ('confirm', 2), ('dramatically', 6), ('dough', 1), ('ticket', 2), ('demands', 2), ('percent', 2), ('definately', 3), ('disks', 3), ('twisted', 1), ('fathers', 1), ('transfers', 5), ('transferred', 1), ('dissipate', 1), ('exposed', 1), ('maternity', 1), ('misaligned', 1), ('locking', 1), ('swell', 1), ('breathable', 2), ('conspicuous', 1), ('redragon', 1), ('perdition', 1), ('detectable', 1), ('knockoff', 2), ('hardand', 1), ('tag', 4), ('ant', 1), ('unsteady', 1), ('creaking', 1), ('perfection', 1), ('actuality', 1), ('understated', 1), ('suffice', 2), ('entry', 2), ('congratulations', 1), ('bills', 1), ('attractive', 5), ('reeks', 1), ('arived', 1), ('rushed', 1), ('prismas', 2), ('adjustment', 9), ('excelently', 1), ('flipping', 2), ('fizes', 1), ('glaze', 2), ('sucky', 2), ('shallower', 1), ('dificult', 2), ('erase', 2), ('donot', 2), ('korea', 1), ('rct', 1), ('carleen', 1), ('cement', 3), ('requests', 1), ('petty', 1), ('film', 3), ('editor', 2), ('gelatinous', 1), ('innards', 2), ('hairy', 2), ('altogether', 2), ('unfavorable', 1), ('checklist', 1), ('scrapbook', 1), ('task', 1), ('tapers', 1), ('interior', 5), ('pregnate', 1), ('deformation', 2), ('complications', 1), ('basketball', 3), ('shootout', 1), ('landed', 2), ('injected', 1), ('simulate', 1), ('aggravation', 1), ('sway', 1), ('chicago', 1), ('winters', 1), ('indoors', 1), ('salvation', 1), ('tap', 1), ('numbed', 1), ('trial', 1), ('concluding', 1), ('topper', 1), ('chalked', 2), ('shoe', 2), ('hung', 3), ('asthma', 2), ('asthmatic', 2), ('swelling', 4), ('pinkie', 3), ('finger', 5), ('console', 3), ('keyboarding', 4), ('appendage', 2), ('cent', 5), ('produit', 1), ('conforme', 1), ('et', 1), ('trs', 1), ('bonne', 1), ('qualit', 1), ('spite', 2), ('ring', 2), ('genuine', 2), ('workspace', 4), ('coated', 1), ('plywood', 1), ('commercially', 1), ('secured', 2), ('santa', 1), ('cigar', 1), ('sift', 1), ('overwhelming', 1), ('heals', 2), ('joked', 1), ('freedom', 2), ('facing', 5), ('rds', 1), ('125', 3), ('ziraki', 1), ('rounder', 1), ('ripping', 1), ('embroidered', 2), ('waaay', 1), ('valentine', 2), ('beginnings', 1), ('carpaltunnel', 1), ('operated', 1), ('lolliz', 1), ('blessed', 1), ('dar', 1), ('porous', 2), ('eyelash', 1), ('nonskid', 2), ('51450', 2), ('lifestyle', 1), ('exercise', 3), ('redistributes', 1), ('hyper', 1), ('lordosis', 1), ('promising', 3), ('co9ntant', 1), ('barrage', 1), ('beet', 1), ('beings', 1), ('corrects', 1), ('hooray', 1), ('secondary', 1), ('stitched', 1), ('downright', 2), ('reoccurring', 1), ('30yrs', 1), ('stating', 2), (\"5'11\", 1), ('nonstop', 1), ('wk', 1), ('mri', 1), ('ceo', 2), ('himself', 3), ('grest', 3), ('sculpted', 1), ('hollowed', 2), ('centre', 2), ('pronounced', 1), ('guarantee', 3), ('invention', 1), ('70', 2), ('kg', 1), ('cherries', 2), ('tapered', 1), ('curl', 3), ('poofs', 2), ('pensioners', 1), ('judges', 1), ('antiquated', 1), ('assembled', 1), ('handling', 2), ('excuse', 1), ('steve', 1), ('ligament', 1), ('patchy', 3), ('shorts', 1), ('backbone', 1), ('upside', 3), ('mushroom', 1), ('dream', 8), ('mushrooms', 1), ('ownage', 1), ('lingo', 1), ('caveat', 1), ('emptor', 1), ('ahppy', 1), ('artsiest', 1), ('arround', 1), ('lumps', 1), ('whereas', 2), ('forklift', 2), ('beaded', 1), ('rite', 1), ('overseas', 1), ('blunt', 2), ('confessed', 2), ('34', 1), ('combines', 1), ('begrudge', 1), ('qualities', 1), ('chips', 1), ('veins', 1), ('overcome', 1), ('bay', 2), ('spacious', 2), ('figuratively', 1), ('blood', 5), ('rookie', 2), ('mistake', 4), ('solutions', 3), ('hitting', 3), ('itch', 1), ('crater', 1), ('refuses', 1), ('smashes', 2), ('pinches', 1), ('rods', 1), ('flexibility', 2), ('soo', 5), ('inflexible', 1), ('2000s', 1), ('cheated', 1), ('truthful', 1), ('merit', 1), ('ongoing', 2), ('noting', 1), ('hide', 2), ('someplace', 1), ('displacement', 1), ('freshen', 1), ('luxury', 1), ('sneak', 1), ('packed', 4), ('victim', 4), ('fad', 2), ('fool', 4), ('suffocating', 1), ('propped', 1), ('varried', 1), ('offspring', 1), ('nabbed', 1), ('flailing', 1), ('doable', 2), ('inwardly', 1), ('leisurely', 3), ('travels', 5), ('tonight', 1), ('alert', 1), ('2001', 3), ('reengineer', 1), ('sounding', 2), ('crackles', 1), ('piddly', 1), ('engineers', 1), (\"5'2\", 3), ('cad', 1), ('assistance', 1), ('sponge', 2), ('sleak', 1), ('glossy', 2), ('crappier', 1), ('assed', 1), ('ghetto', 1), ('mcdonald', 1), ('efective', 1), ('violets', 1), ('prefered', 1), ('205', 1), ('mushes', 1), ('shooting', 2), ('pouch', 2), ('recycle', 1), ('medications', 1), ('fluid', 3), ('bestseller', 1), ('religiously', 1), ('crafted', 1), ('dentist', 1), ('treating', 1), ('operatory', 1), ('dental', 1), ('50ct', 3), ('bullet', 1), ('hermanmiller', 1), ('trusted', 2), ('uninspiring', 1), ('punchy', 1), ('enhances', 1), ('pukey', 1), ('chill', 1), ('sew', 4), ('align', 2), (\"i'be\", 1), ('comportalble', 1), ('deluxe', 1), ('recomended', 1), ('desperation', 2), ('anatomy', 1), ('inquire', 2), ('genuineness', 1), ('roadtrip', 1), ('63', 1), ('tense', 1), ('crunched', 4), ('looong', 2), ('workaholic', 1), ('spur', 2), ('faith', 1), ('woorks', 1), ('r', 2), ('glove', 4), ('lopsidedness', 1), ('ing', 2), ('los', 1), ('angeles', 1), ('lifetime', 2), ('stone', 2), ('published', 1), ('don', 1), ('navigation', 1), ('pealing', 1), ('premier', 3), ('comforted', 1), ('visits', 4), ('ipad', 1), ('wearability', 1), ('vouge', 1), ('struggles', 1), ('withstood', 1), ('brush', 1), ('sag', 2), ('airbag', 1), ('abbey', 1), ('handstands', 2), ('hemorrhoid', 2), ('vasectomy', 1), ('lapad', 1), ('slump', 1), ('orevious', 1), ('nostalgia', 2), ('remembered', 3), ('tools', 3), ('manipulate', 3), ('precise', 6), ('rewarding', 2), ('soothing', 2), ('l5s1', 1), ('neurosurgeons', 1), ('ion', 1), ('nutshell', 1), ('sante', 1), ('diantoni', 1), ('footstool', 1), ('motorcoaches', 1), ('advertises', 1), ('undone', 2), ('scrunch', 1), ('distraction', 1), ('judged', 1), ('relate', 1), ('productive', 1), ('resurfaced', 1), ('tossing', 2), ('eight', 4), ('camping', 1), ('ours', 2), ('bounced', 1), ('clothes', 3), ('numeric', 1), ('reminder', 1), ('unwanted', 1), ('flexicity', 1), ('adopt', 1), ('output', 5), ('flareup', 1), ('accustomed', 4), ('programming', 2), ('gf', 2), ('reverse', 2), ('makeshift', 1), ('bundled', 1), ('backseat', 2), ('sporty', 1), ('curves', 2), ('judging', 2), ('diminished', 3), ('stuffer', 2), ('accommodations', 1), ('continually', 3), ('orchid', 2), ('melon', 2), ('tomato', 2), ('foresee', 1), ('threads', 1), ('shove', 2), ('trapezoidal', 1), ('fingertips', 3), ('brilliance', 1), ('bashing', 1), ('trivial', 1), ('obscure', 1), ('breathes', 1), ('sweating', 2), ('sweaty', 2), ('palms', 2), ('chosen', 4), ('absorbs', 1), ('largely', 2), ('depends', 3), ('doctors', 3), ('dangling', 1), ('lowest', 5), ('calling', 1), ('gemstone', 4), ('brightly', 2), ('crystals', 2), ('backdrop', 2), ('affords', 1), ('tires', 3), ('deflates', 2), ('smushes', 1), ('folded', 4), ('regional', 1), ('jets', 1), ('attempting', 2), ('yell', 2), ('counterparts', 2), (\"ol'\", 2), ('overflowed', 1), ('plump', 2), ('tampon', 2), ('stimpy', 1), ('band', 1), ('aid', 3), ('monthly', 1), ('visitor', 1), ('porn', 1), ('junkie', 1), ('photoshop', 1), ('shortcuts', 1), ('firefox', 1), ('chipping', 1), ('drudgery', 1), ('marco', 5), ('raffine', 5), ('sherbet', 2), ('inputs', 1), ('sites', 3), ('faulting', 1), ('stage', 1), ('freaked', 1), ('survived', 2), ('roses', 3), ('lowerback', 1), ('kidding', 3), ('verry', 1), ('ruins', 2), ('solvee', 1), ('angrier', 1), ('likei', 1), ('flowers', 2), ('miss', 4), ('throb', 1), ('addendum', 3), ('01', 1), ('05', 2), ('focusing', 1), ('concentrated', 1), ('clever', 1), ('convex', 1), ('upward', 1), ('capable', 1), ('permit', 1), ('protruding', 1), ('restricted', 1), ('acquisition', 1), ('inducing', 3), ('onset', 1), ('recurrence', 2), ('veterinary', 1), ('routine', 2), ('fatige', 1), ('dawn', 1), ('rates', 2), ('driveway', 1), ('strains', 1), ('sporting', 1), ('wated', 1), ('practicality', 1), ('nyc', 2), ('san', 1), ('francisco', 1), ('national', 1), ('parks', 1), ('logged', 1), ('detours', 1), ('desert', 1), ('mazda', 2), ('crucial', 2), ('repay', 1), ('reluctant', 1), ('crammed', 1), ('downsides', 1), ('heightens', 1), ('disregard', 1), ('ocean', 3), ('salmon', 2), ('yielding', 1), ('dissuade', 1), ('softest', 1), ('engineering', 1), ('softening', 1), ('rist', 1), ('409', 1), ('fiber', 3), ('roots', 1), ('sufferer', 1), ('attempted', 1), ('doughnut', 1), ('method', 2), ('entails', 1), ('biking', 1), ('safari', 2), ('lopsided', 2), ('elevating', 1), ('sight', 1), ('aduly', 1), ('hmmmmm', 1), ('elavated', 1), ('58', 1), ('med', 1), ('backpain', 1), ('geeks', 1), ('callous', 2), ('bleeding', 1), ('couples', 1), ('shed', 3), ('assuming', 1), ('enormous', 2), ('branding', 1), ('adjustable', 4), ('icy', 1), ('oregon', 1), ('secretary', 1), ('stands', 3), ('susan', 1), ('alan', 1), ('toilet', 1), ('squirming', 2), ('pedestal', 1), ('followup', 1), ('fluffier', 1), ('intensive', 2), ('curser', 1), ('savior', 1), ('lake', 1), ('incomplete', 1), ('visually', 3), ('maintains', 2), (\"5'8\", 3), ('fyi', 1), ('magnitudes', 1), ('derriere', 4), (\"5'\", 1), ('210', 1), ('problematic', 3), ('hangs', 1), ('stutters', 1), ('v200', 1), ('931380', 1), ('0403', 1), ('defects', 1), ('secondly', 2), ('respond', 4), ('stickier', 1), ('battery', 4), ('wresting', 1), ('intermediate', 1), ('240', 1), ('perceived', 1), ('averaging', 1), ('impressively', 1), ('hygienic', 1), ('scars', 1), ('indentations', 2), ('accidental', 1), ('creasing', 1), ('iron', 3), ('aesthetic', 2), ('disabled', 8), ('scratched', 1), ('solitaire', 1), ('presenting', 1), ('wrinkle', 2), ('neuropathy', 1), ('flawless', 1), ('expert', 2), ('hulk', 1), ('prettay', 3), ('assists', 2), ('genius', 1), ('elimanted', 1), ('reflect', 3), ('walgreens', 2), ('mt', 2), ('reccomended', 3), ('subtle', 5), ('kicks', 3), ('secrete', 1), ('microfiber', 2), ('140', 5), ('wright', 1), ('lends', 2), ('411', 1), ('115', 3), ('winning', 1), ('lessens', 2), ('rural', 1), ('frostheaves', 1), ('pot', 2), ('185lbs', 1), ('seeking', 4), ('compfortable', 1), ('purse', 1), ('doodle', 1), ('nag', 1), ('hugs', 1), ('popularity', 2), ('creamier', 2), ('drier', 2), ('universe', 4), ('nerd', 2), ('fabricated', 1), ('treatments', 3), ('proclaims', 1), ('caregiver', 2), ('bach', 1), ('soiled', 2), ('ironic', 1), ('sully', 1), ('quibble', 1), ('dock', 2), ('coal', 1), ('illistrating', 1), ('sketcher', 1), ('revolutionary', 1), ('samr', 1), ('resorted', 2), ('notebook', 2), ('inconvenient', 1), ('grandfather', 1), ('efficiency', 1), ('supplied', 1), ('ratty', 1), ('crowded', 1), ('narrowest', 1), ('teenager', 1), ('employed', 1), ('sorta', 2), ('hefty', 1), ('gal', 2), ('outlines', 1), ('quit', 4), ('stably', 1), ('moouse', 1), ('weapon', 1), ('vibrations', 2), ('skills', 1), ('outward', 1), ('ultimate', 2), ('bust', 2), ('bands', 2), ('claimed', 1), ('earthtones', 2), ('skirt', 1), ('managed', 3), ('friggin', 1), ('scurry', 1), ('cousion', 1), ('sown', 1), ('reckon', 1), ('distractingly', 1), ('aremoving', 1), ('stale', 1), ('akin', 2), ('cassell', 2), ('derwent', 4), ('corroded', 2), ('gym', 2), ('drive5', 1), ('tooooo', 1), ('dat', 1), ('135lbs', 1), ('gymnastics', 1), ('yikes', 1), ('meanwhile', 1), ('foolish', 1), ('assumed', 2), ('reputable', 1), ('horrid', 1), ('astounding', 1), ('cough', 1), ('checks', 1), ('mismatched', 1), ('olive', 1), ('beef', 3), ('135', 1), ('tilted', 3), ('feared', 1), ('reassured', 1), ('promotes', 2), ('bride', 1), ('hawaii', 2), ('brothers', 1), ('softball', 1), ('charged', 1), ('crafty', 2), ('overpower', 1), ('gasoline', 1), ('aitting', 1), ('radius', 1), ('drawbacks', 3), ('fashionista', 1), ('fashionable', 1), ('doll', 1), ('clothing', 1), ('diverse', 1), ('creativity', 1), ('resolved', 2), ('righ', 1), ('wheeler', 4), ('soles', 1), ('preserver', 1), ('teton', 1), ('comfortlite', 1), ('inflating', 1), ('47', 1), ('card', 2), ('mineral', 1), ('spirits', 1), ('ourselves', 2), ('kilter', 1), ('talller', 1), ('reclining', 1), ('balanced', 1), ('nicest', 4), ('shreds', 1), ('smooths', 1), ('avid', 3), ('loosing', 1), ('reversed', 1), ('evil', 2), ('knock', 4), ('triple', 1), ('generic', 6), ('wifes', 2), ('clit', 1), ('rapid', 1), ('restroom', 1), ('snacks', 2), ('loudly', 1), ('specific', 3), ('slightest', 6), ('hint', 3), ('nquality', 2), ('tilts', 1), ('tilt', 3), ('smartly', 1), ('forebump', 1), ('crease', 1), ('97', 2), ('vice', 1), ('transitions', 1), ('cone', 1), ('facepalm', 1), ('comfontable', 1), ('managing', 1), ('imitation', 1), ('proves', 1), ('31', 1), ('softflex', 1), ('gloves', 1), ('painlessly', 1), ('sickening', 1), ('simplicity', 2), ('awkwardness', 1), ('crunch', 3), ('ack', 1), ('underwent', 1), ('3wks', 1), ('differentiation', 1), ('wanders', 1), ('zinc', 1), ('rocker', 2), ('comfortablely', 1), ('bouncy', 4), ('admirable', 1), ('settling', 1), ('remaining', 2), ('resuming', 1), ('orientation', 1), ('confort', 1), ('pincils', 4), ('shappen', 2), ('recived', 2), ('prompted', 2), ('gret', 1), ('egg', 2), ('b0002h1k0k', 1), ('synonymous', 1), ('benefits', 2), ('zips', 2), ('appealing', 2), ('excelled', 1), ('commenters', 1), ('commenter', 1), ('compensated', 1), ('negate', 1), ('muck', 1), ('snatched', 2), ('robe', 1), ('recipients', 1), ('aaaa', 2), ('wicker', 2), ('horizon', 1), ('wks', 2), ('pole', 1), ('chuck', 1), ('optional', 1), ('plugin', 1), ('pants', 3), ('nieces', 2), ('whit', 2), ('ventilated', 1), ('subside', 2), ('statement', 1), ('winter', 2), ('oahu', 1), ('mystical', 1), ('dolphins', 1), ('swimming', 3), ('fading', 3), ('attended', 2), ('institute', 1), ('pricier', 1), ('similiar', 1), ('fortune', 2), ('loathe', 2), ('stepson', 2), ('unfilled', 2), (\"5'6\", 2), ('prepare', 1), ('45min', 1), ('commutes', 1), ('gelish', 1), ('headed', 1), ('goodwill', 1), ('peeve', 1), ('humble', 1), ('inhumane', 1), ('cheese', 1), ('eager', 2), ('littel', 1), ('bedrest', 1), ('defenitely', 1), ('5star', 1), ('longish', 1), ('staple', 2), ('blown', 2), ('accompanied', 2), ('uncomfortably', 2), ('syndroms', 1), ('realigns', 1), ('inward', 3), ('overarching', 1), ('isvan', 1), ('crew', 1), ('heartbeat', 1), ('scatia', 1), ('peers', 1), ('broadway', 1), ('hundreds', 2), ('sanford', 3), ('colorific', 2), ('structured', 2), ('scale', 2), ('forgetting', 2), ('126', 1), ('transatlantic', 1), ('disappoint', 1), ('coped', 1), ('tilting', 2), ('scooting', 1), ('socks', 1), ('casue', 1), ('excruciatingly', 1), ('lycra', 1), ('trap', 1), ('carties', 1), ('imply', 1), ('competitors', 1), ('rothermund', 1), ('loosen', 1), ('beanbag', 2), ('dud', 3), ('dubious', 1), ('helper', 1), ('instances', 1), ('duplicated', 1), ('fuchsia', 1), ('omission', 1), ('erofa', 1), ('addicted', 3), ('sketch', 2), ('napkin', 2), ('exicted', 1), ('bow', 1), ('soundls', 1), ('crinkiling', 1), ('microban', 1), ('includes', 3), ('publish', 1), ('transporting', 2), ('parking', 1), ('ridiculously', 2), ('dosent', 1), ('defintely', 1), ('undoubtedly', 1), ('tops', 1), ('quarter', 4), ('approves', 1), ('napping', 1), ('sleeps', 1), ('approved', 1), ('numbing', 2), ('fairness', 1), ('pac', 1), ('dogs', 1), ('doggy', 1), ('bio', 1), ('13yr', 2), ('tendinitis', 1), ('sims', 2), ('alternate', 2), ('dingy', 3), ('immaculate', 1), ('burned', 1), ('refills', 1), ('anticipating', 3), ('technology', 2), ('adn', 1), ('worthwhile', 2), ('cretainly', 1), ('struggled', 3), ('pilonidal', 4), ('entering', 1), ('moderate', 1), ('music', 1), ('album', 1), ('america', 1), ('extras', 1), ('transcriptionist', 1), ('properties', 1), ('defeating', 1), ('beats', 2), ('unknown', 1), ('origin', 1), ('tracked', 2), ('vehicles', 3), ('turquoise', 1), ('veretbrea', 1), ('ligth', 1), ('inflamation', 1), ('varies', 1), ('weatherly', 1), ('dec', 1), ('paso', 1), ('tx', 1), ('2100', 1), ('biggerepad', 1), ('preconceptions', 1), ('exceptions', 1), ('existing', 3), ('restricts', 2), ('workday', 2), ('unfriendly', 1), ('mate', 1), ('spritzing', 1), ('pointing', 1), ('icu', 1), ('65years', 1), ('tnis', 1), ('microcenter', 1), ('transportable', 1), ('bomb', 1), ('management', 1), ('forcing', 1), ('remarkably', 2), ('east', 1), ('advertiesed', 1), ('stepping', 1), ('gradations', 1), ('examples', 2), ('archaic', 1), ('beam', 1), ('sales', 1), ('inventory', 1), ('asks', 1), ('enought', 1), ('aggreviate', 1), ('pleasureable', 1), ('unconformable', 1), ('creations', 2), ('brunette', 2), ('3d', 3), ('modeling', 1), ('cleared', 2), ('ut', 1), ('puffed', 1), ('esp', 2), ('refinery', 1), ('basement', 1), ('concaved', 1), ('opens', 2), ('prove', 2), ('shaq', 1), ('measure', 3), ('habits', 1), ('surgical', 1), ('prodecure', 1), ('mum', 2), ('damn', 2), ('ss', 1), ('resistant', 4), ('yep', 1), ('fragile', 2), ('sellers', 2), ('dedicate', 1), ('costco', 1), ('somethng', 1), ('shills', 1), ('magically', 2), ('baloney', 1), ('mdt', 1), ('impecable', 1), ('controlling', 1), ('impede', 2), ('kelly', 2), ('grass', 2), ('refocusing', 2), ('thats', 3), ('record', 2), ('fuss', 1), ('revolutionized', 1), ('typping', 1), ('pathologies', 1), ('intrinsic', 1), ('easly', 1), ('darkness', 1), ('suggests', 1), ('unpleasant', 3), ('rolls', 1), ('error', 1), ('comically', 1), ('comical', 1), ('4050', 1), ('thoughtful', 2), ('keen', 2), ('cellaphane', 2), ('crumple', 1), ('saids', 1), ('intrigued', 1), ('critical', 2), ('readjusted', 1), ('yo', 1), ('drg', 1), ('stimulator', 1), ('implanted', 1), ('endoscopic', 1), ('spreading', 1), ('stoke', 1), ('insulation', 1), ('rotate', 1), ('neighbor', 1), ('unfamiliar', 1), ('unfortuante', 1), ('decorative', 1), ('hardware', 1), ('sounded', 2), ('treadmill', 1), ('scraping', 1), ('inverted', 1), ('bracket', 1), ('diffrerent', 2), ('lest', 1), ('slept', 1), ('stomach', 2), ('blows', 2), ('lenghth', 1), ('areally', 2), ('pudding', 1), ('stepmom', 1), ('cobra', 1), ('clutch', 1), ('suspected', 1), ('transparent', 2), ('mobile', 2), ('fiance', 2), ('estimated', 1), ('marker', 2), ('pitch', 1), ('demand', 1), ('hinted', 1), ('compatibility', 3), ('shipper', 2), ('strictly', 4), ('peice', 1), ('brushed', 1), ('headliner', 1), ('lawnmower', 2), ('tractor', 4), ('machinery', 1), ('careers', 1), ('regions', 1), ('engrained', 1), ('robin', 1), ('rheumatoid', 1), ('competitive', 4), ('criticism', 1), ('fib', 1), ('bday', 1), ('2002', 1), ('conformable', 1), ('sturdily', 1), ('delaminate', 1), ('bumpy', 2), ('lumpy', 2), ('captured', 1), ('herman', 1), ('miller', 1), ('source', 1), ('bringing', 4), ('index', 1), ('dissapointed', 1), ('football', 3), ('services', 1), ('bat', 1), ('temporally', 1), ('waxed', 1), ('sharpies', 1), ('nearby', 1), ('shocked', 3), ('photographer', 1), ('development', 2), ('slit', 1), ('paste', 1), ('platform', 2), ('8mo', 1), ('stabilized', 1), ('coughed', 1), ('potable', 1), ('yields', 1), ('distinction', 1), ('wastes', 1), ('fitted', 3), ('overpowering', 4), ('nausea', 1), ('grimy', 1), ('bareable', 1), ('retailer', 3), ('ontime', 1), ('fibro', 2), ('circumstances', 2), ('fo', 2), ('letter', 1), ('suppor', 1), ('sensor', 2), ('jittering', 1), ('stared', 1), ('albuquerque', 1), ('ive', 1), ('looove', 1), ('im', 3), ('crusty', 1), ('woker', 1), ('gradually', 1), ('slowlt', 1), ('weave', 1), ('preset', 1), ('shallow', 2), ('annoyance', 2), ('stressful', 1), ('patio', 1), ('radiating', 2), ('unpadded', 1), ('180', 2), ('faces', 1), ('slender', 1), ('155', 1), ('duct', 1), ('solely', 1), ('inflaming', 1), ('130lbs', 1), ('tel', 1), ('lash', 2), ('stylist', 1), ('itll', 2), ('isnt', 1), ('feelings', 1), ('wink', 2), ('overpowers', 1), ('parent', 2), ('squirrel', 1), ('missus', 1), ('memorize', 1), ('radiation', 1), ('envisioned', 1), ('squishier', 2), ('coupe', 1), ('scrunches', 1), ('strapping', 1), ('pained', 1), ('starkly', 2), ('differing', 2), ('pencills', 2), ('trashcan', 1), ('cubicle', 1), ('owe', 1), ('customize', 1), ('sweatpants', 1), ('realizes', 1), ('surprized', 1), ('penciles', 1), ('bitter', 1), ('hardened', 1), ('grudge', 1), ('bowels', 1), ('banish', 1), ('demonic', 1), ('whence', 1), ('pox', 1), ('counterfeit', 1), ('fights', 1), ('belt', 1), ('dangle', 1), ('training', 1), ('69', 1), ('restaurant', 2), ('meals', 1), ('throe', 1), ('leaf', 1), ('clearance', 1), ('obscenely', 1), ('gigantic', 1), ('fledged', 1), ('ending', 2), ('potentially', 1), ('gluteus', 1), ('longs', 3), ('woes', 1), ('cleanly', 1), ('inspire', 1), ('prayer', 1), ('mediation', 1), ('spotty', 1), ('23', 2), ('sorely', 2), ('triggered', 1), ('videogames', 1), ('scroll', 4), ('buts', 1), ('negated', 1), ('doit', 1), ('scenario', 2), ('greats', 1), ('granite', 1), ('component', 1), ('upgrading', 1), ('oversized', 2), ('waking', 1), ('utter', 1), ('comlife', 2), ('cocyx', 2), ('welcomed', 1), ('sincerely', 2), ('pam', 1), ('chip', 2), ('cheapening', 1), ('retrospect', 1), ('recieving', 2), ('inspite', 1), ('sweeping', 1), ('motions', 3), ('pickup', 2), ('decrease', 2), ('bruise', 2), ('constatanly', 1), ('rustling', 2), ('scrunching', 2), ('cellophane', 4), ('perplexed', 1), ('cutter', 1), ('culprit', 1), ('geniuses', 1), ('deaf', 1), ('population', 1), ('warned', 1), ('luxurious', 1), ('program', 1), ('dirtier', 1), (\"5'7\", 1), ('dangles', 1), ('44', 2), ('gouging', 2), ('106', 2), ('resticted', 1), ('bears', 1), ('bolstering', 1), ('comfortale', 1), ('llift', 1), ('charts', 3), ('sour', 1), ('expend', 1), ('corretly', 1), ('e450', 1), ('chassis', 1), ('nails', 1), ('unorthodox', 1), ('billed', 2), ('satisfying', 2), ('inktense', 2), ('fastness', 2), ('barstool', 1), ('sweetie', 1), ('hotel', 3), ('puzzles', 2), ('resorting', 1), ('fannies', 1), ('carseat', 1), ('chewed', 2), ('surpasses', 1), ('stealing', 1), ('gooooood', 1), ('expanse', 1), ('uncomforable', 1), ('lackluster', 1), ('packet', 1), ('massive', 2), ('chromebook', 1), ('london', 1), (\"would't\", 1), ('5s', 1), ('powered', 1), ('notably', 1), ('verithins', 2), ('premiers', 3), ('burnishing', 1), ('burnish', 1), ('pic', 2), ('serice', 1), ('softener', 1), ('leisure', 2), ('sundays', 2), ('nowhere', 2), ('teared', 1), ('hybrid', 1), ('ahhhhh', 1), ('firstly', 1), ('weirdly', 2), ('supermarket', 1), ('desire', 1), ('planted', 1), ('pricetag', 1), ('nuisance', 2), ('february', 1), ('removal', 1), ('logivity', 1), ('misunderstood', 1), ('bittoms', 1), ('classrooms', 1), ('practicing', 1), ('cello', 1), ('pallet', 1), ('mower', 1), ('offs', 1), ('ibought', 1), ('yeara', 1), ('coat', 1), ('hauling', 1), ('freight', 1), ('dfw', 1), ('individually', 1), ('t9', 1), ('dimensions', 2), ('coz', 1), ('organizing', 1), ('ischial', 1), ('tuberosities', 1), ('sitz', 1), ('scrunched', 1), ('perfer', 2), ('ir', 2), ('shapener', 1), ('addiction', 3), ('passion', 1), ('22yrs', 1), ('epson', 1), ('wont', 1), ('comforatble', 1), ('7months', 1), ('twins', 1), ('realy', 3), ('opposit', 1), ('scenes', 2), ('vtired', 1), ('foamy', 2), ('hipbones', 1), ('tearing', 2), ('recommendations', 3), ('horribilis', 1), ('kensington', 3), ('laminate', 1), ('detergent', 1), ('mirabilis', 1), ('dispel', 1), ('overuse', 1), ('diffference', 1), ('fac', 1), ('leveled', 1), ('thirteen', 1), ('discontinued', 1), ('tradtional', 1), ('catch', 2), ('relieft', 1), ('preventable', 1), ('superseded', 1), ('sensation', 2), ('swapped', 1), ('frankly', 2), ('occupied', 2), ('achieved', 1), ('moretimes', 1), ('ban', 1), ('olo', 1), ('taipan', 1), ('dota2', 1), ('csgo', 1), ('improvised', 1), ('101', 1), ('indications', 1), ('prisms', 8), ('harvested', 1), ('misses', 1), ('accord', 2), ('protrudes', 1), ('situations', 2), ('perect', 1), ('fleet', 1), ('untrue', 1), ('territory', 1), ('stitch', 1), ('rong', 1), ('goid', 1), ('theives', 2), ('aayinf', 1), ('enable', 1), ('warmed', 1), ('restores', 1), ('buoyancy', 1), ('bingo', 1), (\"6'9\", 1), ('reat', 1), ('flutists', 1), ('promise', 1), ('eaxily', 2), ('angled', 1), ('magical', 1), ('solving', 1), ('polished', 1), ('exhibit', 1), ('tuned', 1), ('nonexistent', 2), ('tolerance', 1), ('mrs', 2), ('cesare', 1), ('considerable', 5), ('soso', 1), ('concentrates', 1), ('uncle', 1), ('r119xajsdq39qu', 1), ('816x3ctpups', 1), ('81sncra7', 1), ('2s', 1), ('serveral', 1), ('fluke', 4), ('grocery', 1), ('rib', 1), ('isolated', 1), ('confi', 1), ('commuting', 1), ('fancier', 1), ('265', 1), ('restrictions', 1), ('velcro', 1), ('tie', 1), ('boasted', 1), ('peanuts', 1), ('rustled', 1), ('doubts', 1), ('angles', 2), ('bikes', 1), ('mounted', 1), ('rack', 1), ('switch', 3), ('employee', 2), ('counts', 1), ('promotion', 1), ('affiliated', 1), ('distributor', 1), ('envy', 1), ('infirm', 1), ('stephen', 1), ('holt', 1), ('ignore', 3), ('practiced', 1), ('maine', 1), ('pennsylvania', 1), ('lord', 1), ('warns', 1), ('battlefield', 1), ('onn', 1), ('thou', 1), ('alil', 1), ('dandy', 1), ('flake', 1), ('excess', 1), ('6f1', 1), ('strangely', 1), ('annoyances', 1), ('shifted', 3), ('trashing', 1), ('faintly', 1), ('ugh', 2), ('roundtrip', 1), ('bilateral', 1), ('radiates', 2), ('11th', 1), ('reliving', 1), ('stools', 1), ('smoosh', 1), ('mew', 1), ('appointment', 2), ('predicated', 1), ('belken', 1), ('wth', 1), ('refuse', 1), ('trackman', 1), ('tennessee', 1), ('preaching', 1), ('john', 1), ('texted', 1), ('focused', 1), ('coincidence', 1), ('360', 1), ('l3', 1), ('synovial', 1), ('preferring', 1), ('anyhow', 1), ('furred', 1), ('velvet', 1), ('unzips', 1), ('brake', 1), ('wind', 1), ('braking', 1), ('spasm', 1), ('lated', 1), ('consume', 1), ('scissors', 1), ('shearing', 1), ('comfee', 1), ('released', 2), ('scooped', 1), ('placemat', 1), ('coaster', 1), ('reinflating', 1), ('2x6', 1), ('cave', 1), ('furiously', 1), ('social', 1), ('gigabyte', 1), ('dual', 1), ('lens', 1), ('replacment', 1), ('sweeter', 2), ('fanatic', 2), ('pastime', 2), ('payday', 1), ('inoperable', 1), ('thatif', 1), ('incorrectly', 3), ('stout', 1), ('foster', 1), ('puppy', 1), ('ahold', 1), ('gathering', 1), ('picnching', 1), ('picks', 1), ('jumps', 1), ('wast', 1), ('adheres', 1), ('ahhhh', 1), ('entertain', 1), ('dinette', 1), ('raggedy', 1), ('rn58qj6lyqdsu', 1), ('c1x5yccadfs', 1), ('11htncs0z0s', 1), ('sustained', 1), ('316', 1), ('uncovered', 1), ('cussion', 1), ('marvelously', 1), ('thorough', 1), ('evaluation', 2), ('similarly', 1), ('hemmroids', 1), ('b0009pd314', 1), ('aui', 1), ('detailpage', 1), ('o00', 1), ('s00', 1), ('psc', 1), ('shanghai', 1), ('temperatures', 2), ('unwind', 2), ('slouches', 1), ('peels', 1), ('amatuer', 1), ('draftsman', 1), ('explanatory', 1), ('charge', 1), ('inspired', 1), ('reveal', 2), ('perfit', 1), ('deducted', 3), ('richness', 3), ('advertizing', 1), ('antislide', 1), ('cohort', 1), ('masculine', 2), ('distinctive', 1), ('wretched', 1), ('file', 1), ('verdict', 1), ('concede', 1), ('contributes', 1), ('runescape', 1), ('sacro', 1), ('fussy', 3), ('softly', 1), ('lo', 1), ('carding', 1), ('blow', 1), ('torch', 1), ('explosives', 1), ('slicing', 1), ('ultra', 1), ('usedful', 2), ('videogamers', 1), ('stitches', 2), ('suspecting', 1), ('fedex', 1), ('drapes', 1), ('ridge', 1), ('ordinarily', 1), ('tied', 2), ('bought8', 1), ('comformtable', 1), ('arithritis', 1), ('irregular', 1), ('ruinous', 1), ('pixel', 1), ('drifting', 1), ('dimples', 2), ('patch', 1), ('shopped', 1), ('noiseless', 1), ('stalk', 2), ('outperforming', 2), ('supporter', 1), ('3weeks', 1), ('moor', 1), ('perpetually', 1), ('dinners', 1), ('deformable', 1), ('substitute', 1), ('connects', 1), ('gripper', 1), ('alieve', 1), ('descent', 2), ('loaned', 1), ('sooooooooo', 1), ('buns', 1), ('mates', 2), ('sneaky', 1), ('cube', 1), ('swipe', 1), ('evident', 2), ('blast', 1), ('finer', 1), ('rav4', 1), ('caps', 1), ('viewing', 1), ('moue', 1), ('revolution', 1), ('increible', 1), ('prescribed', 3), ('estimates', 1), ('unmolested', 1), ('photograph', 1), ('presentation', 1), ('articulated', 1), ('industry', 1), ('contemporaries', 1), ('melting', 3), ('acted', 1), ('squeaked', 1), ('reclined', 1), ('distribution', 2), ('satiny', 1), ('belts', 1), ('qood', 1), ('geart', 1), ('peal', 1), ('gd', 1), ('drastic', 1), ('max', 1), ('resat', 1), ('crumpling', 1), ('400mi', 1), ('rebounds', 1), ('angels', 1), ('althoug', 1), ('realease', 1), ('athletic', 1), ('killed', 1), ('tables', 1), ('x10', 1), ('oversee', 1), ('pity', 1), ('irritates', 1), ('granma', 1), ('excision', 1), ('needle', 2), ('haystack', 2), ('twitchy', 1), ('g600', 3), ('mmo', 2), ('b0086uk7iq', 1), ('scaly', 1), ('lop', 1), ('handedly', 1), ('nonsense', 1), ('disabling', 1), ('physician', 1), ('relaxant', 1), ('vertebras', 1), ('radial', 1), ('brakes', 1), ('proportions', 1), ('hubs', 1), ('plussed', 1), ('offgas', 1), ('comfofe', 1), ('commiting', 1), ('iam', 1), ('haveing', 1), ('practally', 1), ('las', 1), ('vegas', 2), ('infront', 1), ('arthiric', 1), ('repeatedly', 2), ('thinkness', 1), ('pillowease', 1), ('surpassed', 1), ('competition', 1), ('limitation', 1), ('powdery', 1), ('render', 1), ('6000', 1), ('advising', 1), ('9shipping', 1), ('unimpressed', 1), ('rember', 2), ('outrageous', 2), ('defintly', 2), ('twenty', 2), ('heeded', 1), ('ships', 2), ('lmf', 1), ('secod', 1), ('diffrence', 1), ('immediatly', 1), ('workes', 1), ('ghost', 1), ('arena', 2), ('chase', 1), ('originating', 1), ('forming', 1), ('rises', 1), ('depressions', 1), ('distribute', 1), ('objects', 1), ('luggage', 1), ('spondylolisthesis', 1), ('wary', 1), ('crusing', 1), ('realive', 1), ('recomed', 1), ('fanny', 2), ('meat', 1), ('baseball', 1), ('homerun', 1), ('refilling', 2), ('bathing', 1), ('massaged', 1), ('exceed', 1), ('criteria', 1), ('enthusiasts', 2), ('background', 2), ('colorss', 1), ('cardio', 1), ('crumbles', 1), ('wierd', 1), ('compliants', 1), ('aq', 2), ('float', 1), ('nearest', 1), ('disconnects', 1), ('accumulate', 1), ('skipping', 1), ('gegular', 1), ('avertized', 1), ('bothersome', 1), ('mw', 1), ('wanna', 1), ('ahhh', 1), ('martial', 1), ('295', 1), ('daddy', 1), ('priceless', 1), ('arise', 1), ('insides', 1), ('epic', 1), ('gameplay', 1), ('longest', 2), ('goats', 1), ('downplays', 1), ('raving', 1), ('remedies', 1), ('carried', 2), ('bang', 1), ('league', 1), ('legends', 1), ('risen', 1), ('broze', 1), ('fasten', 1), ('th', 1), ('swim', 1), ('dripped', 1), ('blotted', 1), ('greatness', 1), ('ouce', 1), ('dwane', 1), ('trees', 1), ('inconsistent', 1), ('ingredients', 1), ('founded', 1), ('arizona', 1), ('170lbs', 1), ('torchlight', 1), ('causal', 1), ('forays', 1), ('corel', 1), ('programs', 1), ('stripes', 1), ('adventure', 1), ('basics', 1), ('facet', 1), ('intervals', 1), ('annoys', 1), ('chugging', 1), ('nto', 1), ('deferred', 1), ('manageable', 1), ('becos', 1), ('30mins', 1), ('den', 1), ('wipes', 1), ('thrombosis', 1), ('mx5000', 1), ('naysayers', 1), ('eez', 1), ('wrestle', 1), ('driven', 1), ('pony', 1), ('agonizing', 1), ('comf', 1), ('preventive', 1), ('nough', 1), ('rotates', 1), ('costlier', 1), ('katie', 1), ('cue', 1), ('wilbour', 1), ('pinworms', 1), ('cos', 1), ('discard', 1), ('savannah', 1), ('seattle', 1), ('insignia', 1), ('leans', 1), ('qulity', 1), ('internally', 1), ('blisterpacks', 1), ('easliy', 1), ('possitive', 1), ('splurging', 2), ('sooth', 1), ('pts', 1), ('increasing', 1), ('memorial', 1), ('kayak', 1), ('coccygeal', 1), ('flairs', 1), ('sinus', 1), ('belikin', 1), ('sailing', 1), ('shiiping', 1), ('stench', 4), ('drench', 1), ('febreeze', 1), ('recycled', 1), ('carcinogens', 1), ('caving', 2), ('functionally', 2), ('nitpick', 1), ('dozens', 1), ('flaking', 1), ('clingy', 1), ('rendered', 1), ('hemmed', 1), ('radioactive', 1), ('vat', 1), ('sludge', 1), ('mitigate', 1), ('reaches', 2), ('planet', 1), ('lateral', 1), ('reflecting', 1), ('frustration', 1), ('referred', 1), ('goldie', 1), ('lox', 1), ('pennies', 1), ('bottomed', 1), ('gonna', 1), ('believed', 1), ('policy', 1), ('happiness', 1), ('relocated', 1), ('gamble', 1), ('debris', 2), ('scrub', 1), ('television', 2), ('boned', 1), ('fewmonths', 1), ('couture', 2), ('foul', 1), ('kinks', 1), ('zombie', 1), ('beverages', 1), ('warped', 1), ('develoved', 1), ('chaffed', 1), ('pleasent', 1), ('converter', 1), ('folds', 1), ('extensions', 1), ('accept', 1), ('ouch', 1), ('dye', 1), ('degenerate', 1), ('renewal', 1), ('suprized', 1), ('vividness', 1), ('joys', 1), ('denial', 1), ('irl', 1), ('gamasol', 1), ('badness', 1), ('launched', 1), ('brightest', 1), ('branched', 1), ('mediums', 1), ('markets', 1), ('indestructible', 1), ('colorist', 1), ('gained', 1), ('bellos', 2), ('encantaron', 2), ('sedan', 1), ('every1', 1), ('corpul', 1), ('drivel', 1), ('fence', 1), ('clthes', 1), ('portability', 1), ('ridden', 1), ('hestitate', 1), ('shattered', 1), ('practices', 1), ('farmer', 1), ('rejects', 1), ('heating', 1), ('hovered', 1), ('amzn', 1), ('b00cdinutk', 1), ('rubble', 1), ('frugally', 1), ('witch', 1), ('biger', 1), ('foams', 1), ('stumbles', 1), ('failure', 1), ('object', 1), ('boosted', 1), ('american', 1), ('eclipse', 1), ('deighted', 1), ('internship', 1), (\"y'\", 1), ('active', 1), ('corolla', 1), ('hunch', 1), ('patience', 1), ('r3vnypcjkur8bw', 1), ('b1sseivp', 1), ('os', 1), ('915sb4pmjns', 1), ('household', 1), ('butts', 1), ('gripes', 1), ('gramma', 1), ('latter', 1), ('communicative', 1), ('crossed', 1), ('awkwardly', 1), ('sling', 1), ('carrier', 1), ('lyft', 1), ('indoor', 1), ('exiting', 1), ('unfortunate', 1), ('referring', 1), ('theoretically', 1), ('snuggles', 1), ('unwelcomed', 2), ('organized', 2), ('accessible', 2), ('strickland', 2), ('2004', 1), ('mirrors', 1), ('brushes', 1), ('pothole', 1), ('england', 1), ('replied', 2), ('courteously', 1), ('shinny', 1), ('arrow', 1), ('nuts', 1), ('benefited', 1), ('exacerbated', 1), ('slickness', 1), ('gman', 1), ('jut', 2), ('catnapper', 1), ('bedsore', 2), ('crate', 1), ('favorable', 1), ('explorer', 1), ('deliver', 1), ('relocating', 1), ('okey', 1), ('eh', 1), ('constipated', 1), ('eats', 1), ('irs', 1), ('sceptical', 1), ('loaf', 1), ('depiction', 1), ('indicates', 1), ('trigger', 1), ('hahahah', 1), ('gem', 1), ('nap', 1), ('uselessness', 1), ('holy', 1), ('smokes', 1), ('moist', 1), ('baggy', 2), ('slumping', 1), ('workdays', 1), ('2hrs', 1), ('auditing', 1), ('5yo', 1), ('hurs', 1), ('highlighting', 1), ('lik', 1), (\"your're\", 1), ('addressing', 1), ('lease', 1), ('ergonomicly', 1), ('carzart', 2), ('bur', 1), ('castel', 1), ('sey', 1), ('grate', 1), ('bolsters', 1), ('offset', 1), ('displacing', 1), ('unpleasantness', 1), ('surf', 1), ('backed', 1), ('warfare', 1), ('emit', 1), ('noxious', 2), ('enhancement', 1), ('exiled', 1), ('outgasses', 1), ('benign', 1), ('betting', 1), ('pump', 1), ('tube', 1), ('ziplok', 1), ('respiratory', 1), ('investments', 2), ('134', 1), ('memorizing', 1), ('remembers', 1), ('christened', 1), ('preferable', 1), ('boo', 1), ('linking', 1), ('variance', 3), ('ptoduct', 1), ('communication', 1), ('pm', 1), ('ulnar', 1), ('channel', 1), ('beanbags', 1), ('dyscem', 1), ('techology', 1), ('unplug', 1), ('meditate', 1), ('themes', 1), ('housed', 1), ('accomplishes', 1), ('shipppng', 1), ('20mins', 1), ('gripped', 1), ('duable', 1), ('freaking', 1), ('deity', 1), ('fibroid', 1), ('chaise', 1), ('restore', 1), ('bane', 1), ('existence', 1), ('2pkg', 1), ('willie', 1), ('mae', 1), ('degraffenried', 1), ('murder', 1), ('harped', 1), ('bosom', 1), ('cursed', 1), ('edward', 1), ('scissorhands', 1), ('basket', 1), ('attending', 1), ('ceatica', 1), ('cintiq', 1), ('wondered', 1), ('ouwch', 1), ('intake', 1), ('ta', 1), ('poster', 1), ('seater', 1), ('ignored', 1), ('smoothing', 1), ('chiropractic', 1), ('mood', 1), ('markedly', 1), ('movie', 1), ('grumpy', 1), ('men', 1), ('b4', 1), ('brainer', 1), ('allergic', 2), ('leary', 1), ('treestand', 1), ('hunting', 1), ('camo', 1), ('hunters', 1), ('260', 1), ('mailing', 1), ('shining', 1), ('thickest', 1), ('impacts', 1), ('convence', 1), ('tempered', 1), ('reservation', 1), ('pardon', 1), ('moldy', 1), ('suprised', 1), ('verizon', 1), ('barcodes', 1), ('golf', 1), ('brilliantly', 1), ('poker', 1), ('tasks', 1), ('novelty', 1), ('responsible', 1), ('smallest', 1), ('orangeish', 1), ('78', 1), ('wi', 1), ('workplace', 1), ('cushilon', 1), ('peeled', 1), ('floppy', 1), ('slops', 1), ('decreasing', 1), ('trialling', 1), ('elementary', 1), ('loss', 1), ('ragged', 1), ('210lbs', 1), ('highier', 1), ('wante', 1), ('dto', 1), ('ungraded', 1), ('slipperiness', 1), ('levers', 1), ('happiest', 1), ('smoothness', 1), ('paperback', 1), ('dictionary', 1), ('sil', 1), ('generates', 1), ('ellipse', 2), ('machines', 1), ('bd', 1), ('steadily', 1), (\"gel'y\", 1), ('unhealthy', 1), ('subject', 1), ('lining', 1), ('easiness', 1), ('iconcepts', 1), ('circular', 1), ('mundane', 1), ('matted', 1), ('azz', 1), ('presence', 1), ('gadd', 1), ('court', 3), ('reporter', 1), ('extending', 1), ('steno', 1), ('blame', 1), ('idk', 1), ('5yrs', 1), ('misplaced', 1), ('whichever', 1), ('writ', 1), ('88', 1), ('equals', 1), ('beans', 1), ('jazzercise', 1), ('leggings', 1), ('80s', 1), ('pan', 1), ('greasy', 1), ('veryyy', 1), ('supinate', 1), ('pinky', 1), ('passing', 1), ('pudendal', 1), ('neuralgia', 1), ('tests', 1), ('negatively', 1), ('flexing', 1)])\n"
     ]
    }
   ],
   "source": [
    "print(tokenizer.word_counts)"
   ]
  },
  {
   "cell_type": "code",
   "execution_count": 81,
   "metadata": {
    "ExecuteTime": {
     "end_time": "2020-12-23T21:10:16.626088Z",
     "start_time": "2020-12-23T21:10:16.615119Z"
    }
   },
   "outputs": [
    {
     "name": "stdout",
     "output_type": "stream",
     "text": [
      "8589\n"
     ]
    }
   ],
   "source": [
    "vocab_size = len(tokenizer.word_counts)\n",
    "print(vocab_size)"
   ]
  },
  {
   "cell_type": "code",
   "execution_count": 82,
   "metadata": {
    "ExecuteTime": {
     "end_time": "2020-12-23T21:10:28.085591Z",
     "start_time": "2020-12-23T21:10:18.916315Z"
    }
   },
   "outputs": [],
   "source": [
    "embed_dict = dict()\n",
    "glove_file = open('data/glove.6B.100d.txt', encoding='utf8')\n",
    "\n",
    "for line in glove_file:\n",
    "    # split the line\n",
    "    row = line.split()\n",
    "    # get the word\n",
    "    word = row[0]\n",
    "    # assign the vector to array\n",
    "    vector_dimensions = np.asarray(row[1:], dtype='float32')\n",
    "    # pair the word and the vector\n",
    "    embed_dict[word] = vector_dimensions\n",
    "\n",
    "glove_file.close()"
   ]
  },
  {
   "cell_type": "code",
   "execution_count": 83,
   "metadata": {
    "ExecuteTime": {
     "end_time": "2020-12-23T21:10:30.910186Z",
     "start_time": "2020-12-23T21:10:30.903204Z"
    }
   },
   "outputs": [
    {
     "data": {
      "text/plain": [
       "array([-0.038194, -0.24487 ,  0.72812 , -0.39961 ,  0.083172,  0.043953,\n",
       "       -0.39141 ,  0.3344  , -0.57545 ,  0.087459,  0.28787 , -0.06731 ,\n",
       "        0.30906 , -0.26384 , -0.13231 , -0.20757 ,  0.33395 , -0.33848 ,\n",
       "       -0.31743 , -0.48336 ,  0.1464  , -0.37304 ,  0.34577 ,  0.052041,\n",
       "        0.44946 , -0.46971 ,  0.02628 , -0.54155 , -0.15518 , -0.14107 ,\n",
       "       -0.039722,  0.28277 ,  0.14393 ,  0.23464 , -0.31021 ,  0.086173,\n",
       "        0.20397 ,  0.52624 ,  0.17164 , -0.082378, -0.71787 , -0.41531 ,\n",
       "        0.20335 , -0.12763 ,  0.41367 ,  0.55187 ,  0.57908 , -0.33477 ,\n",
       "       -0.36559 , -0.54857 , -0.062892,  0.26584 ,  0.30205 ,  0.99775 ,\n",
       "       -0.80481 , -3.0243  ,  0.01254 , -0.36942 ,  2.2167  ,  0.72201 ,\n",
       "       -0.24978 ,  0.92136 ,  0.034514,  0.46745 ,  1.1079  , -0.19358 ,\n",
       "       -0.074575,  0.23353 , -0.052062, -0.22044 ,  0.057162, -0.15806 ,\n",
       "       -0.30798 , -0.41625 ,  0.37972 ,  0.15006 , -0.53212 , -0.2055  ,\n",
       "       -1.2526  ,  0.071624,  0.70565 ,  0.49744 , -0.42063 ,  0.26148 ,\n",
       "       -1.538   , -0.30223 , -0.073438, -0.28312 ,  0.37104 , -0.25217 ,\n",
       "        0.016215, -0.017099, -0.38984 ,  0.87424 , -0.72569 , -0.51058 ,\n",
       "       -0.52028 , -0.1459  ,  0.8278  ,  0.27062 ], dtype=float32)"
      ]
     },
     "execution_count": 83,
     "metadata": {},
     "output_type": "execute_result"
    }
   ],
   "source": [
    "embed_dict['the']"
   ]
  },
  {
   "cell_type": "code",
   "execution_count": 84,
   "metadata": {
    "ExecuteTime": {
     "end_time": "2020-12-23T21:10:34.802544Z",
     "start_time": "2020-12-23T21:10:34.782596Z"
    }
   },
   "outputs": [],
   "source": [
    "# create an embedding matrix where each row number will correspond to\n",
    "# the index of the word in the corpus\n",
    "\n",
    "vocab_size = len(tokenizer.word_index) + 1\n",
    "embed_matrix = np.zeros((vocab_size, 100))\n",
    "\n",
    "for word, index in tokenizer.word_index.items():\n",
    "    embed_vector = embed_dict.get(word)\n",
    "    if embed_vector is not None:\n",
    "        embed_matrix[index] = embed_vector"
   ]
  },
  {
   "cell_type": "code",
   "execution_count": 85,
   "metadata": {
    "ExecuteTime": {
     "end_time": "2020-12-23T21:10:38.769014Z",
     "start_time": "2020-12-23T21:10:38.752089Z"
    }
   },
   "outputs": [
    {
     "data": {
      "text/plain": [
       "(8590, 100)"
      ]
     },
     "execution_count": 85,
     "metadata": {},
     "output_type": "execute_result"
    }
   ],
   "source": [
    "embed_matrix.shape"
   ]
  },
  {
   "cell_type": "code",
   "execution_count": 86,
   "metadata": {
    "ExecuteTime": {
     "end_time": "2020-12-23T21:10:41.323943Z",
     "start_time": "2020-12-23T21:10:41.310971Z"
    }
   },
   "outputs": [],
   "source": [
    "model = Sequential()"
   ]
  },
  {
   "cell_type": "code",
   "execution_count": 87,
   "metadata": {
    "ExecuteTime": {
     "end_time": "2020-12-23T21:10:42.319650Z",
     "start_time": "2020-12-23T21:10:42.108609Z"
    }
   },
   "outputs": [],
   "source": [
    "embed_layer = Embedding(vocab_size, 100, weights=[embed_matrix],\n",
    "                            input_length=100 , trainable=False)\n",
    "model.add(embed_layer)\n",
    "model.add(Flatten())\n",
    "model.add(Dense(1, activation='sigmoid'))"
   ]
  },
  {
   "cell_type": "code",
   "execution_count": 88,
   "metadata": {
    "ExecuteTime": {
     "end_time": "2020-12-23T21:10:43.559859Z",
     "start_time": "2020-12-23T21:10:43.518998Z"
    }
   },
   "outputs": [],
   "source": [
    "model.compile(loss='binary_crossentropy', \n",
    "              optimizer='adam', \n",
    "              metrics=['accuracy'])"
   ]
  },
  {
   "cell_type": "code",
   "execution_count": 89,
   "metadata": {
    "ExecuteTime": {
     "end_time": "2020-12-23T21:10:44.685971Z",
     "start_time": "2020-12-23T21:10:44.671034Z"
    }
   },
   "outputs": [
    {
     "name": "stdout",
     "output_type": "stream",
     "text": [
      "Model: \"sequential_3\"\n",
      "_________________________________________________________________\n",
      "Layer (type)                 Output Shape              Param #   \n",
      "=================================================================\n",
      "embedding_3 (Embedding)      (None, 100, 100)          859000    \n",
      "_________________________________________________________________\n",
      "flatten_1 (Flatten)          (None, 10000)             0         \n",
      "_________________________________________________________________\n",
      "dense_4 (Dense)              (None, 1)                 10001     \n",
      "=================================================================\n",
      "Total params: 869,001\n",
      "Trainable params: 10,001\n",
      "Non-trainable params: 859,000\n",
      "_________________________________________________________________\n"
     ]
    }
   ],
   "source": [
    "model.summary()"
   ]
  },
  {
   "cell_type": "code",
   "execution_count": 90,
   "metadata": {
    "ExecuteTime": {
     "end_time": "2020-12-23T21:10:50.085773Z",
     "start_time": "2020-12-23T21:10:48.264031Z"
    }
   },
   "outputs": [
    {
     "name": "stdout",
     "output_type": "stream",
     "text": [
      "Train on 12228 samples, validate on 1359 samples\n",
      "Epoch 1/3\n",
      "12228/12228 [==============================] - 1s 50us/sample - loss: 0.3907 - acc: 0.8368 - val_loss: 0.3446 - val_acc: 0.8499\n",
      "Epoch 2/3\n",
      "12228/12228 [==============================] - 0s 40us/sample - loss: 0.2764 - acc: 0.8867 - val_loss: 0.3316 - val_acc: 0.8646\n",
      "Epoch 3/3\n",
      "12228/12228 [==============================] - 0s 40us/sample - loss: 0.2403 - acc: 0.9054 - val_loss: 0.3103 - val_acc: 0.8653\n"
     ]
    }
   ],
   "source": [
    "history = model.fit(X_train, y_train, epochs=3,\n",
    "                    batch_size=32, validation_split=0.1)"
   ]
  },
  {
   "cell_type": "code",
   "execution_count": 91,
   "metadata": {
    "ExecuteTime": {
     "end_time": "2020-12-23T21:10:54.067732Z",
     "start_time": "2020-12-23T21:10:53.734431Z"
    }
   },
   "outputs": [
    {
     "name": "stdout",
     "output_type": "stream",
     "text": [
      "13587/13587 [==============================] - 0s 23us/sample - loss: 0.2178 - acc: 0.9162\n"
     ]
    }
   ],
   "source": [
    "score_train = model.evaluate(X_train, y_train, verbose=1)"
   ]
  },
  {
   "cell_type": "code",
   "execution_count": 92,
   "metadata": {
    "ExecuteTime": {
     "end_time": "2020-12-23T21:10:57.092220Z",
     "start_time": "2020-12-23T21:10:56.935515Z"
    }
   },
   "outputs": [
    {
     "name": "stdout",
     "output_type": "stream",
     "text": [
      "5824/5824 [==============================] - 0s 23us/sample - loss: 0.3220 - acc: 0.8601\n"
     ]
    }
   ],
   "source": [
    "score_test = model.evaluate(X_test, y_test, verbose=1)"
   ]
  },
  {
   "cell_type": "code",
   "execution_count": 95,
   "metadata": {
    "ExecuteTime": {
     "end_time": "2020-12-23T21:17:16.971593Z",
     "start_time": "2020-12-23T21:17:16.815235Z"
    }
   },
   "outputs": [],
   "source": [
    "pred = model.predict(X_test)"
   ]
  },
  {
   "cell_type": "code",
   "execution_count": 98,
   "metadata": {
    "ExecuteTime": {
     "end_time": "2020-12-23T21:26:47.416444Z",
     "start_time": "2020-12-23T21:26:47.408497Z"
    }
   },
   "outputs": [],
   "source": [
    "# print(classification_report(y_test, pred))"
   ]
  },
  {
   "cell_type": "code",
   "execution_count": 97,
   "metadata": {
    "ExecuteTime": {
     "end_time": "2020-12-23T21:18:06.587273Z",
     "start_time": "2020-12-23T21:18:06.583283Z"
    }
   },
   "outputs": [
    {
     "data": {
      "text/plain": [
       "array([[0.975683  ],\n",
       "       [0.91751105],\n",
       "       [0.86623853],\n",
       "       ...,\n",
       "       [0.97232926],\n",
       "       [0.9928383 ],\n",
       "       [0.6170614 ]], dtype=float32)"
      ]
     },
     "execution_count": 97,
     "metadata": {},
     "output_type": "execute_result"
    }
   ],
   "source": [
    "pred"
   ]
  },
  {
   "cell_type": "code",
   "execution_count": 58,
   "metadata": {
    "ExecuteTime": {
     "end_time": "2020-12-23T20:55:02.667777Z",
     "start_time": "2020-12-23T20:55:02.461963Z"
    }
   },
   "outputs": [
    {
     "data": {
      "image/png": "[encoded data removed]",
      "text/plain": [
       "<Figure size 432x288 with 1 Axes>"
      ]
     },
     "metadata": {
      "needs_background": "light"
     },
     "output_type": "display_data"
    },
    {
     "data": {
      "image/png": "[encoded data removed]",
      "text/plain": [
       "<Figure size 432x288 with 1 Axes>"
      ]
     },
     "metadata": {
      "needs_background": "light"
     },
     "output_type": "display_data"
    }
   ],
   "source": [
    "plt.plot(history.history['acc'])\n",
    "plt.plot(history.history['val_acc'])\n",
    "plt.title('model accuracy')\n",
    "plt.ylabel('accuracy')\n",
    "plt.xlabel('epoch')\n",
    "plt.legend(['train','test'], loc='upper left')\n",
    "plt.show()\n",
    "\n",
    "plt.plot(history.history['loss'])\n",
    "plt.plot(history.history['val_loss'])\n",
    "\n",
    "plt.title('model loss')\n",
    "plt.ylabel('loss')\n",
    "plt.xlabel('epoch')\n",
    "plt.legend(['train','test'], loc='upper left')\n",
    "plt.show()"
   ]
  },
  {
   "cell_type": "markdown",
   "metadata": {
    "ExecuteTime": {
     "end_time": "2020-12-23T17:40:57.761906Z",
     "start_time": "2020-12-23T17:40:57.743983Z"
    }
   },
   "source": [
    "### LSTM"
   ]
  },
  {
   "cell_type": "code",
   "execution_count": 128,
   "metadata": {
    "ExecuteTime": {
     "end_time": "2020-12-24T00:16:07.289252Z",
     "start_time": "2020-12-24T00:16:06.380410Z"
    }
   },
   "outputs": [],
   "source": [
    "model_LSTM = Sequential()\n",
    "\n",
    "embed_layer = Embedding(vocab_size, 100, weights=[embed_matrix],\n",
    "                            input_length=100 , trainable=False)\n",
    "model_LSTM.add(embed_layer)\n",
    "# model_LSTM.add(Flatten())\n",
    "model_LSTM.add(LSTM(200, return_sequences=True))\n",
    "# model_LSTM.add(LSTM(75))\n",
    "model_LSTM.add(GlobalMaxPool1D())\n",
    "model_LSTM.add(Dense(100, activation='relu'))\n",
    "# model_LSTM.add(Dropout(0.5))\n",
    "# model_LSTM.add(Dense(50, activation='relu'))\n",
    "# model_LSTM.add(Dropout(0.5))\n",
    "model_LSTM.add(Dense(1, activation='sigmoid'))"
   ]
  },
  {
   "cell_type": "code",
   "execution_count": 129,
   "metadata": {
    "ExecuteTime": {
     "end_time": "2020-12-24T00:16:07.336208Z",
     "start_time": "2020-12-24T00:16:07.289963Z"
    }
   },
   "outputs": [],
   "source": [
    "from tensorflow.keras.optimizers import SGD\n",
    "# opt = SGD(lr=0.01)    #acc no change\n",
    "opt = SGD(lr=0.1)\n",
    "\n",
    "model_LSTM.compile(loss='binary_crossentropy', \n",
    "#               optimizer='adam',  # acc no change\n",
    "              optimizer=opt, \n",
    "              metrics=['accuracy'])"
   ]
  },
  {
   "cell_type": "code",
   "execution_count": 130,
   "metadata": {
    "ExecuteTime": {
     "end_time": "2020-12-24T00:16:07.921027Z",
     "start_time": "2020-12-24T00:16:07.916041Z"
    }
   },
   "outputs": [
    {
     "name": "stdout",
     "output_type": "stream",
     "text": [
      "Model: \"sequential_7\"\n",
      "_________________________________________________________________\n",
      "Layer (type)                 Output Shape              Param #   \n",
      "=================================================================\n",
      "embedding_7 (Embedding)      (None, 100, 100)          859000    \n",
      "_________________________________________________________________\n",
      "lstm_5 (LSTM)                (None, 100, 200)          240800    \n",
      "_________________________________________________________________\n",
      "global_max_pooling1d_4 (Glob (None, 200)               0         \n",
      "_________________________________________________________________\n",
      "dense_11 (Dense)             (None, 100)               20100     \n",
      "_________________________________________________________________\n",
      "dense_12 (Dense)             (None, 1)                 101       \n",
      "=================================================================\n",
      "Total params: 1,120,001\n",
      "Trainable params: 261,001\n",
      "Non-trainable params: 859,000\n",
      "_________________________________________________________________\n"
     ]
    }
   ],
   "source": [
    "model_LSTM.summary()"
   ]
  },
  {
   "cell_type": "code",
   "execution_count": 131,
   "metadata": {
    "ExecuteTime": {
     "end_time": "2020-12-24T00:16:41.665735Z",
     "start_time": "2020-12-24T00:16:09.069708Z"
    },
    "scrolled": true
   },
   "outputs": [
    {
     "name": "stdout",
     "output_type": "stream",
     "text": [
      "Train on 12228 samples, validate on 1359 samples\n",
      "Epoch 1/3\n",
      "12228/12228 [==============================] - 11s 885us/sample - loss: 0.4593 - acc: 0.8299 - val_loss: 0.4237 - val_acc: 0.8315\n",
      "Epoch 2/3\n",
      "12228/12228 [==============================] - 10s 850us/sample - loss: 0.3954 - acc: 0.8292 - val_loss: 0.3637 - val_acc: 0.8322\n",
      "Epoch 3/3\n",
      "12228/12228 [==============================] - 10s 846us/sample - loss: 0.3601 - acc: 0.8410 - val_loss: 0.3260 - val_acc: 0.8455\n"
     ]
    }
   ],
   "source": [
    "history_LSTM = model_LSTM.fit(X_train, y_train, epochs=3,\n",
    "                    batch_size=128, validation_split=0.1)"
   ]
  },
  {
   "cell_type": "code",
   "execution_count": null,
   "metadata": {
    "ExecuteTime": {
     "end_time": "2020-12-23T17:16:53.464239Z",
     "start_time": "2020-12-23T17:16:53.335187Z"
    }
   },
   "outputs": [],
   "source": [
    "from pickle import dump, load\n",
    "\n",
    "model.save('model_LSTM.h5')\n",
    "dump(tokenizer, open('my_tokenizer', 'wb'))"
   ]
  },
  {
   "cell_type": "code",
   "execution_count": 132,
   "metadata": {
    "ExecuteTime": {
     "end_time": "2020-12-24T00:17:11.401097Z",
     "start_time": "2020-12-24T00:16:46.995504Z"
    }
   },
   "outputs": [
    {
     "name": "stdout",
     "output_type": "stream",
     "text": [
      "13587/13587 [==============================] - 24s 2ms/sample - loss: 0.3251 - acc: 0.8457\n"
     ]
    }
   ],
   "source": [
    "score_LSTM_train = model_LSTM.evaluate(X_train, y_train, verbose=1)"
   ]
  },
  {
   "cell_type": "code",
   "execution_count": 133,
   "metadata": {
    "ExecuteTime": {
     "end_time": "2020-12-24T00:17:25.257044Z",
     "start_time": "2020-12-24T00:17:14.707852Z"
    }
   },
   "outputs": [
    {
     "name": "stdout",
     "output_type": "stream",
     "text": [
      "5824/5824 [==============================] - 11s 2ms/sample - loss: 0.3351 - acc: 0.8432\n"
     ]
    }
   ],
   "source": [
    "score_LSTM_test = model_LSTM.evaluate(X_test, y_test, verbose=1)"
   ]
  },
  {
   "cell_type": "code",
   "execution_count": 134,
   "metadata": {
    "ExecuteTime": {
     "end_time": "2020-12-24T00:17:31.669375Z",
     "start_time": "2020-12-24T00:17:31.461658Z"
    }
   },
   "outputs": [
    {
     "data": {
      "image/png": "[encoded data removed]",
      "text/plain": [
       "<Figure size 432x288 with 1 Axes>"
      ]
     },
     "metadata": {
      "needs_background": "light"
     },
     "output_type": "display_data"
    },
    {
     "data": {
      "image/png": "[encoded data removed]",
      "text/plain": [
       "<Figure size 432x288 with 1 Axes>"
      ]
     },
     "metadata": {
      "needs_background": "light"
     },
     "output_type": "display_data"
    }
   ],
   "source": [
    "plt.plot(history_LSTM.history['acc'])\n",
    "plt.plot(history_LSTM.history['val_acc'])\n",
    "plt.title('model accuracy')\n",
    "plt.ylabel('accuracy')\n",
    "plt.xlabel('epoch')\n",
    "plt.legend(['train','test'], loc='upper left')\n",
    "plt.show()\n",
    "\n",
    "plt.plot(history_LSTM.history['loss'])\n",
    "plt.plot(history_LSTM.history['val_loss'])\n",
    "\n",
    "plt.title('model loss')\n",
    "plt.ylabel('loss')\n",
    "plt.xlabel('epoch')\n",
    "plt.legend(['train','test'], loc='upper left')\n",
    "plt.show()"
   ]
  },
  {
   "cell_type": "markdown",
   "metadata": {},
   "source": [
    "#####################################################"
   ]
  },
  {
   "cell_type": "code",
   "execution_count": null,
   "metadata": {
    "ExecuteTime": {
     "end_time": "2020-12-23T20:38:46.709910Z",
     "start_time": "2020-12-23T20:38:45.573938Z"
    }
   },
   "outputs": [],
   "source": [
    "model2 = Sequential()\n",
    "\n",
    "embed_layer = Embedding(vocab_size, 100, weights=[embed_matrix],\n",
    "                            input_length=100 , trainable=False)\n",
    "model2.add(embed_layer)\n",
    "# model_LSTM.add(Flatten())\n",
    "model2.add(LSTM(200, return_sequences=True))\n",
    "# model_LSTM.add(GlobalMaxPool1D())\n",
    "model2.add(Dense(100, activation='relu', input_shape=(100,)))\n",
    "model2.add(Dropout(0.5))\n",
    "# model2.add(Dense(50, activation='relu'))\n",
    "model2.add(Dense(1, activation='softmax'))"
   ]
  },
  {
   "cell_type": "code",
   "execution_count": null,
   "metadata": {
    "ExecuteTime": {
     "end_time": "2020-12-23T20:38:47.467322Z",
     "start_time": "2020-12-23T20:38:47.422411Z"
    }
   },
   "outputs": [],
   "source": [
    "model2.compile(loss='binary_crossentropy', \n",
    "              optimizer='adam', \n",
    "              metrics=['accuracy'])"
   ]
  },
  {
   "cell_type": "code",
   "execution_count": null,
   "metadata": {
    "ExecuteTime": {
     "end_time": "2020-12-23T20:38:48.123898Z",
     "start_time": "2020-12-23T20:38:48.117950Z"
    },
    "heading_collapsed": true
   },
   "outputs": [],
   "source": [
    "model2.summary()"
   ]
  },
  {
   "cell_type": "code",
   "execution_count": null,
   "metadata": {
    "ExecuteTime": {
     "end_time": "2020-12-23T20:38:48.933918Z",
     "start_time": "2020-12-23T20:38:48.917941Z"
    }
   },
   "outputs": [],
   "source": [
    "history2 = model_LSTM.fit(X_train, y_train, epochs=5,\n",
    "                    batch_size=128, validation_split=0.1)"
   ]
  },
  {
   "cell_type": "code",
   "execution_count": null,
   "metadata": {
    "ExecuteTime": {
     "end_time": "2020-12-23T20:38:50.008859Z",
     "start_time": "2020-12-23T20:38:49.997889Z"
    }
   },
   "outputs": [],
   "source": [
    "y_train[0]"
   ]
  },
  {
   "cell_type": "code",
   "execution_count": null,
   "metadata": {},
   "outputs": [],
   "source": []
  },
  {
   "cell_type": "code",
   "execution_count": null,
   "metadata": {},
   "outputs": [],
   "source": []
  },
  {
   "cell_type": "code",
   "execution_count": null,
   "metadata": {
    "ExecuteTime": {
     "end_time": "2020-12-23T02:21:08.513759Z",
     "start_time": "2020-12-23T02:21:08.152657Z"
    }
   },
   "outputs": [],
   "source": [
    "import tensorflow as tf\n",
    "hello=tf.constant('Hello,TensorFlow!')\n",
    "sess=tf.Session()\n",
    "print(sess.run(hello))"
   ]
  },
  {
   "cell_type": "code",
   "execution_count": null,
   "metadata": {
    "ExecuteTime": {
     "end_time": "2020-12-23T02:23:00.808375Z",
     "start_time": "2020-12-23T02:22:58.538000Z"
    }
   },
   "outputs": [],
   "source": [
    "import sys\n",
    "import numpy as np\n",
    "import tensorflow as tf\n",
    "from datetime import datetime\n",
    "\n",
    "device_name=\"/gpu:0\"\n",
    "\n",
    "shape=(int(10000),int(10000))\n",
    "\n",
    "with tf.device(device_name):\n",
    "    random_matrix = tf.random_uniform(shape=shape, minval=0, maxval=1)\n",
    "    dot_operation = tf.matmul(random_matrix, tf.transpose(random_matrix))\n",
    "    sum_operation = tf.reduce_sum(dot_operation)\n",
    "\n",
    "startTime = datetime.now()\n",
    "with tf.Session(config=tf.ConfigProto(log_device_placement=True)) as session:\n",
    "        result = session.run(sum_operation)\n",
    "        print(result)\n",
    "\n",
    "print(\"\\n\" * 2)\n",
    "print(\"Shape:\", shape, \"Device:\", device_name)\n",
    "print(\"Time taken:\", datetime.now() - startTime)\n",
    "\n",
    "print(\"\\n\" * 2)"
   ]
  },
  {
   "cell_type": "code",
   "execution_count": null,
   "metadata": {},
   "outputs": [],
   "source": []
  }
 ],
 "metadata": {
  "kernelspec": {
   "display_name": "Python 3",
   "language": "python",
   "name": "python3"
  },
  "language_info": {
   "codemirror_mode": {
    "name": "ipython",
    "version": 3
   },
   "file_extension": ".py",
   "mimetype": "text/x-python",
   "name": "python",
   "nbconvert_exporter": "python",
   "pygments_lexer": "ipython3",
   "version": "3.7.7"
  },
  "toc": {
   "base_numbering": 1,
   "nav_menu": {},
   "number_sections": true,
   "sideBar": true,
   "skip_h1_title": false,
   "title_cell": "Table of Contents",
   "title_sidebar": "Contents",
   "toc_cell": false,
   "toc_position": {},
   "toc_section_display": true,
   "toc_window_display": false
  }
 },
 "nbformat": 4,
 "nbformat_minor": 4
}
