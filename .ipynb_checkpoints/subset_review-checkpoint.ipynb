{
 "cells": [
  {
   "cell_type": "markdown",
   "metadata": {},
   "source": [
    "## Subset Data"
   ]
  },
  {
   "cell_type": "markdown",
   "metadata": {},
   "source": [
    "The office product amazon review json file contains about 5.1 million rows.  Since we only need a very small subset of data to create our model, it would be more efficient to trim down the original data to conserve system memory.  Loading the full data will take up 15 GB of RAM, thus leaving little room for texts processing and model analysis."
   ]
  },
  {
   "cell_type": "code",
   "execution_count": 1,
   "metadata": {
    "ExecuteTime": {
     "end_time": "2021-01-01T02:39:11.824236Z",
     "start_time": "2021-01-01T02:39:11.564057Z"
    }
   },
   "outputs": [],
   "source": [
    "# import library\n",
    "import json\n",
    "import pandas as pd\n",
    "import numpy as np"
   ]
  },
  {
   "cell_type": "code",
   "execution_count": 2,
   "metadata": {
    "ExecuteTime": {
     "end_time": "2021-01-01T02:41:00.163604Z",
     "start_time": "2021-01-01T02:39:13.317990Z"
    }
   },
   "outputs": [],
   "source": [
    "# load json into pandas dataframe\n",
    "df = pd.read_json(\"data/Office_Products.json\", lines=True)    "
   ]
  },
  {
   "cell_type": "code",
   "execution_count": 3,
   "metadata": {
    "ExecuteTime": {
     "end_time": "2021-01-01T02:42:08.878637Z",
     "start_time": "2021-01-01T02:42:08.795270Z"
    }
   },
   "outputs": [
    {
     "data": {
      "text/html": [
       "<div>\n",
       "<style scoped>\n",
       "    .dataframe tbody tr th:only-of-type {\n",
       "        vertical-align: middle;\n",
       "    }\n",
       "\n",
       "    .dataframe tbody tr th {\n",
       "        vertical-align: top;\n",
       "    }\n",
       "\n",
       "    .dataframe thead th {\n",
       "        text-align: right;\n",
       "    }\n",
       "</style>\n",
       "<table border=\"1\" class=\"dataframe\">\n",
       "  <thead>\n",
       "    <tr style=\"text-align: right;\">\n",
       "      <th></th>\n",
       "      <th>overall</th>\n",
       "      <th>vote</th>\n",
       "      <th>verified</th>\n",
       "      <th>reviewTime</th>\n",
       "      <th>reviewerID</th>\n",
       "      <th>asin</th>\n",
       "      <th>style</th>\n",
       "      <th>reviewerName</th>\n",
       "      <th>reviewText</th>\n",
       "      <th>summary</th>\n",
       "      <th>unixReviewTime</th>\n",
       "      <th>image</th>\n",
       "    </tr>\n",
       "  </thead>\n",
       "  <tbody>\n",
       "    <tr>\n",
       "      <th>0</th>\n",
       "      <td>3</td>\n",
       "      <td>6</td>\n",
       "      <td>False</td>\n",
       "      <td>11 3, 2006</td>\n",
       "      <td>A2WJLOXXIB7NF3</td>\n",
       "      <td>0140503528</td>\n",
       "      <td>{'Format:': ' Hardcover'}</td>\n",
       "      <td>Brandi D&amp;#039;Angelo</td>\n",
       "      <td>I thought the book was entertaining and cute, ...</td>\n",
       "      <td>Entertaining-but maybe not for young toddlers</td>\n",
       "      <td>1162512000</td>\n",
       "      <td>NaN</td>\n",
       "    </tr>\n",
       "    <tr>\n",
       "      <th>1</th>\n",
       "      <td>5</td>\n",
       "      <td>NaN</td>\n",
       "      <td>False</td>\n",
       "      <td>05 9, 2006</td>\n",
       "      <td>A1RKICUK0GG6VF</td>\n",
       "      <td>0140503528</td>\n",
       "      <td>{'Format:': ' Hardcover'}</td>\n",
       "      <td>Karen Mallory</td>\n",
       "      <td>This adorable story is an all time favorite fa...</td>\n",
       "      <td>adorable!</td>\n",
       "      <td>1147132800</td>\n",
       "      <td>NaN</td>\n",
       "    </tr>\n",
       "    <tr>\n",
       "      <th>2</th>\n",
       "      <td>5</td>\n",
       "      <td>NaN</td>\n",
       "      <td>False</td>\n",
       "      <td>03 11, 2006</td>\n",
       "      <td>A1QA5E50M398VW</td>\n",
       "      <td>0140503528</td>\n",
       "      <td>{'Format:': ' Paperback'}</td>\n",
       "      <td>Jennifer Edwards</td>\n",
       "      <td>Lisa's bear Corduroy gets lost in the laundrom...</td>\n",
       "      <td>A sequel to the classic</td>\n",
       "      <td>1142035200</td>\n",
       "      <td>NaN</td>\n",
       "    </tr>\n",
       "    <tr>\n",
       "      <th>3</th>\n",
       "      <td>5</td>\n",
       "      <td>12</td>\n",
       "      <td>False</td>\n",
       "      <td>01 24, 2001</td>\n",
       "      <td>A3N0HBW8IP8CZQ</td>\n",
       "      <td>0140503528</td>\n",
       "      <td>{'Format:': ' Paperback'}</td>\n",
       "      <td>Melissa P. Cooper</td>\n",
       "      <td>In this installment of Corduroy's adventures w...</td>\n",
       "      <td>More adventures with Lisa's very own bear. . .</td>\n",
       "      <td>980294400</td>\n",
       "      <td>NaN</td>\n",
       "    </tr>\n",
       "    <tr>\n",
       "      <th>4</th>\n",
       "      <td>5</td>\n",
       "      <td>65</td>\n",
       "      <td>False</td>\n",
       "      <td>07 30, 2000</td>\n",
       "      <td>A1K1JW1C5CUSUZ</td>\n",
       "      <td>0140503528</td>\n",
       "      <td>{'Format:': ' Paperback'}</td>\n",
       "      <td>Donald Mitchell</td>\n",
       "      <td>Researchers constantly find that reading to ch...</td>\n",
       "      <td>Read to Your Child to Create Bonding and Intel...</td>\n",
       "      <td>964915200</td>\n",
       "      <td>NaN</td>\n",
       "    </tr>\n",
       "  </tbody>\n",
       "</table>\n",
       "</div>"
      ],
      "text/plain": [
       "   overall vote  verified   reviewTime      reviewerID        asin  \\\n",
       "0        3    6     False   11 3, 2006  A2WJLOXXIB7NF3  0140503528   \n",
       "1        5  NaN     False   05 9, 2006  A1RKICUK0GG6VF  0140503528   \n",
       "2        5  NaN     False  03 11, 2006  A1QA5E50M398VW  0140503528   \n",
       "3        5   12     False  01 24, 2001  A3N0HBW8IP8CZQ  0140503528   \n",
       "4        5   65     False  07 30, 2000  A1K1JW1C5CUSUZ  0140503528   \n",
       "\n",
       "                       style          reviewerName  \\\n",
       "0  {'Format:': ' Hardcover'}  Brandi D&#039;Angelo   \n",
       "1  {'Format:': ' Hardcover'}         Karen Mallory   \n",
       "2  {'Format:': ' Paperback'}      Jennifer Edwards   \n",
       "3  {'Format:': ' Paperback'}     Melissa P. Cooper   \n",
       "4  {'Format:': ' Paperback'}       Donald Mitchell   \n",
       "\n",
       "                                          reviewText  \\\n",
       "0  I thought the book was entertaining and cute, ...   \n",
       "1  This adorable story is an all time favorite fa...   \n",
       "2  Lisa's bear Corduroy gets lost in the laundrom...   \n",
       "3  In this installment of Corduroy's adventures w...   \n",
       "4  Researchers constantly find that reading to ch...   \n",
       "\n",
       "                                             summary  unixReviewTime image  \n",
       "0      Entertaining-but maybe not for young toddlers      1162512000   NaN  \n",
       "1                                          adorable!      1147132800   NaN  \n",
       "2                            A sequel to the classic      1142035200   NaN  \n",
       "3     More adventures with Lisa's very own bear. . .       980294400   NaN  \n",
       "4  Read to Your Child to Create Bonding and Intel...       964915200   NaN  "
      ]
     },
     "execution_count": 3,
     "metadata": {},
     "output_type": "execute_result"
    }
   ],
   "source": [
    "# preview data\n",
    "df.head()"
   ]
  },
  {
   "cell_type": "code",
   "execution_count": 4,
   "metadata": {
    "ExecuteTime": {
     "end_time": "2021-01-01T02:42:16.378693Z",
     "start_time": "2021-01-01T02:42:15.046894Z"
    }
   },
   "outputs": [
    {
     "name": "stdout",
     "output_type": "stream",
     "text": [
      "Number of office product: 306800\n",
      "\n",
      "\n",
      "Number of rows in dataframe: 5581313\n"
     ]
    }
   ],
   "source": [
    "# number of office products and rows in dataframe\n",
    "print(f'Number of office product: {len(df.asin.value_counts())}')\n",
    "print('\\n')\n",
    "print(f'Number of rows in dataframe: {len(df)}')"
   ]
  },
  {
   "cell_type": "code",
   "execution_count": 5,
   "metadata": {
    "ExecuteTime": {
     "end_time": "2021-01-01T02:42:58.517761Z",
     "start_time": "2021-01-01T02:42:58.006219Z"
    },
    "scrolled": false
   },
   "outputs": [
    {
     "data": {
      "text/html": [
       "<div>\n",
       "<style scoped>\n",
       "    .dataframe tbody tr th:only-of-type {\n",
       "        vertical-align: middle;\n",
       "    }\n",
       "\n",
       "    .dataframe tbody tr th {\n",
       "        vertical-align: top;\n",
       "    }\n",
       "\n",
       "    .dataframe thead th {\n",
       "        text-align: right;\n",
       "    }\n",
       "</style>\n",
       "<table border=\"1\" class=\"dataframe\">\n",
       "  <thead>\n",
       "    <tr style=\"text-align: right;\">\n",
       "      <th></th>\n",
       "      <th>asin</th>\n",
       "      <th>overall</th>\n",
       "      <th>reviewText</th>\n",
       "      <th>summary</th>\n",
       "    </tr>\n",
       "  </thead>\n",
       "  <tbody>\n",
       "    <tr>\n",
       "      <th>0</th>\n",
       "      <td>0140503528</td>\n",
       "      <td>3</td>\n",
       "      <td>I thought the book was entertaining and cute, ...</td>\n",
       "      <td>Entertaining-but maybe not for young toddlers</td>\n",
       "    </tr>\n",
       "    <tr>\n",
       "      <th>1</th>\n",
       "      <td>0140503528</td>\n",
       "      <td>5</td>\n",
       "      <td>This adorable story is an all time favorite fa...</td>\n",
       "      <td>adorable!</td>\n",
       "    </tr>\n",
       "    <tr>\n",
       "      <th>2</th>\n",
       "      <td>0140503528</td>\n",
       "      <td>5</td>\n",
       "      <td>Lisa's bear Corduroy gets lost in the laundrom...</td>\n",
       "      <td>A sequel to the classic</td>\n",
       "    </tr>\n",
       "    <tr>\n",
       "      <th>3</th>\n",
       "      <td>0140503528</td>\n",
       "      <td>5</td>\n",
       "      <td>In this installment of Corduroy's adventures w...</td>\n",
       "      <td>More adventures with Lisa's very own bear. . .</td>\n",
       "    </tr>\n",
       "    <tr>\n",
       "      <th>4</th>\n",
       "      <td>0140503528</td>\n",
       "      <td>5</td>\n",
       "      <td>Researchers constantly find that reading to ch...</td>\n",
       "      <td>Read to Your Child to Create Bonding and Intel...</td>\n",
       "    </tr>\n",
       "  </tbody>\n",
       "</table>\n",
       "</div>"
      ],
      "text/plain": [
       "         asin  overall                                         reviewText  \\\n",
       "0  0140503528        3  I thought the book was entertaining and cute, ...   \n",
       "1  0140503528        5  This adorable story is an all time favorite fa...   \n",
       "2  0140503528        5  Lisa's bear Corduroy gets lost in the laundrom...   \n",
       "3  0140503528        5  In this installment of Corduroy's adventures w...   \n",
       "4  0140503528        5  Researchers constantly find that reading to ch...   \n",
       "\n",
       "                                             summary  \n",
       "0      Entertaining-but maybe not for young toddlers  \n",
       "1                                          adorable!  \n",
       "2                            A sequel to the classic  \n",
       "3     More adventures with Lisa's very own bear. . .  \n",
       "4  Read to Your Child to Create Bonding and Intel...  "
      ]
     },
     "execution_count": 5,
     "metadata": {},
     "output_type": "execute_result"
    }
   ],
   "source": [
    "# drop irrelevant columns\n",
    "df_trim = df[['asin', 'overall', 'reviewText', 'summary']]\n",
    "df_trim.head()"
   ]
  },
  {
   "cell_type": "code",
   "execution_count": 6,
   "metadata": {
    "ExecuteTime": {
     "end_time": "2021-01-01T02:49:02.085122Z",
     "start_time": "2021-01-01T02:48:59.525620Z"
    }
   },
   "outputs": [],
   "source": [
    "# group data by asin and get count on reviews\n",
    "asin_gp = df_trim.groupby('asin')['reviewText'].count()"
   ]
  },
  {
   "cell_type": "code",
   "execution_count": 7,
   "metadata": {
    "ExecuteTime": {
     "end_time": "2021-01-01T02:49:27.453125Z",
     "start_time": "2021-01-01T02:49:26.509467Z"
    }
   },
   "outputs": [
    {
     "name": "stdout",
     "output_type": "stream",
     "text": [
      "Number of asin with more than 100 reviews: 9641\n"
     ]
    }
   ],
   "source": [
    "# get asin where review count is greater than 100\n",
    "asin_no = []\n",
    "for ind in asin_gp.index:\n",
    "    if asin_gp[ind] > 100:\n",
    "        asin_no.append(ind)\n",
    "\n",
    "print(f'Number of asin with more than 100 reviews: {len(asin_no)}')"
   ]
  },
  {
   "cell_type": "code",
   "execution_count": 8,
   "metadata": {
    "ExecuteTime": {
     "end_time": "2021-01-01T02:50:20.492035Z",
     "start_time": "2021-01-01T02:50:19.333322Z"
    }
   },
   "outputs": [],
   "source": [
    "# filter out asin where review count is less than 100\n",
    "df_subset = (df_trim.loc[df_trim['asin'].isin(asin_no)]).copy()"
   ]
  },
  {
   "cell_type": "code",
   "execution_count": 9,
   "metadata": {
    "ExecuteTime": {
     "end_time": "2021-01-01T02:50:24.092117Z",
     "start_time": "2021-01-01T02:50:24.078914Z"
    }
   },
   "outputs": [
    {
     "data": {
      "text/plain": [
       "(3459864, 4)"
      ]
     },
     "execution_count": 9,
     "metadata": {},
     "output_type": "execute_result"
    }
   ],
   "source": [
    "df_subset.shape"
   ]
  },
  {
   "cell_type": "code",
   "execution_count": 10,
   "metadata": {
    "ExecuteTime": {
     "end_time": "2021-01-01T02:50:32.175564Z",
     "start_time": "2021-01-01T02:50:28.421713Z"
    }
   },
   "outputs": [],
   "source": [
    "# combine reviewText and summary into one column\n",
    "df_subset['review'] = df_subset['reviewText'] + ' ' + df_subset['summary']"
   ]
  },
  {
   "cell_type": "code",
   "execution_count": 11,
   "metadata": {
    "ExecuteTime": {
     "end_time": "2021-01-01T02:50:36.896334Z",
     "start_time": "2021-01-01T02:50:35.565918Z"
    }
   },
   "outputs": [],
   "source": [
    "# drop reviewText and summary column\n",
    "df_subset.drop(columns=['reviewText', 'summary'], inplace=True)"
   ]
  },
  {
   "cell_type": "code",
   "execution_count": 59,
   "metadata": {
    "ExecuteTime": {
     "end_time": "2020-12-24T17:22:03.328186Z",
     "start_time": "2020-12-24T17:21:56.406242Z"
    }
   },
   "outputs": [],
   "source": [
    "# set range to extract data\n",
    "review_range = range(500, 3500, 500)\n",
    "for i in review_range:\n",
    "    # export the top review asin in the defined range\n",
    "    if i < 3000:\n",
    "        asin = (df_subset.asin.value_counts().reset_index(name='count')\n",
    "                .query(f'count < {i}')['index']).tolist()[0]\n",
    "        tmp = df_subset[df_subset['asin'] == asin]\n",
    "        tmp.to_csv(f'data/off_{i}.csv')\n",
    "    else:\n",
    "        asin = (df_subset.asin.value_counts().reset_index(name='count')\n",
    "                .query('count > 3000')['index']).tolist()[0:20]\n",
    "        tmp = df_subset.loc[df_subset['asin'].isin(asin)]\n",
    "        tmp.to_csv(f'data/off_gt_{i}.csv')"
   ]
  },
  {
   "cell_type": "code",
   "execution_count": 15,
   "metadata": {
    "ExecuteTime": {
     "end_time": "2021-01-01T03:08:14.330592Z",
     "start_time": "2021-01-01T03:08:12.159730Z"
    }
   },
   "outputs": [],
   "source": [
    "(df_subset.iloc[0:500000]).to_csv('data/off_500K.csv')"
   ]
  },
  {
   "cell_type": "code",
   "execution_count": null,
   "metadata": {},
   "outputs": [],
   "source": []
  }
 ],
 "metadata": {
  "kernelspec": {
   "display_name": "Python 3",
   "language": "python",
   "name": "python3"
  },
  "language_info": {
   "codemirror_mode": {
    "name": "ipython",
    "version": 3
   },
   "file_extension": ".py",
   "mimetype": "text/x-python",
   "name": "python",
   "nbconvert_exporter": "python",
   "pygments_lexer": "ipython3",
   "version": "3.7.7"
  },
  "toc": {
   "base_numbering": 1,
   "nav_menu": {},
   "number_sections": true,
   "sideBar": true,
   "skip_h1_title": false,
   "title_cell": "Table of Contents",
   "title_sidebar": "Contents",
   "toc_cell": false,
   "toc_position": {},
   "toc_section_display": true,
   "toc_window_display": false
  }
 },
 "nbformat": 4,
 "nbformat_minor": 4
}
